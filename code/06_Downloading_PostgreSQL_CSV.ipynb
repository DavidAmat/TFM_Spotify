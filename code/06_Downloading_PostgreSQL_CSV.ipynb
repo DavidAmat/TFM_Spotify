{
 "cells": [
  {
   "cell_type": "markdown",
   "metadata": {},
   "source": [
    "# 06_Downloading_PostgreSQL_CSV"
   ]
  },
  {
   "cell_type": "code",
   "execution_count": 1,
   "metadata": {},
   "outputs": [],
   "source": [
    "import pandas as pd\n",
    "import sys\n",
    "import numpy as np\n",
    "import os\n",
    "import requests\n",
    "import datetime\n",
    "import base64\n",
    "import json\n",
    "import re\n",
    "from collections import Counter\n",
    "import psycopg2\n",
    "import tqdm\n",
    "from bs4 import BeautifulSoup\n",
    "from importlib import reload\n",
    "pd.options.mode.chained_assignment = None  # default='warn'"
   ]
  },
  {
   "cell_type": "code",
   "execution_count": 2,
   "metadata": {},
   "outputs": [],
   "source": [
    "# We have created a list of functions in db_utils.py\n",
    "import db_utils\n",
    "#reload(db_utils)"
   ]
  },
  {
   "cell_type": "code",
   "execution_count": 3,
   "metadata": {},
   "outputs": [],
   "source": [
    "conn = psycopg2.connect(\"dbname=spotify\")\n",
    "cursor= conn.cursor()"
   ]
  },
  {
   "cell_type": "code",
   "execution_count": 4,
   "metadata": {},
   "outputs": [],
   "source": [
    "out = \"../data/psql_out/\""
   ]
  },
  {
   "cell_type": "markdown",
   "metadata": {},
   "source": [
    "# Nodes"
   ]
  },
  {
   "cell_type": "markdown",
   "metadata": {},
   "source": [
    "## 1. Master_Track"
   ]
  },
  {
   "cell_type": "code",
   "execution_count": 4,
   "metadata": {},
   "outputs": [],
   "source": [
    "# Extrack all the artists\n",
    "df_track = db_utils.select_table(cursor, table=\"master_track\", \n",
    "                                 sel_cols=[\"track_id\", \"track_name\", \"peak_date\", \"streams\"])\n",
    "\n",
    "# Replace strings that may be conflictive\n",
    "df_track[\"track_name\"] = df_track[\"track_name\"].str.replace(\";\", \"\")"
   ]
  },
  {
   "cell_type": "markdown",
   "metadata": {},
   "source": [
    "#### Export to csv"
   ]
  },
  {
   "cell_type": "code",
   "execution_count": 18,
   "metadata": {},
   "outputs": [],
   "source": [
    "df_track.to_csv(out + \"master_track.csv\", header=True, sep=\";\", index=False)"
   ]
  },
  {
   "cell_type": "markdown",
   "metadata": {},
   "source": [
    "## 2. Master_Artist"
   ]
  },
  {
   "cell_type": "code",
   "execution_count": 19,
   "metadata": {},
   "outputs": [],
   "source": [
    "# Extrack all the artists\n",
    "df_artist = db_utils.select_table(cursor, table=\"master_artist\", sel_cols=[\"artist_id\", \"artist_name\", \"is_main\"])\n",
    "\n",
    "# Extract the popularity for the related artist\n",
    "df_rel_artist = db_utils.select_table(cursor, table=\"rel_artist_artist\", sel_cols=[\"query\",\"rel_art\", \"popularity\"])\n",
    "df_rel_artist.drop_duplicates(inplace=True)\n",
    "\n",
    "# Select only the two columns of artist - popularity\n",
    "df_popularity = df_rel_artist[[\"rel_art\", \"popularity\"]].copy()\n",
    "df_popularity.drop_duplicates(inplace=True)\n",
    "\n",
    "# Convert column names\n",
    "df_popularity.columns = [\"artist_id\", \"popularity\"]\n",
    "\n",
    "# Do a left join to bring popularity to the Master Artist\n",
    "df_merged = pd.merge(df_artist, df_popularity, how = 'left', on = \"artist_id\")"
   ]
  },
  {
   "cell_type": "markdown",
   "metadata": {},
   "source": [
    "Now for the artist with NaN as popularity we will look for the relationships with other artists"
   ]
  },
  {
   "cell_type": "code",
   "execution_count": 35,
   "metadata": {},
   "outputs": [],
   "source": [
    "# Artists without popularity score\n",
    "artist_no_pop = df_merged[df_merged[\"popularity\"].isna()]"
   ]
  },
  {
   "cell_type": "code",
   "execution_count": 59,
   "metadata": {},
   "outputs": [
    {
     "name": "stderr",
     "output_type": "stream",
     "text": [
      "/Users/david/.local/share/virtualenvs/Spotify-xJiBt4R8/lib/python3.7/site-packages/ipykernel_launcher.py:4: TqdmDeprecationWarning: This function will be removed in tqdm==5.0.0\n",
      "Please use `tqdm.notebook.tqdm` instead of `tqdm.tqdm_notebook`\n",
      "  after removing the cwd from sys.path.\n"
     ]
    },
    {
     "data": {
      "application/vnd.jupyter.widget-view+json": {
       "model_id": "6aed05fe91cc433c81d60432f950aab4",
       "version_major": 2,
       "version_minor": 0
      },
      "text/plain": [
       "HBox(children=(FloatProgress(value=1.0, bar_style='info', max=1.0), HTML(value='')))"
      ]
     },
     "metadata": {},
     "output_type": "display_data"
    },
    {
     "name": "stdout",
     "output_type": "stream",
     "text": [
      "\n"
     ]
    }
   ],
   "source": [
    "# Final dataframe where the inferred popularity will be also update\n",
    "df_artist_final = df_merged.copy()\n",
    "df_artist_final = df_artist_final.set_index(\"artist_id\")\n",
    "\n",
    "for i, row in tqdm.tqdm_notebook(artist_no_pop.iterrows()):\n",
    "    \n",
    "    artist_id = row.artist_id\n",
    "    \n",
    "    # Look for the similar artists' in df_rel_artist popularity\n",
    "    df_similar_artist = df_rel_artist[df_rel_artist[\"query\"] == artist_id]\n",
    "    \n",
    "    if df_similar_artist.shape[0] > 0:\n",
    "        pop = int(np.round(df_similar_artist[\"popularity\"].mean()))\n",
    "    else:\n",
    "        pop = 0\n",
    "        \n",
    "    # Update the final dataframe with this retrieved popularity\n",
    "    df_artist_final.loc[artist_id, \"popularity\"] = pop    \n",
    "    \n",
    "# Reset the index to have a column named artist_id\n",
    "df_artist_final.reset_index(inplace=True)"
   ]
  },
  {
   "cell_type": "code",
   "execution_count": 65,
   "metadata": {},
   "outputs": [],
   "source": [
    "# Correct the ; in the name to avoid using a delimiter that appears on the name of the artists\n",
    "df_artist_final[\"artist_name\"] = df_artist_final[\"artist_name\"].str.replace(\";\", \" & \") # two artist at the same time"
   ]
  },
  {
   "cell_type": "markdown",
   "metadata": {},
   "source": [
    "#### Export to csv"
   ]
  },
  {
   "cell_type": "code",
   "execution_count": null,
   "metadata": {},
   "outputs": [],
   "source": [
    "df_artist_final.to_csv(out + \"master_artist.csv\", header=True, sep=\";\", index=False)"
   ]
  },
  {
   "cell_type": "markdown",
   "metadata": {},
   "source": [
    "## 3. Master_Genre"
   ]
  },
  {
   "cell_type": "code",
   "execution_count": 75,
   "metadata": {},
   "outputs": [],
   "source": [
    "# Extrack all the genres\n",
    "df_genre = db_utils.select_table(cursor, table=\"master_genre\", \n",
    "                                 sel_cols=[\"genre\"])\n",
    "df_genre.drop_duplicates(inplace=True)"
   ]
  },
  {
   "cell_type": "code",
   "execution_count": 77,
   "metadata": {},
   "outputs": [],
   "source": [
    "# Avoid conflictive strings with the ; separator\n",
    "df_genre[\"genre\"] = df_genre[\"genre\"].str.replace(\";\", \"\") "
   ]
  },
  {
   "cell_type": "markdown",
   "metadata": {},
   "source": [
    "#### Export to csv"
   ]
  },
  {
   "cell_type": "code",
   "execution_count": 78,
   "metadata": {},
   "outputs": [],
   "source": [
    "df_genre.to_csv(out + \"master_genre.csv\", header=True, sep=\";\", index=False)"
   ]
  },
  {
   "cell_type": "markdown",
   "metadata": {},
   "source": [
    "# Relationships"
   ]
  },
  {
   "cell_type": "markdown",
   "metadata": {},
   "source": [
    "## GEN_ART"
   ]
  },
  {
   "cell_type": "code",
   "execution_count": 5,
   "metadata": {},
   "outputs": [],
   "source": [
    "# Extract the popularity for the related artist\n",
    "df_GEN_ART = db_utils.select_table(cursor, table=\"master_genre\", sel_cols=[\"genre\",\"artist_id\"])\n",
    "df_GEN_ART.drop_duplicates(inplace=True)\n",
    "df_GEN_ART[\"genre\"] = df_GEN_ART[\"genre\"].str.replace(\";\", \"\") "
   ]
  },
  {
   "cell_type": "markdown",
   "metadata": {},
   "source": [
    "#### Export to csv"
   ]
  },
  {
   "cell_type": "code",
   "execution_count": 8,
   "metadata": {},
   "outputs": [],
   "source": [
    "df_GEN_ART.to_csv(out + \"rel_GEN_ART.csv\", header=True, sep=\";\", index=False)"
   ]
  },
  {
   "cell_type": "markdown",
   "metadata": {},
   "source": [
    "## ART_TR"
   ]
  },
  {
   "cell_type": "code",
   "execution_count": 11,
   "metadata": {},
   "outputs": [],
   "source": [
    "# Extract the popularity for the related artist\n",
    "df_ART_TR = db_utils.select_table(cursor, table=\"rel_artist_track\", sel_cols=[\"artist_id\",\"track_id\"])\n",
    "df_ART_TR.drop_duplicates(inplace=True)"
   ]
  },
  {
   "cell_type": "markdown",
   "metadata": {},
   "source": [
    "#### Export to csv"
   ]
  },
  {
   "cell_type": "code",
   "execution_count": 13,
   "metadata": {},
   "outputs": [],
   "source": [
    "df_ART_TR.to_csv(out + \"rel_ART_TR.csv\", header=True, sep=\";\", index=False)"
   ]
  },
  {
   "cell_type": "markdown",
   "metadata": {},
   "source": [
    "## REL_ART"
   ]
  },
  {
   "cell_type": "code",
   "execution_count": 17,
   "metadata": {},
   "outputs": [],
   "source": [
    "# Extract the popularity for the related artist\n",
    "df_REL_ART = db_utils.select_table(cursor, table=\"rel_artist_artist\", sel_cols=[\"query\",\"rel_art\"])\n",
    "df_REL_ART.drop_duplicates(inplace=True)\n",
    "df_REL_ART.columns = [\"artist_id1\", \"artist_id2\"]"
   ]
  },
  {
   "cell_type": "markdown",
   "metadata": {},
   "source": [
    "#### Export to csv"
   ]
  },
  {
   "cell_type": "code",
   "execution_count": 18,
   "metadata": {},
   "outputs": [],
   "source": [
    "df_REL_ART.to_csv(out + \"rel_REL_ART.csv\", header=True, sep=\";\", index=False)"
   ]
  },
  {
   "cell_type": "markdown",
   "metadata": {},
   "source": [
    "# FINAL STEP"
   ]
  },
  {
   "cell_type": "markdown",
   "metadata": {},
   "source": [
    "Move manually those .csv files to the folder IMPORt of the instance of the database (go to Neo4j Browser, Click on the 3 points of the database, click on Manage and see the Open Folder, in which direction it opens the folder). In our case:\n",
    "\n",
    "/Users/david/Library/Application Support/Neo4j Desktop/Application/neo4jDatabases/database-ada73e8c-396c-4507-82cc-758b5f072ea4/installation-4.0.4/import"
   ]
  },
  {
   "cell_type": "code",
   "execution_count": null,
   "metadata": {},
   "outputs": [],
   "source": []
  }
 ],
 "metadata": {
  "kernelspec": {
   "display_name": "Python 3",
   "language": "python",
   "name": "python3"
  },
  "language_info": {
   "codemirror_mode": {
    "name": "ipython",
    "version": 3
   },
   "file_extension": ".py",
   "mimetype": "text/x-python",
   "name": "python",
   "nbconvert_exporter": "python",
   "pygments_lexer": "ipython3",
   "version": "3.7.6"
  }
 },
 "nbformat": 4,
 "nbformat_minor": 4
}
