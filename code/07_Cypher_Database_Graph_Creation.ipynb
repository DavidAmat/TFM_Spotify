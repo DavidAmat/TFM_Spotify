{
 "cells": [
  {
   "cell_type": "markdown",
   "metadata": {},
   "source": [
    "# 1. Create the database"
   ]
  },
  {
   "cell_type": "markdown",
   "metadata": {},
   "source": [
    "Add a Database named Spotify"
   ]
  },
  {
   "cell_type": "markdown",
   "metadata": {},
   "source": [
    "<img src=\"../imgs/img1.png\" alt=\"drawing\" width=\"500\"/>"
   ]
  },
  {
   "cell_type": "markdown",
   "metadata": {},
   "source": [
    "## 1.2 Database Schema\n",
    "\n",
    "### Nodes\n",
    "- t:Track\n",
    "    - track_id\n",
    "    - track_name\n",
    "    - peak_date\n",
    "    - streams\n",
    "- a:Artist\n",
    "    - artist_id\n",
    "    - popularity\n",
    "    - artist_name\n",
    "    - is_main\n",
    "    \n",
    "- g:Genre\n",
    "    - genre_id\n",
    "\n",
    "### Relationships\n",
    "\n",
    "- GEN_ART: artist - genre\n",
    "- ART_TR: artist - track\n",
    "- REL_ART: artist - artist"
   ]
  },
  {
   "cell_type": "markdown",
   "metadata": {},
   "source": [
    "# 2. Add the constraints"
   ]
  },
  {
   "cell_type": "markdown",
   "metadata": {},
   "source": [
    "```cypher\n",
    "CREATE CONSTRAINT ON (t:Track) ASSERT t.track_id IS UNIQUE \n",
    "CREATE CONSTRAINT ON (a:Artist) ASSERT a.artist_id IS UNIQUE \n",
    "CREATE CONSTRAINT ON (g:Genre) ASSERT g.genre_id IS UNIQUE \n",
    "```"
   ]
  },
  {
   "cell_type": "markdown",
   "metadata": {},
   "source": [
    "<img src=\"../imgs/img2.png\" alt=\"drawing\" width=\"500\"/>"
   ]
  },
  {
   "cell_type": "markdown",
   "metadata": {},
   "source": [
    "# 3. Prepare the CSV for the nodes"
   ]
  },
  {
   "cell_type": "markdown",
   "metadata": {},
   "source": [
    "1. Run the 06_Downloading_PostGreSQL_CSV.ipynb to create the .csv files needed for that operation. Results will be saved in the Codigos/Spotify/data/psql_out folder\n",
    "2. Put them in the folder /Users/david/Library/Application Support/Neo4j\\ Desktop/Application/neo4jDatabases/database-ada73e8c-396c-4507-82cc-758b5f072ea4/installation-4.0.4/import\n",
    "3. Run these commands in Neo4j browser:"
   ]
  },
  {
   "cell_type": "markdown",
   "metadata": {},
   "source": [
    "## 3.1 Artists"
   ]
  },
  {
   "cell_type": "markdown",
   "metadata": {},
   "source": [
    "```cypher\n",
    "LOAD CSV WITH HEADERS FROM \"file:///master_artist.csv\" AS line FIELDTERMINATOR ';'\n",
    "MERGE (a:Artist {  \n",
    "                    artist_id: line.artist_id,\n",
    "                    artist_name: line.artist_name,\n",
    "                    popularity: toInteger(line.popularity),\n",
    "                    is_main: (case line.is_main when 'True' then true else false end)\n",
    "                     })\n",
    "```"
   ]
  },
  {
   "cell_type": "markdown",
   "metadata": {},
   "source": [
    "To delete all the nodes:\n",
    "\n",
    "```cypher\n",
    "MATCH (a:Artist) DETACH DELETE a\n",
    "```"
   ]
  },
  {
   "cell_type": "markdown",
   "metadata": {},
   "source": [
    "<img src=\"../imgs/img3.png\" alt=\"drawing\" width=\"800\"/>"
   ]
  },
  {
   "cell_type": "markdown",
   "metadata": {},
   "source": [
    "## 3.2 Tracks"
   ]
  },
  {
   "cell_type": "markdown",
   "metadata": {},
   "source": [
    "```cypher\n",
    "LOAD CSV WITH HEADERS FROM \"file:///master_track.csv\" AS line FIELDTERMINATOR ';'\n",
    "MERGE (t:Track {  \n",
    "                    track_id: line.track_id,\n",
    "                    track_name: line.track_name,\n",
    "                    streams: toInteger(line.streams),\n",
    "                    peak_date: date(line.peak_date)\n",
    "                     })\n",
    "```"
   ]
  },
  {
   "cell_type": "markdown",
   "metadata": {},
   "source": [
    "<img src=\"../imgs/img4.png\" alt=\"drawing\" width=\"800\"/>"
   ]
  },
  {
   "cell_type": "markdown",
   "metadata": {},
   "source": [
    "## 3.3 Genre"
   ]
  },
  {
   "cell_type": "markdown",
   "metadata": {},
   "source": [
    "```cypher\n",
    "LOAD CSV WITH HEADERS FROM \"file:///master_genre.csv\" AS line FIELDTERMINATOR ';'\n",
    "MERGE (g:Genre {genre_id: line.genre})\n",
    "```"
   ]
  },
  {
   "cell_type": "markdown",
   "metadata": {},
   "source": [
    "<img src=\"../imgs/img5.png\" alt=\"drawing\" width=\"800\"/>"
   ]
  },
  {
   "cell_type": "markdown",
   "metadata": {},
   "source": [
    "## 3.4 Create index on the names of the artists and tracks"
   ]
  },
  {
   "cell_type": "markdown",
   "metadata": {},
   "source": [
    "```cypher\n",
    "CREATE INDEX ArtistName FOR (a:Artist) ON (a.artist_name) \n",
    "CREATE INDEX TrackName FOR (t:Track) ON (t.track_name) \n",
    "```"
   ]
  },
  {
   "cell_type": "markdown",
   "metadata": {},
   "source": [
    "<img src=\"../imgs/img6.png\" alt=\"drawing\" width=\"800\"/>"
   ]
  },
  {
   "cell_type": "markdown",
   "metadata": {},
   "source": [
    "## 3.5 Add the relationships"
   ]
  },
  {
   "cell_type": "markdown",
   "metadata": {},
   "source": [
    "### a) GEN_ART"
   ]
  },
  {
   "cell_type": "markdown",
   "metadata": {},
   "source": [
    "```cypher\n",
    "LOAD CSV WITH HEADERS FROM \"file:///rel_GEN_ART.csv\" AS line FIELDTERMINATOR ';' \n",
    "    MATCH (g:Genre {genre_id: line.genre})\n",
    "    MATCH (a:Artist {artist_id: line.artist_id})\n",
    "    MERGE (g)-[:GEN_ART]->(a)\n",
    "```"
   ]
  },
  {
   "cell_type": "markdown",
   "metadata": {},
   "source": [
    "<img src=\"../imgs/img7.png\" alt=\"drawing\" width=\"800\"/>"
   ]
  },
  {
   "cell_type": "markdown",
   "metadata": {},
   "source": [
    "### b) ART_TR"
   ]
  },
  {
   "cell_type": "markdown",
   "metadata": {},
   "source": [
    "```cypher\n",
    "LOAD CSV WITH HEADERS FROM \"file:///rel_ART_TR.csv\" AS line FIELDTERMINATOR ';' \n",
    "    MATCH (a:Artist {artist_id: line.artist_id})\n",
    "    MATCH (t:Track {track_id: line.track_id})\n",
    "    MERGE (a)-[:ART_TR]->(t)\n",
    "```"
   ]
  },
  {
   "cell_type": "markdown",
   "metadata": {},
   "source": [
    "<img src=\"../imgs/img8.png\" alt=\"drawing\" width=\"800\"/>"
   ]
  },
  {
   "cell_type": "markdown",
   "metadata": {},
   "source": [
    "### c) REL_ART"
   ]
  },
  {
   "cell_type": "markdown",
   "metadata": {},
   "source": [
    "```cypher\n",
    "LOAD CSV WITH HEADERS FROM \"file:///rel_REL_ART.csv\" AS line FIELDTERMINATOR ';' \n",
    "    MATCH (a1:Artist {artist_id: line.artist_id1})\n",
    "    MATCH (a2:Artist {artist_id: line.artist_id2})\n",
    "    MERGE (a1)-[:REL_ART]->(a2)\n",
    "```"
   ]
  },
  {
   "cell_type": "markdown",
   "metadata": {},
   "source": [
    "<img src=\"../imgs/img9.png\" alt=\"drawing\" width=\"800\"/>"
   ]
  },
  {
   "cell_type": "markdown",
   "metadata": {},
   "source": [
    "# BackUp\n",
    "\n",
    "In the import/ folder (/Users/david/Library/Application Support/Neo4j Desktop/Application/neo4jDatabases/database-ada73e8c-396c-4507-82cc-758b5f072ea4/installation-4.0.4/import) we will find the Spotify.bk"
   ]
  },
  {
   "cell_type": "markdown",
   "metadata": {},
   "source": [
    "```cypher\n",
    "// default config populated for illustration\n",
    "CALL apoc.export.cypher.all(\"Spotify.bk\", {\n",
    "    format: \"cypher-shell\"})\n",
    "YIELD file, batches, source, format, nodes, relationships, properties, time, rows, batchSize\n",
    "RETURN file, batches, source, format, nodes, relationships, properties, time, rows, batchSize;\n",
    "```"
   ]
  },
  {
   "cell_type": "markdown",
   "metadata": {},
   "source": [
    "------------------------------------------------------------\n",
    "------------------------------------------------------------\n",
    "------------------------------------------------------------\n",
    "------------------------------------------------------------\n",
    "\n",
    "# <font color='red'> Second Part of the Project\n",
    "    \n",
    "    Once we have Scrapped all the tracks to get their youtube URL:\n",
    "\n",
    "## Set a property URL to some tracks"
   ]
  },
  {
   "cell_type": "markdown",
   "metadata": {},
   "source": [
    "```cypher   \n",
    "LOAD CSV WITH HEADERS FROM \"file:///tr_url.csv\" AS row FIELDTERMINATOR ';' \n",
    "    MERGE (t:Track {track_id:(row.track_id)}) \n",
    "     ON MATCH SET t.url = CASE WHEN t.url IS NULL then row.href ELSE t.url END,\n",
    "                  t.yt_views = CASE WHEN t.yt_views IS NULL then row.visual ELSE t.yt_views END\n",
    "```"
   ]
  },
  {
   "cell_type": "markdown",
   "metadata": {},
   "source": [
    "<img src=\"../imgs/img10.png\" alt=\"drawing\" width=\"800\"/>"
   ]
  },
  {
   "cell_type": "code",
   "execution_count": null,
   "metadata": {},
   "outputs": [],
   "source": []
  }
 ],
 "metadata": {
  "kernelspec": {
   "display_name": "Python 3",
   "language": "python",
   "name": "python3"
  },
  "language_info": {
   "codemirror_mode": {
    "name": "ipython",
    "version": 3
   },
   "file_extension": ".py",
   "mimetype": "text/x-python",
   "name": "python",
   "nbconvert_exporter": "python",
   "pygments_lexer": "ipython3",
   "version": "3.7.6"
  }
 },
 "nbformat": 4,
 "nbformat_minor": 4
}
