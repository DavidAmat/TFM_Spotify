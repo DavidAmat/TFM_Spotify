{
 "cells": [
  {
   "cell_type": "markdown",
   "metadata": {},
   "source": [
    "# Master Track Creation\n"
   ]
  },
  {
   "cell_type": "code",
   "execution_count": 1,
   "metadata": {},
   "outputs": [],
   "source": [
    "import pandas as pd\n",
    "import sys\n",
    "import numpy as np\n",
    "import os\n",
    "import requests\n",
    "import datetime\n",
    "import base64\n",
    "import json\n",
    "import re\n",
    "from collections import Counter\n",
    "import psycopg2\n",
    "import tqdm\n",
    "from bs4 import BeautifulSoup\n",
    "from importlib import reload\n",
    "pd.options.mode.chained_assignment = None  # default='warn'"
   ]
  },
  {
   "cell_type": "code",
   "execution_count": 2,
   "metadata": {},
   "outputs": [],
   "source": [
    "# We create a utils file with a class to store the basic commands and client ID for the Spotify API\n",
    "import aux_utils\n",
    "#reload(aux_utils)"
   ]
  },
  {
   "cell_type": "code",
   "execution_count": 3,
   "metadata": {},
   "outputs": [],
   "source": [
    "# We have created a list of functions in db_utils.py\n",
    "import db_utils\n",
    "#reload(db_utils)"
   ]
  },
  {
   "cell_type": "markdown",
   "metadata": {},
   "source": [
    "### Spotify API Connection"
   ]
  },
  {
   "cell_type": "code",
   "execution_count": 4,
   "metadata": {},
   "outputs": [],
   "source": [
    "# Instantiate the class\n",
    "spotify_utils = aux_utils.spotify_utils\n",
    "sp_ut = spotify_utils()\n",
    "\n",
    "# Use the method connect to connect with the credentials\n",
    "sp = sp_ut.connect()"
   ]
  },
  {
   "cell_type": "markdown",
   "metadata": {},
   "source": [
    "### Database connection "
   ]
  },
  {
   "cell_type": "code",
   "execution_count": 9,
   "metadata": {},
   "outputs": [],
   "source": [
    "conn = psycopg2.connect(\"dbname=spotify\")\n",
    "cursor= conn.cursor()"
   ]
  },
  {
   "cell_type": "markdown",
   "metadata": {},
   "source": [
    "# 0. Database: extraction from Master Artist"
   ]
  },
  {
   "cell_type": "code",
   "execution_count": 10,
   "metadata": {},
   "outputs": [],
   "source": [
    "# Extrack all the artists\n",
    "df_artist = db_utils.select_table(cursor, table=\"master_artist\", sel_cols=[\"artist_id\", \"is_main\"])"
   ]
  },
  {
   "cell_type": "code",
   "execution_count": 11,
   "metadata": {},
   "outputs": [],
   "source": [
    "# Filter for those that are from kworb: is_main = 1\n",
    "mask = df_artist[\"is_main\"]\n",
    "df_main = df_artist[mask] #\n",
    "\n",
    "# Artists from our list\n",
    "df_other = df_artist[~mask]"
   ]
  },
  {
   "cell_type": "markdown",
   "metadata": {},
   "source": [
    "# 1. Master Track - (Main) Popular Track List by Artist (kworb)"
   ]
  },
  {
   "cell_type": "code",
   "execution_count": 13,
   "metadata": {},
   "outputs": [],
   "source": [
    "def art_url(artist_id):\n",
    "    return f\"https://kworb.net/spotify/artist/{artist_id}.html\"\n",
    "\n",
    "def get_html(url):\n",
    "    \"\"\"\n",
    "    Searches a url and retrieves an html and returns the object soup from bs4\n",
    "    \"\"\"\n",
    "    # Requests the html of this page\n",
    "    r = requests.get(url)\n",
    "    r.encoding = 'utf-8'\n",
    "    \n",
    "    # Read the html text with Beautiful soup\n",
    "    soup = BeautifulSoup(r.text, 'html.parser')\n",
    "    \n",
    "    return soup"
   ]
  },
  {
   "cell_type": "code",
   "execution_count": 14,
   "metadata": {},
   "outputs": [],
   "source": [
    "def get_table_artist_tracks(artist_id):\n",
    "    \"\"\"\n",
    "    Given an aritst_id it looks for the kworb web page for that artists and a table of its songs is parsed\n",
    "    and converted to a dataframe\n",
    "    \"\"\"\n",
    "    \n",
    "    # Get the html\n",
    "    soup = get_html(art_url(artist_id))\n",
    "\n",
    "    # Find the table where there are the artists sorted by streams\n",
    "    table = soup.find('table')\n",
    "\n",
    "    # Convert to dataframe\n",
    "    df = pd.read_html(str(table))[0]\n",
    "    df['Peak Date'] = df['Peak Date'].apply(lambda x: pd.to_datetime(str(x), format='%Y%m%d'))\n",
    "    df[\"Peak Date\"] = df[\"Peak Date\"].astype(str) # Convert it to string to push it into PostGRESQL as date\n",
    "    \n",
    "    # Impose Track column to be a string\n",
    "    df[\"Track\"] = df[\"Track\"].astype(str)\n",
    "    df[\"Track\"] = df[\"Track\"].str.lower()\n",
    "    return table, df"
   ]
  },
  {
   "cell_type": "code",
   "execution_count": 15,
   "metadata": {},
   "outputs": [],
   "source": [
    "def get_track_id_dictionary(table):\n",
    "    \"\"\"\n",
    "    Return a dictionary given a HTML table where the keys are the name of the song and the values the track_id\n",
    "    \"\"\"\n",
    "    # Dictionary to map the track name with the href link where the track id appears\n",
    "    tracks = {}\n",
    "\n",
    "    list_of_rows = table.findAll(\"tr\")# get all the rows\n",
    "\n",
    "    for tr in list_of_rows: #for each row\n",
    "\n",
    "        list_of_cells = tr.findAll(\"td\") # get all the cells\n",
    "\n",
    "        # Extrack the links for the track and featuring artists\n",
    "        for each_cell in list_of_cells:\n",
    "            find_link = each_cell.find('a')\n",
    "\n",
    "            if find_link:\n",
    "                link = find_link['href'] # link to the /track/\n",
    "                txt = find_link.text.lower() # text in the link\n",
    "\n",
    "                if '/track/' in link: # this is the link for the track\n",
    "\n",
    "                    # See if the link is for track or for a featuring artist\n",
    "                    tracks[txt] = link.split(\"/\")[-1].split(\".\")[0] # get the track id\n",
    "                \n",
    "    return tracks"
   ]
  },
  {
   "cell_type": "code",
   "execution_count": 16,
   "metadata": {},
   "outputs": [],
   "source": [
    "def upload_master_track(df):\n",
    "    \"\"\"\n",
    "    Uploads the dataframe to the master tracks table\n",
    "    \"\"\"\n",
    "    values = []\n",
    "    for i, row in df[[\"track_id\", \"track_name\", \"Peak Date\", \"Streams\"]].iterrows():\n",
    "        # Get the name of the track as a string\n",
    "        track_name = row[\"track_name\"]\n",
    "\n",
    "        # Avoid problems with single quotes\n",
    "        try: # if the track is empty (artist 6gto7HVNhu4ARE3P3g8Y5Y)\n",
    "            track_name = track_name.replace(\"'\", \" \")\n",
    "        except:\n",
    "            continue\n",
    "\n",
    "        values.append((row[\"track_id\"], track_name ,row[\"Peak Date\"],row[\"Streams\"]))\n",
    "        \n",
    "    # Perform the upload\n",
    "    try:\n",
    "        query = cursor.executemany(\"\"\"insert into master_track VALUES (%s, %s, %s, %s) ON CONFLICT DO NOTHING; \"\"\" , values)\n",
    "        conn.commit()\n",
    "        return True\n",
    "    except:\n",
    "        return False\n",
    "    "
   ]
  },
  {
   "cell_type": "code",
   "execution_count": 356,
   "metadata": {
    "scrolled": true
   },
   "outputs": [
    {
     "data": {
      "application/vnd.jupyter.widget-view+json": {
       "model_id": "d7c0ebdf7446438eb683be9a8331dbdf",
       "version_major": 2,
       "version_minor": 0
      },
      "text/plain": [
       "HBox(children=(FloatProgress(value=1.0, bar_style='info', max=1.0), HTML(value='')))"
      ]
     },
     "metadata": {},
     "output_type": "display_data"
    },
    {
     "name": "stdout",
     "output_type": "stream",
     "text": [
      "\n"
     ]
    },
    {
     "ename": "ImportError",
     "evalue": "html5lib not found, please install it",
     "output_type": "error",
     "traceback": [
      "\u001b[0;31m---------------------------------------------------------------------------\u001b[0m",
      "\u001b[0;31mImportError\u001b[0m                               Traceback (most recent call last)",
      "\u001b[0;32m<ipython-input-356-fba1d2ca5d24>\u001b[0m in \u001b[0;36m<module>\u001b[0;34m\u001b[0m\n\u001b[1;32m      5\u001b[0m \u001b[0;34m\u001b[0m\u001b[0m\n\u001b[1;32m      6\u001b[0m     \u001b[0;31m# Get the tracks of that artist\u001b[0m\u001b[0;34m\u001b[0m\u001b[0;34m\u001b[0m\u001b[0;34m\u001b[0m\u001b[0m\n\u001b[0;32m----> 7\u001b[0;31m     \u001b[0mtable\u001b[0m\u001b[0;34m,\u001b[0m \u001b[0mdf\u001b[0m \u001b[0;34m=\u001b[0m \u001b[0mget_table_artist_tracks\u001b[0m\u001b[0;34m(\u001b[0m\u001b[0martist_id\u001b[0m\u001b[0;34m)\u001b[0m\u001b[0;34m\u001b[0m\u001b[0;34m\u001b[0m\u001b[0m\n\u001b[0m\u001b[1;32m      8\u001b[0m \u001b[0;34m\u001b[0m\u001b[0m\n\u001b[1;32m      9\u001b[0m     \u001b[0;31m# Map the name of the song with the track_id (looking at the href of the html table)\u001b[0m\u001b[0;34m\u001b[0m\u001b[0;34m\u001b[0m\u001b[0;34m\u001b[0m\u001b[0m\n",
      "\u001b[0;32m<ipython-input-355-a6f90151e277>\u001b[0m in \u001b[0;36mget_table_artist_tracks\u001b[0;34m(artist_id)\u001b[0m\n\u001b[1;32m     12\u001b[0m \u001b[0;34m\u001b[0m\u001b[0m\n\u001b[1;32m     13\u001b[0m     \u001b[0;31m# Convert to dataframe\u001b[0m\u001b[0;34m\u001b[0m\u001b[0;34m\u001b[0m\u001b[0;34m\u001b[0m\u001b[0m\n\u001b[0;32m---> 14\u001b[0;31m     \u001b[0mdf\u001b[0m \u001b[0;34m=\u001b[0m \u001b[0mpd\u001b[0m\u001b[0;34m.\u001b[0m\u001b[0mread_html\u001b[0m\u001b[0;34m(\u001b[0m\u001b[0mstr\u001b[0m\u001b[0;34m(\u001b[0m\u001b[0mtable\u001b[0m\u001b[0;34m)\u001b[0m\u001b[0;34m)\u001b[0m\u001b[0;34m[\u001b[0m\u001b[0;36m0\u001b[0m\u001b[0;34m]\u001b[0m\u001b[0;34m\u001b[0m\u001b[0;34m\u001b[0m\u001b[0m\n\u001b[0m\u001b[1;32m     15\u001b[0m     \u001b[0mdf\u001b[0m\u001b[0;34m[\u001b[0m\u001b[0;34m'Peak Date'\u001b[0m\u001b[0;34m]\u001b[0m \u001b[0;34m=\u001b[0m \u001b[0mdf\u001b[0m\u001b[0;34m[\u001b[0m\u001b[0;34m'Peak Date'\u001b[0m\u001b[0;34m]\u001b[0m\u001b[0;34m.\u001b[0m\u001b[0mapply\u001b[0m\u001b[0;34m(\u001b[0m\u001b[0;32mlambda\u001b[0m \u001b[0mx\u001b[0m\u001b[0;34m:\u001b[0m \u001b[0mpd\u001b[0m\u001b[0;34m.\u001b[0m\u001b[0mto_datetime\u001b[0m\u001b[0;34m(\u001b[0m\u001b[0mstr\u001b[0m\u001b[0;34m(\u001b[0m\u001b[0mx\u001b[0m\u001b[0;34m)\u001b[0m\u001b[0;34m,\u001b[0m \u001b[0mformat\u001b[0m\u001b[0;34m=\u001b[0m\u001b[0;34m'%Y%m%d'\u001b[0m\u001b[0;34m)\u001b[0m\u001b[0;34m)\u001b[0m\u001b[0;34m\u001b[0m\u001b[0;34m\u001b[0m\u001b[0m\n\u001b[1;32m     16\u001b[0m     \u001b[0mdf\u001b[0m\u001b[0;34m[\u001b[0m\u001b[0;34m\"Peak Date\"\u001b[0m\u001b[0;34m]\u001b[0m \u001b[0;34m=\u001b[0m \u001b[0mdf\u001b[0m\u001b[0;34m[\u001b[0m\u001b[0;34m\"Peak Date\"\u001b[0m\u001b[0;34m]\u001b[0m\u001b[0;34m.\u001b[0m\u001b[0mastype\u001b[0m\u001b[0;34m(\u001b[0m\u001b[0mstr\u001b[0m\u001b[0;34m)\u001b[0m \u001b[0;31m# Convert it to string to push it into PostGRESQL as date\u001b[0m\u001b[0;34m\u001b[0m\u001b[0;34m\u001b[0m\u001b[0m\n",
      "\u001b[0;32m~/.local/share/virtualenvs/Spotify-xJiBt4R8/lib/python3.7/site-packages/pandas/io/html.py\u001b[0m in \u001b[0;36mread_html\u001b[0;34m(io, match, flavor, header, index_col, skiprows, attrs, parse_dates, thousands, encoding, decimal, converters, na_values, keep_default_na, displayed_only)\u001b[0m\n\u001b[1;32m   1098\u001b[0m         \u001b[0mna_values\u001b[0m\u001b[0;34m=\u001b[0m\u001b[0mna_values\u001b[0m\u001b[0;34m,\u001b[0m\u001b[0;34m\u001b[0m\u001b[0;34m\u001b[0m\u001b[0m\n\u001b[1;32m   1099\u001b[0m         \u001b[0mkeep_default_na\u001b[0m\u001b[0;34m=\u001b[0m\u001b[0mkeep_default_na\u001b[0m\u001b[0;34m,\u001b[0m\u001b[0;34m\u001b[0m\u001b[0;34m\u001b[0m\u001b[0m\n\u001b[0;32m-> 1100\u001b[0;31m         \u001b[0mdisplayed_only\u001b[0m\u001b[0;34m=\u001b[0m\u001b[0mdisplayed_only\u001b[0m\u001b[0;34m,\u001b[0m\u001b[0;34m\u001b[0m\u001b[0;34m\u001b[0m\u001b[0m\n\u001b[0m\u001b[1;32m   1101\u001b[0m     )\n",
      "\u001b[0;32m~/.local/share/virtualenvs/Spotify-xJiBt4R8/lib/python3.7/site-packages/pandas/io/html.py\u001b[0m in \u001b[0;36m_parse\u001b[0;34m(flavor, io, match, attrs, encoding, displayed_only, **kwargs)\u001b[0m\n\u001b[1;32m    889\u001b[0m     \u001b[0mretained\u001b[0m \u001b[0;34m=\u001b[0m \u001b[0;32mNone\u001b[0m\u001b[0;34m\u001b[0m\u001b[0;34m\u001b[0m\u001b[0m\n\u001b[1;32m    890\u001b[0m     \u001b[0;32mfor\u001b[0m \u001b[0mflav\u001b[0m \u001b[0;32min\u001b[0m \u001b[0mflavor\u001b[0m\u001b[0;34m:\u001b[0m\u001b[0;34m\u001b[0m\u001b[0;34m\u001b[0m\u001b[0m\n\u001b[0;32m--> 891\u001b[0;31m         \u001b[0mparser\u001b[0m \u001b[0;34m=\u001b[0m \u001b[0m_parser_dispatch\u001b[0m\u001b[0;34m(\u001b[0m\u001b[0mflav\u001b[0m\u001b[0;34m)\u001b[0m\u001b[0;34m\u001b[0m\u001b[0;34m\u001b[0m\u001b[0m\n\u001b[0m\u001b[1;32m    892\u001b[0m         \u001b[0mp\u001b[0m \u001b[0;34m=\u001b[0m \u001b[0mparser\u001b[0m\u001b[0;34m(\u001b[0m\u001b[0mio\u001b[0m\u001b[0;34m,\u001b[0m \u001b[0mcompiled_match\u001b[0m\u001b[0;34m,\u001b[0m \u001b[0mattrs\u001b[0m\u001b[0;34m,\u001b[0m \u001b[0mencoding\u001b[0m\u001b[0;34m,\u001b[0m \u001b[0mdisplayed_only\u001b[0m\u001b[0;34m)\u001b[0m\u001b[0;34m\u001b[0m\u001b[0;34m\u001b[0m\u001b[0m\n\u001b[1;32m    893\u001b[0m \u001b[0;34m\u001b[0m\u001b[0m\n",
      "\u001b[0;32m~/.local/share/virtualenvs/Spotify-xJiBt4R8/lib/python3.7/site-packages/pandas/io/html.py\u001b[0m in \u001b[0;36m_parser_dispatch\u001b[0;34m(flavor)\u001b[0m\n\u001b[1;32m    838\u001b[0m     \u001b[0;32mif\u001b[0m \u001b[0mflavor\u001b[0m \u001b[0;32min\u001b[0m \u001b[0;34m(\u001b[0m\u001b[0;34m\"bs4\"\u001b[0m\u001b[0;34m,\u001b[0m \u001b[0;34m\"html5lib\"\u001b[0m\u001b[0;34m)\u001b[0m\u001b[0;34m:\u001b[0m\u001b[0;34m\u001b[0m\u001b[0;34m\u001b[0m\u001b[0m\n\u001b[1;32m    839\u001b[0m         \u001b[0;32mif\u001b[0m \u001b[0;32mnot\u001b[0m \u001b[0m_HAS_HTML5LIB\u001b[0m\u001b[0;34m:\u001b[0m\u001b[0;34m\u001b[0m\u001b[0;34m\u001b[0m\u001b[0m\n\u001b[0;32m--> 840\u001b[0;31m             \u001b[0;32mraise\u001b[0m \u001b[0mImportError\u001b[0m\u001b[0;34m(\u001b[0m\u001b[0;34m\"html5lib not found, please install it\"\u001b[0m\u001b[0;34m)\u001b[0m\u001b[0;34m\u001b[0m\u001b[0;34m\u001b[0m\u001b[0m\n\u001b[0m\u001b[1;32m    841\u001b[0m         \u001b[0;32mif\u001b[0m \u001b[0;32mnot\u001b[0m \u001b[0m_HAS_BS4\u001b[0m\u001b[0;34m:\u001b[0m\u001b[0;34m\u001b[0m\u001b[0;34m\u001b[0m\u001b[0m\n\u001b[1;32m    842\u001b[0m             \u001b[0;32mraise\u001b[0m \u001b[0mImportError\u001b[0m\u001b[0;34m(\u001b[0m\u001b[0;34m\"BeautifulSoup4 (bs4) not found, please install it\"\u001b[0m\u001b[0;34m)\u001b[0m\u001b[0;34m\u001b[0m\u001b[0;34m\u001b[0m\u001b[0m\n",
      "\u001b[0;31mImportError\u001b[0m: html5lib not found, please install it"
     ]
    }
   ],
   "source": [
    "for i, row in tqdm.notebook.tqdm(df_main.iterrows()):\n",
    "    artist_id = row.artist_id\n",
    "    \n",
    "    # Get the tracks of that artist\n",
    "    table, df = get_table_artist_tracks(artist_id)\n",
    "\n",
    "    # Map the name of the song with the track_id (looking at the href of the html table)\n",
    "    tracks_dict = get_track_id_dictionary(table)\n",
    "\n",
    "    # Create the column of the track_id by mapping the track name column with the dictionary\n",
    "    df[\"track_id\"] = df[\"Track\"].map(tracks_dict)\n",
    "\n",
    "    # Get the top 30 songs for that artist sorting by the number of streams\n",
    "    df.sort_values(\"Streams\", ascending = False)\n",
    "    df = df.iloc[:30]\n",
    "\n",
    "    # Impose length of the name of the track to be less than 80 characters\n",
    "    df[\"track_name\"] = df[\"Track\"].str.slice(start = 0, stop = 79)\n",
    "\n",
    "    # UPLOAD to MASTER TRACK\n",
    "    result_upload = upload_master_track(df)\n",
    "\n",
    "    if result_upload:\n",
    "        continue\n",
    "    else:\n",
    "        print(i, artist_id)\n",
    "        break"
   ]
  },
  {
   "cell_type": "markdown",
   "metadata": {},
   "source": [
    "# 2. Master Track - (Other) Popular Track List by Artist (Spotify API)"
   ]
  },
  {
   "cell_type": "code",
   "execution_count": 59,
   "metadata": {},
   "outputs": [
    {
     "name": "stderr",
     "output_type": "stream",
     "text": [
      "25it [00:01, 19.88it/s]\n"
     ]
    }
   ],
   "source": [
    "values = []\n",
    "\n",
    "for i,row in tqdm.tqdm(df_other.iterrows()):\n",
    "    artist_id = row[\"artist_id\"]\n",
    "    \n",
    "    # Query the artist in Spotify\n",
    "    lz_uri = f'spotify:artist:{artist_id}'\n",
    "    results = sp.artist_top_tracks(lz_uri)\n",
    "    \n",
    "    # Parse the results\n",
    "\n",
    "    list_tracks = results[\"tracks\"]\n",
    "    for track in list_tracks:\n",
    "        #for art in track[\"artists\"]:\n",
    "\n",
    "        # Sometimes the release date is just the year\n",
    "        date = track[\"album\"][\"release_date\"]\n",
    "        if len(date) == 4:\n",
    "            date = f'{date}-01-01'\n",
    "        track_id = track[\"id\"]\n",
    "\n",
    "        # Clean track name and convert to lower\n",
    "        track_name = track[\"name\"]\n",
    "        track_name = track_name.replace(\"'\", \" \")\n",
    "        track_name = track_name.lower()\n",
    "\n",
    "        # Values\n",
    "        values.append([track_id, track_name, date, -1]) # Number of Streams not found, so put -1 in the streams\n",
    "        "
   ]
  },
  {
   "cell_type": "code",
   "execution_count": 62,
   "metadata": {},
   "outputs": [
    {
     "data": {
      "text/plain": [
       "{'album': {'album_type': 'single',\n",
       "  'artists': [{'external_urls': {'spotify': 'https://open.spotify.com/artist/3VzGOFrX7MDtLe2Wfndgjt'},\n",
       "    'href': 'https://api.spotify.com/v1/artists/3VzGOFrX7MDtLe2Wfndgjt',\n",
       "    'id': '3VzGOFrX7MDtLe2Wfndgjt',\n",
       "    'name': 'Roba Estesa',\n",
       "    'type': 'artist',\n",
       "    'uri': 'spotify:artist:3VzGOFrX7MDtLe2Wfndgjt'}],\n",
       "  'external_urls': {'spotify': 'https://open.spotify.com/album/0KXu6D6qKow59EGNgf2bfk'},\n",
       "  'href': 'https://api.spotify.com/v1/albums/0KXu6D6qKow59EGNgf2bfk',\n",
       "  'id': '0KXu6D6qKow59EGNgf2bfk',\n",
       "  'images': [{'height': 640,\n",
       "    'url': 'https://i.scdn.co/image/ab67616d0000b273ae93b379481ad6163a519b69',\n",
       "    'width': 640},\n",
       "   {'height': 300,\n",
       "    'url': 'https://i.scdn.co/image/ab67616d00001e02ae93b379481ad6163a519b69',\n",
       "    'width': 300},\n",
       "   {'height': 64,\n",
       "    'url': 'https://i.scdn.co/image/ab67616d00004851ae93b379481ad6163a519b69',\n",
       "    'width': 64}],\n",
       "  'name': 'Memòria',\n",
       "  'release_date': '2020-01-30',\n",
       "  'release_date_precision': 'day',\n",
       "  'total_tracks': 1,\n",
       "  'type': 'album',\n",
       "  'uri': 'spotify:album:0KXu6D6qKow59EGNgf2bfk'},\n",
       " 'artists': [{'external_urls': {'spotify': 'https://open.spotify.com/artist/3VzGOFrX7MDtLe2Wfndgjt'},\n",
       "   'href': 'https://api.spotify.com/v1/artists/3VzGOFrX7MDtLe2Wfndgjt',\n",
       "   'id': '3VzGOFrX7MDtLe2Wfndgjt',\n",
       "   'name': 'Roba Estesa',\n",
       "   'type': 'artist',\n",
       "   'uri': 'spotify:artist:3VzGOFrX7MDtLe2Wfndgjt'},\n",
       "  {'external_urls': {'spotify': 'https://open.spotify.com/artist/5x7QnRNtTCMmMQGvOZFTQG'},\n",
       "   'href': 'https://api.spotify.com/v1/artists/5x7QnRNtTCMmMQGvOZFTQG',\n",
       "   'id': '5x7QnRNtTCMmMQGvOZFTQG',\n",
       "   'name': 'Tribade',\n",
       "   'type': 'artist',\n",
       "   'uri': 'spotify:artist:5x7QnRNtTCMmMQGvOZFTQG'}],\n",
       " 'disc_number': 1,\n",
       " 'duration_ms': 190773,\n",
       " 'explicit': False,\n",
       " 'external_ids': {'isrc': 'ES11D2000297'},\n",
       " 'external_urls': {'spotify': 'https://open.spotify.com/track/195CDNcn8yhAHWh4M1nf6b'},\n",
       " 'href': 'https://api.spotify.com/v1/tracks/195CDNcn8yhAHWh4M1nf6b',\n",
       " 'id': '195CDNcn8yhAHWh4M1nf6b',\n",
       " 'is_local': False,\n",
       " 'is_playable': True,\n",
       " 'name': 'Memòria',\n",
       " 'popularity': 27,\n",
       " 'preview_url': 'https://p.scdn.co/mp3-preview/e9d477bf6211982ca6f73a20131b1c3e65f2cd43?cid=348f94d3a73241188b2a89c91e1cfaee',\n",
       " 'track_number': 1,\n",
       " 'type': 'track',\n",
       " 'uri': 'spotify:track:195CDNcn8yhAHWh4M1nf6b'}"
      ]
     },
     "execution_count": 62,
     "metadata": {},
     "output_type": "execute_result"
    }
   ],
   "source": [
    "track"
   ]
  },
  {
   "cell_type": "code",
   "execution_count": 61,
   "metadata": {},
   "outputs": [
    {
     "data": {
      "text/plain": [
       "[['02dphTJYUQ9pmdNC52iyOz', 'fiesta pagana', '2000-01-01'],\n",
       " ['19vhfSUgVJO2enJ6XidUGO', 'molinos de viento', '1998-01-01'],\n",
       " ['5Q2uU5NGcS0mKwmgF28kRZ', 'haste que el cuerpo aguante', '2000-01-01'],\n",
       " ['4mTsRdFE28MYlrZo8N4Es0', 'la costa del silencio', '2003-01-01'],\n",
       " ['0dQPkfweyWDzZ20Auq3F14', 'la danza del fuego', '2000-01-01'],\n",
       " ['113mni37odpaRooAt5MBAo', 'hoy toca ser feliz', '2018-11-02'],\n",
       " ['0FWalCAwAQKo6RsytWPMUw', 'la cantiga de las brujas', '2019-03-08'],\n",
       " ['1h4wbNA48HRxyoziXujCyR', 'la rosa de los vientos', '2003-01-01'],\n",
       " ['0UOAT4gUVwMw2RzD5BqEEG', 'el libro de las sombras', '2012-11-16'],\n",
       " ['4myEGSZoVXxoLTnUgzEoPG',\n",
       "  'te traeré el horizonte (feat. ara malikian)',\n",
       "  '2019-03-08'],\n",
       " ['15KN4rvxCnsge5cCBOzRxe', 'la revolución sexual', '2016-11-25'],\n",
       " ['3YlFNZ4iquJHPX6scKROns', 'el momento', '2019-03-22'],\n",
       " ['7Eh2mdfhNMLRm7BFSS4uWU', 'podría ser peor', '2019-03-22'],\n",
       " ['2fTXXmPe74Ih491gJ55f0c', 'el final del amor eterno', '2019-03-22'],\n",
       " ['3d7ylkU5mu14pO3IuMYVxD',\n",
       "  'cola de pez (fuego) [feat. javiera mena y la casa azul]',\n",
       "  '2019-09-20'],\n",
       " ['3bnDtd9zlNgFLMqgatre3n', 'nunca nadie pudo volar', '2019-03-22'],\n",
       " ['04wL0E4tBCOYDTj09wPCzS',\n",
       "  'los chicos hoy saltarán a la pista',\n",
       "  '2011-11-28'],\n",
       " ['4OttJE7ma0EoguZ4EDUiOo', 'cartas amarillas', '2013-01-01'],\n",
       " ['6KrWQyin8rtfqMj2ZQrR2I', 'a t a r a x i a', '2019-03-22'],\n",
       " ['5LtkN6v4lG3KKXb6N7MkMK', 'todas tus amigas', '2011-11-28'],\n",
       " ['326OjKhvaCXNIaddeRhrZw', 'cuando suba la marea', '2011-09-27'],\n",
       " ['30ddpolNHwXlrS5XO8MiiO', 'marta, sebas, guille y los demás', '2005-03-14'],\n",
       " ['7FvGfRzzPY8D788ufvZVp8', 'mares igual que tú', '2019-09-06'],\n",
       " ['1jJn6iK6o2Vg7iUKHztRTk', 'el universo sobre mí', '2005-03-14'],\n",
       " ['61ZvRYNgX7WliB1kgQB32a', 'te necesito - acústico', '2002-02-04'],\n",
       " ['3DYm7Lp7Fc3xf6WSCq5ntE', 'cómo hablar', '2000-01-01'],\n",
       " ['7cQ7axcCXsa963OluHTWlS', 'sin ti no soy nada', '2002-02-04'],\n",
       " ['4BOSdVvfw3b5EAhIK5EIVX', 'nuestro tiempo', '2019-09-06'],\n",
       " ['3JhllUTyXy2ceSTzNSErBC', 'días de verano', '2005-03-14'],\n",
       " ['2XZaAAdtY7ggWW5GwUpylP', 'ruido', '2019-09-06'],\n",
       " ['4UtREbGYnd1nZLckEb5y8J', 'carolina - en directo 2000', '2001-01-01'],\n",
       " ['7M65iLprqQ9UJNqer4g6AM',\n",
       "  'llamando a la tierra - serenade from the stars',\n",
       "  '1999-01-01'],\n",
       " ['1Jx8ntXXX97LEEJ1QmnWCs', 'miedo', '2014-02-11'],\n",
       " ['0UQitarNPDgB7ObJCj47kn', 'quedate a dormir', '1999-01-01'],\n",
       " ['4uzNTeaGE1U3AY3hf1okDq', 'sopa fría', '2007-06-26'],\n",
       " ['6pVmnP2zpWqmMTHiwUnpqq', 'maggie despierta - maggie may', '2001-01-01'],\n",
       " ['2oKZLuxOw59t7Xkr9YaCmW', 'concierto salvaje', '2016-09-30'],\n",
       " ['1PJS6bdaKonRVWMhkVl8fU', 'a mis cuarenta y diez', '2019-12-13'],\n",
       " ['5GxSUAhzB14TXt47kwPhbB', 'roto por dentro', '2008-02-26'],\n",
       " ['3O6i75FT62OAELNrbncfUN', 'souvenir', '2001-01-01'],\n",
       " ['2Q9ExjJVBxSIXmuFnkt54v', 'in the night', '2019-02-08'],\n",
       " ['7i7WjK294klUzNjPGIgiyI', 'sta guai', '2019-02-08'],\n",
       " ['5yJJ16zQeNxoXSgelgILYp', 'serem ocells', '2019-02-08'],\n",
       " ['5j3fnsOb6qydXTOkBII8Tm', 'torno a ser jo', '2019-02-08'],\n",
       " ['3Z2MdfVNPD8JvIvDthhwUH', 'cançó de l aire', '2019-02-08'],\n",
       " ['4n8Mah3rJOgBHnrkHhQ3Z1', 'inevitable', '2019-02-08'],\n",
       " ['5dVpKRWB8mCiET4hb7YzeB', 'més likes', '2019-02-08'],\n",
       " ['0q1TD0i8SaMHUw7Zfp9hKN', 'bancals', '2019-02-08'],\n",
       " ['7yN1noFdDEzHzybPeuv2RZ', 'deixa', '2019-02-08'],\n",
       " ['08UnibT603KVIfxcvzV10z', 'escopinya', '2019-02-08'],\n",
       " ['0vabIwEiZDGml2CyVmGNBX', 'y volar (con los caligaris)', '2018-04-06'],\n",
       " ['4Tv8mqQc83OsQVXO4I0FTA', 'lloverá y yo veré', '2013-07-10'],\n",
       " ['5bb3RexzMe6Bm78m16Etpf', 'saber que tu', '2019-09-27'],\n",
       " ['4KOIPoWgg56YkP12E1aFoQ', 'mari carmen', '2011-07-10'],\n",
       " ['4nyXkLRwFOYD00qHTgAsZP', 'y se fue (con nil moliner)', '2019-09-27'],\n",
       " ['4kbuE2mhuowZ6AB0nnVhTD', 'alosque (feat. d callaos)', '2009-07-10'],\n",
       " ['1Vliofk1aqh925sE4OuTlI', 'olivia (feat. mario diaz)', '2013-07-10'],\n",
       " ['4beotrrf5k7Lc9NdiDuj7T', 'y se fue', '2015-07-17'],\n",
       " ['5Lf6RG1wOomzOZLYZuB3XK', 'gat rumberu', '2009-07-10'],\n",
       " ['6P5FtBHJ9em48UXkPei00N',\n",
       "  'amantes de lo ajeno (feat. love of lesbian)',\n",
       "  '2013-07-10'],\n",
       " ['5AnPNGsEt7cOjSGmBDq8e2', 'volcans', '2018-02-16'],\n",
       " ['45QIyRw4u7swlisLopddtX', 'barcelona s il·lumina', '2016-03-29'],\n",
       " ['1PN5u1HFeRKkl74aCmSg0K', 'transmets energia', '2018-02-16'],\n",
       " ['1vWxrsHUVcQRtfpA20NwGo', 'connectats', '2019-04-01'],\n",
       " ['7t4w2fegbamoeBWJCbaohW', 'a prop dels déus', '2020-04-20'],\n",
       " ['1q3kE73l75KG40R22AQYPC', 'el temporal', '2016-03-29'],\n",
       " ['0gnUqwuderBegGp3zqIeae', 'la última y nos vamos', '2016-03-29'],\n",
       " ['4a3d83ulOPrdKR73RgAMqq', 'brama', '2014-02-18'],\n",
       " ['0Qct8V17omoDzeomyX5nfq', 'la gran vida', '2018-02-16'],\n",
       " ['5tY7OeRxNvFhxFWRtL66DQ', 'som una melodia', '2014-02-18'],\n",
       " ['3eGOTosM8QRkgh8hm4lB1S', 'caminem lluny', '2018-05-04'],\n",
       " ['3ctPgGrBfjWRiowL0Do8W5', 'tu fas', '2018-05-04'],\n",
       " ['6MAyp12bbJz8zUUSPa6Ddg', 'les nits no moren mai', '2017-09-29'],\n",
       " ['0TIL4unJvSxvSYXePWgQQs', 'les teves pigues', '2018-05-04'],\n",
       " ['6Uq9p5eAhwWPt9rL12mY57', 'al final tot anirà bé', '2018-05-04'],\n",
       " ['0ClzwmZXDQH9mlhYQiTjZ2', 'ara!', '2016-04-05'],\n",
       " ['45YP8rDBbwelgCkRs8kFrG', 'lliure', '2018-05-04'],\n",
       " ['2Q38z19OAcuGaAhHQI1VML', 'mira-la', '2016-04-05'],\n",
       " ['1jhDxPPCO8ciq5zQxnnaeb', 'no t encantis', '2016-04-05'],\n",
       " ['1uU0hJNLKoMIvnOhAEwn4U', 'el raïm es fa pansa', '2018-05-04'],\n",
       " ['7qsLTU5K8pkzsAUIx4bobS', 'vull estar amb tu', '2013-03-21'],\n",
       " ['1pNVZYEWkQfZmYJ5se7XJ9', 'fins que arribi l alba', '2018-03-16'],\n",
       " ['4yrP9i1qRx4tR16jH2MPm7', 'en peu de guerra', '2015-03-12'],\n",
       " ['42yFmT6lc2kOBqooibIX08', 'invencibles', '2013-03-21'],\n",
       " ['3mUonXr6ECjJs2XPDYxWhG', 'una cançó que parla de tu', '2018-03-16'],\n",
       " ['7hiceWoDGGP4RadNyGxRdm', 'jenifer', '2011-11-29'],\n",
       " ['0baUWE0swA0J5OP5c0vAHs', 'rock & roll', '2013-03-21'],\n",
       " ['1bzvpvkhOTzHeFPxAepFZt', 'tintin', '2012-05-02'],\n",
       " ['5CNz8cbnRT258jU3yvlR0D', 'estels al vent', '2015-03-12'],\n",
       " ['7iw3jZ5trwyLcdXfrEc5bC', 'perfectes', '2018-03-16'],\n",
       " ['5KLRR7qPSJH4XHd6DrjOgQ', 'jean-luc', '2009-09-01'],\n",
       " ['5eSa3b9VY7VkBpB5Aldg5o', 'ja no ens passa', '2014-03-01'],\n",
       " ['0MxI8w6CwbnIl4vpsdVoUd', 'el meu cos', '2020-01-24'],\n",
       " ['3huHyuVlGjnC4MMsUSw1j4', 'et vaig dir', '2020-05-07'],\n",
       " ['5KBBltUxBSk58WiTszBdQB', 'louisiana o els camps de cotó', '2012-05-01'],\n",
       " ['3owV5MZQLzyaH5sSGUwL0S', 'semblava que fossis tu', '2020-04-02'],\n",
       " ['6OqigMrWSTI8pOwjceujVs', 'no ho entens', '2017-02-24'],\n",
       " ['24z8tMGMpwbVG4USfjBFGL', '4-3-3', '2009-09-01'],\n",
       " ['39FeSyiYMx4mtbQFyB3gU1', 'el seu gran hit', '2017-02-24'],\n",
       " ['75sREg9t2jxD8proaIN8so', 'el senyal que esperaves', '2020-03-06'],\n",
       " ['53RH2cQgRgyGMFRbPmW4bN', 'samarreta - versió 2015', '2015-04-07'],\n",
       " ['7f9u5jXiHFKB720UMY8Akq', 'ho sento molt', '2019-12-13'],\n",
       " ['3XQhMRqok8x0we5O0Y1j75', 'tan lluny de tu', '2017-01-20'],\n",
       " ['4pjNyCbAVQM2pYDgSfIYJr', 'si tothom calla', '2019-12-13'],\n",
       " ['2MmC1K6DUcnKhpO9vk03XF', 'no sé si', '2011-04-12'],\n",
       " ['2CxVgdWCU1rWH0tHPNodPH', 'bon dia vida', '2019-12-13'],\n",
       " ['7D8TWo215drKqKLHNSQXSX', 'últim ball', '2016-10-14'],\n",
       " ['0Qddwe9JoqTHke4OqQTe5s', 'avui canviem el món', '2020-03-20'],\n",
       " ['5XZPuLHfas9xsteer2QWhp', 'ara vinc d enlloc', '2007-03-14'],\n",
       " ['1S5xcz8E7LoWLXRssArLH8', 'no em dóna la gana', '2019-12-13'],\n",
       " ['05PSmIGYiyhu3h4woxunJz', 'corren', '2007-04-15'],\n",
       " ['4ccVfWlXi396a2fkvT9PJ6',\n",
       "  'res tornarà a ser igual (polseres vermelles 2a temporada)',\n",
       "  '2013-01-29'],\n",
       " ['5yLG5UlsooccmecUekFoUU', 'no és nou - en directe', '2018-12-14'],\n",
       " ['23fNP2xpD0oqVYVZsyM7al', 'corren', '2008-11-15'],\n",
       " ['14s9lsPTgjUnugWxWE6jUX', 'oxigen', '2007-04-15'],\n",
       " ['7IDniPRzZyBubXhiRr2a25', 'l illa', '2007-04-15'],\n",
       " ['0vQSDC5Fu3ZohLW2idWG2k', 'quan et sentis de marbre', '2006-05-04'],\n",
       " ['6JhrsgBBEiQE1c4AFVhpFQ', 'rera teu - en directe', '2018-12-14'],\n",
       " ['3mEe9jKGnGJajeVpMXiOYx', 'fills del sol', '2013-04-22'],\n",
       " ['1pqZa9YEX05VlqKqAUKMce', 'voldria dir-te', '2016-09-16'],\n",
       " ['3XN9GOkJsXFALvfFbzTAN6', 'camins', '2001-11-15'],\n",
       " ['1vzugDTXDgZCF0QQrzB5hX', 'l empordà', '2010-03-01'],\n",
       " ['5BJUPXEuhz6jEFdvmEXdof', 'el far del sud - en directe', '2002-11-15'],\n",
       " ['2TUeogCC2yzy2yN6QRJ8bd', 'el far del sud', '1998-11-15'],\n",
       " ['45QrLeTp1UeT8pfWPLikgB', 'els teus somnis', '2001-11-15'],\n",
       " ['53ma0qT2Ht33bsB6Z6at25', 'el boig de la ciutat - en directe', '2002-11-15'],\n",
       " ['6z8oPcLH9Wyd7X5TRq8Vt2', 'si et quedes amb mi', '2010-03-01'],\n",
       " ['0rEUGnGFakwxI2LxaMx9rY', 'farem que surti el sol', '2020-02-28'],\n",
       " ['7mkoPXYGglz7c7Q3gpGirL', 'mai trobaràs', '2010-03-01'],\n",
       " ['5DIc9siEe07CfGNhoVD6Lc', 'l empordà - en directe', '2002-11-15'],\n",
       " ['4ggCyLHi9itGzHsUgYhnN4', 'llença t', '2000-01-01'],\n",
       " ['3FY3W22KrDkkxintD2gpqk', 't estimo molt', '2014-04-22'],\n",
       " ['7h8n02SDd8JG6AFWr3Dut4', 'tornarem', '2014-04-22'],\n",
       " ['2V58oh5emQj22lfn8xaP9I', 'la meva terra és el mar', '1998-01-01'],\n",
       " ['1wCQ4n39sZCvBkPm7zj2W4', 'que boig el món', '2008-11-15'],\n",
       " ['4ZKM5pGuElWso0kYdn7YXY', 'més que la meva sang', '1993-01-01'],\n",
       " ['3C7A6R1QsrN5Oj881xNEVL', 'trepitja fort', '2000-01-01'],\n",
       " ['7sPEZHafYeha795Mvb4IIi', 'quan em diguis que m estimes', '2019-02-15'],\n",
       " ['2jGAUon338DOwA8r9jSNIb', 'si no ho fas tu', '2019-02-15'],\n",
       " ['51Uk1xicVU0f2PUsg16NOG', 'amb tu', '2000-01-01'],\n",
       " ['2WWBXo8SVGSi3Z4oB7yQDi', 'sense tu', '2008-11-10'],\n",
       " ['2raAFye3f1k7NNRhkzqZGC', 'quan somrius', '2013-12-17'],\n",
       " ['2J62S8BvnoOCIPhgDkbWN7', 'la realitat', '2008-11-10'],\n",
       " ['71fVkxFCEeJH7Vb36cnGhj', 'és la nostra història', '2015-03-10'],\n",
       " ['3nDXsWRmEzMvVnd5UktJJG', 'a prop', '2016-03-18'],\n",
       " ['5yMXIatDgf1bBb2cmgMiVs', 'tota la nit', '2010-11-22'],\n",
       " ['579Ns1YPiGFqF8K1YlW6Ja', '20 minuts d espera', '2008-11-10'],\n",
       " ['3FTcpNLv8oQYBlV9oXwqtn', 'sin ti', '2015-04-27'],\n",
       " ['4kyvMynavqIjGvi5AMiw1J', 'compta amb mi', '2008-11-10'],\n",
       " ['7ehKZKGHAbkVAvkd8Gl21p', 'la soledat', '2008-11-10'],\n",
       " ['3twYwf9MIPgQUgynBhrX0I', 'bon dia', '1997-01-01'],\n",
       " ['4G9uB4lMcQRvDgtkWBsbPd', 'bona nit', '1997-01-01'],\n",
       " ['6RXC23Zrd4jEFjtXL1ZsZp',\n",
       "  'la vida és molt avorrida sense el teu cos',\n",
       "  '2018-10-19'],\n",
       " ['2KuzLo3h5MKhZQEjt2VbWG',\n",
       "  'no vull que t agradi aquesta cançó',\n",
       "  '2018-10-19'],\n",
       " ['6qYo7Fi9sbJO8gfHe3VkDz', 'blue tack', '2013-10-01'],\n",
       " ['4P9fsKZpfOWmYG4GMbkbYh', 'vespre', '1989-01-01'],\n",
       " ['1Ey9xIaUkP1dvZ5fNmcslD', 'jo vull ser rei', '1994-11-11'],\n",
       " ['0DiYxE4c66yPMHgEpD1qt6', 'pau', '2004-01-01'],\n",
       " ['05cL2TWpCIRtF601wHUCO7', 'agost', '2004-01-01'],\n",
       " ['3tGRd6cUlAxnSGZ1dLXJNZ', 'por', '1999-01-01'],\n",
       " ['3UV0cJnT4bQhjQVPbn8pmb', 'escriurem #joemcorono', '2020-04-21'],\n",
       " ['7mKkpSKp0Gba3aWSkcVvL2', 'pa amb oli i sal', '2013-04-22'],\n",
       " ['5EiZgiIaQ55WLhF5kMTx00', 'bicicletes', '2013-04-22'],\n",
       " ['3WdvXJlBVTk2HHJ8d2LZzm', 'de veritat', '2020-02-14'],\n",
       " ['1bMTNSDk0Iwe1rml8lFBjn', 'vint-i-un botons', '2017-03-24'],\n",
       " ['5DmZgEwHSyECU8V5KO0Kve', 'el primer arbre del bosc', '2015-03-17'],\n",
       " ['3J9Ef1Qpo6BPwXIfaU9SHX', 'de moment', '2015-03-17'],\n",
       " ['2raAFye3f1k7NNRhkzqZGC', 'quan somrius', '2013-12-17'],\n",
       " ['3RANqu02dJlhNVcByAP898', 'cel estranger', '2020-02-14'],\n",
       " ['5QnpX5U5878eMARp04TJNv', 'ara, aquí, present', '2020-02-14'],\n",
       " ['6V6p3kX685TlL51aeSgzpa', 'l estaca', '2007-01-01'],\n",
       " ['4DBYhdltl62fQccoSf3v6F', 'amor particular', '1984-01-01'],\n",
       " ['1Ucj967zGgwoSEPCqlzQRJ', 'país petit', '1980-01-01'],\n",
       " ['7KpKiCgrcHgLK2U1a59PhZ', 'un núvol blanc', '2007-03-01'],\n",
       " ['0BIx0mZnV9xAplURuFOIJK', 'el bandoler', '2007-01-01'],\n",
       " ['6Qs1s2J6hNC2TYyTdFWSJp',\n",
       "  'cal que neixin flors a cada instant',\n",
       "  '2007-01-01'],\n",
       " ['3vxJZd3NwfPyDAff5J852B', 'la gallineta', '1992-01-01'],\n",
       " ['1A4VpjIrhNZfxmUsLf24tF', 'que feliç era mare', '2007-01-01'],\n",
       " ['6u0mDHSbaFoq9Fj9Q9zYy9', 'tendresa', '1998-01-01'],\n",
       " ['0Z8lQazvGCvp9rOOfU5yGV', 'companys, no es aixó', '1978-01-01'],\n",
       " ['4jJGiNGzoUV4uacldNW5Qb', 'la flama', '2006-06-22'],\n",
       " ['0YMqaRrbjivJEwtr2tTGsL', 'la vida sense tu', '2011-04-18'],\n",
       " ['0R1dlMORh6eVjwVV8ZCA08', 'la flama', '2004-01-01'],\n",
       " ['5ioUwDizO3wLH9xlLw6c72', 'som', '2006-06-22'],\n",
       " ['5lZnYYBvzQMOqeYkauXyIf', 'si tanque els ulls', '2011-04-18'],\n",
       " ['06M09WG0LXYzdp4e5c2PEZ', 'seguirem', '2011-04-18'],\n",
       " ['5aQSEllHGQvANtleCt10nC', 'desalojos son disturbios', '2007-03-12'],\n",
       " ['4tFYyQurNsy2ST5IfgeKhs', 'i si demà no tornara', '2011-04-18'],\n",
       " ['4QQKm3Li7ri8fXyufEZoBz', 'camins', '2007-05-22'],\n",
       " ['5h5T7yQ1qC7KcL8GySSVQx', 'coratge', '2011-04-18'],\n",
       " ['1NfRPdliRUekY3lgvfa22L', 'chess match', '2018-10-15'],\n",
       " ['7JUsFp2Zs53PKyunAKTe0J', 'never knew', '2018-10-15'],\n",
       " ['4qhVOfgfnIylOlPRhfe9LH', 'give it up', '2018-10-15'],\n",
       " ['2GmwWfwuJwNnCyZEDHDv4Z', 'bliss', '2018-10-15'],\n",
       " ['6lPQ9R0onmT77jrw0BUzr3', 'what if', '2018-10-15'],\n",
       " ['3GbyRmZVxkVpCGMs8qcqXz', 'stay homa', '2020-05-01'],\n",
       " ['4PrYq1x0pv5WSMCiy6rp9o', 'in the end', '2020-06-18'],\n",
       " ['66NaxCx1xBV2QZ0ZTK3sXG',\n",
       "  'otra forma de vivir - estrella damm 2019',\n",
       "  '2019-06-26'],\n",
       " ['3wE2JNdZXzz7Cy67aK6dB6', 'jo mai mai', '2012-02-14'],\n",
       " ['38brAbae4eGYFIGX6JmtXB', 'tot anirà bé', '2019-01-05'],\n",
       " ['7kkPyhcaiVvYyYDcjIypOJ',\n",
       "  'una altra manera de viure - estrella damm 2019',\n",
       "  '2019-05-22'],\n",
       " ['4Ews3V2EE9m2KmBxR0MNri', 'la gran eufòria', '2018-04-13'],\n",
       " ['56kl39mP1eo6ZcmJaiC2RS',\n",
       "  'caure no feia mal (with santi balmes)',\n",
       "  '2018-04-13'],\n",
       " ['7AKvMxA16IYVt9i0jsJHKz', 'truca m', '2012-02-14'],\n",
       " ['2ha0GdiJNpVPCEOiBUZp4I', 'diria que eres tu', '2018-04-13'],\n",
       " ['0PZgWJCQF4L4AZBXSI27Ws', 'ara som gegants', '2018-04-13'],\n",
       " ['6O0rKdBY8tuIIqVfqtlnHL', 'la teva veu', '2018-04-13'],\n",
       " ['3hx9T4CWGDvMbINMBfyrnW', 'mediterraneo', '1969-01-01'],\n",
       " ['3sjv1TBUwUjXeyUrsH3DwJ', 'cantares', '1969-01-01'],\n",
       " ['6M7dGTUF47RRGGPqHBTn6P', 'la puerta de alcalá - en directo', '1994-05-09'],\n",
       " ['44RRIuioxHdtujpJ3PDkxA', 'lucia (with silvio rodríguez)', '2014-11-03'],\n",
       " ['7340uVVBkBhEeecM1RJNqj', 'aquellas pequeñas cosas', '1969-01-01'],\n",
       " ['3vM9EObWgd6nBzsEVBGIs2', 'hoy puede ser un gran día', '1969-01-01'],\n",
       " ['2KwfO7Kz3JZ99h8JGyZsbC', 'cantares - en directo', '1969-01-01'],\n",
       " ['3GuUtxubpUewt8tckD79Bl', 'la mujer que yo quiero', '1969-01-01'],\n",
       " ['7CWvuSoguuIfCffFNE2Km0', 'a la orilla de la chimenea', '2019-12-13'],\n",
       " ['7J9TwCVXcyXywLqAGwlr9S', 'algo personal (with calle 13)', '2014-11-03'],\n",
       " ['3UV0cJnT4bQhjQVPbn8pmb', 'escriurem #joemcorono', '2020-04-21'],\n",
       " ['2b8eZFIfoV68lYrVQrOzp2',\n",
       "  'la petita rambla del poble sec - xl',\n",
       "  '2020-01-31'],\n",
       " ['46u4kbTD8MRQPWwOlEo3gT', 'la petita rambla del poble sec', '2009-12-15'],\n",
       " ['2raAFye3f1k7NNRhkzqZGC', 'quan somrius', '2013-12-17'],\n",
       " ['5UI8cCqgNxAF1MgpjOEvT0', 'cercavila', '2019-01-04'],\n",
       " ['6tSnI68d1NArKlty6FgVgC', 'et dono casa meva', '2009-12-15'],\n",
       " ['6TbtZFCboMhipv0ogdZ57D', 'país petit', '2013-05-06'],\n",
       " ['6B7D9kV1WopAzVGCi6qokk', 'aigua', '2019-01-04'],\n",
       " ['1Kzwfp8aHkBv2nUFBWNHJt', 'tornar', '2020-05-08'],\n",
       " ['7L8wTK0vD00hHkyYg7446x', 'que no et falli mai la sort', '2012-05-06'],\n",
       " ['1I5Gy5q4FduDMYmCIKntZ9', 'una altra ronda', '2016-05-17'],\n",
       " ['1pjxLLj8xez5Vxu3qWNLm5', 'viu', '2016-05-17'],\n",
       " ['3PCUWFUNH2Rl5sTPtVXIoR', 'les criades', '2016-05-17'],\n",
       " ['2XHUEhAGzTrSB7G1I8iPnW', 'cendres i plaers', '2020-01-24'],\n",
       " ['0FuB3G7fkMOIIcw3IZBGZK', 'la nit és nostra', '2018-03-23'],\n",
       " ['4ehUlDBX8A5RiJzf0WJK5T', 'cant de lluita', '2018-03-23'],\n",
       " ['7jT4GIlokPPdgPMIpbFo5J', 'ohorea (orgull) - live in madrid', '2019-04-26'],\n",
       " ['6LGkNzkg2AgBxjO3D1oZmD', 'la gent', '2020-02-07'],\n",
       " ['2NvCDevq5h7eXgq7NXycyx', 'ocells', '2020-02-07'],\n",
       " ['195CDNcn8yhAHWh4M1nf6b', 'memòria', '2020-01-30']]"
      ]
     },
     "execution_count": 61,
     "metadata": {},
     "output_type": "execute_result"
    }
   ],
   "source": [
    "query = cursor.executemany(\"\"\"insert into master_track VALUES (%s, %s, %s, %s) ON CONFLICT DO NOTHING; \"\"\" , values)\n",
    "conn.commit()"
   ]
  },
  {
   "cell_type": "code",
   "execution_count": 50,
   "metadata": {},
   "outputs": [],
   "source": []
  },
  {
   "cell_type": "code",
   "execution_count": 51,
   "metadata": {},
   "outputs": [
    {
     "data": {
      "text/plain": [
       "10"
      ]
     },
     "execution_count": 51,
     "metadata": {},
     "output_type": "execute_result"
    }
   ],
   "source": [
    "len(results[\"tracks\"])"
   ]
  },
  {
   "cell_type": "code",
   "execution_count": 54,
   "metadata": {},
   "outputs": [],
   "source": []
  },
  {
   "cell_type": "markdown",
   "metadata": {},
   "source": [
    "## Get the track ID by inspecting href\n",
    "\n",
    "We have to re-inspect all the html table to get the href tags and copy the link to retrieve the ID of the track:"
   ]
  },
  {
   "cell_type": "code",
   "execution_count": 288,
   "metadata": {},
   "outputs": [],
   "source": []
  },
  {
   "cell_type": "code",
   "execution_count": 279,
   "metadata": {},
   "outputs": [],
   "source": [
    "# Dictionary to map the track name with the href link where the track id appears\n",
    "tracks = {}\n",
    "\n",
    "list_of_rows = table.findAll(\"tr\")# get all the rows\n",
    "\n",
    "for tr in list_of_rows: #for each row\n",
    "    \n",
    "    list_of_cells = tr.findAll(\"td\") # get all the cells\n",
    "    \n",
    "    # Extrack the links for the track and featuring artists\n",
    "    for each_cell in list_of_cells:\n",
    "        find_link = each_cell.find('a')\n",
    "        \n",
    "        if find_link:\n",
    "            link = find_link['href'] # link to the /track/\n",
    "            txt = find_link.text.lower() # text in the link\n",
    "        \n",
    "        if '/track/' in link: # this is the link for the track\n",
    "\n",
    "            # See if the link is for track or for a featuring artist\n",
    "            tracks[txt] = link.split(\"/\")[-1].split(\".\")[0] # get the track id"
   ]
  },
  {
   "cell_type": "code",
   "execution_count": 280,
   "metadata": {},
   "outputs": [],
   "source": [
    "df[\"track_id\"] = df[\"Track\"].map(tracks)"
   ]
  },
  {
   "cell_type": "code",
   "execution_count": 282,
   "metadata": {},
   "outputs": [],
   "source": [
    "# Get the top 30 songs for each artist\n",
    "df.sort_values(\"Streams\", ascending = False)\n",
    "df = df.iloc[:30]\n",
    "\n",
    "# Impose length of the name of the track to be less than 80 characters\n",
    "df[\"track_name\"] = df[\"Track\"].str.slice(start = 0, stop = 79)"
   ]
  },
  {
   "cell_type": "markdown",
   "metadata": {},
   "source": [
    "# Featuring Artists"
   ]
  },
  {
   "cell_type": "code",
   "execution_count": 138,
   "metadata": {},
   "outputs": [],
   "source": [
    "\n",
    "\n",
    "# Dictionary to map the\n",
    "feat_artists = {}"
   ]
  },
  {
   "cell_type": "code",
   "execution_count": 178,
   "metadata": {},
   "outputs": [],
   "source": [
    "for tr in table.findAll(\"tr\"): # get all the rows\n",
    "    trs = tr.findAll(\"td\") # get all the cells\n",
    "    \n",
    "    # Extrack the links for the track and featuring artists\n",
    "    for each_cell in trs:\n",
    "\n",
    "        # Check where the hrefs (for the track and the featuring artists) appear\n",
    "        get_all_links = each_cell.findAll(\"a\")\n",
    "        for href_element in get_all_links:\n",
    "            link = href_element['href'] # link to the /track/\n",
    "            txt = href_element.text.lower() # text in the link\n",
    "\n",
    "            if '/track/' in link: # this is the link for the track\n",
    "\n",
    "                # See if the link is for track or for a featuring artist\n",
    "                tracks[txt] = link.split(\"/\")[-1].split(\".\")[0] # get the track id\n",
    "\n",
    "            elif link: # there is a link but it is not the track link, hence, it is the feat artist link\n",
    "\n",
    "                # If the link is for the feat. artist\n",
    "                feat_artists[txt] = link.split(\".\")[0]\n"
   ]
  },
  {
   "cell_type": "code",
   "execution_count": 180,
   "metadata": {},
   "outputs": [
    {
     "data": {
      "text/plain": [
       "<a href=\"../track/35r28RDot7nPE7y9K9H7l0.html\">Feeling Whitney</a>"
      ]
     },
     "execution_count": 180,
     "metadata": {},
     "output_type": "execute_result"
    }
   ],
   "source": [
    "href_element"
   ]
  },
  {
   "cell_type": "code",
   "execution_count": 179,
   "metadata": {},
   "outputs": [
    {
     "data": {
      "text/plain": [
       "{'21 savage': '1URnnhqYAYcrqrcwql10ft',\n",
       " 'swae lee': '1zNqQNIdeOUZHb8zbZRFMX',\n",
       " 'quavo': '0VRj0yCOv2FXJNP47XQnx5',\n",
       " 'ty dolla $ign': '7c0XG5cIJTrrAgEC3ULPiq',\n",
       " 'young thug': '50co4Is1HCEo8bhOyUWKpn',\n",
       " 'tiësto': '2o5jDhtHVPhrJdv3cEQ99Z',\n",
       " 'ozzy osbourne': '6ZLTlhejhndI4Rh53vYhrY',\n",
       " 'nicki minaj': '0hCNtLu0JehylgoiP8L4Gh',\n",
       " 'dababy': '4r63FhuTkUYltbVAg5TQnk',\n",
       " 'justin bieber': '1uNFoZAHBGtllmzznpCI3s',\n",
       " 'halsey': '26VFTg2z8YR0cCuwLzESi2',\n",
       " 'meek mill': '20sxb77xiYeusSH8cVdatc',\n",
       " 'g-eazy': '02kJSzxNuaWGqwubyUba0Z',\n",
       " 'lorde': '163tK9Wjr9P9DmM0AVK7lm',\n",
       " 'french montana': '6vXTefBL93Dj5IqAWq6OTv',\n",
       " 'sza': '7tYKF4w9nC0nq9CsPZTHyP',\n",
       " 'roddy ricch': '757aE44tKEUQEqRuT6GnEB',\n",
       " 'migos': '6oMuImdp5ZcFhWP0ESe6mG',\n",
       " 'dj khaled': '0QHgL1lAIqAw0HtD7YldmP',\n",
       " 'tyla yaweh': '1MXZ0hsGic96dWRDKwAwdr',\n",
       " 'nicky jam': '1SupJlEpv7RS2tPNRaHViT',\n",
       " '2 chainz': '17lzZA2AlOHwCwFALHttmp',\n",
       " 'elvis presley': '43ZHCT0cAZBISjO8DG9PnE',\n",
       " 'flosstradamus': '2FmzVitXZjIkFolH8HXd4j'}"
      ]
     },
     "execution_count": 179,
     "metadata": {},
     "output_type": "execute_result"
    }
   ],
   "source": [
    "feat_artists"
   ]
  },
  {
   "cell_type": "code",
   "execution_count": 164,
   "metadata": {},
   "outputs": [
    {
     "data": {
      "text/plain": [
       "<td class=\"text\"><a href=\"6vXTefBL93Dj5IqAWq6OTv.html\">French Montana</a>, <a href=\"1fctva4kpRbg2k3v7kwRuS.html\">Rvssian</a>, <a href=\"4kYSro6naA4h99UJvo89HB.html\">Cardi B</a></td>"
      ]
     },
     "execution_count": 164,
     "metadata": {},
     "output_type": "execute_result"
    }
   ],
   "source": [
    "each_cell"
   ]
  },
  {
   "cell_type": "code",
   "execution_count": 160,
   "metadata": {},
   "outputs": [
    {
     "data": {
      "text/plain": [
       "{'21 savage': '1URnnhqYAYcrqrcwql10ft',\n",
       " 'swae lee': '1zNqQNIdeOUZHb8zbZRFMX',\n",
       " 'quavo': '0VRj0yCOv2FXJNP47XQnx5',\n",
       " 'ty dolla $ign': '7c0XG5cIJTrrAgEC3ULPiq',\n",
       " 'young thug': '50co4Is1HCEo8bhOyUWKpn',\n",
       " 'tiësto': '2o5jDhtHVPhrJdv3cEQ99Z',\n",
       " 'ozzy osbourne': '6ZLTlhejhndI4Rh53vYhrY',\n",
       " 'nicki minaj': '0hCNtLu0JehylgoiP8L4Gh',\n",
       " 'dababy': '4r63FhuTkUYltbVAg5TQnk',\n",
       " 'justin bieber': '1uNFoZAHBGtllmzznpCI3s',\n",
       " 'halsey': '26VFTg2z8YR0cCuwLzESi2',\n",
       " 'meek mill': '20sxb77xiYeusSH8cVdatc',\n",
       " 'g-eazy': '02kJSzxNuaWGqwubyUba0Z',\n",
       " 'lorde': '163tK9Wjr9P9DmM0AVK7lm',\n",
       " 'french montana': '6vXTefBL93Dj5IqAWq6OTv',\n",
       " 'sza': '7tYKF4w9nC0nq9CsPZTHyP',\n",
       " 'roddy ricch': '757aE44tKEUQEqRuT6GnEB',\n",
       " 'migos': '6oMuImdp5ZcFhWP0ESe6mG',\n",
       " 'dj khaled': '0QHgL1lAIqAw0HtD7YldmP',\n",
       " 'tyla yaweh': '1MXZ0hsGic96dWRDKwAwdr',\n",
       " 'nicky jam': '1SupJlEpv7RS2tPNRaHViT',\n",
       " '2 chainz': '17lzZA2AlOHwCwFALHttmp',\n",
       " 'elvis presley': '43ZHCT0cAZBISjO8DG9PnE',\n",
       " 'flosstradamus': '2FmzVitXZjIkFolH8HXd4j'}"
      ]
     },
     "execution_count": 160,
     "metadata": {},
     "output_type": "execute_result"
    }
   ],
   "source": [
    "feat_artists"
   ]
  },
  {
   "cell_type": "code",
   "execution_count": 153,
   "metadata": {},
   "outputs": [
    {
     "data": {
      "text/plain": [
       "{'rockstar': '0e7ipj03S05BNilyu5bRzt'}"
      ]
     },
     "execution_count": 153,
     "metadata": {},
     "output_type": "execute_result"
    }
   ],
   "source": [
    "tracks"
   ]
  },
  {
   "cell_type": "code",
   "execution_count": 154,
   "metadata": {},
   "outputs": [
    {
     "data": {
      "text/plain": [
       "{'21 savage': '1URnnhqYAYcrqrcwql10ft'}"
      ]
     },
     "execution_count": 154,
     "metadata": {},
     "output_type": "execute_result"
    }
   ],
   "source": [
    "feat_artists"
   ]
  },
  {
   "cell_type": "code",
   "execution_count": 149,
   "metadata": {},
   "outputs": [
    {
     "ename": "AttributeError",
     "evalue": "'NoneType' object has no attribute 'text'",
     "output_type": "error",
     "traceback": [
      "\u001b[0;31m---------------------------------------------------------------------------\u001b[0m",
      "\u001b[0;31mAttributeError\u001b[0m                            Traceback (most recent call last)",
      "\u001b[0;32m<ipython-input-149-aab939bf60c2>\u001b[0m in \u001b[0;36m<module>\u001b[0;34m\u001b[0m\n\u001b[0;32m----> 1\u001b[0;31m \u001b[0mtxt\u001b[0m \u001b[0;34m=\u001b[0m \u001b[0mtrs\u001b[0m\u001b[0;34m[\u001b[0m\u001b[0;36m3\u001b[0m\u001b[0;34m]\u001b[0m\u001b[0;34m.\u001b[0m\u001b[0mfind\u001b[0m\u001b[0;34m(\u001b[0m\u001b[0;34m\"a\"\u001b[0m\u001b[0;34m)\u001b[0m\u001b[0;34m.\u001b[0m\u001b[0mtext\u001b[0m\u001b[0;34m.\u001b[0m\u001b[0mlower\u001b[0m\u001b[0;34m(\u001b[0m\u001b[0;34m)\u001b[0m\u001b[0;34m\u001b[0m\u001b[0;34m\u001b[0m\u001b[0m\n\u001b[0m",
      "\u001b[0;31mAttributeError\u001b[0m: 'NoneType' object has no attribute 'text'"
     ]
    }
   ],
   "source": [
    "txt = trs[3].find(\"a\").text.lower()"
   ]
  },
  {
   "cell_type": "code",
   "execution_count": 150,
   "metadata": {},
   "outputs": [
    {
     "data": {
      "text/plain": [
       "<td>1,917,324,408</td>"
      ]
     },
     "execution_count": 150,
     "metadata": {},
     "output_type": "execute_result"
    }
   ],
   "source": [
    "trs[3]"
   ]
  },
  {
   "cell_type": "code",
   "execution_count": 148,
   "metadata": {},
   "outputs": [
    {
     "data": {
      "text/plain": [
       "'rockstar'"
      ]
     },
     "execution_count": 148,
     "metadata": {},
     "output_type": "execute_result"
    }
   ],
   "source": [
    "txt"
   ]
  },
  {
   "cell_type": "code",
   "execution_count": 118,
   "metadata": {},
   "outputs": [
    {
     "data": {
      "text/plain": [
       "<a href=\"../track/0e7ipj03S05BNilyu5bRzt.html\">rockstar</a>"
      ]
     },
     "execution_count": 118,
     "metadata": {},
     "output_type": "execute_result"
    }
   ],
   "source": [
    "track"
   ]
  },
  {
   "cell_type": "code",
   "execution_count": 110,
   "metadata": {},
   "outputs": [
    {
     "data": {
      "text/plain": [
       "'rockstar'"
      ]
     },
     "execution_count": 110,
     "metadata": {},
     "output_type": "execute_result"
    }
   ],
   "source": [
    "track.text"
   ]
  },
  {
   "cell_type": "code",
   "execution_count": 104,
   "metadata": {},
   "outputs": [
    {
     "data": {
      "text/plain": [
       "['../track/0e7ipj03S05BNilyu5bRzt.html', '1URnnhqYAYcrqrcwql10ft.html']"
      ]
     },
     "execution_count": 104,
     "metadata": {},
     "output_type": "execute_result"
    }
   ],
   "source": [
    "links"
   ]
  },
  {
   "cell_type": "code",
   "execution_count": null,
   "metadata": {},
   "outputs": [],
   "source": [
    "links = []\n",
    "for tr in table.findAll(\"tr\"):\n",
    "    trs = tr.findAll(\"td\")\n",
    "    for each in trs:\n",
    "        try:\n",
    "            link = each.find('a')['href']\n",
    "            links.append(link)\n",
    "        except:\n",
    "            pass\n",
    "\n",
    "df['Link'] = links"
   ]
  }
 ],
 "metadata": {
  "kernelspec": {
   "display_name": "Python 3",
   "language": "python",
   "name": "python3"
  },
  "language_info": {
   "codemirror_mode": {
    "name": "ipython",
    "version": 3
   },
   "file_extension": ".py",
   "mimetype": "text/x-python",
   "name": "python",
   "nbconvert_exporter": "python",
   "pygments_lexer": "ipython3",
   "version": "3.7.6"
  }
 },
 "nbformat": 4,
 "nbformat_minor": 4
}
