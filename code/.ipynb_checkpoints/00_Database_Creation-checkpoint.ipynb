{
 "cells": [
  {
   "cell_type": "markdown",
   "metadata": {},
   "source": [
    "# 0. Create Database Spotify"
   ]
  },
  {
   "cell_type": "markdown",
   "metadata": {},
   "source": [
    "In the terminal go to\n",
    "\n",
    "> /Applications/Postgres.app/Contents/Versions/12/bin/psql -p5432 \"spotify\"\n",
    "\n",
    "If doest not exist, go to \"david\" or \"postgres\" and do \"CREATE DATABASE SPOTIFY\""
   ]
  },
  {
   "cell_type": "code",
   "execution_count": 3,
   "metadata": {},
   "outputs": [],
   "source": [
    "# Connections\n",
    "import psycopg2"
   ]
  },
  {
   "cell_type": "code",
   "execution_count": 4,
   "metadata": {},
   "outputs": [],
   "source": [
    "# connect to PostGreSQL\n",
    "conn = psycopg2.connect(\"dbname=spotify\")\n",
    "cursor= conn.cursor()"
   ]
  },
  {
   "cell_type": "markdown",
   "metadata": {},
   "source": [
    "# 1. Master Artist"
   ]
  },
  {
   "cell_type": "code",
   "execution_count": 3,
   "metadata": {},
   "outputs": [],
   "source": [
    "create_table_master_artist = \"\"\"\n",
    "        CREATE TABLE MASTER_ARTIST (\n",
    "            artist_id    varchar(30),\n",
    "            artist_name  varchar(80),\n",
    "            is_main      boolean,\n",
    "            CONSTRAINT pk_artist_id PRIMARY KEY(artist_id)     \n",
    "        );\n",
    "\"\"\""
   ]
  },
  {
   "cell_type": "code",
   "execution_count": 4,
   "metadata": {},
   "outputs": [],
   "source": [
    "cursor.execute(create_table_master_artist)\n",
    "conn.commit()"
   ]
  },
  {
   "cell_type": "markdown",
   "metadata": {},
   "source": [
    "# 2. Master Track"
   ]
  },
  {
   "cell_type": "code",
   "execution_count": 2,
   "metadata": {},
   "outputs": [],
   "source": [
    "create_table_master_track = \"\"\"\n",
    "        CREATE TABLE MASTER_TRACK (\n",
    "            track_id    varchar(30),\n",
    "            track_name  varchar(80),\n",
    "            peak_date      date,\n",
    "            streams        bigint,\n",
    "            CONSTRAINT pk_track_id PRIMARY KEY(track_id)     \n",
    "        );\n",
    "\"\"\""
   ]
  },
  {
   "cell_type": "code",
   "execution_count": 5,
   "metadata": {},
   "outputs": [],
   "source": [
    "cursor.execute(create_table_master_track)\n",
    "conn.commit()"
   ]
  },
  {
   "cell_type": "markdown",
   "metadata": {},
   "source": [
    "# 3. Rel Artist Track"
   ]
  },
  {
   "cell_type": "code",
   "execution_count": null,
   "metadata": {},
   "outputs": [],
   "source": [
    "create_table_rel_artist_track = \"\"\"\n",
    "        CREATE TABLE REL_ARTIST_TRACK (\n",
    "            artist_id    varchar(30),\n",
    "            track_id    varchar(30),\n",
    "            CONSTRAINT pk_artist_track PRIMARY KEY(artist_id, track_id)     \n",
    "        );\n",
    "\"\"\""
   ]
  },
  {
   "cell_type": "code",
   "execution_count": null,
   "metadata": {},
   "outputs": [],
   "source": [
    "cursor.execute(create_table_rel_artist_track)\n",
    "conn.commit()"
   ]
  }
 ],
 "metadata": {
  "kernelspec": {
   "display_name": "Python 3",
   "language": "python",
   "name": "python3"
  },
  "language_info": {
   "codemirror_mode": {
    "name": "ipython",
    "version": 3
   },
   "file_extension": ".py",
   "mimetype": "text/x-python",
   "name": "python",
   "nbconvert_exporter": "python",
   "pygments_lexer": "ipython3",
   "version": "3.7.6"
  }
 },
 "nbformat": 4,
 "nbformat_minor": 4
}
