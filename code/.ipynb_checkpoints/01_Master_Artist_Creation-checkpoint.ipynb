{
 "cells": [
  {
   "cell_type": "markdown",
   "metadata": {},
   "source": [
    "# Master Artist Creation\n",
    "\n",
    "For the sake of notation, Main_Artists are the ones found in the kworb website, whereas Other_Artists are other artists that appear on Spotify but that do not appear in that webiste."
   ]
  },
  {
   "cell_type": "code",
   "execution_count": 368,
   "metadata": {},
   "outputs": [],
   "source": [
    "import pandas as pd\n",
    "import sys\n",
    "import numpy as np\n",
    "import os\n",
    "import requests\n",
    "import datetime\n",
    "import base64\n",
    "import json\n",
    "import re\n",
    "from collections import Counter\n",
    "import psycopg2\n",
    "import tqdm\n",
    "from bs4 import BeautifulSoup\n",
    "from importlib import reload"
   ]
  },
  {
   "cell_type": "code",
   "execution_count": 369,
   "metadata": {},
   "outputs": [],
   "source": [
    "# We create a utils file with a class to store the basic commands and client ID for the Spotify API\n",
    "import aux_utils\n",
    "#reload(aux_utils)"
   ]
  },
  {
   "cell_type": "code",
   "execution_count": 370,
   "metadata": {},
   "outputs": [],
   "source": [
    "# We have created a list of functions in db_utils.py\n",
    "import db_utils\n",
    "#reload(db_utils)"
   ]
  },
  {
   "cell_type": "markdown",
   "metadata": {},
   "source": [
    "#### Spotify API connection"
   ]
  },
  {
   "cell_type": "code",
   "execution_count": 371,
   "metadata": {},
   "outputs": [],
   "source": [
    "# Instantiate the class\n",
    "spotify_utils = aux_utils.spotify_utils\n",
    "sp_ut = spotify_utils()\n",
    "\n",
    "# Use the method connect to connect with the credentials\n",
    "sp = sp_ut.connect()"
   ]
  },
  {
   "cell_type": "markdown",
   "metadata": {},
   "source": [
    "# 1. Dataset of Global Artists (Main Artists)\n",
    "\n",
    "Dataset downloaded from the html page: https://kworb.net/spotify/artists.html"
   ]
  },
  {
   "cell_type": "code",
   "execution_count": 10,
   "metadata": {},
   "outputs": [],
   "source": [
    "URL_GLOBAL = \"https://kworb.net/spotify/artists.html\""
   ]
  },
  {
   "cell_type": "code",
   "execution_count": 9,
   "metadata": {},
   "outputs": [],
   "source": [
    "def get_html(url):\n",
    "    \"\"\"\n",
    "    Searches a url and retrieves an html and returns the object soup from bs4\n",
    "    \"\"\"\n",
    "    # Requests the html of this page\n",
    "    r = requests.get(url)\n",
    "    r.encoding = 'utf-8'\n",
    "    \n",
    "    # Read the html text with Beautiful soup\n",
    "    soup = BeautifulSoup(r.text, 'html.parser')\n",
    "    \n",
    "    return soup"
   ]
  },
  {
   "cell_type": "code",
   "execution_count": 42,
   "metadata": {},
   "outputs": [
    {
     "name": "stderr",
     "output_type": "stream",
     "text": [
      "100%|██████████| 10001/10001 [00:00<00:00, 29841.26it/s]\n"
     ]
    }
   ],
   "source": [
    "# Get the rows\n",
    "soup = get_html(\"https://kworb.net/spotify/artists.html\")\n",
    "\n",
    "# Find the table where there are the artists sorted by streams\n",
    "table = soup.find('table')\n",
    "\n",
    "# Get the rows\n",
    "table_rows = table.find_all(\"tr\")\n",
    "\n",
    "# For each row, append to a list the three columns of that table in a sublist\n",
    "list_of_artists = []\n",
    "\n",
    "for tr in tqdm.tqdm(table_rows):\n",
    "    \n",
    "    # Parse HTML row\n",
    "    td = tr.find_all('td') \n",
    "    row = [tr.text for tr in td] # get the row \n",
    "    \n",
    "    \n",
    "    if len(row)==3: # if it is not the header\n",
    "        \n",
    "        # Get artists name\n",
    "        a_name = row[1] # second column of the table\n",
    "        \n",
    "        # Get artist artist_id\n",
    "        a_id = tr.find(\"a\").get(\"href\").split(\"/\")[1].split(\".\")[0] # split artist/<ID>.html\n",
    "        \n",
    "        # Append to a list of list \n",
    "        list_of_artists.append([a_id, a_name])"
   ]
  },
  {
   "cell_type": "code",
   "execution_count": 43,
   "metadata": {},
   "outputs": [],
   "source": [
    "df_global_artist = pd.DataFrame(list_of_artists, columns=[\"artist_id\", \"artist_name\"])"
   ]
  },
  {
   "cell_type": "code",
   "execution_count": 44,
   "metadata": {},
   "outputs": [
    {
     "data": {
      "text/html": [
       "<div>\n",
       "<style scoped>\n",
       "    .dataframe tbody tr th:only-of-type {\n",
       "        vertical-align: middle;\n",
       "    }\n",
       "\n",
       "    .dataframe tbody tr th {\n",
       "        vertical-align: top;\n",
       "    }\n",
       "\n",
       "    .dataframe thead th {\n",
       "        text-align: right;\n",
       "    }\n",
       "</style>\n",
       "<table border=\"1\" class=\"dataframe\">\n",
       "  <thead>\n",
       "    <tr style=\"text-align: right;\">\n",
       "      <th></th>\n",
       "      <th>artist_id</th>\n",
       "      <th>artist_name</th>\n",
       "    </tr>\n",
       "  </thead>\n",
       "  <tbody>\n",
       "    <tr>\n",
       "      <th>0</th>\n",
       "      <td>3TVXtAsR1Inumwj472S9r4</td>\n",
       "      <td>Drake</td>\n",
       "    </tr>\n",
       "    <tr>\n",
       "      <th>1</th>\n",
       "      <td>246dkjvS1zLTtiykXe5h60</td>\n",
       "      <td>Post Malone</td>\n",
       "    </tr>\n",
       "    <tr>\n",
       "      <th>2</th>\n",
       "      <td>6eUKZXaKkcviH0Ku9w2n3V</td>\n",
       "      <td>Ed Sheeran</td>\n",
       "    </tr>\n",
       "    <tr>\n",
       "      <th>3</th>\n",
       "      <td>1vyhD5VmyZ7KMfW5gqLgo5</td>\n",
       "      <td>J Balvin</td>\n",
       "    </tr>\n",
       "    <tr>\n",
       "      <th>4</th>\n",
       "      <td>1uNFoZAHBGtllmzznpCI3s</td>\n",
       "      <td>Justin Bieber</td>\n",
       "    </tr>\n",
       "  </tbody>\n",
       "</table>\n",
       "</div>"
      ],
      "text/plain": [
       "                artist_id    artist_name\n",
       "0  3TVXtAsR1Inumwj472S9r4          Drake\n",
       "1  246dkjvS1zLTtiykXe5h60    Post Malone\n",
       "2  6eUKZXaKkcviH0Ku9w2n3V     Ed Sheeran\n",
       "3  1vyhD5VmyZ7KMfW5gqLgo5       J Balvin\n",
       "4  1uNFoZAHBGtllmzznpCI3s  Justin Bieber"
      ]
     },
     "execution_count": 44,
     "metadata": {},
     "output_type": "execute_result"
    }
   ],
   "source": [
    "df_global_artist.head(5)"
   ]
  },
  {
   "cell_type": "markdown",
   "metadata": {},
   "source": [
    "# 2. Top Artists in Spain (Main Artists)\n",
    "\n",
    "Artists that have a famous song among the top 3000 songs of Spain"
   ]
  },
  {
   "cell_type": "code",
   "execution_count": 68,
   "metadata": {},
   "outputs": [],
   "source": [
    "URL_SPAIN = \"https://kworb.net/spotify/country/es_weekly_totals.html\"\n",
    "\n",
    "soup = get_html(URL_SPAIN)\n",
    "\n",
    "# Find the table where there are the artists sorted by streams\n",
    "table_d1 = soup.find_all('tr', {\"class\": \"d1\"})\n",
    "table_d0 = soup.find_all('tr', {\"class\": \"d0\"})\n",
    "\n",
    "# Append all the results into a single table\n",
    "table = []\n",
    "for ss in table_d1:\n",
    "    table.append(ss)\n",
    "for ss in table_d0:\n",
    "    table.append(ss)\n",
    "\n",
    "# The first <a href=...> that appears is the name of the artist\n",
    "list_spanish_artists = []"
   ]
  },
  {
   "cell_type": "code",
   "execution_count": 69,
   "metadata": {},
   "outputs": [
    {
     "name": "stderr",
     "output_type": "stream",
     "text": [
      "100%|██████████| 3615/3615 [00:00<00:00, 42499.00it/s]\n"
     ]
    }
   ],
   "source": [
    "for tr in tqdm.tqdm(table):\n",
    "    \n",
    "    # Name \n",
    "    get_link = tr.find(\"a\")\n",
    "    a_name = get_link.text\n",
    "    \n",
    "    # Artist ID \n",
    "    a_id = get_link.get(\"href\").split(\"/\")[2].split(\".\")[0] # split artist/<ID>.html\n",
    "    \n",
    "    # Append to the list\n",
    "    list_spanish_artists.append([a_id, a_name])"
   ]
  },
  {
   "cell_type": "code",
   "execution_count": 70,
   "metadata": {},
   "outputs": [],
   "source": [
    "df_spanish_artists = pd.DataFrame(list_spanish_artists, columns=[\"artist_id\", \"artist_name\"])"
   ]
  },
  {
   "cell_type": "code",
   "execution_count": 357,
   "metadata": {},
   "outputs": [
    {
     "data": {
      "text/html": [
       "<div>\n",
       "<style scoped>\n",
       "    .dataframe tbody tr th:only-of-type {\n",
       "        vertical-align: middle;\n",
       "    }\n",
       "\n",
       "    .dataframe tbody tr th {\n",
       "        vertical-align: top;\n",
       "    }\n",
       "\n",
       "    .dataframe thead th {\n",
       "        text-align: right;\n",
       "    }\n",
       "</style>\n",
       "<table border=\"1\" class=\"dataframe\">\n",
       "  <thead>\n",
       "    <tr style=\"text-align: right;\">\n",
       "      <th></th>\n",
       "      <th>artist_id</th>\n",
       "      <th>artist_name</th>\n",
       "    </tr>\n",
       "  </thead>\n",
       "  <tbody>\n",
       "    <tr>\n",
       "      <th>0</th>\n",
       "      <td>5H1nN1SzW0qNeUEZvuXjAj</td>\n",
       "      <td>Danny Ocean</td>\n",
       "    </tr>\n",
       "    <tr>\n",
       "      <th>1</th>\n",
       "      <td>6vPXtLmNd3mW0dd1Rb9eQ9</td>\n",
       "      <td>Don Patricio</td>\n",
       "    </tr>\n",
       "    <tr>\n",
       "      <th>2</th>\n",
       "      <td>2R21vXR83lH98kGeO99Y66</td>\n",
       "      <td>Anuel Aa</td>\n",
       "    </tr>\n",
       "    <tr>\n",
       "      <th>3</th>\n",
       "      <td>4VMYDCV2IEDYJArk749S6m</td>\n",
       "      <td>Daddy Yankee</td>\n",
       "    </tr>\n",
       "    <tr>\n",
       "      <th>4</th>\n",
       "      <td>790FomKkXshlbRYZFtlgla</td>\n",
       "      <td>Karol G</td>\n",
       "    </tr>\n",
       "  </tbody>\n",
       "</table>\n",
       "</div>"
      ],
      "text/plain": [
       "                artist_id   artist_name\n",
       "0  5H1nN1SzW0qNeUEZvuXjAj   Danny Ocean\n",
       "1  6vPXtLmNd3mW0dd1Rb9eQ9  Don Patricio\n",
       "2  2R21vXR83lH98kGeO99Y66      Anuel Aa\n",
       "3  4VMYDCV2IEDYJArk749S6m  Daddy Yankee\n",
       "4  790FomKkXshlbRYZFtlgla       Karol G"
      ]
     },
     "execution_count": 357,
     "metadata": {},
     "output_type": "execute_result"
    }
   ],
   "source": [
    "df_spanish_artists.head()"
   ]
  },
  {
   "cell_type": "markdown",
   "metadata": {},
   "source": [
    "We will make the intersection of artists from the Global charts and the Top Spanish charts in order to avoid replicating the same artist twice. We will add those artists that are in Spanish list but are not in Global to the list of artists."
   ]
  },
  {
   "cell_type": "code",
   "execution_count": 75,
   "metadata": {},
   "outputs": [],
   "source": [
    "# Merge both dataframes and keep only the unique artist_id\n",
    "frames = [df_global_artist, df_spanish_artists]\n",
    "df_main = pd.concat(frames)\n",
    "df_main.drop_duplicates(inplace=True)"
   ]
  },
  {
   "cell_type": "code",
   "execution_count": 359,
   "metadata": {},
   "outputs": [
    {
     "data": {
      "text/plain": [
       "(10121, 3)"
      ]
     },
     "execution_count": 359,
     "metadata": {},
     "output_type": "execute_result"
    }
   ],
   "source": [
    "df_main.shape"
   ]
  },
  {
   "cell_type": "code",
   "execution_count": 77,
   "metadata": {},
   "outputs": [
    {
     "data": {
      "text/plain": [
       "10121"
      ]
     },
     "execution_count": 77,
     "metadata": {},
     "output_type": "execute_result"
    }
   ],
   "source": [
    "# Check that all artist_id are uniques\n",
    "len(set(df_main.artist_id))"
   ]
  },
  {
   "cell_type": "markdown",
   "metadata": {},
   "source": [
    "# 3. Also known artists (Other artists)"
   ]
  },
  {
   "cell_type": "code",
   "execution_count": 78,
   "metadata": {},
   "outputs": [],
   "source": [
    "other_list_artists = []"
   ]
  },
  {
   "cell_type": "markdown",
   "metadata": {},
   "source": [
    "## 3.1 Spanish Artists"
   ]
  },
  {
   "cell_type": "markdown",
   "metadata": {},
   "source": [
    "Songs that we not in the kworb.net, will be investigated with the Spotify API. So we will store them separately:"
   ]
  },
  {
   "cell_type": "code",
   "execution_count": 79,
   "metadata": {},
   "outputs": [],
   "source": [
    "# Otras Españolas\n",
    "lista_otras_esp = [\"Mägo de Oz\", \"La Casa Azul\", \"Amaral\", \"M-Clan\"]\n",
    "lista_otras_esp = [xx.lower() for xx in lista_otras_esp]\n",
    "\n",
    "# Final list of artists\n",
    "for art in lista_otras_esp:\n",
    "    other_list_artists.append(art)"
   ]
  },
  {
   "cell_type": "markdown",
   "metadata": {},
   "source": [
    "## 3.2 Catalan Artists"
   ]
  },
  {
   "cell_type": "markdown",
   "metadata": {},
   "source": [
    "These artists do not appear in the kworb.net so we will get them via Spotify API:"
   ]
  },
  {
   "cell_type": "code",
   "execution_count": 308,
   "metadata": {},
   "outputs": [],
   "source": [
    "lista_cat = [\n",
    "    \"Oques Grasses\",\n",
    "    \"La Pegatina\",\n",
    "    \"Buhos\",\n",
    "    \"Doctor Prats\",\n",
    "    \"Els Catarres\",\n",
    "    \"Els Amics De Les Arts\",\n",
    "    \"Gertrudis\",\n",
    "    \"Gossos\",\n",
    "    \"Sopa de Cabra\",\n",
    "    \"Lax'n'Busto\",\n",
    "    \"Vuit\",\n",
    "    \"Suu\",\n",
    "    \"Teràpia de Shock\",\n",
    "    \"Els Pets\",\n",
    "    \"Manel\",\n",
    "    \"Blaumut\",\n",
    "    \"Lluis Llach\",\n",
    "    \"Sau\",\n",
    "    \"Obrint Pas\",\n",
    "    \"Clara Olóndriz\",\n",
    "    \"Stay Homas\",\n",
    "    \"Joan Dausà\",\n",
    "    \"Joan Manuel Serrat\",\n",
    "    \"Cesk Freixas\",\n",
    "    \"Roba Estesa\"\n",
    "    \n",
    "]\n",
    "\n",
    "lista_cat = [xx.lower() for xx in lista_cat]"
   ]
  },
  {
   "cell_type": "code",
   "execution_count": 309,
   "metadata": {},
   "outputs": [],
   "source": [
    "# Final list of artists\n",
    "for art in lista_cat:\n",
    "    other_list_artists.append(art)"
   ]
  },
  {
   "cell_type": "markdown",
   "metadata": {},
   "source": [
    "# 4. Spotify API\n",
    "\n",
    "We will search for the artist_id and the tracks of the *other_list_artists* which were artists popular but not found in the dataset that we will exploit:"
   ]
  },
  {
   "cell_type": "code",
   "execution_count": 310,
   "metadata": {},
   "outputs": [
    {
     "name": "stderr",
     "output_type": "stream",
     "text": [
      "/Users/david/.local/share/virtualenvs/Spotify-xJiBt4R8/lib/python3.7/site-packages/ipykernel_launcher.py:4: TqdmDeprecationWarning: This function will be removed in tqdm==5.0.0\n",
      "Please use `tqdm.notebook.tqdm` instead of `tqdm.tqdm_notebook`\n",
      "  after removing the cwd from sys.path.\n"
     ]
    },
    {
     "data": {
      "application/vnd.jupyter.widget-view+json": {
       "model_id": "8f09f4f352a0485c910d618a760a0cab",
       "version_major": 2,
       "version_minor": 0
      },
      "text/plain": [
       "HBox(children=(FloatProgress(value=0.0, max=55.0), HTML(value='')))"
      ]
     },
     "metadata": {},
     "output_type": "display_data"
    },
    {
     "name": "stdout",
     "output_type": "stream",
     "text": [
      "\n"
     ]
    }
   ],
   "source": [
    "other_list_artists_found = []\n",
    "\n",
    "# Do a for loop to search these artists in Spotify\n",
    "for oth_art in tqdm.tqdm_notebook(other_list_artists):\n",
    "\n",
    "    # Do the query to Spotify API\n",
    "    dict_art = sp.search(oth_art)\n",
    "    \n",
    "    # Get all the artists that the Spotify API retrieves as answer to the query\n",
    "    artists_found = []\n",
    "    artist_id_found = []\n",
    "    if dict_art.get(\"tracks\"):\n",
    "        tracks = dict_art[\"tracks\"]\n",
    "        if tracks.get(\"items\"):\n",
    "            items = tracks[\"items\"]\n",
    "            for item in items:\n",
    "                if item.get(\"artists\"):\n",
    "                    artists = item[\"artists\"]\n",
    "                    for art in artists:\n",
    "                        if art.get(\"name\") and art.get(\"id\"):\n",
    "                            artists_found.append(art[\"name\"])\n",
    "                            artist_id_found.append(art[\"id\"])\n",
    "                            \n",
    "    # For each artists, compare if the name is the same or very similar to the queried one: oth_art\n",
    "    for art_found, art_id_found in zip(artists_found, artist_id_found):\n",
    "        \n",
    "        # String similarity using Levenshtein distance between the artist found in the API and the queried artist\n",
    "        string_similarity = sp_ut.levenshtein(art_found.lower(), oth_art.lower())\n",
    "        \n",
    "        # Check if the found artist is written very similar\n",
    "        if string_similarity < 0.1:\n",
    "            \n",
    "            # Append the matching artist and id to the list and stop searching for more artists\n",
    "            other_list_artists_found.append([art_id_found, art_found])\n",
    "            break"
   ]
  },
  {
   "cell_type": "code",
   "execution_count": 311,
   "metadata": {},
   "outputs": [],
   "source": [
    "# Creates a dataframe to store the artists found\n",
    "df_other = pd.DataFrame(other_list_artists_found, columns = [\"artist_id\", \"artist_name\"])"
   ]
  },
  {
   "cell_type": "code",
   "execution_count": 312,
   "metadata": {},
   "outputs": [
    {
     "data": {
      "text/html": [
       "<div>\n",
       "<style scoped>\n",
       "    .dataframe tbody tr th:only-of-type {\n",
       "        vertical-align: middle;\n",
       "    }\n",
       "\n",
       "    .dataframe tbody tr th {\n",
       "        vertical-align: top;\n",
       "    }\n",
       "\n",
       "    .dataframe thead th {\n",
       "        text-align: right;\n",
       "    }\n",
       "</style>\n",
       "<table border=\"1\" class=\"dataframe\">\n",
       "  <thead>\n",
       "    <tr style=\"text-align: right;\">\n",
       "      <th></th>\n",
       "      <th>artist_id</th>\n",
       "      <th>artist_name</th>\n",
       "    </tr>\n",
       "  </thead>\n",
       "  <tbody>\n",
       "    <tr>\n",
       "      <th>0</th>\n",
       "      <td>5ZNxiPcbKgaNcBrERMpqeu</td>\n",
       "      <td>Mägo de Oz</td>\n",
       "    </tr>\n",
       "    <tr>\n",
       "      <th>1</th>\n",
       "      <td>2Ynst7DZrEJnlaMM41ZCxd</td>\n",
       "      <td>La Casa Azul</td>\n",
       "    </tr>\n",
       "    <tr>\n",
       "      <th>2</th>\n",
       "      <td>4OkeTQCk0fvX6VBYpOOxDi</td>\n",
       "      <td>Amaral</td>\n",
       "    </tr>\n",
       "    <tr>\n",
       "      <th>3</th>\n",
       "      <td>4oVqMVHC03xnYJ7fyb1dh6</td>\n",
       "      <td>M-Clan</td>\n",
       "    </tr>\n",
       "    <tr>\n",
       "      <th>4</th>\n",
       "      <td>6XYRpcgPIK9OejoVzA7PbC</td>\n",
       "      <td>Txarango</td>\n",
       "    </tr>\n",
       "  </tbody>\n",
       "</table>\n",
       "</div>"
      ],
      "text/plain": [
       "                artist_id   artist_name\n",
       "0  5ZNxiPcbKgaNcBrERMpqeu    Mägo de Oz\n",
       "1  2Ynst7DZrEJnlaMM41ZCxd  La Casa Azul\n",
       "2  4OkeTQCk0fvX6VBYpOOxDi        Amaral\n",
       "3  4oVqMVHC03xnYJ7fyb1dh6        M-Clan\n",
       "4  6XYRpcgPIK9OejoVzA7PbC      Txarango"
      ]
     },
     "execution_count": 312,
     "metadata": {},
     "output_type": "execute_result"
    }
   ],
   "source": [
    "df_other.head()"
   ]
  },
  {
   "cell_type": "markdown",
   "metadata": {},
   "source": [
    "# 5. Join all dataframes\n",
    "\n",
    "Join the df_main and the df_other adding the column \"is_main\" to indicate if the artists has been retrieved from the kworb dataset (is_main = 1) or the Spotify API search (is_main = 0):"
   ]
  },
  {
   "cell_type": "code",
   "execution_count": 364,
   "metadata": {},
   "outputs": [],
   "source": [
    "df_main[\"is_main\"] = 1\n",
    "df_other[\"is_main\"] = 0\n",
    "\n",
    "frames = [df_main, df_other]\n",
    "\n",
    "df = pd.concat(frames)\n",
    "df.drop_duplicates(inplace=True)"
   ]
  },
  {
   "cell_type": "code",
   "execution_count": 365,
   "metadata": {},
   "outputs": [
    {
     "data": {
      "text/plain": [
       "(10147, 3)"
      ]
     },
     "execution_count": 365,
     "metadata": {},
     "output_type": "execute_result"
    }
   ],
   "source": [
    "df.shape"
   ]
  },
  {
   "cell_type": "markdown",
   "metadata": {},
   "source": [
    "# 6. Upload to Database: Spotify (PostgreSQL)\n",
    "\n",
    "In the terminal, put \"psql_spotify\" to access PostgreSQL"
   ]
  },
  {
   "cell_type": "markdown",
   "metadata": {},
   "source": [
    "### Get the maximum string size\n",
    "\n",
    "For each column, see the maximum size to guide the creation of the table in PostgreSQL"
   ]
  },
  {
   "cell_type": "code",
   "execution_count": 321,
   "metadata": {},
   "outputs": [],
   "source": [
    "# connect to PostGreSQL\n",
    "conn = psycopg2.connect(\"dbname=spotify\")\n",
    "cursor= conn.cursor()"
   ]
  },
  {
   "cell_type": "code",
   "execution_count": 322,
   "metadata": {},
   "outputs": [],
   "source": [
    "# Prepare values of the query\n",
    "values = []\n",
    "for i, row in df.iterrows():\n",
    "\n",
    "    # The boolean type in Postgresql can be a string of 0 or 1\n",
    "    boolean = '1'\n",
    "    if row[\"is_main\"] == 0:\n",
    "        boolean = '0'\n",
    "        \n",
    "    # Get the strings of the two other fields\n",
    "    artist_id = row[\"artist_id\"]\n",
    "    artist_name = row[\"artist_name\"]\n",
    "    \n",
    "    # Avoid problems with single quotes\n",
    "    artist_name = artist_name.replace(\"'\", \" \")\n",
    "    \n",
    "    # Append to the list of tuples: values\n",
    "    values.append((artist_id, artist_name, boolean))"
   ]
  },
  {
   "cell_type": "code",
   "execution_count": 323,
   "metadata": {},
   "outputs": [],
   "source": [
    "query = cursor.executemany(\"\"\"insert into master_artist VALUES (%s, %s, %s) ON CONFLICT DO NOTHING; \"\"\" , values)\n",
    "conn.commit()"
   ]
  },
  {
   "cell_type": "markdown",
   "metadata": {},
   "source": [
    "## 6.2 Check contents"
   ]
  },
  {
   "cell_type": "code",
   "execution_count": 361,
   "metadata": {},
   "outputs": [],
   "source": [
    "ss = db_utils.select_table(cursor, direct_query = \"\"\" SELECT COUNT(*) FROM master_artist\"\"\")"
   ]
  },
  {
   "cell_type": "code",
   "execution_count": 362,
   "metadata": {},
   "outputs": [
    {
     "data": {
      "text/html": [
       "<div>\n",
       "<style scoped>\n",
       "    .dataframe tbody tr th:only-of-type {\n",
       "        vertical-align: middle;\n",
       "    }\n",
       "\n",
       "    .dataframe tbody tr th {\n",
       "        vertical-align: top;\n",
       "    }\n",
       "\n",
       "    .dataframe thead th {\n",
       "        text-align: right;\n",
       "    }\n",
       "</style>\n",
       "<table border=\"1\" class=\"dataframe\">\n",
       "  <thead>\n",
       "    <tr style=\"text-align: right;\">\n",
       "      <th></th>\n",
       "      <th>0</th>\n",
       "    </tr>\n",
       "  </thead>\n",
       "  <tbody>\n",
       "    <tr>\n",
       "      <th>0</th>\n",
       "      <td>10146</td>\n",
       "    </tr>\n",
       "  </tbody>\n",
       "</table>\n",
       "</div>"
      ],
      "text/plain": [
       "       0\n",
       "0  10146"
      ]
     },
     "execution_count": 362,
     "metadata": {},
     "output_type": "execute_result"
    }
   ],
   "source": [
    "ss"
   ]
  },
  {
   "cell_type": "markdown",
   "metadata": {},
   "source": [
    "## Tests "
   ]
  },
  {
   "cell_type": "code",
   "execution_count": 374,
   "metadata": {},
   "outputs": [],
   "source": [
    "sp_ut.save_as_json(sp.search(\"Ramin Djawadi\"), \"../data/RaminDjawadi.json\")"
   ]
  },
  {
   "cell_type": "code",
   "execution_count": 375,
   "metadata": {},
   "outputs": [],
   "source": [
    "sp_ut.save_as_json(sp.artist_related_artists(\"6XYRpcgPIK9OejoVzA7PbC\"), \"../data/SimilarArtists.json\")"
   ]
  }
 ],
 "metadata": {
  "kernelspec": {
   "display_name": "Python 3",
   "language": "python",
   "name": "python3"
  },
  "language_info": {
   "codemirror_mode": {
    "name": "ipython",
    "version": 3
   },
   "file_extension": ".py",
   "mimetype": "text/x-python",
   "name": "python",
   "nbconvert_exporter": "python",
   "pygments_lexer": "ipython3",
   "version": "3.7.6"
  }
 },
 "nbformat": 4,
 "nbformat_minor": 4
}
