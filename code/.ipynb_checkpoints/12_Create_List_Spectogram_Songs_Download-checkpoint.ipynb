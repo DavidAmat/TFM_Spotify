{
 "cells": [
  {
   "cell_type": "code",
   "execution_count": 1,
   "metadata": {},
   "outputs": [],
   "source": [
    "from py2neo import Graph\n",
    "import pandas as pd\n",
    "import sys\n",
    "import numpy as np\n",
    "import boto3\n",
    "import psycopg2\n",
    "import db_utils\n",
    "import tqdm"
   ]
  },
  {
   "cell_type": "markdown",
   "metadata": {},
   "source": [
    "# 0. List all the songs downloaded in S3"
   ]
  },
  {
   "cell_type": "code",
   "execution_count": 3,
   "metadata": {},
   "outputs": [],
   "source": [
    "# List all the files in the S3 bucket audio folder as .mp3\n",
    "import boto3\n",
    "s3 = boto3.resource('s3')\n",
    "allFiles = s3.Bucket(\"tfmdavid\").objects.filter(Prefix='audio')\n",
    "\n",
    "downloaded_mp3 = list()\n",
    "for file in allFiles:\n",
    "    \n",
    "    ff = file.key\n",
    "    if \".mp3\" in ff:\n",
    "        downloaded_mp3.append(ff.split(\"/\")[1].split(\".\")[0])"
   ]
  },
  {
   "cell_type": "code",
   "execution_count": 4,
   "metadata": {},
   "outputs": [],
   "source": [
    "# Convert to a set\n",
    "set_songs = set(downloaded_mp3)"
   ]
  },
  {
   "cell_type": "code",
   "execution_count": 5,
   "metadata": {},
   "outputs": [
    {
     "data": {
      "text/plain": [
       "56334"
      ]
     },
     "execution_count": 5,
     "metadata": {},
     "output_type": "execute_result"
    }
   ],
   "source": [
    "len(set_songs)"
   ]
  },
  {
   "cell_type": "code",
   "execution_count": 8,
   "metadata": {},
   "outputs": [
    {
     "data": {
      "text/plain": [
       "56334"
      ]
     },
     "execution_count": 8,
     "metadata": {},
     "output_type": "execute_result"
    }
   ],
   "source": [
    "len(downloaded_mp3)"
   ]
  },
  {
   "cell_type": "markdown",
   "metadata": {},
   "source": [
    "# 1. Send jobs to *jobs_specto*"
   ]
  },
  {
   "cell_type": "code",
   "execution_count": 6,
   "metadata": {},
   "outputs": [],
   "source": [
    "# Create SQS client\n",
    "sqs = boto3.client('sqs')\n",
    "URL_q_jobs = \"https://sqs.eu-west-2.amazonaws.com/555381533193/jobs_specto\"\n",
    "URL_q_status = \"https://sqs.eu-west-2.amazonaws.com/555381533193/status_specto\""
   ]
  },
  {
   "cell_type": "code",
   "execution_count": 7,
   "metadata": {},
   "outputs": [],
   "source": [
    "def send_message_jobs(track_id):\n",
    "    \"\"\"Send message to SQS queue: the track from which we want to extract the spectograms\n",
    "    \"\"\"\n",
    "    response = sqs.send_message(\n",
    "        QueueUrl=URL_q_jobs,\n",
    "        DelaySeconds=0,\n",
    "        MessageAttributes={},\n",
    "        MessageBody=(f\"{track_id}\")    )\n"
   ]
  },
  {
   "cell_type": "code",
   "execution_count": null,
   "metadata": {},
   "outputs": [],
   "source": [
    "for track_id in tqdm.tqdm_notebook(downloaded_mp3):\n",
    "    send_message_jobs(track_id)"
   ]
  }
 ],
 "metadata": {
  "kernelspec": {
   "display_name": "Python 3",
   "language": "python",
   "name": "python3"
  },
  "language_info": {
   "codemirror_mode": {
    "name": "ipython",
    "version": 3
   },
   "file_extension": ".py",
   "mimetype": "text/x-python",
   "name": "python",
   "nbconvert_exporter": "python",
   "pygments_lexer": "ipython3",
   "version": "3.7.6"
  }
 },
 "nbformat": 4,
 "nbformat_minor": 4
}
