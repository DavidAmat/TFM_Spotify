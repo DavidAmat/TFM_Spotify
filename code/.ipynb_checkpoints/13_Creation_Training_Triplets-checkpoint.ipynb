{
 "cells": [
  {
   "cell_type": "code",
   "execution_count": null,
   "metadata": {},
   "outputs": [],
   "source": [
    "import db_utils\n",
    "from collections import defaultdict\n",
    "import itertools\n",
    "import random\n",
    "from py2neo import Graph\n",
    "import pandas as pd\n",
    "import sys\n",
    "import numpy as np\n",
    "import boto3\n",
    "import psycopg2\n",
    "import db_utils\n",
    "import tqdm\n",
    "import matplotlib"
   ]
  },
  {
   "cell_type": "code",
   "execution_count": 7,
   "metadata": {},
   "outputs": [],
   "source": [
    "# Neo4j\n",
    "graph = Graph(bolt = True, host = \"localhost\", name = \"Spotify\", user = \"neo4j\", password = \"qrks\")"
   ]
  },
  {
   "cell_type": "code",
   "execution_count": null,
   "metadata": {},
   "outputs": [],
   "source": []
  },
  {
   "cell_type": "markdown",
   "metadata": {},
   "source": [
    "# 1. Extract data of loaded spectograms on S3"
   ]
  },
  {
   "cell_type": "code",
   "execution_count": 2,
   "metadata": {},
   "outputs": [],
   "source": [
    "def query_results_to_df(query_results):\n",
    "    if len(query_results) == 0:\n",
    "        return False\n",
    "    cols = [\"instance_id\",\"stat\",\"track_id\",\"win\",\"ini\",\"fin\",\"rows\",\"cols\",\"date\"]\n",
    "    return pd.DataFrame(query_results, columns=cols)"
   ]
  },
  {
   "cell_type": "code",
   "execution_count": 3,
   "metadata": {},
   "outputs": [],
   "source": [
    "query_status = \"\"\" \n",
    "SELECT * FROM status_specto\n",
    "\"\"\"\n",
    "ENDPOINT=\"tracksurl.czjs6btlvfgd.eu-west-2.rds.amazonaws.com\"\n",
    "PORT=\"5432\"\n",
    "USR=\"david\"\n",
    "REGION=\"eu-west-2\"\n",
    "DBNAME=\"postgres\"\n",
    "PSSWD=[\"qrks\",\"jfut\",\"iv\",\"uf\",\"1\"]\n",
    "\n",
    "conn = psycopg2.connect(host=ENDPOINT, port=PORT, database=DBNAME, user=USR, password=''.join(PSSWD))\n",
    "cur = conn.cursor()\n",
    "cur.execute(query_status)\n",
    "query_results = cur.fetchall()\n",
    "df_status = query_results_to_df(query_results)\n",
    "conn.close()"
   ]
  },
  {
   "cell_type": "markdown",
   "metadata": {},
   "source": [
    "## 1.1 Filter"
   ]
  },
  {
   "cell_type": "markdown",
   "metadata": {},
   "source": [
    "### 1.1.1 Images that are not well-shaped"
   ]
  },
  {
   "cell_type": "code",
   "execution_count": 4,
   "metadata": {},
   "outputs": [],
   "source": [
    "df = df_status[df_status[\"cols\"].isin({937, 938})]"
   ]
  },
  {
   "cell_type": "code",
   "execution_count": 5,
   "metadata": {},
   "outputs": [
    {
     "data": {
      "text/plain": [
       "(644047, 9)"
      ]
     },
     "execution_count": 5,
     "metadata": {},
     "output_type": "execute_result"
    }
   ],
   "source": [
    "df.shape"
   ]
  },
  {
   "cell_type": "code",
   "execution_count": 6,
   "metadata": {},
   "outputs": [],
   "source": [
    "set_tracks = set(df.track_id)"
   ]
  },
  {
   "cell_type": "markdown",
   "metadata": {},
   "source": [
    "# 2. Manually creation of the dataset\n",
    "\n",
    "We have seen that pairing songs with a query can be very difficult, hence, we will design a pipeline to pair the triplets, two songs for the same artists with (two paired songs can be the same song - remind that there are different windows for each song)"
   ]
  },
  {
   "cell_type": "markdown",
   "metadata": {},
   "source": [
    "## 3.1 List of selected artists"
   ]
  },
  {
   "cell_type": "code",
   "execution_count": 8,
   "metadata": {},
   "outputs": [],
   "source": [
    "query_top_artists = \"\"\"\n",
    "MATCH (a1:Artist)-[:ART_TR]->(t1:Track)\n",
    "WHERE t1.yt_views > 0\n",
    "RETURN a1.artist_id, a1.artist_name\n",
    "ORDER BY t1.yt_views DESC\n",
    "LIMIT 100\n",
    "\"\"\"\n",
    "cursor_neo4j = graph.run(query_top_artists)\n",
    "df_topart = pd.DataFrame.from_records(cursor_neo4j, columns=cursor_neo4j.keys())\n",
    "top_artists = set(df_topart[\"a1.artist_id\"])"
   ]
  },
  {
   "cell_type": "markdown",
   "metadata": {},
   "source": [
    "## 3.2 Creation of dictionaries"
   ]
  },
  {
   "cell_type": "markdown",
   "metadata": {},
   "source": [
    "### 3.2.1 Tracks for each artist"
   ]
  },
  {
   "cell_type": "code",
   "execution_count": 19,
   "metadata": {},
   "outputs": [],
   "source": [
    "conn = psycopg2.connect(\"dbname=spotify\")\n",
    "cursor= conn.cursor()"
   ]
  },
  {
   "cell_type": "markdown",
   "metadata": {},
   "source": [
    "Create dictionaries to store the relationships of tracks per artist:\n"
   ]
  },
  {
   "cell_type": "code",
   "execution_count": 15,
   "metadata": {},
   "outputs": [],
   "source": [
    "def query_results_to_df(query_results, cols = [\"instance_id\",\"stat\",\"track_id\",\"win\",\"ini\",\"fin\",\"rows\",\"cols\",\"date\"]):\n",
    "    if len(query_results) == 0:\n",
    "        return False\n",
    "    return pd.DataFrame(query_results, columns=cols)"
   ]
  },
  {
   "cell_type": "code",
   "execution_count": 20,
   "metadata": {},
   "outputs": [],
   "source": [
    "query_art_tr = \"\"\"\n",
    "SELECT * FROM rel_artist_track\n",
    "\"\"\"\n",
    "cols = [\"artist_id\", \"track_id\"]\n",
    "\n",
    "cursor.execute(query_art_tr)\n",
    "query_results = cursor.fetchall()\n",
    "df_all_art_tr = query_results_to_df(query_results, cols = cols)\n",
    "cursor.close()\n",
    "\n",
    "# IMPOSE that the track id is in set_tracks (songs that we know that have been downloaded and with spectrogram)\n",
    "df_all_art_tr = df_all_art_tr[df_all_art_tr[\"track_id\"].isin(set_tracks)]"
   ]
  },
  {
   "cell_type": "code",
   "execution_count": 22,
   "metadata": {},
   "outputs": [
    {
     "name": "stderr",
     "output_type": "stream",
     "text": [
      "/Users/david/.local/share/virtualenvs/Spotify-xJiBt4R8/lib/python3.7/site-packages/ipykernel_launcher.py:14: TqdmDeprecationWarning: This function will be removed in tqdm==5.0.0\n",
      "Please use `tqdm.notebook.tqdm` instead of `tqdm.tqdm_notebook`\n",
      "  \n"
     ]
    },
    {
     "data": {
      "application/vnd.jupyter.widget-view+json": {
       "model_id": "5a1a1a8431024be487b74f5ef1e3a914",
       "version_major": 2,
       "version_minor": 0
      },
      "text/plain": [
       "HBox(children=(FloatProgress(value=1.0, bar_style='info', max=1.0), HTML(value='')))"
      ]
     },
     "metadata": {},
     "output_type": "display_data"
    },
    {
     "name": "stdout",
     "output_type": "stream",
     "text": [
      "\n"
     ]
    }
   ],
   "source": [
    "# Select only the top artists\n",
    "df_top_art_tr = df_all_art_tr[df_all_art_tr[\"artist_id\"].isin(top_artists)]\n",
    "\n",
    "# Get the set of all artists\n",
    "set_all_art = set(df_all_art_tr[\"artist_id\"])\n",
    "\n",
    "# Create a dictionary for all the tracks of top artist: a1\n",
    "a1_tracks = defaultdict(set)\n",
    "for i, row in df_top_art_tr.iterrows():\n",
    "    a1_tracks[row.artist_id].add(row.track_id)\n",
    "\n",
    "# Create a dictionary for all the tracks of all artist: a2\n",
    "a2_tracks = defaultdict(set)\n",
    "for i, row in tqdm.tqdm_notebook(df_all_art_tr.iterrows()):\n",
    "    a2_tracks[row.artist_id].add(row.track_id)"
   ]
  },
  {
   "cell_type": "markdown",
   "metadata": {},
   "source": [
    "### 3.2.2 Related artists"
   ]
  },
  {
   "cell_type": "code",
   "execution_count": 23,
   "metadata": {},
   "outputs": [],
   "source": [
    "query_rel_art = \"\"\"\n",
    "SELECT DISTINCT query, rel_art FROM rel_artist_artist\n",
    "\"\"\"\n",
    "cols = [\"query\", \"rel_art\"]"
   ]
  },
  {
   "cell_type": "code",
   "execution_count": 24,
   "metadata": {},
   "outputs": [],
   "source": [
    "conn = psycopg2.connect(\"dbname=spotify\")\n",
    "cursor= conn.cursor()"
   ]
  },
  {
   "cell_type": "code",
   "execution_count": 25,
   "metadata": {},
   "outputs": [],
   "source": [
    "cursor.execute(query_rel_art)\n",
    "query_results = cursor.fetchall()\n",
    "df_rel_art_art = query_results_to_df(query_results, cols = cols)\n",
    "cursor.close()"
   ]
  },
  {
   "cell_type": "code",
   "execution_count": 26,
   "metadata": {},
   "outputs": [
    {
     "data": {
      "text/html": [
       "<div>\n",
       "<style scoped>\n",
       "    .dataframe tbody tr th:only-of-type {\n",
       "        vertical-align: middle;\n",
       "    }\n",
       "\n",
       "    .dataframe tbody tr th {\n",
       "        vertical-align: top;\n",
       "    }\n",
       "\n",
       "    .dataframe thead th {\n",
       "        text-align: right;\n",
       "    }\n",
       "</style>\n",
       "<table border=\"1\" class=\"dataframe\">\n",
       "  <thead>\n",
       "    <tr style=\"text-align: right;\">\n",
       "      <th></th>\n",
       "      <th>query</th>\n",
       "      <th>rel_art</th>\n",
       "    </tr>\n",
       "  </thead>\n",
       "  <tbody>\n",
       "    <tr>\n",
       "      <th>0</th>\n",
       "      <td>66ko2UINS5X1TRK48kdsyh</td>\n",
       "      <td>5oNWzcU0mYK1zDUxBGHIaG</td>\n",
       "    </tr>\n",
       "    <tr>\n",
       "      <th>1</th>\n",
       "      <td>5xd2Tg7Zo8755eCy8Gxkp8</td>\n",
       "      <td>1dJyh390MvfYPuNbhnbSDs</td>\n",
       "    </tr>\n",
       "    <tr>\n",
       "      <th>2</th>\n",
       "      <td>4c5YsU2iQX3LvAKdPa0A8P</td>\n",
       "      <td>14bt7qAPOSPw76Fc1WFGM6</td>\n",
       "    </tr>\n",
       "    <tr>\n",
       "      <th>3</th>\n",
       "      <td>0gCGZZ1Ibo5QsOnll977PD</td>\n",
       "      <td>1TlOcOaTgKTolKfAUeMHgM</td>\n",
       "    </tr>\n",
       "    <tr>\n",
       "      <th>4</th>\n",
       "      <td>3SRes7eoE3xRodLopFKXWb</td>\n",
       "      <td>52wHLsSLdkVMLYo2ZXP8y6</td>\n",
       "    </tr>\n",
       "  </tbody>\n",
       "</table>\n",
       "</div>"
      ],
      "text/plain": [
       "                    query                 rel_art\n",
       "0  66ko2UINS5X1TRK48kdsyh  5oNWzcU0mYK1zDUxBGHIaG\n",
       "1  5xd2Tg7Zo8755eCy8Gxkp8  1dJyh390MvfYPuNbhnbSDs\n",
       "2  4c5YsU2iQX3LvAKdPa0A8P  14bt7qAPOSPw76Fc1WFGM6\n",
       "3  0gCGZZ1Ibo5QsOnll977PD  1TlOcOaTgKTolKfAUeMHgM\n",
       "4  3SRes7eoE3xRodLopFKXWb  52wHLsSLdkVMLYo2ZXP8y6"
      ]
     },
     "execution_count": 26,
     "metadata": {},
     "output_type": "execute_result"
    }
   ],
   "source": [
    "df_rel_art_art.head()"
   ]
  },
  {
   "cell_type": "code",
   "execution_count": 27,
   "metadata": {},
   "outputs": [
    {
     "name": "stderr",
     "output_type": "stream",
     "text": [
      "/Users/david/.local/share/virtualenvs/Spotify-xJiBt4R8/lib/python3.7/site-packages/ipykernel_launcher.py:4: TqdmDeprecationWarning: This function will be removed in tqdm==5.0.0\n",
      "Please use `tqdm.notebook.tqdm` instead of `tqdm.tqdm_notebook`\n",
      "  after removing the cwd from sys.path.\n"
     ]
    },
    {
     "data": {
      "application/vnd.jupyter.widget-view+json": {
       "model_id": "f919337d7269416393f064f0c18d0ffb",
       "version_major": 2,
       "version_minor": 0
      },
      "text/plain": [
       "HBox(children=(FloatProgress(value=1.0, bar_style='info', max=1.0), HTML(value='')))"
      ]
     },
     "metadata": {},
     "output_type": "display_data"
    },
    {
     "name": "stdout",
     "output_type": "stream",
     "text": [
      "\n"
     ]
    }
   ],
   "source": [
    "# Create a dictionary to pair each artist with its related one\n",
    "# Relationships are bidirectional\n",
    "art_rels = defaultdict(set)\n",
    "for i, row in tqdm.tqdm_notebook(df_rel_art_art.iterrows()):\n",
    "    art_rels[row.query].add(row.rel_art)\n",
    "    art_rels[row.rel_art].add(row.query)"
   ]
  },
  {
   "cell_type": "markdown",
   "metadata": {},
   "source": [
    "### 3.2.3 Get the window and sizes for each track"
   ]
  },
  {
   "cell_type": "markdown",
   "metadata": {},
   "source": [
    "Create a dictionary to store for each track which windows available, and the starting and ending time of the window, this will define a tuple (win, ini, fin) which will be ideal to know the jpg image of the spectogram to be downloaded from the S3 bucket"
   ]
  },
  {
   "cell_type": "code",
   "execution_count": 34,
   "metadata": {},
   "outputs": [],
   "source": [
    "tracks_windows = df_status[[\"track_id\", \"win\", \"ini\", \"fin\"]].drop_duplicates()"
   ]
  },
  {
   "cell_type": "code",
   "execution_count": 35,
   "metadata": {},
   "outputs": [
    {
     "name": "stderr",
     "output_type": "stream",
     "text": [
      "/Users/david/.local/share/virtualenvs/Spotify-xJiBt4R8/lib/python3.7/site-packages/ipykernel_launcher.py:3: TqdmDeprecationWarning: This function will be removed in tqdm==5.0.0\n",
      "Please use `tqdm.notebook.tqdm` instead of `tqdm.tqdm_notebook`\n",
      "  This is separate from the ipykernel package so we can avoid doing imports until\n"
     ]
    },
    {
     "data": {
      "application/vnd.jupyter.widget-view+json": {
       "model_id": "d28e694932eb4b81843d6f81611537d5",
       "version_major": 2,
       "version_minor": 0
      },
      "text/plain": [
       "HBox(children=(FloatProgress(value=1.0, bar_style='info', max=1.0), HTML(value='')))"
      ]
     },
     "metadata": {},
     "output_type": "display_data"
    },
    {
     "name": "stdout",
     "output_type": "stream",
     "text": [
      "\n"
     ]
    }
   ],
   "source": [
    "dict_tracks_windows = defaultdict(list)\n",
    "\n",
    "for i, row in tqdm.tqdm_notebook(tracks_windows.iterrows()):\n",
    "    dict_tracks_windows[row.track_id].append((row.win, row.ini, row.fin))"
   ]
  },
  {
   "cell_type": "markdown",
   "metadata": {},
   "source": [
    "## 3.3 Pairing algorithm"
   ]
  },
  {
   "cell_type": "code",
   "execution_count": 86,
   "metadata": {},
   "outputs": [],
   "source": [
    "conn = psycopg2.connect(\"dbname=spotify\")\n",
    "cursor= conn.cursor()"
   ]
  },
  {
   "cell_type": "code",
   "execution_count": 39,
   "metadata": {},
   "outputs": [],
   "source": [
    "list_top_artist = list(top_artists)"
   ]
  },
  {
   "cell_type": "code",
   "execution_count": 122,
   "metadata": {},
   "outputs": [],
   "source": [
    "def create_triplet(a1):\n",
    "    \"\"\"\n",
    "    Given an artist_id it uses the above created dictionaries to select:\n",
    "    t1: track from a1\n",
    "    t2: track from a1 (can be t1 = t2) since we will chose another window\n",
    "    t3: track from a2\n",
    "    \n",
    "    This will be used as a triplet, being t1 the anchor, t2 the positive sample and t3 the negative one\n",
    "    \n",
    "    The idea is to learn that the embeddings for t1 vs. t2 should be much closer than the embeddings t1 vs. t3\n",
    "    \n",
    "    \"\"\"\n",
    "    \n",
    "    \n",
    "    # -------------------------------------------- #\n",
    "    #     List all tracks for that artist a1\n",
    "    # -------------------------------------------- #\n",
    "    tr_a1 = a1_tracks[a1]\n",
    "    tr_a1_list = list(tr_a1)\n",
    "\n",
    "    # -------------------------------------------- #\n",
    "    #        Track pairs for a1\n",
    "    # -------------------------------------------- #\n",
    "    \n",
    "    # Make all possible pairs (admiting track repetition) of tracks (l1)\n",
    "    l1_pairs = list(itertools.product(tr_a1_list, repeat=2))\n",
    "\n",
    "    # -------------------------------------------- #\n",
    "    #        Related artists\n",
    "    # -------------------------------------------- #\n",
    "    \n",
    "    # Select all related artists\n",
    "    if a1 in art_rels:\n",
    "        rel_art_a1 = art_rels[a1]\n",
    "    else:\n",
    "        # --------------------------- #\n",
    "        #  If has NOT related artists\n",
    "        # --------------------------- #\n",
    "        # Select 20 random artists different than a1\n",
    "        rel_art_a1 = set()\n",
    "\n",
    "        while len(rel_art_a1) < 20:\n",
    "            \n",
    "            # Get randomly a different artist than a1\n",
    "            set_diff_art_than_a1 = set_all_art - set(a1)\n",
    "            art_iter = random.sample(set_diff_art_than_a1, 1)[0]\n",
    "\n",
    "            # Add it to the rel_art_a1 until we have 10 artists\n",
    "            rel_art_a1.add(art_iter)\n",
    "\n",
    "            \n",
    "            \n",
    "    # -------------------------------------------- #\n",
    "    #      Loop over related artists\n",
    "    # -------------------------------------------- #            \n",
    "            \n",
    "    # Get all the songs for each of the rel_art_a1\n",
    "    rel_art_a1 = list(rel_art_a1)\n",
    "    tr_a2_list = list()\n",
    "\n",
    "    # For each related artist (a2) of a1\n",
    "    for aa2 in rel_art_a1:\n",
    "        \n",
    "        # -------------------------------------------- #\n",
    "        #    Tracks of a2\n",
    "        # -------------------------------------------- #    \n",
    "\n",
    "        # If we have tracks for that artist\n",
    "        if aa2 in a2_tracks:\n",
    "\n",
    "            # List such tracks\n",
    "            set_aa2_tracks = a2_tracks[aa2]\n",
    "            aa2_tracks = list(set_aa2_tracks)\n",
    "\n",
    "            \n",
    "             # ----------------------------------------------------------------------- #\n",
    "            #   Avoid picking a feature song shared for a1 and a2 as the negative pair\n",
    "            # ----------------------------------------------------------------------- #  \n",
    "            # Select only songs that are not in the set of songs of a1 (tr_a1)\n",
    "            sel_tracks_aa2 = set_aa2_tracks - tr_a1\n",
    "\n",
    "            # Append them to the list\n",
    "            tr_a2_list.extend(list(sel_tracks_aa2))\n",
    "\n",
    "    # ----------------------------------------------------------------- #\n",
    "    #  Coincide pairs of tracks of a1 length with tracks of rel_artists\n",
    "    # ----------------------------------------------------------------- #    \n",
    "    \n",
    "    # Make each pair of l1_pairs to coincide with tracks for the related artists of a1 (tr_a2_list)\n",
    "    len_l1_pairs = len(l1_pairs)\n",
    "    len_tr_a2_list = len(tr_a2_list)\n",
    "\n",
    "    # Create the negative list of tracks for rel_artist of the same length as the pairs of tracks\n",
    "    negative_list = random.choices(tr_a2_list, k = len_l1_pairs)\n",
    "\n",
    "    # pair all together\n",
    "    triplets = tuple(zip(l1_pairs, negative_list))\n",
    "\n",
    "\n",
    "    return triplets\n",
    "\n",
    "\n",
    "def upload_tripl_window_combinations(tr, values = []):\n",
    "    \n",
    "    \"\"\"\n",
    "    Creates a sample of 100 possible combinations of different windows \n",
    "    for a given triplet tr (i.e (('6WMYFEd4MJDIjJARHnOxoN', '6WMYFEd4MJDIjJARHnOxoN'),\n",
    "    '1TDwnS2MBA4jENbaqdgJWf'))\n",
    "    \"\"\"\n",
    "\n",
    "    # Expand each triplet with 3 different windows\n",
    "    tr1 = tr[0][0]\n",
    "    tr2 = tr[0][1]\n",
    "    tr3 = tr[1]\n",
    "\n",
    "    # Create the list of windows for each track\n",
    "    win_tr1 = dict_tracks_windows[tr1]\n",
    "    win_tr2 = dict_tracks_windows[tr2]\n",
    "    win_tr3 = dict_tracks_windows[tr3]\n",
    "\n",
    "    # Pair them (make all possible windows combinations)\n",
    "    all_windows = [win_tr1, win_tr2, win_tr3]\n",
    "    all_comb = list(itertools.product(*all_windows))\n",
    "\n",
    "    # Select 100 random pairs of windows for each triplet\n",
    "    windows_triplets_selected = random.choices(all_comb, k= 100)\n",
    "\n",
    "    # Upload to the triplets database\n",
    "\n",
    "    for wts in windows_triplets_selected:\n",
    "\n",
    "        # Ravel it into a list\n",
    "        wts = np.ravel(wts)\n",
    "        wts = list(wts)\n",
    "\n",
    "        # Tuple (a1, tr1, win1, ini1, fin1, tr2, win2, ini2, ..., ini3, fin3)\n",
    "        values.append((a1, tr1, int(wts[0]), int(wts[1]), int(wts[2]), tr2, int(wts[3]), int(wts[4]), int(wts[5]), \n",
    "                       tr3, int(wts[0]), int(wts[2]), int(wts[2])))\n",
    "\n",
    "    return"
   ]
  },
  {
   "cell_type": "code",
   "execution_count": null,
   "metadata": {},
   "outputs": [
    {
     "name": "stderr",
     "output_type": "stream",
     "text": [
      "/Users/david/.local/share/virtualenvs/Spotify-xJiBt4R8/lib/python3.7/site-packages/ipykernel_launcher.py:1: TqdmDeprecationWarning: This function will be removed in tqdm==5.0.0\n",
      "Please use `tqdm.notebook.tqdm` instead of `tqdm.tqdm_notebook`\n",
      "  \"\"\"Entry point for launching an IPython kernel.\n"
     ]
    },
    {
     "data": {
      "application/vnd.jupyter.widget-view+json": {
       "model_id": "722d73532c8e4249af12f9fbc20cf8d3",
       "version_major": 2,
       "version_minor": 0
      },
      "text/plain": [
       "HBox(children=(FloatProgress(value=1.0, bar_style='info', max=1.0), HTML(value='')))"
      ]
     },
     "metadata": {},
     "output_type": "display_data"
    },
    {
     "name": "stdout",
     "output_type": "stream",
     "text": [
      "0        1TtXnWcUs0FCkaZDPGYHdf\n",
      "1        1uNFoZAHBGtllmzznpCI3s\n",
      "2        1i8SpTcr7yvPOmcqrbnVXY\n",
      "3        5RLb16s3zfrdWdRF0l7xij\n",
      "4        4RSyJzf7ef6Iu2rnLdabNq\n",
      "5        64KEffDW9EtZ1y2vBYgq8T\n",
      "6        738wLrAtLtCtFOLvQBXOXp\n",
      "7        4obzFoKoKRHIphyHzJ35G3\n",
      "8        06HL4z0CvFAxyc27GXpf02\n",
      "9        5WUlDfRSoLAfcVSX1WnrxN\n"
     ]
    }
   ],
   "source": [
    "for iia, a1 in tqdm.tqdm_notebook(enumerate(list_top_artist)):\n",
    "    \n",
    "    print(iia, \"      \", a1)\n",
    "\n",
    "    # Create all the possible triplets\n",
    "    trip_a1 = create_triplet(a1)\n",
    "\n",
    "    # Sample such triplets to have at most 500 triplets per artist\n",
    "    if len(trip_a1) > 500:\n",
    "        trip_a1 = random.sample(trip_a1, 500)\n",
    "\n",
    "    # Create a empty list to store the values to keep uploading to the database\n",
    "    values_db = [] \n",
    "\n",
    "    # make for each triplet at most 100 different windows combinations\n",
    "    for tr in trip_a1:\n",
    "        upload_tripl_window_combinations(tr, values_db)\n",
    "        \n",
    "    # ----------------------------------------------------------- #\n",
    "    #    Upload all the windows combinations for that triplet\n",
    "    # ----------------------------------------------------------- #    \n",
    "    query = cursor.executemany(\"\"\"insert into triplets VALUES \n",
    "                (%s, %s, %s, %s, %s, %s, %s, %s, %s, %s, %s, %s, %s) ON CONFLICT DO NOTHING; \n",
    "                \"\"\" , values_db)\n",
    "    conn.commit()"
   ]
  },
  {
   "cell_type": "markdown",
   "metadata": {},
   "source": [
    "# Cypher query to check results"
   ]
  },
  {
   "cell_type": "markdown",
   "metadata": {},
   "source": [
    "For:\n",
    "\n",
    "```bash\n",
    "art1 = '6S2OmqARrzebs0tKUEyXyp'\n",
    "tr1 = '69W9wnBPbt38vDYNVSLRQW'\n",
    "tr2 = '25n4NECujqOxQHdXVIVc9I'\n",
    "tr3 = '3CidPLqWXqgesJlwYVJZdy'\n",
    "```\n",
    "\n",
    "Run:\n",
    "\n",
    "```cypher\n",
    "MATCH (t3:Track)<-[:ART_TR]-(a2:Artist)-[:REL_ART]-(a1:Artist)-[:ART_TR]->(t1:Track)\n",
    "WHERE a1.artist_id = '6S2OmqARrzebs0tKUEyXyp' AND\n",
    "      t1.track_id IN ['69W9wnBPbt38vDYNVSLRQW', '25n4NECujqOxQHdXVIVc9I'] AND\n",
    "      t3.track_id = '3CidPLqWXqgesJlwYVJZdy'\n",
    "RETURN a1, t1, t3, a2\n",
    "\n",
    "```"
   ]
  },
  {
   "cell_type": "code",
   "execution_count": null,
   "metadata": {},
   "outputs": [],
   "source": []
  }
 ],
 "metadata": {
  "kernelspec": {
   "display_name": "Python 3",
   "language": "python",
   "name": "python3"
  },
  "language_info": {
   "codemirror_mode": {
    "name": "ipython",
    "version": 3
   },
   "file_extension": ".py",
   "mimetype": "text/x-python",
   "name": "python",
   "nbconvert_exporter": "python",
   "pygments_lexer": "ipython3",
   "version": "3.7.6"
  }
 },
 "nbformat": 4,
 "nbformat_minor": 4
}
