{
 "cells": [
  {
   "cell_type": "code",
   "execution_count": 7,
   "metadata": {},
   "outputs": [],
   "source": [
    "from neo4j import GraphDatabase, basic_auth"
   ]
  },
  {
   "cell_type": "code",
   "execution_count": 8,
   "metadata": {},
   "outputs": [],
   "source": [
    "graph_url = \"bolt://localhost:7687\"\n",
    "graph_username = \"neo4j\"\n",
    "graph_password = \"qrks\"\n",
    "\n",
    "driver = GraphDatabase.driver(graph_url, auth=basic_auth(graph_username, graph_password))\n",
    "session = driver.session()"
   ]
  },
  {
   "cell_type": "code",
   "execution_count": null,
   "metadata": {},
   "outputs": [],
   "source": [
    "query = \"\"\"\n",
    "        MATCH (a:Artist)-[:ART_TR]->(t:Track)\n",
    "        WITH a, t\n",
    "        ORDER BY t.streams DESC\n",
    "        LIMIT 20\n",
    "        MATCH (g:Genre)-[:GEN_ART]->(a:Artist)\n",
    "        RETURN a, g, t\n",
    "\n",
    "\"\"\""
   ]
  }
 ],
 "metadata": {
  "kernelspec": {
   "display_name": "Python 3",
   "language": "python",
   "name": "python3"
  },
  "language_info": {
   "codemirror_mode": {
    "name": "ipython",
    "version": 3
   },
   "file_extension": ".py",
   "mimetype": "text/x-python",
   "name": "python",
   "nbconvert_exporter": "python",
   "pygments_lexer": "ipython3",
   "version": "3.7.6"
  }
 },
 "nbformat": 4,
 "nbformat_minor": 4
}
