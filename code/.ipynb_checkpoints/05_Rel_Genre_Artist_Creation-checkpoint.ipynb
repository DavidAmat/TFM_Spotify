{
 "cells": [
  {
   "cell_type": "markdown",
   "metadata": {},
   "source": [
    "# 05_Rel_Genre_Artist_Creation"
   ]
  },
  {
   "cell_type": "code",
   "execution_count": 1,
   "metadata": {},
   "outputs": [],
   "source": [
    "import pandas as pd\n",
    "import sys\n",
    "import numpy as np\n",
    "import os\n",
    "import requests\n",
    "import datetime\n",
    "import base64\n",
    "import json\n",
    "import re\n",
    "from collections import Counter\n",
    "import psycopg2\n",
    "import tqdm\n",
    "from bs4 import BeautifulSoup\n",
    "from importlib import reload\n",
    "pd.options.mode.chained_assignment = None  # default='warn'"
   ]
  },
  {
   "cell_type": "code",
   "execution_count": 2,
   "metadata": {},
   "outputs": [],
   "source": [
    "# We create a utils file with a class to store the basic commands and client ID for the Spotify API\n",
    "import aux_utils\n",
    "#reload(aux_utils)"
   ]
  },
  {
   "cell_type": "code",
   "execution_count": 12,
   "metadata": {},
   "outputs": [
    {
     "data": {
      "text/plain": [
       "<module 'db_utils' from '/Users/david/Google Drive/16. Master BigData/5 - Modulos/Modulo 10 - TFM/2. TFM/Codigos/Spotify/code/db_utils.py'>"
      ]
     },
     "execution_count": 12,
     "metadata": {},
     "output_type": "execute_result"
    }
   ],
   "source": [
    "# We have created a list of functions in db_utils.py\n",
    "import db_utils\n",
    "#reload(db_utils)"
   ]
  },
  {
   "cell_type": "markdown",
   "metadata": {},
   "source": [
    "### Database connection "
   ]
  },
  {
   "cell_type": "code",
   "execution_count": 16,
   "metadata": {},
   "outputs": [],
   "source": [
    "conn = psycopg2.connect(\"dbname=spotify\")\n",
    "cursor= conn.cursor()"
   ]
  },
  {
   "cell_type": "code",
   "execution_count": 5,
   "metadata": {},
   "outputs": [],
   "source": [
    "# Extrack all the artists\n",
    "df_artist = db_utils.select_table(cursor, table=\"master_artist\", sel_cols=[\"artist_id\", \"artist_name\", \"is_main\"])"
   ]
  },
  {
   "cell_type": "code",
   "execution_count": 6,
   "metadata": {},
   "outputs": [],
   "source": [
    "set_artist = set(list(df_artist.artist_id))"
   ]
  },
  {
   "cell_type": "markdown",
   "metadata": {},
   "source": [
    "# 0. Upload the rel_art that have a genre associated in the master_genre"
   ]
  },
  {
   "cell_type": "code",
   "execution_count": null,
   "metadata": {},
   "outputs": [],
   "source": [
    "query = \"\"\"\n",
    "    SELECT DISTINCT GENRE, REL_ART FROM REL_ARTIST_ARTIST ;\n",
    "\"\"\""
   ]
  },
  {
   "cell_type": "code",
   "execution_count": 44,
   "metadata": {},
   "outputs": [
    {
     "data": {
      "text/plain": [
       "3110"
      ]
     },
     "execution_count": 44,
     "metadata": {},
     "output_type": "execute_result"
    }
   ],
   "source": [
    "# Get the pairs artist - genre\n",
    "df_genre = db_utils.select_table(cursor, direct_query=query, sel_cols=[\"genre\", \"rel_art\"])\n",
    "\n",
    "# Get the list of unique artists\n",
    "set_artist_with_genre = set(df_genre.rel_art)\n",
    "\n",
    "# Get the list of artists without an associated genre\n",
    "set_artists_no_genre = set_artist - set_artist_with_genre\n",
    "len(set_artists_no_genre)"
   ]
  },
  {
   "cell_type": "markdown",
   "metadata": {},
   "source": [
    "Upload to the master_genre:"
   ]
  },
  {
   "cell_type": "code",
   "execution_count": 55,
   "metadata": {},
   "outputs": [],
   "source": [
    "values = []\n",
    "for vv in df_genre.values:\n",
    "    values.append(tuple(vv.tolist()))"
   ]
  },
  {
   "cell_type": "code",
   "execution_count": 61,
   "metadata": {},
   "outputs": [],
   "source": [
    "query = cursor.executemany(\"\"\"insert into MASTER_GENRE VALUES (%s, %s) ON CONFLICT DO NOTHING; \"\"\" , values)\n",
    "conn.commit()"
   ]
  },
  {
   "cell_type": "markdown",
   "metadata": {},
   "source": [
    "# 1. Infer the genre of the artist that do not have a genre"
   ]
  },
  {
   "cell_type": "code",
   "execution_count": 62,
   "metadata": {},
   "outputs": [],
   "source": [
    "list_artist_no_genre = list(set_artists_no_genre)"
   ]
  },
  {
   "cell_type": "code",
   "execution_count": 71,
   "metadata": {},
   "outputs": [
    {
     "name": "stderr",
     "output_type": "stream",
     "text": [
      "/Users/david/.local/share/virtualenvs/Spotify-xJiBt4R8/lib/python3.7/site-packages/ipykernel_launcher.py:2: TqdmDeprecationWarning: This function will be removed in tqdm==5.0.0\n",
      "Please use `tqdm.notebook.tqdm` instead of `tqdm.tqdm_notebook`\n",
      "  \n"
     ]
    },
    {
     "data": {
      "application/vnd.jupyter.widget-view+json": {
       "model_id": "de904de0b15749b5bd91bad53e8524cd",
       "version_major": 2,
       "version_minor": 0
      },
      "text/plain": [
       "HBox(children=(FloatProgress(value=0.0, max=3110.0), HTML(value='')))"
      ]
     },
     "metadata": {},
     "output_type": "display_data"
    },
    {
     "name": "stdout",
     "output_type": "stream",
     "text": [
      "\n"
     ]
    }
   ],
   "source": [
    "values = []\n",
    "for artist_id in tqdm.tqdm_notebook(list_artist_no_genre):\n",
    "    # Get the related artists\n",
    "    query_rel = f\"\"\"\n",
    "        SELECT DISTINCT QUERY, REL_ART, GENRE FROM REL_ARTIST_ARTIST WHERE QUERY = '{artist_id}' ;\n",
    "    \"\"\"\n",
    "    df_relart_artist_id = db_utils.select_table(cursor, direct_query=query_rel, sel_cols=[\"query\", \"rel_art\", \"genre\"])\n",
    "\n",
    "    # If len(df_genre.shape)\n",
    "    if df_relart_artist_id.shape[0]:\n",
    "\n",
    "        # Majority voting\n",
    "        majority_voting_genre = Counter(df_relart_artist_id.genre)\n",
    "\n",
    "        # Most common genre\n",
    "        most_common_genre = majority_voting_genre.most_common()\n",
    "        genre_artist = most_common_genre[0][0] # get the first tuple ('pop', 8) and extract the first element (pop)\n",
    "\n",
    "        # Append to values\n",
    "        values.append((genre_artist, artist_id))\n",
    "    else:\n",
    "        # If the artist has no similar artists in our database, put as genre a Undefined\n",
    "        values.append((\"undefined\", artist_id))"
   ]
  },
  {
   "cell_type": "code",
   "execution_count": 72,
   "metadata": {},
   "outputs": [],
   "source": [
    "query = cursor.executemany(\"\"\"insert into MASTER_GENRE VALUES (%s, %s) ON CONFLICT DO NOTHING; \"\"\" , values)\n",
    "conn.commit()"
   ]
  },
  {
   "cell_type": "code",
   "execution_count": null,
   "metadata": {},
   "outputs": [],
   "source": [
    "# SQL\n",
    "#select * from (select genre, count(distinct artist_id) as nums \n",
    "# from master_genre group by genre) x1 order by nums desc;"
   ]
  }
 ],
 "metadata": {
  "kernelspec": {
   "display_name": "Python 3",
   "language": "python",
   "name": "python3"
  },
  "language_info": {
   "codemirror_mode": {
    "name": "ipython",
    "version": 3
   },
   "file_extension": ".py",
   "mimetype": "text/x-python",
   "name": "python",
   "nbconvert_exporter": "python",
   "pygments_lexer": "ipython3",
   "version": "3.7.6"
  }
 },
 "nbformat": 4,
 "nbformat_minor": 4
}
