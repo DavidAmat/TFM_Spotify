{
 "cells": [
  {
   "cell_type": "code",
   "execution_count": 85,
   "metadata": {},
   "outputs": [],
   "source": [
    "from py2neo import Graph\n",
    "import pandas as pd\n",
    "from collections import Counter"
   ]
  },
  {
   "cell_type": "code",
   "execution_count": 6,
   "metadata": {},
   "outputs": [],
   "source": [
    "graph = Graph(bolt = True, host = \"localhost\", name = \"Spotify\", user = \"neo4j\", password = \"qrks\")"
   ]
  },
  {
   "cell_type": "markdown",
   "metadata": {},
   "source": [
    "## 1. Selection of ALL Songs for ALL Artists in Neo4j"
   ]
  },
  {
   "cell_type": "code",
   "execution_count": 89,
   "metadata": {},
   "outputs": [],
   "source": [
    "query_all = \"\"\"\n",
    "     MATCH (a:Artist)-[:ART_TR]->(t:Track)\n",
    "     RETURN a.artist_id, a.artist_name, a.popularity, a.is_main, t.track_id, t.track_name, t.streams\n",
    "     ORDER BY a.popularity DESC, a.artist_id, t.streams DESC\n",
    "\"\"\""
   ]
  },
  {
   "cell_type": "code",
   "execution_count": 90,
   "metadata": {},
   "outputs": [],
   "source": [
    "cursor = graph.run(query_all)\n",
    "df_all = pd.DataFrame.from_records(cursor, columns=cursor.keys())"
   ]
  },
  {
   "cell_type": "code",
   "execution_count": 99,
   "metadata": {},
   "outputs": [],
   "source": [
    "df_all.columns = [\"artist_id\", \"artist_name\", \"popularity\", \"is_main\", \"track_id\", \"track_name\", \"streams\"]\n",
    "df_all.reset_index(inplace=True)"
   ]
  },
  {
   "cell_type": "markdown",
   "metadata": {},
   "source": [
    "### Export to csv (/Spotify/data/01_queries_yt)"
   ]
  },
  {
   "cell_type": "code",
   "execution_count": 101,
   "metadata": {},
   "outputs": [],
   "source": [
    "out = \"../data/01_queries_yt/\""
   ]
  },
  {
   "cell_type": "code",
   "execution_count": 102,
   "metadata": {},
   "outputs": [],
   "source": [
    "df_all.to_csv(out + \"queries.csv\", header=True, sep=\";\", index=False)"
   ]
  },
  {
   "cell_type": "markdown",
   "metadata": {},
   "source": [
    "## 2. Selection of top Songs for top Artists in Neo4j"
   ]
  },
  {
   "cell_type": "code",
   "execution_count": 79,
   "metadata": {},
   "outputs": [],
   "source": [
    "query_most_pop_artist = \"\"\"\n",
    "\n",
    "    // Get the 300 top artists sorted by popularity in a list to slice it to only 300\n",
    "    MATCH (a:Artist)\n",
    "    WITH a\n",
    "    ORDER BY a.popularity DESC\n",
    "    \n",
    "    WITH COLLECT(a)[1..300] as TopArtists\n",
    "    \n",
    "    // After slicing, UNWIND the collection and match the tracks for each artist\n",
    "    UNWIND TopArtists as aa\n",
    "    MATCH (aa:Artist)-[r:ART_TR]->(t:Track)\n",
    "    \n",
    "    // For each artist unwinded, order its tracks by streams descendingly\n",
    "    WITH aa, t\n",
    "    ORDER BY aa.artist_id, t.streams DESC\n",
    "    \n",
    "    // Convert this table into a row per artist (aa) where all the tracks are summarixed ina trackList\n",
    "    WITH aa, COLLECT(t)[1..20] AS trackList\n",
    "    \n",
    "    // After slicing that list into 20 elements, get the artist_name and the track_name after UNWINDIND that list\n",
    "    UNWIND trackList as tracks\n",
    "    RETURN aa.artist_name, tracks.track_name\n",
    "\"\"\""
   ]
  },
  {
   "cell_type": "code",
   "execution_count": 80,
   "metadata": {},
   "outputs": [],
   "source": [
    "cursor = graph.run(query_most_pop_artist)\n",
    "df = pd.DataFrame.from_records(cursor, columns=cursor.keys())"
   ]
  },
  {
   "cell_type": "code",
   "execution_count": 81,
   "metadata": {},
   "outputs": [],
   "source": [
    "df.columns = [\"artist\", \"track\"]"
   ]
  },
  {
   "cell_type": "code",
   "execution_count": 82,
   "metadata": {},
   "outputs": [],
   "source": [
    "df_grouped = pd.DataFrame(df.groupby(\"artist\")[\"track\"].count())\n",
    "df_grouped.sort_values(\"track\", ascending = False, inplace = True)"
   ]
  },
  {
   "cell_type": "code",
   "execution_count": 87,
   "metadata": {},
   "outputs": [
    {
     "data": {
      "text/html": [
       "<div>\n",
       "<style scoped>\n",
       "    .dataframe tbody tr th:only-of-type {\n",
       "        vertical-align: middle;\n",
       "    }\n",
       "\n",
       "    .dataframe tbody tr th {\n",
       "        vertical-align: top;\n",
       "    }\n",
       "\n",
       "    .dataframe thead th {\n",
       "        text-align: right;\n",
       "    }\n",
       "</style>\n",
       "<table border=\"1\" class=\"dataframe\">\n",
       "  <thead>\n",
       "    <tr style=\"text-align: right;\">\n",
       "      <th></th>\n",
       "      <th>track</th>\n",
       "    </tr>\n",
       "    <tr>\n",
       "      <th>artist</th>\n",
       "      <th></th>\n",
       "    </tr>\n",
       "  </thead>\n",
       "  <tbody>\n",
       "    <tr>\n",
       "      <th>2 Chainz</th>\n",
       "      <td>19</td>\n",
       "    </tr>\n",
       "    <tr>\n",
       "      <th>Ne-Yo</th>\n",
       "      <td>19</td>\n",
       "    </tr>\n",
       "    <tr>\n",
       "      <th>Marília Mendonça</th>\n",
       "      <td>19</td>\n",
       "    </tr>\n",
       "    <tr>\n",
       "      <th>Matheus &amp; Kauan</th>\n",
       "      <td>19</td>\n",
       "    </tr>\n",
       "    <tr>\n",
       "      <th>Meek Mill</th>\n",
       "      <td>19</td>\n",
       "    </tr>\n",
       "    <tr>\n",
       "      <th>...</th>\n",
       "      <td>...</td>\n",
       "    </tr>\n",
       "    <tr>\n",
       "      <th>Who Is Fancy</th>\n",
       "      <td>1</td>\n",
       "    </tr>\n",
       "    <tr>\n",
       "      <th>MC Zuka</th>\n",
       "      <td>1</td>\n",
       "    </tr>\n",
       "    <tr>\n",
       "      <th>Luis Figueroa</th>\n",
       "      <td>1</td>\n",
       "    </tr>\n",
       "    <tr>\n",
       "      <th>Tay Keith</th>\n",
       "      <td>1</td>\n",
       "    </tr>\n",
       "    <tr>\n",
       "      <th>Gus Dapperton</th>\n",
       "      <td>1</td>\n",
       "    </tr>\n",
       "  </tbody>\n",
       "</table>\n",
       "<p>286 rows × 1 columns</p>\n",
       "</div>"
      ],
      "text/plain": [
       "                  track\n",
       "artist                 \n",
       "2 Chainz             19\n",
       "Ne-Yo                19\n",
       "Marília Mendonça     19\n",
       "Matheus & Kauan      19\n",
       "Meek Mill            19\n",
       "...                 ...\n",
       "Who Is Fancy          1\n",
       "MC Zuka               1\n",
       "Luis Figueroa         1\n",
       "Tay Keith             1\n",
       "Gus Dapperton         1\n",
       "\n",
       "[286 rows x 1 columns]"
      ]
     },
     "execution_count": 87,
     "metadata": {},
     "output_type": "execute_result"
    }
   ],
   "source": [
    "# Make sure all artists have only 20 songs associated as maximum\n",
    "df_grouped"
   ]
  },
  {
   "cell_type": "code",
   "execution_count": null,
   "metadata": {},
   "outputs": [],
   "source": []
  }
 ],
 "metadata": {
  "kernelspec": {
   "display_name": "Python 3",
   "language": "python",
   "name": "python3"
  },
  "language_info": {
   "codemirror_mode": {
    "name": "ipython",
    "version": 3
   },
   "file_extension": ".py",
   "mimetype": "text/x-python",
   "name": "python",
   "nbconvert_exporter": "python",
   "pygments_lexer": "ipython3",
   "version": "3.7.6"
  }
 },
 "nbformat": 4,
 "nbformat_minor": 4
}
