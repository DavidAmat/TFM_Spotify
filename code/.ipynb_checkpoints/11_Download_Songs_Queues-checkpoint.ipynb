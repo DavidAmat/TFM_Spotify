{
 "cells": [
  {
   "cell_type": "code",
   "execution_count": 157,
   "metadata": {},
   "outputs": [],
   "source": [
    "from py2neo import Graph\n",
    "import pandas as pd\n",
    "import sys\n",
    "import numpy as np\n",
    "import boto3\n",
    "import psycopg2\n",
    "import db_utils\n",
    "import tqdm"
   ]
  },
  {
   "cell_type": "markdown",
   "metadata": {},
   "source": [
    "# 1. Get the songs we want to download"
   ]
  },
  {
   "cell_type": "markdown",
   "metadata": {},
   "source": [
    "## 1.1 Query the Neo4j Database"
   ]
  },
  {
   "cell_type": "code",
   "execution_count": 158,
   "metadata": {},
   "outputs": [],
   "source": [
    "graph = Graph(bolt = True, host = \"localhost\", name = \"Spotify\", user = \"neo4j\", password = \"qrks\")"
   ]
  },
  {
   "cell_type": "code",
   "execution_count": 159,
   "metadata": {},
   "outputs": [],
   "source": [
    "query = \"\"\"\n",
    "        MATCH (t:Track) WHERE t.yt_views > 1000000000 AND t.url is NOT NULL RETURN t.track_id, t.url\n",
    "\"\"\""
   ]
  },
  {
   "cell_type": "code",
   "execution_count": 160,
   "metadata": {},
   "outputs": [],
   "source": [
    "cursor = graph.run(query)\n",
    "df = pd.DataFrame.from_records(cursor, columns=cursor.keys())"
   ]
  },
  {
   "cell_type": "code",
   "execution_count": 161,
   "metadata": {},
   "outputs": [
    {
     "data": {
      "text/html": [
       "<div>\n",
       "<style scoped>\n",
       "    .dataframe tbody tr th:only-of-type {\n",
       "        vertical-align: middle;\n",
       "    }\n",
       "\n",
       "    .dataframe tbody tr th {\n",
       "        vertical-align: top;\n",
       "    }\n",
       "\n",
       "    .dataframe thead th {\n",
       "        text-align: right;\n",
       "    }\n",
       "</style>\n",
       "<table border=\"1\" class=\"dataframe\">\n",
       "  <thead>\n",
       "    <tr style=\"text-align: right;\">\n",
       "      <th></th>\n",
       "      <th>t.track_id</th>\n",
       "      <th>t.url</th>\n",
       "    </tr>\n",
       "  </thead>\n",
       "  <tbody>\n",
       "    <tr>\n",
       "      <th>0</th>\n",
       "      <td>2ksOAxtIxY8yElEWw8RhgK</td>\n",
       "      <td>https://www.youtube.com/watch?v=0VR3dfZf9Yg</td>\n",
       "    </tr>\n",
       "    <tr>\n",
       "      <th>1</th>\n",
       "      <td>5W83ErFkO3aKAIS1WMi6u0</td>\n",
       "      <td>https://www.youtube.com/watch?v=gFZfwWZV074</td>\n",
       "    </tr>\n",
       "    <tr>\n",
       "      <th>2</th>\n",
       "      <td>6SIrNxmmdbv1KUbFBu1PaN</td>\n",
       "      <td>https://www.youtube.com/watch?v=ycV6cnK3SIs</td>\n",
       "    </tr>\n",
       "    <tr>\n",
       "      <th>3</th>\n",
       "      <td>2XW4DbS6NddZxRPm5rMCeY</td>\n",
       "      <td>https://www.youtube.com/watch?v=xpVfcZ0ZcFM</td>\n",
       "    </tr>\n",
       "    <tr>\n",
       "      <th>4</th>\n",
       "      <td>116H0KvKr2Zl4RPuVBruDO</td>\n",
       "      <td>https://www.youtube.com/watch?v=OSUxrSe5GbI</td>\n",
       "    </tr>\n",
       "  </tbody>\n",
       "</table>\n",
       "</div>"
      ],
      "text/plain": [
       "               t.track_id                                        t.url\n",
       "0  2ksOAxtIxY8yElEWw8RhgK  https://www.youtube.com/watch?v=0VR3dfZf9Yg\n",
       "1  5W83ErFkO3aKAIS1WMi6u0  https://www.youtube.com/watch?v=gFZfwWZV074\n",
       "2  6SIrNxmmdbv1KUbFBu1PaN  https://www.youtube.com/watch?v=ycV6cnK3SIs\n",
       "3  2XW4DbS6NddZxRPm5rMCeY  https://www.youtube.com/watch?v=xpVfcZ0ZcFM\n",
       "4  116H0KvKr2Zl4RPuVBruDO  https://www.youtube.com/watch?v=OSUxrSe5GbI"
      ]
     },
     "execution_count": 161,
     "metadata": {},
     "output_type": "execute_result"
    }
   ],
   "source": [
    "df.head()"
   ]
  },
  {
   "cell_type": "code",
   "execution_count": 162,
   "metadata": {},
   "outputs": [
    {
     "data": {
      "text/plain": [
       "(191, 2)"
      ]
     },
     "execution_count": 162,
     "metadata": {},
     "output_type": "execute_result"
    }
   ],
   "source": [
    "df.shape"
   ]
  },
  {
   "cell_type": "markdown",
   "metadata": {},
   "source": [
    "## 1.2 Query the Spotify Database (PostgreSQL)"
   ]
  },
  {
   "cell_type": "code",
   "execution_count": 195,
   "metadata": {},
   "outputs": [],
   "source": [
    "conn = psycopg2.connect(\"dbname=spotify\")\n",
    "cursor= conn.cursor()"
   ]
  },
  {
   "cell_type": "code",
   "execution_count": 196,
   "metadata": {},
   "outputs": [],
   "source": [
    "query = \"\"\"\n",
    "    SELECT T2.track_id, T2.href FROM (SELECT * from master_track where track_id = '6g1NlCpW7fgqDnWbCCDrHl') T1\n",
    "        INNER JOIN track_url T2 ON T1.track_id = T2.track_id;\n",
    "\"\"\""
   ]
  },
  {
   "cell_type": "code",
   "execution_count": 197,
   "metadata": {},
   "outputs": [],
   "source": [
    "df = db_utils.select_table(cursor, direct_query=query,\n",
    "                                 sel_cols=[\"track_id\", \"href\"])\n",
    "df.drop_duplicates(inplace=True)\n",
    "conn.close()"
   ]
  },
  {
   "cell_type": "code",
   "execution_count": 198,
   "metadata": {},
   "outputs": [
    {
     "data": {
      "text/html": [
       "<div>\n",
       "<style scoped>\n",
       "    .dataframe tbody tr th:only-of-type {\n",
       "        vertical-align: middle;\n",
       "    }\n",
       "\n",
       "    .dataframe tbody tr th {\n",
       "        vertical-align: top;\n",
       "    }\n",
       "\n",
       "    .dataframe thead th {\n",
       "        text-align: right;\n",
       "    }\n",
       "</style>\n",
       "<table border=\"1\" class=\"dataframe\">\n",
       "  <thead>\n",
       "    <tr style=\"text-align: right;\">\n",
       "      <th></th>\n",
       "      <th>track_id</th>\n",
       "      <th>href</th>\n",
       "    </tr>\n",
       "  </thead>\n",
       "  <tbody>\n",
       "    <tr>\n",
       "      <th>0</th>\n",
       "      <td>6g1NlCpW7fgqDnWbCCDrHl</td>\n",
       "      <td>https://www.youtube.com/watch?v=ynGi25x2kMw</td>\n",
       "    </tr>\n",
       "  </tbody>\n",
       "</table>\n",
       "</div>"
      ],
      "text/plain": [
       "                 track_id                                         href\n",
       "0  6g1NlCpW7fgqDnWbCCDrHl  https://www.youtube.com/watch?v=ynGi25x2kMw"
      ]
     },
     "execution_count": 198,
     "metadata": {},
     "output_type": "execute_result"
    }
   ],
   "source": [
    "df.head()"
   ]
  },
  {
   "cell_type": "markdown",
   "metadata": {},
   "source": [
    "# 2. Get the status and check if the song has not been downloaded yet"
   ]
  },
  {
   "cell_type": "markdown",
   "metadata": {},
   "source": [
    "## 2.1 Get status table"
   ]
  },
  {
   "cell_type": "code",
   "execution_count": 188,
   "metadata": {},
   "outputs": [],
   "source": [
    "def query_results_to_df(query_results):\n",
    "    if len(query_results) == 0:\n",
    "        return False\n",
    "    cols = [\"instance_id\",\"track_id\",\"yt_url\",\"date\", \"stat\"]\n",
    "    return pd.DataFrame(query_results, columns=cols)\n",
    "\n",
    "def get_status():\n",
    "    query_status = \"\"\" \n",
    "    SELECT * FROM status\n",
    "    \"\"\"\n",
    "    ENDPOINT=\"tracksurl.czjs6btlvfgd.eu-west-2.rds.amazonaws.com\"\n",
    "    PORT=\"5432\"\n",
    "    USR=\"david\"\n",
    "    REGION=\"eu-west-2\"\n",
    "    DBNAME=\"postgres\"\n",
    "    PSSWD=[\"qrks\",\"jfut\",\"iv\",\"uf\",\"1\"]\n",
    "\n",
    "    conn = psycopg2.connect(host=ENDPOINT, port=PORT, database=DBNAME, user=USR, password=''.join(PSSWD))\n",
    "    cur = conn.cursor()\n",
    "    cur.execute(query_status)\n",
    "    query_results = cur.fetchall()\n",
    "    df_status = query_results_to_df(query_results)\n",
    "    conn.close()\n",
    "    return df_status"
   ]
  },
  {
   "cell_type": "code",
   "execution_count": 189,
   "metadata": {},
   "outputs": [],
   "source": [
    "df_status = get_status()"
   ]
  },
  {
   "cell_type": "code",
   "execution_count": 190,
   "metadata": {},
   "outputs": [],
   "source": [
    "# Set of songs already downloaded\n",
    "already_downloaded = set(df_status.track_id)"
   ]
  },
  {
   "cell_type": "markdown",
   "metadata": {},
   "source": [
    "### Filter the df for those songs that have already been downloaded, eliminate them from df"
   ]
  },
  {
   "cell_type": "code",
   "execution_count": 200,
   "metadata": {},
   "outputs": [],
   "source": [
    "df = df[~df[\"track_id\"].isin(already_downloaded)]"
   ]
  },
  {
   "cell_type": "code",
   "execution_count": 201,
   "metadata": {},
   "outputs": [
    {
     "data": {
      "text/html": [
       "<div>\n",
       "<style scoped>\n",
       "    .dataframe tbody tr th:only-of-type {\n",
       "        vertical-align: middle;\n",
       "    }\n",
       "\n",
       "    .dataframe tbody tr th {\n",
       "        vertical-align: top;\n",
       "    }\n",
       "\n",
       "    .dataframe thead th {\n",
       "        text-align: right;\n",
       "    }\n",
       "</style>\n",
       "<table border=\"1\" class=\"dataframe\">\n",
       "  <thead>\n",
       "    <tr style=\"text-align: right;\">\n",
       "      <th></th>\n",
       "      <th>track_id</th>\n",
       "      <th>href</th>\n",
       "    </tr>\n",
       "  </thead>\n",
       "  <tbody>\n",
       "    <tr>\n",
       "      <th>0</th>\n",
       "      <td>6g1NlCpW7fgqDnWbCCDrHl</td>\n",
       "      <td>https://www.youtube.com/watch?v=ynGi25x2kMw</td>\n",
       "    </tr>\n",
       "  </tbody>\n",
       "</table>\n",
       "</div>"
      ],
      "text/plain": [
       "                 track_id                                         href\n",
       "0  6g1NlCpW7fgqDnWbCCDrHl  https://www.youtube.com/watch?v=ynGi25x2kMw"
      ]
     },
     "execution_count": 201,
     "metadata": {},
     "output_type": "execute_result"
    }
   ],
   "source": [
    "df"
   ]
  },
  {
   "cell_type": "markdown",
   "metadata": {},
   "source": [
    "## 2.2 Send jobs to *jobs_download* from df"
   ]
  },
  {
   "cell_type": "code",
   "execution_count": 202,
   "metadata": {},
   "outputs": [],
   "source": [
    "# Create SQS client\n",
    "sqs = boto3.client('sqs')\n",
    "URL_q_jobs = \"https://sqs.eu-west-2.amazonaws.com/555381533193/jobs_download\"\n",
    "URL_q_status = \"https://sqs.eu-west-2.amazonaws.com/555381533193/status\""
   ]
  },
  {
   "cell_type": "code",
   "execution_count": 203,
   "metadata": {},
   "outputs": [],
   "source": [
    "def send_message_jobs(track_id, href):\n",
    "    \"\"\"Send message to SQS queue: get_batch.fifo\n",
    "    Specifying at which batch_num and iteration it has arrived\n",
    "    \"\"\"\n",
    "    response = sqs.send_message(\n",
    "        QueueUrl=URL_q_jobs,\n",
    "        DelaySeconds=0,\n",
    "        MessageAttributes={},\n",
    "        MessageBody=(f\"{track_id}::{href}\")    )\n"
   ]
  },
  {
   "cell_type": "markdown",
   "metadata": {},
   "source": [
    "The df must have 2 columns: track_id and the url sent"
   ]
  },
  {
   "cell_type": "code",
   "execution_count": 204,
   "metadata": {},
   "outputs": [
    {
     "name": "stderr",
     "output_type": "stream",
     "text": [
      "/Users/david/.local/share/virtualenvs/Spotify-xJiBt4R8/lib/python3.7/site-packages/ipykernel_launcher.py:3: TqdmDeprecationWarning: This function will be removed in tqdm==5.0.0\n",
      "Please use `tqdm.notebook.tqdm` instead of `tqdm.tqdm_notebook`\n",
      "  This is separate from the ipykernel package so we can avoid doing imports until\n"
     ]
    },
    {
     "data": {
      "application/vnd.jupyter.widget-view+json": {
       "model_id": "a97cb1d67d5645d09cac00478e33c1bb",
       "version_major": 2,
       "version_minor": 0
      },
      "text/plain": [
       "HBox(children=(FloatProgress(value=1.0, bar_style='info', max=1.0), HTML(value='')))"
      ]
     },
     "metadata": {},
     "output_type": "display_data"
    },
    {
     "name": "stdout",
     "output_type": "stream",
     "text": [
      "\n"
     ]
    }
   ],
   "source": [
    "# Send messages\n",
    "df.columns = [\"track_id\", \"url\"]\n",
    "for i, row in tqdm.tqdm_notebook(df.iterrows()):\n",
    "    send_message_jobs(row.track_id, row.url)"
   ]
  },
  {
   "cell_type": "markdown",
   "metadata": {},
   "source": [
    "# 4. List current S3 objects (downloaded audio)"
   ]
  },
  {
   "cell_type": "code",
   "execution_count": 166,
   "metadata": {},
   "outputs": [],
   "source": [
    "import boto3\n",
    "s3 = boto3.resource('s3')\n",
    "allFiles = s3.Bucket(\"tfmdavid\").objects.all()"
   ]
  },
  {
   "cell_type": "code",
   "execution_count": 167,
   "metadata": {},
   "outputs": [],
   "source": [
    "downloaded_mp3 = list()\n",
    "for file in allFiles:\n",
    "    \n",
    "    ff = file.key\n",
    "    if \".mp3\" in ff:\n",
    "        downloaded_mp3.append(ff.split(\"/\")[1].split(\".\")[0])"
   ]
  },
  {
   "cell_type": "code",
   "execution_count": 168,
   "metadata": {},
   "outputs": [
    {
     "data": {
      "text/plain": [
       "['116H0KvKr2Zl4RPuVBruDO',\n",
       " '1m69ELEgE6k5ZWsap40ozt',\n",
       " '2XW4DbS6NddZxRPm5rMCeY',\n",
       " '2ksOAxtIxY8yElEWw8RhgK',\n",
       " '2qG5sZ7Si6sdK74qLxedYM',\n",
       " '34gCuhDGsG4bRPIf9bb02f',\n",
       " '39N9RPD9MRb5WmoLzNzPeA',\n",
       " '3KkXRkHbMCARz0aVfEt68P',\n",
       " '3a1lNhkSLSkpJE4MSHpDu9',\n",
       " '3hB5DgAiMAQ4DzYbsMq1IT',\n",
       " '3pzjHKrQSvXGHQ98dx18HI',\n",
       " '4R8BJggjosTswLxtkw8V7P',\n",
       " '4wFHfY9IILHLNwakPuFogD',\n",
       " '4zWO4gvuFtw6EJZC5FFGlr',\n",
       " '58q2HKrzhC3ozto2nDdN4z',\n",
       " '5W83ErFkO3aKAIS1WMi6u0',\n",
       " '69bp2EbF7Q2rqc5N3ylezZ',\n",
       " '6RUKPb4LETWmmr3iAEQktW',\n",
       " '6SIrNxmmdbv1KUbFBu1PaN',\n",
       " '6Za3190Sbw39BBC77WSS1C',\n",
       " '6nmz4imkDcmtwMjocAzFSx',\n",
       " '7fwXWKdDNI5IutOMc5OKYw']"
      ]
     },
     "execution_count": 168,
     "metadata": {},
     "output_type": "execute_result"
    }
   ],
   "source": [
    "downloaded_mp3"
   ]
  },
  {
   "cell_type": "markdown",
   "metadata": {},
   "source": [
    "# 5. Monitor Status"
   ]
  },
  {
   "cell_type": "code",
   "execution_count": 185,
   "metadata": {},
   "outputs": [],
   "source": [
    "# By month\n",
    "#df_status[df_status['date'].dt.strftime('%Y-%m') == '2020-06']\n",
    "\n",
    "#By day\n",
    "#df_day = df_status[df_status['date'].dt.strftime('%Y-%m-%d') == '2020-07-03']\n",
    "\n",
    "# Interval of minutes\n",
    "df_hour = df_status[df_status['date'] \\\n",
    "                    .dt.strftime('%Y-%m-%d %H:%M').between(\"2020-07-03 22:45\", \"2020-07-03 22:46\")] # comment\n",
    "                    \n",
    "                    "
   ]
  },
  {
   "cell_type": "code",
   "execution_count": 187,
   "metadata": {},
   "outputs": [
    {
     "data": {
      "text/html": [
       "<div>\n",
       "<style scoped>\n",
       "    .dataframe tbody tr th:only-of-type {\n",
       "        vertical-align: middle;\n",
       "    }\n",
       "\n",
       "    .dataframe tbody tr th {\n",
       "        vertical-align: top;\n",
       "    }\n",
       "\n",
       "    .dataframe thead th {\n",
       "        text-align: right;\n",
       "    }\n",
       "</style>\n",
       "<table border=\"1\" class=\"dataframe\">\n",
       "  <thead>\n",
       "    <tr style=\"text-align: right;\">\n",
       "      <th></th>\n",
       "      <th>instance_id</th>\n",
       "      <th>track_id</th>\n",
       "      <th>yt_url</th>\n",
       "      <th>date</th>\n",
       "      <th>stat</th>\n",
       "    </tr>\n",
       "  </thead>\n",
       "  <tbody>\n",
       "    <tr>\n",
       "      <th>1</th>\n",
       "      <td>i-0fca39308700d1813</td>\n",
       "      <td>34gCuhDGsG4bRPIf9bb02f</td>\n",
       "      <td>https://www.youtube.com/watch?v=lp-EO5I60KA</td>\n",
       "      <td>2020-07-03 22:45:10</td>\n",
       "      <td>1</td>\n",
       "    </tr>\n",
       "    <tr>\n",
       "      <th>2</th>\n",
       "      <td>i-0fca39308700d1813</td>\n",
       "      <td>7fwXWKdDNI5IutOMc5OKYw</td>\n",
       "      <td>https://www.youtube.com/watch?v=wnJ6LuUFpMo</td>\n",
       "      <td>2020-07-03 22:45:17</td>\n",
       "      <td>1</td>\n",
       "    </tr>\n",
       "    <tr>\n",
       "      <th>3</th>\n",
       "      <td>i-0fca39308700d1813</td>\n",
       "      <td>6nmz4imkDcmtwMjocAzFSx</td>\n",
       "      <td>https://www.youtube.com/watch?v=uxpDa-c-4Mc</td>\n",
       "      <td>2020-07-03 22:45:27</td>\n",
       "      <td>1</td>\n",
       "    </tr>\n",
       "    <tr>\n",
       "      <th>4</th>\n",
       "      <td>i-0fca39308700d1813</td>\n",
       "      <td>5W83ErFkO3aKAIS1WMi6u0</td>\n",
       "      <td>https://www.youtube.com/watch?v=gFZfwWZV074</td>\n",
       "      <td>2020-07-03 22:45:36</td>\n",
       "      <td>1</td>\n",
       "    </tr>\n",
       "    <tr>\n",
       "      <th>5</th>\n",
       "      <td>i-0fca39308700d1813</td>\n",
       "      <td>6SIrNxmmdbv1KUbFBu1PaN</td>\n",
       "      <td>https://www.youtube.com/watch?v=ycV6cnK3SIs</td>\n",
       "      <td>2020-07-03 22:45:44</td>\n",
       "      <td>1</td>\n",
       "    </tr>\n",
       "    <tr>\n",
       "      <th>6</th>\n",
       "      <td>i-0fca39308700d1813</td>\n",
       "      <td>116H0KvKr2Zl4RPuVBruDO</td>\n",
       "      <td>https://www.youtube.com/watch?v=OSUxrSe5GbI</td>\n",
       "      <td>2020-07-03 22:45:51</td>\n",
       "      <td>1</td>\n",
       "    </tr>\n",
       "    <tr>\n",
       "      <th>7</th>\n",
       "      <td>i-0fca39308700d1813</td>\n",
       "      <td>39N9RPD9MRb5WmoLzNzPeA</td>\n",
       "      <td>https://www.youtube.com/watch?v=_I_D_8Z4sJE</td>\n",
       "      <td>2020-07-03 22:46:00</td>\n",
       "      <td>1</td>\n",
       "    </tr>\n",
       "    <tr>\n",
       "      <th>8</th>\n",
       "      <td>i-0fca39308700d1813</td>\n",
       "      <td>58q2HKrzhC3ozto2nDdN4z</td>\n",
       "      <td>https://www.youtube.com/watch?v=xTlNMmZKwpA</td>\n",
       "      <td>2020-07-03 22:46:09</td>\n",
       "      <td>1</td>\n",
       "    </tr>\n",
       "    <tr>\n",
       "      <th>9</th>\n",
       "      <td>i-0fca39308700d1813</td>\n",
       "      <td>3hB5DgAiMAQ4DzYbsMq1IT</td>\n",
       "      <td>https://www.youtube.com/watch?v=oyEuk8j8imI</td>\n",
       "      <td>2020-07-03 22:46:22</td>\n",
       "      <td>1</td>\n",
       "    </tr>\n",
       "    <tr>\n",
       "      <th>10</th>\n",
       "      <td>i-0fca39308700d1813</td>\n",
       "      <td>2qG5sZ7Si6sdK74qLxedYM</td>\n",
       "      <td>https://www.youtube.com/watch?v=p7bfOZek9t4</td>\n",
       "      <td>2020-07-03 22:46:29</td>\n",
       "      <td>1</td>\n",
       "    </tr>\n",
       "    <tr>\n",
       "      <th>11</th>\n",
       "      <td>i-0fca39308700d1813</td>\n",
       "      <td>4zWO4gvuFtw6EJZC5FFGlr</td>\n",
       "      <td>https://www.youtube.com/watch?v=_P7S2lKif-A</td>\n",
       "      <td>2020-07-03 22:46:38</td>\n",
       "      <td>1</td>\n",
       "    </tr>\n",
       "    <tr>\n",
       "      <th>12</th>\n",
       "      <td>i-0fca39308700d1813</td>\n",
       "      <td>3pzjHKrQSvXGHQ98dx18HI</td>\n",
       "      <td>https://www.youtube.com/watch?v=DK_0jXPuIr0</td>\n",
       "      <td>2020-07-03 22:46:48</td>\n",
       "      <td>1</td>\n",
       "    </tr>\n",
       "    <tr>\n",
       "      <th>13</th>\n",
       "      <td>i-0fca39308700d1813</td>\n",
       "      <td>3KkXRkHbMCARz0aVfEt68P</td>\n",
       "      <td>https://www.youtube.com/watch?v=ApXoWvfEYVU</td>\n",
       "      <td>2020-07-03 22:46:55</td>\n",
       "      <td>1</td>\n",
       "    </tr>\n",
       "  </tbody>\n",
       "</table>\n",
       "</div>"
      ],
      "text/plain": [
       "            instance_id                track_id  \\\n",
       "1   i-0fca39308700d1813  34gCuhDGsG4bRPIf9bb02f   \n",
       "2   i-0fca39308700d1813  7fwXWKdDNI5IutOMc5OKYw   \n",
       "3   i-0fca39308700d1813  6nmz4imkDcmtwMjocAzFSx   \n",
       "4   i-0fca39308700d1813  5W83ErFkO3aKAIS1WMi6u0   \n",
       "5   i-0fca39308700d1813  6SIrNxmmdbv1KUbFBu1PaN   \n",
       "6   i-0fca39308700d1813  116H0KvKr2Zl4RPuVBruDO   \n",
       "7   i-0fca39308700d1813  39N9RPD9MRb5WmoLzNzPeA   \n",
       "8   i-0fca39308700d1813  58q2HKrzhC3ozto2nDdN4z   \n",
       "9   i-0fca39308700d1813  3hB5DgAiMAQ4DzYbsMq1IT   \n",
       "10  i-0fca39308700d1813  2qG5sZ7Si6sdK74qLxedYM   \n",
       "11  i-0fca39308700d1813  4zWO4gvuFtw6EJZC5FFGlr   \n",
       "12  i-0fca39308700d1813  3pzjHKrQSvXGHQ98dx18HI   \n",
       "13  i-0fca39308700d1813  3KkXRkHbMCARz0aVfEt68P   \n",
       "\n",
       "                                         yt_url                date stat  \n",
       "1   https://www.youtube.com/watch?v=lp-EO5I60KA 2020-07-03 22:45:10    1  \n",
       "2   https://www.youtube.com/watch?v=wnJ6LuUFpMo 2020-07-03 22:45:17    1  \n",
       "3   https://www.youtube.com/watch?v=uxpDa-c-4Mc 2020-07-03 22:45:27    1  \n",
       "4   https://www.youtube.com/watch?v=gFZfwWZV074 2020-07-03 22:45:36    1  \n",
       "5   https://www.youtube.com/watch?v=ycV6cnK3SIs 2020-07-03 22:45:44    1  \n",
       "6   https://www.youtube.com/watch?v=OSUxrSe5GbI 2020-07-03 22:45:51    1  \n",
       "7   https://www.youtube.com/watch?v=_I_D_8Z4sJE 2020-07-03 22:46:00    1  \n",
       "8   https://www.youtube.com/watch?v=xTlNMmZKwpA 2020-07-03 22:46:09    1  \n",
       "9   https://www.youtube.com/watch?v=oyEuk8j8imI 2020-07-03 22:46:22    1  \n",
       "10  https://www.youtube.com/watch?v=p7bfOZek9t4 2020-07-03 22:46:29    1  \n",
       "11  https://www.youtube.com/watch?v=_P7S2lKif-A 2020-07-03 22:46:38    1  \n",
       "12  https://www.youtube.com/watch?v=DK_0jXPuIr0 2020-07-03 22:46:48    1  \n",
       "13  https://www.youtube.com/watch?v=ApXoWvfEYVU 2020-07-03 22:46:55    1  "
      ]
     },
     "execution_count": 187,
     "metadata": {},
     "output_type": "execute_result"
    }
   ],
   "source": [
    "df_hour"
   ]
  },
  {
   "cell_type": "code",
   "execution_count": 205,
   "metadata": {},
   "outputs": [],
   "source": [
    "df_status['diff'] = df_status.groupby('instance_id')['date'].diff() / np.timedelta64(1, 's')"
   ]
  },
  {
   "cell_type": "code",
   "execution_count": 207,
   "metadata": {},
   "outputs": [
    {
     "data": {
      "text/plain": [
       "9.203389830508474"
      ]
     },
     "execution_count": 207,
     "metadata": {},
     "output_type": "execute_result"
    }
   ],
   "source": [
    "np.mean(df_status[\"diff\"])"
   ]
  },
  {
   "cell_type": "code",
   "execution_count": 208,
   "metadata": {},
   "outputs": [
    {
     "data": {
      "text/plain": [
       "1.8112610179515318"
      ]
     },
     "execution_count": 208,
     "metadata": {},
     "output_type": "execute_result"
    }
   ],
   "source": [
    "np.std(df_status[\"diff\"])"
   ]
  },
  {
   "cell_type": "code",
   "execution_count": null,
   "metadata": {},
   "outputs": [],
   "source": []
  }
 ],
 "metadata": {
  "kernelspec": {
   "display_name": "Python 3",
   "language": "python",
   "name": "python3"
  },
  "language_info": {
   "codemirror_mode": {
    "name": "ipython",
    "version": 3
   },
   "file_extension": ".py",
   "mimetype": "text/x-python",
   "name": "python",
   "nbconvert_exporter": "python",
   "pygments_lexer": "ipython3",
   "version": "3.7.6"
  }
 },
 "nbformat": 4,
 "nbformat_minor": 4
}
