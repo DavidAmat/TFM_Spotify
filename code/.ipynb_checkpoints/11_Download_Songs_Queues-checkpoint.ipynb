{
 "cells": [
  {
   "cell_type": "code",
   "execution_count": 37,
   "metadata": {},
   "outputs": [],
   "source": [
    "from py2neo import Graph\n",
    "import pandas as pd\n",
    "import sys\n",
    "import numpy as np\n",
    "import boto3\n",
    "import psycopg2\n",
    "import db_utils\n",
    "import tqdm"
   ]
  },
  {
   "cell_type": "markdown",
   "metadata": {},
   "source": [
    "# 1. Get the songs we want to download"
   ]
  },
  {
   "cell_type": "markdown",
   "metadata": {},
   "source": [
    "## 1.1 Query the Neo4j Database"
   ]
  },
  {
   "cell_type": "code",
   "execution_count": 33,
   "metadata": {},
   "outputs": [],
   "source": [
    "graph = Graph(bolt = True, host = \"localhost\", name = \"Spotify\", user = \"neo4j\", password = \"qrks\")"
   ]
  },
  {
   "cell_type": "code",
   "execution_count": 34,
   "metadata": {},
   "outputs": [],
   "source": [
    "query = \"\"\"\n",
    "        MATCH (t:Track) WHERE t.yt_views > 2000000000 AND t.url is NOT NULL RETURN t.track_id, t.url\n",
    "\"\"\""
   ]
  },
  {
   "cell_type": "code",
   "execution_count": 35,
   "metadata": {},
   "outputs": [],
   "source": [
    "cursor = graph.run(query)\n",
    "df = pd.DataFrame.from_records(cursor, columns=cursor.keys())"
   ]
  },
  {
   "cell_type": "code",
   "execution_count": 36,
   "metadata": {},
   "outputs": [
    {
     "data": {
      "text/html": [
       "<div>\n",
       "<style scoped>\n",
       "    .dataframe tbody tr th:only-of-type {\n",
       "        vertical-align: middle;\n",
       "    }\n",
       "\n",
       "    .dataframe tbody tr th {\n",
       "        vertical-align: top;\n",
       "    }\n",
       "\n",
       "    .dataframe thead th {\n",
       "        text-align: right;\n",
       "    }\n",
       "</style>\n",
       "<table border=\"1\" class=\"dataframe\">\n",
       "  <thead>\n",
       "    <tr style=\"text-align: right;\">\n",
       "      <th></th>\n",
       "      <th>t.track_id</th>\n",
       "      <th>t.url</th>\n",
       "    </tr>\n",
       "  </thead>\n",
       "  <tbody>\n",
       "    <tr>\n",
       "      <th>0</th>\n",
       "      <td>1KqvRRQd3lfM0pAlkGPrgD</td>\n",
       "      <td>https://www.youtube.com/watch?v=JGwWNGJdvx8</td>\n",
       "    </tr>\n",
       "    <tr>\n",
       "      <th>1</th>\n",
       "      <td>0tgVpDi06FyKpA1z0VMD4v</td>\n",
       "      <td>https://www.youtube.com/watch?v=2Vv-BfVoq4g</td>\n",
       "    </tr>\n",
       "    <tr>\n",
       "      <th>2</th>\n",
       "      <td>34gCuhDGsG4bRPIf9bb02f</td>\n",
       "      <td>https://www.youtube.com/watch?v=lp-EO5I60KA</td>\n",
       "    </tr>\n",
       "    <tr>\n",
       "      <th>3</th>\n",
       "      <td>7fwXWKdDNI5IutOMc5OKYw</td>\n",
       "      <td>https://www.youtube.com/watch?v=wnJ6LuUFpMo</td>\n",
       "    </tr>\n",
       "    <tr>\n",
       "      <th>4</th>\n",
       "      <td>69bp2EbF7Q2rqc5N3ylezZ</td>\n",
       "      <td>https://www.youtube.com/watch?v=fRh_vgS2dFE</td>\n",
       "    </tr>\n",
       "  </tbody>\n",
       "</table>\n",
       "</div>"
      ],
      "text/plain": [
       "               t.track_id                                        t.url\n",
       "0  1KqvRRQd3lfM0pAlkGPrgD  https://www.youtube.com/watch?v=JGwWNGJdvx8\n",
       "1  0tgVpDi06FyKpA1z0VMD4v  https://www.youtube.com/watch?v=2Vv-BfVoq4g\n",
       "2  34gCuhDGsG4bRPIf9bb02f  https://www.youtube.com/watch?v=lp-EO5I60KA\n",
       "3  7fwXWKdDNI5IutOMc5OKYw  https://www.youtube.com/watch?v=wnJ6LuUFpMo\n",
       "4  69bp2EbF7Q2rqc5N3ylezZ  https://www.youtube.com/watch?v=fRh_vgS2dFE"
      ]
     },
     "execution_count": 36,
     "metadata": {},
     "output_type": "execute_result"
    }
   ],
   "source": [
    "df.head()"
   ]
  },
  {
   "cell_type": "markdown",
   "metadata": {},
   "source": [
    "## 1.2 Query the Spotify Database (PostgreSQL)"
   ]
  },
  {
   "cell_type": "code",
   "execution_count": 20,
   "metadata": {},
   "outputs": [],
   "source": [
    "conn = psycopg2.connect(\"dbname=spotify\")\n",
    "cursor= conn.cursor()"
   ]
  },
  {
   "cell_type": "code",
   "execution_count": 21,
   "metadata": {},
   "outputs": [],
   "source": [
    "query = \"\"\"\n",
    "    SELECT T2.track_id, T2.href FROM (SELECT * from master_track where track_id = '7mWFF4gPADjTQjC97CgFVt') T1\n",
    "        INNER JOIN track_url T2 ON T1.track_id = T2.track_id;\n",
    "\"\"\""
   ]
  },
  {
   "cell_type": "code",
   "execution_count": 22,
   "metadata": {},
   "outputs": [],
   "source": [
    "df = db_utils.select_table(cursor, direct_query=query,\n",
    "                                 sel_cols=[\"track_id\", \"href\"])\n",
    "df.drop_duplicates(inplace=True)\n",
    "conn.close()"
   ]
  },
  {
   "cell_type": "code",
   "execution_count": 23,
   "metadata": {},
   "outputs": [
    {
     "data": {
      "text/html": [
       "<div>\n",
       "<style scoped>\n",
       "    .dataframe tbody tr th:only-of-type {\n",
       "        vertical-align: middle;\n",
       "    }\n",
       "\n",
       "    .dataframe tbody tr th {\n",
       "        vertical-align: top;\n",
       "    }\n",
       "\n",
       "    .dataframe thead th {\n",
       "        text-align: right;\n",
       "    }\n",
       "</style>\n",
       "<table border=\"1\" class=\"dataframe\">\n",
       "  <thead>\n",
       "    <tr style=\"text-align: right;\">\n",
       "      <th></th>\n",
       "      <th>track_id</th>\n",
       "      <th>href</th>\n",
       "    </tr>\n",
       "  </thead>\n",
       "  <tbody>\n",
       "    <tr>\n",
       "      <th>0</th>\n",
       "      <td>7mWFF4gPADjTQjC97CgFVt</td>\n",
       "      <td>https://www.youtube.com/watch?v=CsSgg_iZHz4</td>\n",
       "    </tr>\n",
       "  </tbody>\n",
       "</table>\n",
       "</div>"
      ],
      "text/plain": [
       "                 track_id                                         href\n",
       "0  7mWFF4gPADjTQjC97CgFVt  https://www.youtube.com/watch?v=CsSgg_iZHz4"
      ]
     },
     "execution_count": 23,
     "metadata": {},
     "output_type": "execute_result"
    }
   ],
   "source": [
    "df.head()"
   ]
  },
  {
   "cell_type": "markdown",
   "metadata": {},
   "source": [
    "# 2. Send jobs to *jobs_download* from df"
   ]
  },
  {
   "cell_type": "code",
   "execution_count": 66,
   "metadata": {},
   "outputs": [],
   "source": [
    "# Create SQS client\n",
    "sqs = boto3.client('sqs')\n",
    "URL_q_jobs = \"https://sqs.eu-west-2.amazonaws.com/555381533193/jobs_download\"\n",
    "URL_q_status = \"https://sqs.eu-west-2.amazonaws.com/555381533193/status\""
   ]
  },
  {
   "cell_type": "code",
   "execution_count": 71,
   "metadata": {},
   "outputs": [],
   "source": [
    "def send_message_jobs(track_id, href):\n",
    "    \"\"\"Send message to SQS queue: get_batch.fifo\n",
    "    Specifying at which batch_num and iteration it has arrived\n",
    "    \"\"\"\n",
    "    response = sqs.send_message(\n",
    "        QueueUrl=URL_q_jobs,\n",
    "        DelaySeconds=0,\n",
    "        MessageAttributes={},\n",
    "        MessageBody=(f\"{track_id}::{href}\")    )\n"
   ]
  },
  {
   "cell_type": "markdown",
   "metadata": {},
   "source": [
    "The df must have 2 columns: track_id and the url sent"
   ]
  },
  {
   "cell_type": "code",
   "execution_count": 129,
   "metadata": {},
   "outputs": [
    {
     "name": "stderr",
     "output_type": "stream",
     "text": [
      "/Users/david/.local/share/virtualenvs/Spotify-xJiBt4R8/lib/python3.7/site-packages/ipykernel_launcher.py:3: TqdmDeprecationWarning: This function will be removed in tqdm==5.0.0\n",
      "Please use `tqdm.notebook.tqdm` instead of `tqdm.tqdm_notebook`\n",
      "  This is separate from the ipykernel package so we can avoid doing imports until\n"
     ]
    },
    {
     "data": {
      "application/vnd.jupyter.widget-view+json": {
       "model_id": "8a451aed18c047a88e543c608006ea4d",
       "version_major": 2,
       "version_minor": 0
      },
      "text/plain": [
       "HBox(children=(FloatProgress(value=1.0, bar_style='info', max=1.0), HTML(value='')))"
      ]
     },
     "metadata": {},
     "output_type": "display_data"
    },
    {
     "name": "stdout",
     "output_type": "stream",
     "text": [
      "\n"
     ]
    }
   ],
   "source": [
    "# Send messages\n",
    "df.columns = [\"track_id\", \"url\"]\n",
    "for i, row in tqdm.tqdm_notebook(df.iterrows()):\n",
    "    send_message_jobs(row.track_id, row.url)"
   ]
  },
  {
   "cell_type": "markdown",
   "metadata": {},
   "source": [
    "# 3. Get the status"
   ]
  },
  {
   "cell_type": "code",
   "execution_count": 126,
   "metadata": {},
   "outputs": [],
   "source": [
    "def get_status():\n",
    "    \"\"\"\n",
    "    Receive message from SQS queue: job_download\n",
    "    \"\"\"\n",
    "    response = sqs.receive_message(\n",
    "        QueueUrl=URL_q_status,\n",
    "        MaxNumberOfMessages=3,\n",
    "        MessageAttributeNames=[\n",
    "            'All'\n",
    "        ],\n",
    "        VisibilityTimeout=30, # TODO!!! \n",
    "        WaitTimeSeconds=0\n",
    "    )\n",
    "    return response\n",
    "\n",
    "def parse_job_message(response):\n",
    "    \"\"\"Parses the response as json to output the batch and iter numbers from message\"\"\"\n",
    "    resp_list = response[\"Messages\"][0][\"Body\"].split(\"::\")\n",
    "    return resp_list"
   ]
  },
  {
   "cell_type": "code",
   "execution_count": 102,
   "metadata": {},
   "outputs": [],
   "source": [
    "counter = 0\n",
    "set_messages = set()\n",
    "while counter < 10:\n",
    "    counter += 1\n",
    "    resp_status = get_status()\n",
    "    try:\n",
    "        set_messages.add(parse_job_message(response))\n",
    "    except KeyError:\n",
    "        print(\"Finished!\")\n",
    "        break"
   ]
  },
  {
   "cell_type": "code",
   "execution_count": 104,
   "metadata": {},
   "outputs": [
    {
     "data": {
      "text/plain": [
       "10"
      ]
     },
     "execution_count": 104,
     "metadata": {},
     "output_type": "execute_result"
    }
   ],
   "source": [
    "counter"
   ]
  },
  {
   "cell_type": "code",
   "execution_count": 107,
   "metadata": {},
   "outputs": [
    {
     "data": {
      "text/plain": [
       "{'ResponseMetadata': {'RequestId': 'e7d6ffca-0de6-5972-aea3-a8b317665e89',\n",
       "  'HTTPStatusCode': 200,\n",
       "  'HTTPHeaders': {'x-amzn-requestid': 'e7d6ffca-0de6-5972-aea3-a8b317665e89',\n",
       "   'date': 'Fri, 03 Jul 2020 11:36:32 GMT',\n",
       "   'content-type': 'text/xml',\n",
       "   'content-length': '240'},\n",
       "  'RetryAttempts': 0}}"
      ]
     },
     "execution_count": 107,
     "metadata": {},
     "output_type": "execute_result"
    }
   ],
   "source": [
    "resp_status = get_status()\n",
    "resp_status"
   ]
  },
  {
   "cell_type": "code",
   "execution_count": 127,
   "metadata": {},
   "outputs": [],
   "source": [
    "status_response = get_status()\n",
    "vals = parse_job_message(status_response)"
   ]
  },
  {
   "cell_type": "code",
   "execution_count": 128,
   "metadata": {},
   "outputs": [
    {
     "data": {
      "text/plain": [
       "['i-08c75636009ae4a27',\n",
       " '1',\n",
       " '1KqvRRQd3lfM0pAlkGPrgD',\n",
       " 'https://www.youtube.com/watch?v=JGwWNGJdvx8',\n",
       " '2020-07-03 09:58:06']"
      ]
     },
     "execution_count": 128,
     "metadata": {},
     "output_type": "execute_result"
    }
   ],
   "source": [
    "vals"
   ]
  },
  {
   "cell_type": "code",
   "execution_count": 57,
   "metadata": {},
   "outputs": [],
   "source": [
    "\n",
    "values.append(vals)"
   ]
  },
  {
   "cell_type": "code",
   "execution_count": 58,
   "metadata": {},
   "outputs": [],
   "source": [
    "df_status = pd.DataFrame(values, columns = [\"instance_id\", \"status\", \"track_id\", \"yt_url\", \"date\"])"
   ]
  },
  {
   "cell_type": "code",
   "execution_count": 59,
   "metadata": {},
   "outputs": [
    {
     "data": {
      "text/html": [
       "<div>\n",
       "<style scoped>\n",
       "    .dataframe tbody tr th:only-of-type {\n",
       "        vertical-align: middle;\n",
       "    }\n",
       "\n",
       "    .dataframe tbody tr th {\n",
       "        vertical-align: top;\n",
       "    }\n",
       "\n",
       "    .dataframe thead th {\n",
       "        text-align: right;\n",
       "    }\n",
       "</style>\n",
       "<table border=\"1\" class=\"dataframe\">\n",
       "  <thead>\n",
       "    <tr style=\"text-align: right;\">\n",
       "      <th></th>\n",
       "      <th>instance_id</th>\n",
       "      <th>status</th>\n",
       "      <th>track_id</th>\n",
       "      <th>yt_url</th>\n",
       "      <th>date</th>\n",
       "    </tr>\n",
       "  </thead>\n",
       "  <tbody>\n",
       "    <tr>\n",
       "      <th>0</th>\n",
       "      <td>i-08c75636009ae4a27</td>\n",
       "      <td>1</td>\n",
       "      <td>1KqvRRQd3lfM0pAlkGPrgD</td>\n",
       "      <td>https://www.youtube.com/watch?v=JGwWNGJdvx8</td>\n",
       "      <td>2020-07-03 09:58:06</td>\n",
       "    </tr>\n",
       "  </tbody>\n",
       "</table>\n",
       "</div>"
      ],
      "text/plain": [
       "           instance_id status                track_id  \\\n",
       "0  i-08c75636009ae4a27      1  1KqvRRQd3lfM0pAlkGPrgD   \n",
       "\n",
       "                                        yt_url                 date  \n",
       "0  https://www.youtube.com/watch?v=JGwWNGJdvx8  2020-07-03 09:58:06  "
      ]
     },
     "execution_count": 59,
     "metadata": {},
     "output_type": "execute_result"
    }
   ],
   "source": [
    "df_status"
   ]
  },
  {
   "cell_type": "code",
   "execution_count": 48,
   "metadata": {},
   "outputs": [
    {
     "data": {
      "text/plain": [
       "'i-08c75636009ae4a27::1::1KqvRRQd3lfM0pAlkGPrgD::https://www.youtube.com/watch?v=JGwWNGJdvx8::2020-07-03 09:58:06'"
      ]
     },
     "execution_count": 48,
     "metadata": {},
     "output_type": "execute_result"
    }
   ],
   "source": [
    "status_response[\"Messages\"][0][\"Body\"].split()"
   ]
  },
  {
   "cell_type": "code",
   "execution_count": 43,
   "metadata": {},
   "outputs": [
    {
     "data": {
      "text/plain": [
       "{'Messages': [{'MessageId': '57a6cc2e-ad6a-488b-8afa-9cd91a030346',\n",
       "   'ReceiptHandle': 'AQEByniGB3NJzvb/Fb7EnsjfgP1bdDAZgxYzrzagJNu+uGJYITnbPKw7aCb9MUoL4iuJOFhsB2ricIjszEMIbLSjZS/vHR4wcybd0XXso1EujD+r65/0k9g7d40hkNQlFiTaRFETKcZNTjQZqISa1gkAPFOfktDcMTt9PHpEKa/6Ar+QdMH27/ffKpcYoyoz9jlEiVohLAgpnuvijyHmPG/91bVzCq9/LyAqyVyVAoIMlJ6cwzgEwn6GVDzNmXVEnNOMOk2z2C4Y6y5g5ejNDXVMWw4sztlWaG7V1XyiLa8vk8JmngKMVyghjeaAxx9r5XYKL5ZIlT5Rhx/5HLwuBYP3fxbBdz4gEZYuHxcYDeU8vgzNI8kZ1xxsIlO8TKe4sY2M',\n",
       "   'MD5OfBody': 'fc07e76eb16684d51bd68241c96daa19',\n",
       "   'Body': 'i-08c75636009ae4a27::1::1KqvRRQd3lfM0pAlkGPrgD::https://www.youtube.com/watch?v=JGwWNGJdvx8::2020-07-03 09:58:06'}],\n",
       " 'ResponseMetadata': {'RequestId': 'a37f39be-558b-57dc-9386-6ec751d9f659',\n",
       "  'HTTPStatusCode': 200,\n",
       "  'HTTPHeaders': {'x-amzn-requestid': 'a37f39be-558b-57dc-9386-6ec751d9f659',\n",
       "   'date': 'Fri, 03 Jul 2020 10:01:54 GMT',\n",
       "   'content-type': 'text/xml',\n",
       "   'content-length': '939'},\n",
       "  'RetryAttempts': 0}}"
      ]
     },
     "execution_count": 43,
     "metadata": {},
     "output_type": "execute_result"
    }
   ],
   "source": [
    "st"
   ]
  },
  {
   "cell_type": "code",
   "execution_count": null,
   "metadata": {},
   "outputs": [],
   "source": [
    "all_messages=[]\n",
    "rs=get_status(10)\n",
    "while len(rs)>0:\n",
    "    all_messages.extend(rs)\n",
    "    rs=q.get_messages(10)"
   ]
  },
  {
   "cell_type": "code",
   "execution_count": null,
   "metadata": {},
   "outputs": [],
   "source": []
  },
  {
   "cell_type": "code",
   "execution_count": 76,
   "metadata": {},
   "outputs": [],
   "source": [
    "def get_job():\n",
    "    \"\"\"\n",
    "    Receive message from SQS queue: job_download.fifo\n",
    "    \"\"\"\n",
    "    response = sqs.receive_message(\n",
    "        QueueUrl=URL_q_jobs,\n",
    "        MaxNumberOfMessages=1,\n",
    "        MessageAttributeNames=[\n",
    "            'All'\n",
    "        ],\n",
    "        VisibilityTimeout=30, # TODO!!! \n",
    "        WaitTimeSeconds=0\n",
    "    )\n",
    "    return response"
   ]
  },
  {
   "cell_type": "code",
   "execution_count": 77,
   "metadata": {},
   "outputs": [],
   "source": [
    "response = get_job()"
   ]
  },
  {
   "cell_type": "code",
   "execution_count": 78,
   "metadata": {},
   "outputs": [
    {
     "data": {
      "text/plain": [
       "{'Messages': [{'MessageId': '0c2caaf7-b04f-45db-b7b3-ebe75ef9e972',\n",
       "   'ReceiptHandle': 'AQEBGp8+72PD/bA3aRQqIXlhCXkAkSkbdZEw86kvv7f9P/ajK9YToR8icN4tTX8wsaWus8Zcg0qag9YHzgv6FjumXaFp3MvOKX6UEit9hRQXD45UWgbPVMLO9iZ6MK4O3Perwa7xWGo2n4eDOvIm4h1wv+QAjyZmiyuJmZC1UZ92JTtyPWlF9t9D1fwASOLM36KgBW3nqx1uzDRkErOGrdOcLU8rdVai1FiO05r1KVEeBwf3ZAn4fdlfgg9wveKyT/AllgPidChcX7LHWttuwwzIkRdPJqM6Jz3o0YHitaU0iKlvO9ThmK59VXpYIZbM3dugJbdhE5lNIqskvVqNjgDh4FDWzzQEEQZqXn52aVyKnQP6Ay/9Quo7CZwfRVtHhaTgDXTkSz6ovZy29FLUKP8Bgg==',\n",
       "   'MD5OfBody': '6cd5fe3ea6a491873bc1a17c1097f424',\n",
       "   'Body': '1WniHvhq9zTkny0WvGXX8o::https://www.youtube.com/watch?v=6Mgqbai3fKo'}],\n",
       " 'ResponseMetadata': {'RequestId': '967f77a6-7816-51f6-9f92-20df75f85ed7',\n",
       "  'HTTPStatusCode': 200,\n",
       "  'HTTPHeaders': {'x-amzn-requestid': '967f77a6-7816-51f6-9f92-20df75f85ed7',\n",
       "   'date': 'Fri, 03 Jul 2020 10:42:54 GMT',\n",
       "   'content-type': 'text/xml',\n",
       "   'content-length': '918'},\n",
       "  'RetryAttempts': 0}}"
      ]
     },
     "execution_count": 78,
     "metadata": {},
     "output_type": "execute_result"
    }
   ],
   "source": [
    "response"
   ]
  },
  {
   "cell_type": "markdown",
   "metadata": {},
   "source": [
    "# 4. List current S3 objects (downloaded audio)"
   ]
  },
  {
   "cell_type": "code",
   "execution_count": 120,
   "metadata": {},
   "outputs": [],
   "source": [
    "import boto3\n",
    "s3 = boto3.resource('s3')\n",
    "allFiles = s3.Bucket(\"tfmdavid\").objects.all()"
   ]
  },
  {
   "cell_type": "code",
   "execution_count": 124,
   "metadata": {},
   "outputs": [],
   "source": [
    "downloaded_mp3 = list()\n",
    "for file in allFiles:\n",
    "    \n",
    "    ff = file.key\n",
    "    if \".mp3\" in ff:\n",
    "        downloaded_mp3.append(ff.split(\"/\")[1].split(\".\")[0])"
   ]
  },
  {
   "cell_type": "code",
   "execution_count": 125,
   "metadata": {},
   "outputs": [
    {
     "data": {
      "text/plain": [
       "['0ENSn4fwAbCGeFGVUbXEU3',\n",
       " '0azC730Exh71aQlOt9Zj3y',\n",
       " '0bs6Z1COIcTukOIql6CRGF',\n",
       " '0tgVpDi06FyKpA1z0VMD4v',\n",
       " '1KqvRRQd3lfM0pAlkGPrgD',\n",
       " '1QzFhzIOW7CyRJLpmq5CM0',\n",
       " '1WniHvhq9zTkny0WvGXX8o',\n",
       " '1brwdYwjltrJo7WHpIvbYt',\n",
       " '1q676iYDR3GeJtOHdyggIU',\n",
       " '1u8c2t2Cy7UBoG4ArRcF5g',\n",
       " '1zsG4eaZmkA1dvjDDsAGLK',\n",
       " '2QBk6HiFiv2exuwGaupOoE',\n",
       " '2ekn2ttSfGqwhhate0LSR0',\n",
       " '32OlwWuMpZ6b0aN2RZOeMS',\n",
       " '34gCuhDGsG4bRPIf9bb02f',\n",
       " '3CRDbSIZ4r5MsZ0YwxuEkn',\n",
       " '3MPvgWrFplhNi3QncC5eUS',\n",
       " '3V8UKqhEK5zBkBb6d6ub8i',\n",
       " '3pzjHKrQSvXGHQ98dx18HI',\n",
       " '4VrWlk8IQxevMvERoX08iC',\n",
       " '4X5V0XWXYbjlq4yBuPiYfA',\n",
       " '4tCtwWceOPWzenK2HAIJSb',\n",
       " '58ENoZ4jRR0tnHPagOwYqk',\n",
       " '5eWgDlp3k6Tb5RD8690s6I',\n",
       " '5jrdCoLpJSvHHorevXBATy',\n",
       " '5ygDXis42ncn6kYG14lEVG',\n",
       " '69bp2EbF7Q2rqc5N3ylezZ',\n",
       " '6F5c58TMEs1byxUstkzVeM',\n",
       " '6Za3190Sbw39BBC77WSS1C',\n",
       " '6epn3r7S14KUqlReYr77hA',\n",
       " '6habFhsOp2NvshLv26DqMb',\n",
       " '7BKLCZ1jbUBVqRi2FVlTVw',\n",
       " '7DFNE7NO0raLIUbgzY2rzm',\n",
       " '7fa9MBXhVfQ8P8Df9OEbD8',\n",
       " '7fwXWKdDNI5IutOMc5OKYw',\n",
       " '7n9Q6bXSjm74uCtajkddPt',\n",
       " '7wqSzGeodspE3V6RBD5W8L',\n",
       " '7y2YUIyCuVhBidENVT0068']"
      ]
     },
     "execution_count": 125,
     "metadata": {},
     "output_type": "execute_result"
    }
   ],
   "source": [
    "downloaded_mp3"
   ]
  },
  {
   "cell_type": "code",
   "execution_count": null,
   "metadata": {},
   "outputs": [],
   "source": []
  }
 ],
 "metadata": {
  "kernelspec": {
   "display_name": "Python 3",
   "language": "python",
   "name": "python3"
  },
  "language_info": {
   "codemirror_mode": {
    "name": "ipython",
    "version": 3
   },
   "file_extension": ".py",
   "mimetype": "text/x-python",
   "name": "python",
   "nbconvert_exporter": "python",
   "pygments_lexer": "ipython3",
   "version": "3.7.6"
  }
 },
 "nbformat": 4,
 "nbformat_minor": 4
}
