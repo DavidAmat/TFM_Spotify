{
 "cells": [
  {
   "cell_type": "markdown",
   "metadata": {},
   "source": [
    "# 08_Graph_Analysis"
   ]
  },
  {
   "cell_type": "markdown",
   "metadata": {},
   "source": [
    "### All songs from Artist "
   ]
  },
  {
   "cell_type": "markdown",
   "metadata": {},
   "source": [
    "```cypher\n",
    "\n",
    "// All songs\n",
    "MATCH (a:Artist {artist_name: 'Anuel Aa'})-[:ART_TR]->(t:Track)\n",
    "RETURN a, t\n",
    "                                                       \n",
    "// Search by artist_id\n",
    "MATCH (a:Artist)-[:ART_TR]->(t:Track)\n",
    "WHERE a.artist_id =~ '5aIqB5nVVvmFsvSdExz408'\n",
    "RETURN a, t                                                       \n",
    "                                                       \n",
    "// All songs of a artist name queried\n",
    "MATCH (a:Artist)-[:ART_TR]->(t:Track)\n",
    "WHERE a.artist_name =~ '.*Olóndriz.*'\n",
    "RETURN a, t\n",
    "                                                       \n",
    "// Particular song from an Artist\n",
    "MATCH (a:Artist {artist_name: 'Anuel Aa'})-[:ART_TR]->(t:Track)\n",
    "WHERE t.track_name =~ '.*tura.*'\n",
    "RETURN a, t\n",
    "```"
   ]
  },
  {
   "cell_type": "markdown",
   "metadata": {},
   "source": [
    "### Search songs"
   ]
  },
  {
   "cell_type": "markdown",
   "metadata": {},
   "source": [
    "```cypher\n",
    "// Search a song\n",
    "MATCH (a:Artist)-[:ART_TR]->(t:Track)\n",
    "WHERE toLower(t.track_name) =~ '.*una lluna.*'\n",
    "RETURN a, t\n",
    "\n",
    "// Search a song and the genre of its artists\n",
    "MATCH (a:Artist)-[:ART_TR]->(t:Track)\n",
    "WHERE toLower(t.track_name) =~ '.*una lluna.*'\n",
    "WITH a, t\n",
    "MATCH (g:Genre)-[:GEN_ART]->(a:Artist)\n",
    "RETURN a, g, t\n",
    "\n",
    "// Most Streamed songs (GOOD)\n",
    "MATCH (a:Artist)-[:ART_TR]->(t:Track)\n",
    "WITH a, t\n",
    "ORDER BY t.streams DESC\n",
    "LIMIT 20\n",
    "MATCH (g:Genre)-[:GEN_ART]->(a:Artist)\n",
    "RETURN a, g, t\n",
    "\n",
    "                             \n",
    "```"
   ]
  },
  {
   "cell_type": "markdown",
   "metadata": {},
   "source": [
    "### Search genres"
   ]
  },
  {
   "cell_type": "markdown",
   "metadata": {},
   "source": [
    "```cypher\n",
    "\n",
    "// Artist from a genre with related artists\n",
    "MATCH (g:Genre)-[:GEN_ART]->(a:Artist)\n",
    "MATCH (a:Artist)-[:REL_ART]->(a2:Artist)\n",
    "WHERE toLower(g.genre_id) =~ '.*catala.*'\n",
    "RETURN a, g, a2\n",
    "\n",
    "// Artist from a genre\n",
    "MATCH (g:Genre)-[:GEN_ART]->(a:Artist)\n",
    "WHERE g.genre_id = 'classical'\n",
    "RETURN a, g\n",
    "\n",
    "// Genre of a artist\n",
    "MATCH (g:Genre)-[:GEN_ART]->(a:Artist)-[:ART_TR]->(t:Track)\n",
    "WHERE a.artist_id =~ '5aIqB5nVVvmFsvSdExz408'\n",
    "RETURN a, t, g    \n",
    "\n",
    "\n",
    "// Genre of an artist\n",
    "MATCH (g:Genre)-[:GEN_ART]->(a:Artist)-[:ART_TR]->(t:Track)\n",
    "WHERE a.artist_name =~ '.*Fito.*'\n",
    "RETURN a, t, g    \n",
    "\n",
    "// Genre of an artist searching by song\n",
    "MATCH (g:Genre)-[:GEN_ART]->(a:Artist)-[:ART_TR]->(t:Track)\n",
    "WHERE toLower(t.track_name) =~ '.*tusa.*'\n",
    "RETURN a, t, g  \n",
    "\n",
    "// Top artists of reggaeton\n",
    "MATCH (g:Genre)-[:GEN_ART]->(a:Artist)-[:REL_ART]->(a2:Artist)<-[:GEN_ART]-(g:Genre)\n",
    "WHERE toLower(g.genre_id) = 'reggaeton' AND a.popularity > 80 AND a2.popularity > 80\n",
    "RETURN a, a2, g  \n",
    "\n",
    "// Top artists of reggaeton\n",
    "MATCH (g:Genre)-[:GEN_ART]->(a:Artist)-[:ART_TR]->(t:Track)<-[:ART_TR]-(a1:Artist)\n",
    "WHERE toLower(g.genre_id) = 'reggaeton' AND a.popularity > 80 AND t.streams > 700000000\n",
    "RETURN a, t, a1, g  \n",
    "\n",
    "\n",
    "```"
   ]
  },
  {
   "cell_type": "code",
   "execution_count": null,
   "metadata": {},
   "outputs": [],
   "source": []
  }
 ],
 "metadata": {
  "kernelspec": {
   "display_name": "Python 3",
   "language": "python",
   "name": "python3"
  },
  "language_info": {
   "codemirror_mode": {
    "name": "ipython",
    "version": 3
   },
   "file_extension": ".py",
   "mimetype": "text/x-python",
   "name": "python",
   "nbconvert_exporter": "python",
   "pygments_lexer": "ipython3",
   "version": "3.7.6"
  }
 },
 "nbformat": 4,
 "nbformat_minor": 4
}
