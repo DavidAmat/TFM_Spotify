{
 "cells": [
  {
   "cell_type": "markdown",
   "metadata": {},
   "source": [
    "# 03 Rel Artist Track\n",
    "\n",
    "Put the relationship between a song and the artists they feature the song"
   ]
  },
  {
   "cell_type": "code",
   "execution_count": 1,
   "metadata": {},
   "outputs": [],
   "source": [
    "import pandas as pd\n",
    "import sys\n",
    "import numpy as np\n",
    "import os\n",
    "import requests\n",
    "import datetime\n",
    "import base64\n",
    "import json\n",
    "import re\n",
    "from collections import Counter\n",
    "import psycopg2\n",
    "import tqdm\n",
    "from bs4 import BeautifulSoup\n",
    "from importlib import reload\n",
    "pd.options.mode.chained_assignment = None  # default='warn'"
   ]
  },
  {
   "cell_type": "code",
   "execution_count": 2,
   "metadata": {},
   "outputs": [],
   "source": [
    "# We create a utils file with a class to store the basic commands and client ID for the Spotify API\n",
    "import aux_utils\n",
    "#reload(aux_utils)"
   ]
  },
  {
   "cell_type": "code",
   "execution_count": 3,
   "metadata": {},
   "outputs": [],
   "source": [
    "# We have created a list of functions in db_utils.py\n",
    "import db_utils\n",
    "#reload(db_utils)"
   ]
  },
  {
   "cell_type": "markdown",
   "metadata": {},
   "source": [
    "### Spotify API Connection"
   ]
  },
  {
   "cell_type": "code",
   "execution_count": 4,
   "metadata": {},
   "outputs": [],
   "source": [
    "# Instantiate the class\n",
    "spotify_utils = aux_utils.spotify_utils\n",
    "sp_ut = spotify_utils()\n",
    "\n",
    "# Use the method connect to connect with the credentials\n",
    "sp = sp_ut.connect()"
   ]
  },
  {
   "cell_type": "markdown",
   "metadata": {},
   "source": [
    "### Database connection "
   ]
  },
  {
   "cell_type": "code",
   "execution_count": 5,
   "metadata": {},
   "outputs": [],
   "source": [
    "conn = psycopg2.connect(\"dbname=spotify\")\n",
    "cursor= conn.cursor()"
   ]
  },
  {
   "cell_type": "code",
   "execution_count": 6,
   "metadata": {},
   "outputs": [],
   "source": [
    "# Extrack all the artists\n",
    "df_artist = db_utils.select_table(cursor, table=\"master_artist\", sel_cols=[\"artist_id\", \"is_main\"])\n",
    "\n",
    "# Extrack all the tracks\n",
    "df_tracks = db_utils.select_table(cursor, table=\"master_track\", sel_cols=[\"track_id\", \"streams\"])"
   ]
  },
  {
   "cell_type": "code",
   "execution_count": 7,
   "metadata": {},
   "outputs": [],
   "source": [
    "# Set of artists MAIN\n",
    "mask = df_artist[\"is_main\"]\n",
    "df_main_artists = df_artist[mask] #main artists in the kworb dataset\n",
    "set_artists_main = set(df_main_artists[\"artist_id\"])\n",
    "\n",
    "# Set of artists OTHER (from our list)\n",
    "df_other_artists = df_artist[~mask]\n",
    "set_artists_other = set(df_other_artists[\"artist_id\"])"
   ]
  },
  {
   "cell_type": "code",
   "execution_count": 8,
   "metadata": {},
   "outputs": [],
   "source": [
    "# Set of tracks MAIN\n",
    "mask = df_tracks[\"streams\"] > 0\n",
    "df_tracks_main = df_tracks[mask]\n",
    "set_tracks_main = set(df_tracks_main[\"track_id\"])\n",
    "\n",
    "# Set of artists OTHER\n",
    "df_tracks_other = df_tracks[~mask]\n",
    "set_tracks_other = set(df_tracks_other[\"track_id\"])"
   ]
  },
  {
   "cell_type": "markdown",
   "metadata": {},
   "source": [
    "# 1. MAIN Artists-Tracks: featuring artists"
   ]
  },
  {
   "cell_type": "code",
   "execution_count": 9,
   "metadata": {},
   "outputs": [],
   "source": [
    "def art_url(artist_id):\n",
    "    return f\"https://kworb.net/spotify/artist/{artist_id}.html\"\n",
    "\n",
    "def get_html(url):\n",
    "    \"\"\"\n",
    "    Searches a url and retrieves an html and returns the object soup from bs4\n",
    "    \"\"\"\n",
    "    # Requests the html of this page\n",
    "    r = requests.get(url)\n",
    "    r.encoding = 'utf-8'\n",
    "    \n",
    "    # Read the html text with Beautiful soup\n",
    "    soup = BeautifulSoup(r.text, 'html.parser')\n",
    "    \n",
    "    return soup\n",
    "\n",
    "def get_table_artist_tracks(artist_id):\n",
    "    \"\"\"\n",
    "    Given an aritst_id it looks for the kworb web page for that artists and a table of its songs is parsed\n",
    "    and converted to a dataframe\n",
    "    \"\"\"\n",
    "    \n",
    "    # Get the html\n",
    "    soup = get_html(art_url(artist_id))\n",
    "\n",
    "    # Find the table where there are the artists sorted by streams\n",
    "    table = soup.find('table')\n",
    "\n",
    "    # Convert to dataframe\n",
    "    df = pd.read_html(str(table))[0]\n",
    "    df['Peak Date'] = df['Peak Date'].apply(lambda x: pd.to_datetime(str(x), format='%Y%m%d'))\n",
    "    df[\"Peak Date\"] = df[\"Peak Date\"].astype(str) # Convert it to string to push it into PostGRESQL as date\n",
    "    \n",
    "    # Impose Track column to be a string\n",
    "    df[\"Track\"] = df[\"Track\"].astype(str)\n",
    "    df[\"Track\"] = df[\"Track\"].str.lower()\n",
    "    return table, df"
   ]
  },
  {
   "cell_type": "code",
   "execution_count": 10,
   "metadata": {},
   "outputs": [],
   "source": [
    "# Dictionary to store for each artist, each song, the featuring artists\n",
    "dict_main = {}"
   ]
  },
  {
   "cell_type": "code",
   "execution_count": null,
   "metadata": {},
   "outputs": [
    {
     "name": "stderr",
     "output_type": "stream",
     "text": [
      "/Users/david/.local/share/virtualenvs/Spotify-xJiBt4R8/lib/python3.7/site-packages/ipykernel_launcher.py:1: TqdmDeprecationWarning: This function will be removed in tqdm==5.0.0\n",
      "Please use `tqdm.notebook.tqdm` instead of `tqdm.tqdm_notebook`\n",
      "  \"\"\"Entry point for launching an IPython kernel.\n"
     ]
    },
    {
     "data": {
      "application/vnd.jupyter.widget-view+json": {
       "model_id": "0407a28ae4b24411a6808f834442d73f",
       "version_major": 2,
       "version_minor": 0
      },
      "text/plain": [
       "HBox(children=(FloatProgress(value=1.0, bar_style='info', max=1.0), HTML(value='')))"
      ]
     },
     "metadata": {},
     "output_type": "display_data"
    }
   ],
   "source": [
    "for i, row in tqdm.tqdm_notebook(df_main_artists.iterrows()):\n",
    "    \n",
    "    # Get the artist ID\n",
    "    artist_id = row.artist_id\n",
    "    \n",
    "    # Create a dictionary for that artist\n",
    "    dict_main[artist_id] = {}\n",
    "    \n",
    "    # Get the <tracks of that artist\n",
    "    table, df = get_table_artist_tracks(artist_id)\n",
    "    \n",
    "    # For every row\n",
    "    for tr in table.findAll(\"tr\"):\n",
    "        \n",
    "       # Get the cells \n",
    "        rows_cells = tr.findAll(\"td\")\n",
    "        \n",
    "        # Flag if song is in the master_track\n",
    "        in_master_track = True # as default is true\n",
    "        \n",
    "        # For each cell\n",
    "        for each_cell in rows_cells:\n",
    "            \n",
    "            # Check where the hrefs for the track and feat artists appear\n",
    "            get_all_links = each_cell.findAll(\"a\")\n",
    "            \n",
    "            # Loop through the links and differentiate if it is a link of the track id or a link of the artist feat\n",
    "            for href_element in get_all_links:\n",
    "                \n",
    "                #Href link\n",
    "                link = href_element[\"href\"]\n",
    "                \n",
    "                # Text in the link (if the link is for track, it is the track_name, if not, is the artist_name)\n",
    "                txt = href_element.text.lower()\n",
    "                txt = txt.replace(\"'\", \" \")\n",
    "                \n",
    "                # If the link is for a cell to inform the track\n",
    "                if '/track/' in link: \n",
    "\n",
    "                    # Track ID\n",
    "                    track_id  = link.split(\"/\")[-1].split(\".\")[0] \n",
    "                    \n",
    "                    # Check if the track_ID is in our database\n",
    "                    if track_id in set_tracks_main:\n",
    "                        \n",
    "                        # Add this track to the dictionary\n",
    "                        dict_main[artist_id][track_id] = []\n",
    "                        \n",
    "                        \n",
    "                    else: # if the track is NOT in our database\n",
    "                        \n",
    "                        in_master_track = False # change the Flag\n",
    "                        break\n",
    "\n",
    "                elif link: # there is a link but it is not the track link, hence, it is the feat artist link\n",
    "\n",
    "                    # If the link is for the feat. artist\n",
    "                    feat_artist = link.split(\".\")[0] \n",
    "                    \n",
    "                    # If the artist is in the set_artist:\n",
    "                    if feat_artist in set_artists_main or feat_artist in set_artists_other:\n",
    "                        dict_main[artist_id][track_id].append(feat_artist)\n",
    "            \n",
    "            # If the flag is False, it means this song is not in our dataset\n",
    "            if in_master_track is False:\n",
    "                break"
   ]
  },
  {
   "cell_type": "code",
   "execution_count": null,
   "metadata": {},
   "outputs": [],
   "source": []
  }
 ],
 "metadata": {
  "kernelspec": {
   "display_name": "Python 3",
   "language": "python",
   "name": "python3"
  },
  "language_info": {
   "codemirror_mode": {
    "name": "ipython",
    "version": 3
   },
   "file_extension": ".py",
   "mimetype": "text/x-python",
   "name": "python",
   "nbconvert_exporter": "python",
   "pygments_lexer": "ipython3",
   "version": "3.7.6"
  }
 },
 "nbformat": 4,
 "nbformat_minor": 4
}
