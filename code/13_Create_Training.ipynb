{
 "cells": [
  {
   "cell_type": "code",
   "execution_count": 1,
   "metadata": {},
   "outputs": [],
   "source": [
    "from py2neo import Graph\n",
    "import pandas as pd\n",
    "import sys\n",
    "import numpy as np\n",
    "import boto3\n",
    "import psycopg2\n",
    "import db_utils\n",
    "import tqdm\n",
    "import matplotlib"
   ]
  },
  {
   "cell_type": "markdown",
   "metadata": {},
   "source": [
    "Strategy based on such article: https://medium.com/@crimy/one-shot-learning-siamese-networks-and-triplet-loss-with-keras-2885ed022352"
   ]
  },
  {
   "cell_type": "markdown",
   "metadata": {},
   "source": [
    "# 1. Extract data of loaded images on S3"
   ]
  },
  {
   "cell_type": "code",
   "execution_count": 2,
   "metadata": {},
   "outputs": [],
   "source": [
    "def query_results_to_df(query_results):\n",
    "    if len(query_results) == 0:\n",
    "        return False\n",
    "    cols = [\"instance_id\",\"stat\",\"track_id\",\"win\",\"ini\",\"fin\",\"rows\",\"cols\",\"date\"]\n",
    "    return pd.DataFrame(query_results, columns=cols)"
   ]
  },
  {
   "cell_type": "code",
   "execution_count": 3,
   "metadata": {},
   "outputs": [],
   "source": [
    "query_status = \"\"\" \n",
    "SELECT * FROM status_specto\n",
    "\"\"\"\n",
    "ENDPOINT=\"tracksurl.czjs6btlvfgd.eu-west-2.rds.amazonaws.com\"\n",
    "PORT=\"5432\"\n",
    "USR=\"david\"\n",
    "REGION=\"eu-west-2\"\n",
    "DBNAME=\"postgres\"\n",
    "PSSWD=[\"qrks\",\"jfut\",\"iv\",\"uf\",\"1\"]\n",
    "\n",
    "conn = psycopg2.connect(host=ENDPOINT, port=PORT, database=DBNAME, user=USR, password=''.join(PSSWD))\n",
    "cur = conn.cursor()\n",
    "cur.execute(query_status)\n",
    "query_results = cur.fetchall()\n",
    "df_status = query_results_to_df(query_results)\n",
    "conn.close()"
   ]
  },
  {
   "cell_type": "markdown",
   "metadata": {},
   "source": [
    "## 1.1 Filter"
   ]
  },
  {
   "cell_type": "markdown",
   "metadata": {},
   "source": [
    "### 1.1.1 Images that are not well-shaped"
   ]
  },
  {
   "cell_type": "code",
   "execution_count": 4,
   "metadata": {},
   "outputs": [],
   "source": [
    "df = df_status[df_status[\"cols\"].isin({937, 938})]"
   ]
  },
  {
   "cell_type": "code",
   "execution_count": 5,
   "metadata": {},
   "outputs": [
    {
     "data": {
      "text/html": [
       "<div>\n",
       "<style scoped>\n",
       "    .dataframe tbody tr th:only-of-type {\n",
       "        vertical-align: middle;\n",
       "    }\n",
       "\n",
       "    .dataframe tbody tr th {\n",
       "        vertical-align: top;\n",
       "    }\n",
       "\n",
       "    .dataframe thead th {\n",
       "        text-align: right;\n",
       "    }\n",
       "</style>\n",
       "<table border=\"1\" class=\"dataframe\">\n",
       "  <thead>\n",
       "    <tr style=\"text-align: right;\">\n",
       "      <th></th>\n",
       "      <th>instance_id</th>\n",
       "      <th>stat</th>\n",
       "      <th>track_id</th>\n",
       "      <th>win</th>\n",
       "      <th>ini</th>\n",
       "      <th>fin</th>\n",
       "      <th>rows</th>\n",
       "      <th>cols</th>\n",
       "      <th>date</th>\n",
       "    </tr>\n",
       "  </thead>\n",
       "  <tbody>\n",
       "    <tr>\n",
       "      <th>0</th>\n",
       "      <td>i-046cdfe3763e0b089</td>\n",
       "      <td>1</td>\n",
       "      <td>000xQL6tZNLJzIrtIgxqSl</td>\n",
       "      <td>0</td>\n",
       "      <td>0</td>\n",
       "      <td>30</td>\n",
       "      <td>256</td>\n",
       "      <td>937</td>\n",
       "      <td>2020-07-05 21:47:21</td>\n",
       "    </tr>\n",
       "    <tr>\n",
       "      <th>1</th>\n",
       "      <td>i-046cdfe3763e0b089</td>\n",
       "      <td>1</td>\n",
       "      <td>000xQL6tZNLJzIrtIgxqSl</td>\n",
       "      <td>1</td>\n",
       "      <td>20</td>\n",
       "      <td>50</td>\n",
       "      <td>256</td>\n",
       "      <td>937</td>\n",
       "      <td>2020-07-05 21:47:21</td>\n",
       "    </tr>\n",
       "    <tr>\n",
       "      <th>2</th>\n",
       "      <td>i-046cdfe3763e0b089</td>\n",
       "      <td>1</td>\n",
       "      <td>000xQL6tZNLJzIrtIgxqSl</td>\n",
       "      <td>3</td>\n",
       "      <td>60</td>\n",
       "      <td>90</td>\n",
       "      <td>256</td>\n",
       "      <td>937</td>\n",
       "      <td>2020-07-05 21:47:21</td>\n",
       "    </tr>\n",
       "    <tr>\n",
       "      <th>3</th>\n",
       "      <td>i-046cdfe3763e0b089</td>\n",
       "      <td>1</td>\n",
       "      <td>000xQL6tZNLJzIrtIgxqSl</td>\n",
       "      <td>2</td>\n",
       "      <td>40</td>\n",
       "      <td>70</td>\n",
       "      <td>256</td>\n",
       "      <td>937</td>\n",
       "      <td>2020-07-05 21:47:21</td>\n",
       "    </tr>\n",
       "    <tr>\n",
       "      <th>4</th>\n",
       "      <td>i-046cdfe3763e0b089</td>\n",
       "      <td>1</td>\n",
       "      <td>000xQL6tZNLJzIrtIgxqSl</td>\n",
       "      <td>4</td>\n",
       "      <td>80</td>\n",
       "      <td>110</td>\n",
       "      <td>256</td>\n",
       "      <td>937</td>\n",
       "      <td>2020-07-05 21:47:21</td>\n",
       "    </tr>\n",
       "  </tbody>\n",
       "</table>\n",
       "</div>"
      ],
      "text/plain": [
       "           instance_id  stat                track_id  win  ini  fin  rows  \\\n",
       "0  i-046cdfe3763e0b089     1  000xQL6tZNLJzIrtIgxqSl    0    0   30   256   \n",
       "1  i-046cdfe3763e0b089     1  000xQL6tZNLJzIrtIgxqSl    1   20   50   256   \n",
       "2  i-046cdfe3763e0b089     1  000xQL6tZNLJzIrtIgxqSl    3   60   90   256   \n",
       "3  i-046cdfe3763e0b089     1  000xQL6tZNLJzIrtIgxqSl    2   40   70   256   \n",
       "4  i-046cdfe3763e0b089     1  000xQL6tZNLJzIrtIgxqSl    4   80  110   256   \n",
       "\n",
       "   cols                date  \n",
       "0   937 2020-07-05 21:47:21  \n",
       "1   937 2020-07-05 21:47:21  \n",
       "2   937 2020-07-05 21:47:21  \n",
       "3   937 2020-07-05 21:47:21  \n",
       "4   937 2020-07-05 21:47:21  "
      ]
     },
     "execution_count": 5,
     "metadata": {},
     "output_type": "execute_result"
    }
   ],
   "source": [
    "df.head()"
   ]
  },
  {
   "cell_type": "code",
   "execution_count": 6,
   "metadata": {},
   "outputs": [
    {
     "data": {
      "text/plain": [
       "(644047, 9)"
      ]
     },
     "execution_count": 6,
     "metadata": {},
     "output_type": "execute_result"
    }
   ],
   "source": [
    "df.shape"
   ]
  },
  {
   "cell_type": "code",
   "execution_count": 7,
   "metadata": {},
   "outputs": [],
   "source": [
    "set_tracks = set(df.track_id)"
   ]
  },
  {
   "cell_type": "code",
   "execution_count": 8,
   "metadata": {},
   "outputs": [
    {
     "name": "stdout",
     "output_type": "stream",
     "text": [
      "56222\n"
     ]
    }
   ],
   "source": [
    "print(len(set_tracks))"
   ]
  },
  {
   "cell_type": "markdown",
   "metadata": {},
   "source": [
    "# 2. Dataset Creation (train/test) and Label (based on Neo4j Graph)"
   ]
  },
  {
   "cell_type": "code",
   "execution_count": 10,
   "metadata": {},
   "outputs": [],
   "source": [
    "import db_utils"
   ]
  },
  {
   "cell_type": "code",
   "execution_count": 17,
   "metadata": {},
   "outputs": [],
   "source": [
    "conn = psycopg2.connect(\"dbname=spotify\")\n",
    "cursor= conn.cursor()"
   ]
  },
  {
   "cell_type": "code",
   "execution_count": 27,
   "metadata": {},
   "outputs": [],
   "source": [
    "# Neo4j\n",
    "graph = Graph(bolt = True, host = \"localhost\", name = \"Spotify\", user = \"neo4j\", password = \"qrks\")"
   ]
  },
  {
   "cell_type": "markdown",
   "metadata": {},
   "source": [
    "## 2.1 Path 1) Songs from top genres"
   ]
  },
  {
   "cell_type": "markdown",
   "metadata": {},
   "source": [
    "This is like a PoC, we will:\n",
    "- take the most popular genres, top 5 genres, drop the undefined genre\n",
    "- look for the artists for each genre\n",
    "- get all the songs for that artist\n",
    "- check if they are in our database\n",
    "- do triplets of songs: select one anchor ( song A1 from artist A), then select as the postive pair of the triplet another song from that artist (A2). Then choose one song from a related artist of A (i.e artist B). Take as the negative pair of the triplet the B1 song for example. Hence the triplet will be formet by A1-A2-B1. This poses a much more difficult task since related artists will tend to share features in their songs so that will be more challenging rather than taking as the negative pair any random song."
   ]
  },
  {
   "cell_type": "markdown",
   "metadata": {},
   "source": [
    "### a) SELECT top genres"
   ]
  },
  {
   "cell_type": "code",
   "execution_count": 13,
   "metadata": {},
   "outputs": [],
   "source": [
    "query = \"\"\"\n",
    "SELECT * FROM (\n",
    "select genre, count(distinct artist_id) as num_art from master_genre GROUP BY genre) x1\n",
    "WHERE num_art > 100\n",
    "ORDER BY num_art DESC;\n",
    "\"\"\""
   ]
  },
  {
   "cell_type": "code",
   "execution_count": 18,
   "metadata": {},
   "outputs": [],
   "source": [
    "df_genres = db_utils.select_table(cursor, direct_query=query,\n",
    "                                 sel_cols=[\"track_id\", \"num_art\"])\n",
    "df_genres.drop_duplicates(inplace=True)\n",
    "conn.close()"
   ]
  },
  {
   "cell_type": "code",
   "execution_count": 23,
   "metadata": {},
   "outputs": [],
   "source": [
    "# Remove the undefined genre\n",
    "df_genres = df_genres[df_genres[\"track_id\"] != \"undefined\"]\n",
    "\n",
    "# Sort genres by the number of artists\n",
    "df_genres.sort_values(\"num_art\", ascending = False)\n",
    "\n",
    "# Take the top 5\n",
    "top_genres = df_genres.head(5)"
   ]
  },
  {
   "cell_type": "code",
   "execution_count": 24,
   "metadata": {},
   "outputs": [
    {
     "data": {
      "text/html": [
       "<div>\n",
       "<style scoped>\n",
       "    .dataframe tbody tr th:only-of-type {\n",
       "        vertical-align: middle;\n",
       "    }\n",
       "\n",
       "    .dataframe tbody tr th {\n",
       "        vertical-align: top;\n",
       "    }\n",
       "\n",
       "    .dataframe thead th {\n",
       "        text-align: right;\n",
       "    }\n",
       "</style>\n",
       "<table border=\"1\" class=\"dataframe\">\n",
       "  <thead>\n",
       "    <tr style=\"text-align: right;\">\n",
       "      <th></th>\n",
       "      <th>track_id</th>\n",
       "      <th>num_art</th>\n",
       "    </tr>\n",
       "  </thead>\n",
       "  <tbody>\n",
       "    <tr>\n",
       "      <th>1</th>\n",
       "      <td>pop</td>\n",
       "      <td>479</td>\n",
       "    </tr>\n",
       "    <tr>\n",
       "      <th>2</th>\n",
       "      <td>dance pop</td>\n",
       "      <td>393</td>\n",
       "    </tr>\n",
       "    <tr>\n",
       "      <th>3</th>\n",
       "      <td>latin</td>\n",
       "      <td>264</td>\n",
       "    </tr>\n",
       "    <tr>\n",
       "      <th>4</th>\n",
       "      <td>rap</td>\n",
       "      <td>239</td>\n",
       "    </tr>\n",
       "    <tr>\n",
       "      <th>5</th>\n",
       "      <td>tropical house</td>\n",
       "      <td>233</td>\n",
       "    </tr>\n",
       "  </tbody>\n",
       "</table>\n",
       "</div>"
      ],
      "text/plain": [
       "         track_id  num_art\n",
       "1             pop      479\n",
       "2       dance pop      393\n",
       "3           latin      264\n",
       "4             rap      239\n",
       "5  tropical house      233"
      ]
     },
     "execution_count": 24,
     "metadata": {},
     "output_type": "execute_result"
    }
   ],
   "source": [
    "top_genres"
   ]
  },
  {
   "cell_type": "code",
   "execution_count": 25,
   "metadata": {},
   "outputs": [],
   "source": [
    "cypher_query_triplets = \"\"\"\n",
    "\n",
    "\n",
    "MATCH (g1:Genre)-[:GEN_ART]->(a1:Artist)-[:REL_ART]->(a2:Artist)<-[:GEN_ART]-(g2:Genre)\n",
    "WHERE g1.genre_id IN [\"pop\", \"dance pop\", \"latin\", \"rap\", \"tropical house\"]\n",
    "    AND g2.genre_id IN [\"pop\", \"dance pop\", \"latin\", \"rap\", \"tropical house\"]\n",
    "WITH a1, a2, g1, g2\n",
    "MATCH  (t1:Track)<-[:ART_TR]-(a1:Artist),\n",
    "       (t2:Track)<-[:ART_TR]-(a1:Artist),\n",
    "       (t3:Track)<-[:ART_TR]-(a2:Artist)\n",
    "\n",
    "RETURN t1.track_id, t2.track_id, a1.artist_id, t3.track_id, a2.artist_id, t1.track_name, t2.track_name,\n",
    "        a1.artist_name, t3.track_name, a2.artist_name, g1.genre_id, g2.genre_id\n",
    "\n",
    "\"\"\"\n"
   ]
  },
  {
   "cell_type": "code",
   "execution_count": 28,
   "metadata": {},
   "outputs": [],
   "source": [
    "cursor_neo4j = graph.run(cypher_query_triplets)"
   ]
  },
  {
   "cell_type": "code",
   "execution_count": 26,
   "metadata": {},
   "outputs": [
    {
     "ename": "AttributeError",
     "evalue": "'psycopg2.extensions.cursor' object has no attribute 'keys'",
     "output_type": "error",
     "traceback": [
      "\u001b[0;31m---------------------------------------------------------------------------\u001b[0m",
      "\u001b[0;31mAttributeError\u001b[0m                            Traceback (most recent call last)",
      "\u001b[0;32m<ipython-input-26-e6adf7b1c6d5>\u001b[0m in \u001b[0;36m<module>\u001b[0;34m\u001b[0m\n\u001b[1;32m      1\u001b[0m \u001b[0mcursor_neo4j\u001b[0m \u001b[0;34m=\u001b[0m \u001b[0mgraph\u001b[0m\u001b[0;34m.\u001b[0m\u001b[0mrun\u001b[0m\u001b[0;34m(\u001b[0m\u001b[0mcypher_query_triplets\u001b[0m\u001b[0;34m)\u001b[0m\u001b[0;34m\u001b[0m\u001b[0;34m\u001b[0m\u001b[0m\n\u001b[0;32m----> 2\u001b[0;31m \u001b[0mdf_triplets\u001b[0m \u001b[0;34m=\u001b[0m \u001b[0mpd\u001b[0m\u001b[0;34m.\u001b[0m\u001b[0mDataFrame\u001b[0m\u001b[0;34m.\u001b[0m\u001b[0mfrom_records\u001b[0m\u001b[0;34m(\u001b[0m\u001b[0mcursor_neo4j\u001b[0m\u001b[0;34m,\u001b[0m \u001b[0mcolumns\u001b[0m\u001b[0;34m=\u001b[0m\u001b[0mcursor\u001b[0m\u001b[0;34m.\u001b[0m\u001b[0mkeys\u001b[0m\u001b[0;34m(\u001b[0m\u001b[0;34m)\u001b[0m\u001b[0;34m)\u001b[0m\u001b[0;34m\u001b[0m\u001b[0;34m\u001b[0m\u001b[0m\n\u001b[0m",
      "\u001b[0;31mAttributeError\u001b[0m: 'psycopg2.extensions.cursor' object has no attribute 'keys'"
     ]
    }
   ],
   "source": [
    "df_triplets = pd.DataFrame.from_records(cursor_neo4j, columns=cursor_neo4j.keys())"
   ]
  },
  {
   "cell_type": "markdown",
   "metadata": {},
   "source": [
    "## 2.2 Path 2) Artist sharing"
   ]
  },
  {
   "cell_type": "code",
   "execution_count": null,
   "metadata": {},
   "outputs": [],
   "source": []
  }
 ],
 "metadata": {
  "kernelspec": {
   "display_name": "Python 3",
   "language": "python",
   "name": "python3"
  },
  "language_info": {
   "codemirror_mode": {
    "name": "ipython",
    "version": 3
   },
   "file_extension": ".py",
   "mimetype": "text/x-python",
   "name": "python",
   "nbconvert_exporter": "python",
   "pygments_lexer": "ipython3",
   "version": "3.7.6"
  }
 },
 "nbformat": 4,
 "nbformat_minor": 4
}
