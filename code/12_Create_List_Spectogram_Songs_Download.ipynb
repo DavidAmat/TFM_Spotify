{
 "cells": [
  {
   "cell_type": "code",
   "execution_count": 1,
   "metadata": {},
   "outputs": [],
   "source": [
    "from py2neo import Graph\n",
    "import pandas as pd\n",
    "import sys\n",
    "import numpy as np\n",
    "import boto3\n",
    "import psycopg2\n",
    "import db_utils\n",
    "import tqdm\n",
    "import matplotlib"
   ]
  },
  {
   "cell_type": "markdown",
   "metadata": {},
   "source": [
    "# 0. List all the songs downloaded in S3"
   ]
  },
  {
   "cell_type": "code",
   "execution_count": 3,
   "metadata": {},
   "outputs": [],
   "source": [
    "# List all the files in the S3 bucket audio folder as .mp3\n",
    "import boto3\n",
    "s3 = boto3.resource('s3')\n",
    "allFiles = s3.Bucket(\"tfmdavid\").objects.filter(Prefix='audio')\n",
    "\n",
    "downloaded_mp3 = list()\n",
    "for file in allFiles:\n",
    "    \n",
    "    ff = file.key\n",
    "    if \".mp3\" in ff:\n",
    "        downloaded_mp3.append(ff.split(\"/\")[1].split(\".\")[0])"
   ]
  },
  {
   "cell_type": "code",
   "execution_count": 4,
   "metadata": {},
   "outputs": [],
   "source": [
    "# Convert to a set\n",
    "set_songs = set(downloaded_mp3)"
   ]
  },
  {
   "cell_type": "code",
   "execution_count": 5,
   "metadata": {},
   "outputs": [
    {
     "data": {
      "text/plain": [
       "56334"
      ]
     },
     "execution_count": 5,
     "metadata": {},
     "output_type": "execute_result"
    }
   ],
   "source": [
    "len(set_songs)"
   ]
  },
  {
   "cell_type": "code",
   "execution_count": 8,
   "metadata": {},
   "outputs": [
    {
     "data": {
      "text/plain": [
       "56334"
      ]
     },
     "execution_count": 8,
     "metadata": {},
     "output_type": "execute_result"
    }
   ],
   "source": [
    "len(downloaded_mp3)"
   ]
  },
  {
   "cell_type": "markdown",
   "metadata": {},
   "source": [
    "## Check the size "
   ]
  },
  {
   "cell_type": "code",
   "execution_count": 35,
   "metadata": {},
   "outputs": [],
   "source": [
    "def get_size_check(track_id):\n",
    "    \"\"\"\n",
    "    Checks if the original audio is more than 10MB of audio, if it is, returns a False\n",
    "    \"\"\"\n",
    "    s3 = boto3.resource('s3')\n",
    "    key_mp3 = \"audio/\" + track_id + \".mp3\"\n",
    "    s3object = s3.Object('tfmdavid',key_mp3)\n",
    "    file_size = s3object.content_length #size in bytes\n",
    "    size_megas = file_size / 1000000\n",
    "    if size_megas > 10:\n",
    "        return False\n",
    "    else: \n",
    "        return True"
   ]
  },
  {
   "cell_type": "markdown",
   "metadata": {},
   "source": [
    "# 1. Send jobs to *jobs_specto*"
   ]
  },
  {
   "cell_type": "code",
   "execution_count": 6,
   "metadata": {},
   "outputs": [],
   "source": [
    "# Create SQS client\n",
    "sqs = boto3.client('sqs')\n",
    "URL_q_jobs = \"https://sqs.eu-west-2.amazonaws.com/555381533193/jobs_specto\"\n",
    "URL_q_status = \"https://sqs.eu-west-2.amazonaws.com/555381533193/status_specto\""
   ]
  },
  {
   "cell_type": "code",
   "execution_count": 7,
   "metadata": {},
   "outputs": [],
   "source": [
    "def send_message_jobs(track_id):\n",
    "    \"\"\"Send message to SQS queue: the track from which we want to extract the spectograms\n",
    "    \"\"\"\n",
    "    response = sqs.send_message(\n",
    "        QueueUrl=URL_q_jobs,\n",
    "        DelaySeconds=0,\n",
    "        MessageAttributes={},\n",
    "        MessageBody=(f\"{track_id}\")    )\n"
   ]
  },
  {
   "cell_type": "code",
   "execution_count": 11,
   "metadata": {},
   "outputs": [
    {
     "name": "stderr",
     "output_type": "stream",
     "text": [
      "/Users/david/.local/share/virtualenvs/Spotify-xJiBt4R8/lib/python3.7/site-packages/ipykernel_launcher.py:1: TqdmDeprecationWarning: This function will be removed in tqdm==5.0.0\n",
      "Please use `tqdm.notebook.tqdm` instead of `tqdm.tqdm_notebook`\n",
      "  \"\"\"Entry point for launching an IPython kernel.\n"
     ]
    },
    {
     "data": {
      "application/vnd.jupyter.widget-view+json": {
       "model_id": "d216407c476e4cc4a6237767f35c6094",
       "version_major": 2,
       "version_minor": 0
      },
      "text/plain": [
       "HBox(children=(FloatProgress(value=0.0, max=56334.0), HTML(value='')))"
      ]
     },
     "metadata": {},
     "output_type": "display_data"
    },
    {
     "name": "stdout",
     "output_type": "stream",
     "text": [
      "\n"
     ]
    }
   ],
   "source": [
    "for track_id in tqdm.tqdm_notebook(downloaded_mp3):\n",
    "    send_message_jobs(track_id)"
   ]
  },
  {
   "cell_type": "markdown",
   "metadata": {},
   "source": [
    "# 2. List all specto songs"
   ]
  },
  {
   "cell_type": "code",
   "execution_count": 14,
   "metadata": {},
   "outputs": [
    {
     "name": "stderr",
     "output_type": "stream",
     "text": [
      "/Users/david/.local/share/virtualenvs/Spotify-xJiBt4R8/lib/python3.7/site-packages/ipykernel_launcher.py:7: TqdmDeprecationWarning: This function will be removed in tqdm==5.0.0\n",
      "Please use `tqdm.notebook.tqdm` instead of `tqdm.tqdm_notebook`\n",
      "  import sys\n"
     ]
    },
    {
     "data": {
      "application/vnd.jupyter.widget-view+json": {
       "model_id": "be8fd7f586094b34aebcfd72c77e7669",
       "version_major": 2,
       "version_minor": 0
      },
      "text/plain": [
       "HBox(children=(FloatProgress(value=1.0, bar_style='info', max=1.0), HTML(value='')))"
      ]
     },
     "metadata": {},
     "output_type": "display_data"
    },
    {
     "name": "stdout",
     "output_type": "stream",
     "text": [
      "\n"
     ]
    }
   ],
   "source": [
    "# List all the files in the S3 bucket audio folder as .mp3\n",
    "import boto3\n",
    "s3 = boto3.resource('s3')\n",
    "allFiles = s3.Bucket(\"tfmdavid\").objects.filter(Prefix='spec')\n",
    "\n",
    "specto = list()\n",
    "for file in tqdm.tqdm_notebook(allFiles):\n",
    "    \n",
    "    ff = file.key\n",
    "    if \".jpg\" in ff:\n",
    "        specto.append(ff.split(\"/\")[1].split(\".\")[0].split(\"__\")[0])"
   ]
  },
  {
   "cell_type": "markdown",
   "metadata": {},
   "source": [
    "# 3. Query status_specto results"
   ]
  },
  {
   "cell_type": "code",
   "execution_count": 37,
   "metadata": {},
   "outputs": [],
   "source": [
    "def query_results_to_df(query_results):\n",
    "    if len(query_results) == 0:\n",
    "        return False\n",
    "    cols = [\"instance_id\",\"stat\",\"track_id\",\"win\",\"ini\",\"fin\",\"rows\",\"cols\",\"date\"]\n",
    "    return pd.DataFrame(query_results, columns=cols)"
   ]
  },
  {
   "cell_type": "code",
   "execution_count": 38,
   "metadata": {},
   "outputs": [],
   "source": [
    "query_status = \"\"\" \n",
    "SELECT * FROM status_specto\n",
    "\"\"\"\n",
    "ENDPOINT=\"tracksurl.czjs6btlvfgd.eu-west-2.rds.amazonaws.com\"\n",
    "PORT=\"5432\"\n",
    "USR=\"david\"\n",
    "REGION=\"eu-west-2\"\n",
    "DBNAME=\"postgres\"\n",
    "PSSWD=[\"qrks\",\"jfut\",\"iv\",\"uf\",\"1\"]\n",
    "\n",
    "conn = psycopg2.connect(host=ENDPOINT, port=PORT, database=DBNAME, user=USR, password=''.join(PSSWD))\n",
    "cur = conn.cursor()\n",
    "cur.execute(query_status)\n",
    "query_results = cur.fetchall()\n",
    "df_status = query_results_to_df(query_results)\n",
    "conn.close()"
   ]
  },
  {
   "cell_type": "markdown",
   "metadata": {},
   "source": [
    "### Basic statistics"
   ]
  },
  {
   "cell_type": "code",
   "execution_count": 42,
   "metadata": {},
   "outputs": [
    {
     "data": {
      "text/plain": [
       "56287"
      ]
     },
     "execution_count": 42,
     "metadata": {},
     "output_type": "execute_result"
    }
   ],
   "source": [
    "# Unique tracks\n",
    "len(set(df_status.track_id))"
   ]
  },
  {
   "cell_type": "code",
   "execution_count": 63,
   "metadata": {},
   "outputs": [
    {
     "data": {
      "text/plain": [
       "3168226369"
      ]
     },
     "execution_count": 63,
     "metadata": {},
     "output_type": "execute_result"
    }
   ],
   "source": [
    "56287 * 56287"
   ]
  },
  {
   "cell_type": "code",
   "execution_count": null,
   "metadata": {},
   "outputs": [],
   "source": []
  },
  {
   "cell_type": "code",
   "execution_count": 50,
   "metadata": {},
   "outputs": [
    {
     "data": {
      "text/plain": [
       "1"
      ]
     },
     "execution_count": 50,
     "metadata": {},
     "output_type": "execute_result"
    }
   ],
   "source": [
    "# Everythin is correctly processed\n",
    "len(set(df_status.stat))"
   ]
  },
  {
   "cell_type": "code",
   "execution_count": 51,
   "metadata": {},
   "outputs": [
    {
     "data": {
      "text/html": [
       "<div>\n",
       "<style scoped>\n",
       "    .dataframe tbody tr th:only-of-type {\n",
       "        vertical-align: middle;\n",
       "    }\n",
       "\n",
       "    .dataframe tbody tr th {\n",
       "        vertical-align: top;\n",
       "    }\n",
       "\n",
       "    .dataframe thead th {\n",
       "        text-align: right;\n",
       "    }\n",
       "</style>\n",
       "<table border=\"1\" class=\"dataframe\">\n",
       "  <thead>\n",
       "    <tr style=\"text-align: right;\">\n",
       "      <th></th>\n",
       "      <th>track_id</th>\n",
       "    </tr>\n",
       "    <tr>\n",
       "      <th>instance_id</th>\n",
       "      <th></th>\n",
       "    </tr>\n",
       "  </thead>\n",
       "  <tbody>\n",
       "    <tr>\n",
       "      <th>i-0d4ae1de430e5f358</th>\n",
       "      <td>1740</td>\n",
       "    </tr>\n",
       "    <tr>\n",
       "      <th>i-0a99a59641905bf90</th>\n",
       "      <td>1718</td>\n",
       "    </tr>\n",
       "    <tr>\n",
       "      <th>i-02128f60a7d245ef0</th>\n",
       "      <td>1713</td>\n",
       "    </tr>\n",
       "    <tr>\n",
       "      <th>i-0163a2365e18dc4dc</th>\n",
       "      <td>1713</td>\n",
       "    </tr>\n",
       "    <tr>\n",
       "      <th>i-08bc790c85f973018</th>\n",
       "      <td>1704</td>\n",
       "    </tr>\n",
       "    <tr>\n",
       "      <th>...</th>\n",
       "      <td>...</td>\n",
       "    </tr>\n",
       "    <tr>\n",
       "      <th>i-082f7712582fdd9ff</th>\n",
       "      <td>132</td>\n",
       "    </tr>\n",
       "    <tr>\n",
       "      <th>i-006a14ef33eaa3de2</th>\n",
       "      <td>52</td>\n",
       "    </tr>\n",
       "    <tr>\n",
       "      <th>i-0c3a34d80a66aebf2</th>\n",
       "      <td>41</td>\n",
       "    </tr>\n",
       "    <tr>\n",
       "      <th>i-016142111f658b4fa</th>\n",
       "      <td>37</td>\n",
       "    </tr>\n",
       "    <tr>\n",
       "      <th>False</th>\n",
       "      <td>23</td>\n",
       "    </tr>\n",
       "  </tbody>\n",
       "</table>\n",
       "<p>64 rows × 1 columns</p>\n",
       "</div>"
      ],
      "text/plain": [
       "                     track_id\n",
       "instance_id                  \n",
       "i-0d4ae1de430e5f358      1740\n",
       "i-0a99a59641905bf90      1718\n",
       "i-02128f60a7d245ef0      1713\n",
       "i-0163a2365e18dc4dc      1713\n",
       "i-08bc790c85f973018      1704\n",
       "...                       ...\n",
       "i-082f7712582fdd9ff       132\n",
       "i-006a14ef33eaa3de2        52\n",
       "i-0c3a34d80a66aebf2        41\n",
       "i-016142111f658b4fa        37\n",
       "False                      23\n",
       "\n",
       "[64 rows x 1 columns]"
      ]
     },
     "execution_count": 51,
     "metadata": {},
     "output_type": "execute_result"
    }
   ],
   "source": [
    "# Number of tracks processed by instance\n",
    "df_track_per_instance = df_status.groupby(\"instance_id\")[\"track_id\"].nunique()\n",
    "df_track_per_instance = pd.DataFrame(df_track_per_instance)\n",
    "df_track_per_instance.sort_values(\"track_id\", ascending = False)"
   ]
  },
  {
   "cell_type": "code",
   "execution_count": 53,
   "metadata": {},
   "outputs": [],
   "source": [
    "# Number of windows per track on average\n",
    "df_win_per_track = pd.DataFrame(df_status.groupby(\"track_id\")[\"win\"].count())"
   ]
  },
  {
   "cell_type": "code",
   "execution_count": 55,
   "metadata": {},
   "outputs": [
    {
     "data": {
      "text/plain": [
       "11.44335281681383"
      ]
     },
     "execution_count": 55,
     "metadata": {},
     "output_type": "execute_result"
    }
   ],
   "source": [
    "np.mean(df_win_per_track[\"win\"])"
   ]
  },
  {
   "cell_type": "code",
   "execution_count": 56,
   "metadata": {},
   "outputs": [
    {
     "data": {
      "text/plain": [
       "15.883272448566299"
      ]
     },
     "execution_count": 56,
     "metadata": {},
     "output_type": "execute_result"
    }
   ],
   "source": [
    "np.std(df_win_per_track[\"win\"])"
   ]
  },
  {
   "cell_type": "code",
   "execution_count": 61,
   "metadata": {},
   "outputs": [],
   "source": [
    "# See the image dimensions\n",
    "# FIlter only those cols with 937 or 938\n",
    "df_filt = df_status[df_status[\"cols\"].isin({937, 938})]\n",
    "\n",
    "df_img_dim = pd.DataFrame(df_filt.groupby([\"rows\",\"cols\"])[\"track_id\"].count())"
   ]
  },
  {
   "cell_type": "code",
   "execution_count": 62,
   "metadata": {},
   "outputs": [
    {
     "data": {
      "text/html": [
       "<div>\n",
       "<style scoped>\n",
       "    .dataframe tbody tr th:only-of-type {\n",
       "        vertical-align: middle;\n",
       "    }\n",
       "\n",
       "    .dataframe tbody tr th {\n",
       "        vertical-align: top;\n",
       "    }\n",
       "\n",
       "    .dataframe thead th {\n",
       "        text-align: right;\n",
       "    }\n",
       "</style>\n",
       "<table border=\"1\" class=\"dataframe\">\n",
       "  <thead>\n",
       "    <tr style=\"text-align: right;\">\n",
       "      <th></th>\n",
       "      <th></th>\n",
       "      <th>track_id</th>\n",
       "    </tr>\n",
       "    <tr>\n",
       "      <th>rows</th>\n",
       "      <th>cols</th>\n",
       "      <th></th>\n",
       "    </tr>\n",
       "  </thead>\n",
       "  <tbody>\n",
       "    <tr>\n",
       "      <th rowspan=\"2\" valign=\"top\">256</th>\n",
       "      <th>937</th>\n",
       "      <td>615909</td>\n",
       "    </tr>\n",
       "    <tr>\n",
       "      <th>938</th>\n",
       "      <td>28138</td>\n",
       "    </tr>\n",
       "  </tbody>\n",
       "</table>\n",
       "</div>"
      ],
      "text/plain": [
       "           track_id\n",
       "rows cols          \n",
       "256  937     615909\n",
       "     938      28138"
      ]
     },
     "execution_count": 62,
     "metadata": {},
     "output_type": "execute_result"
    }
   ],
   "source": [
    "df_img_dim"
   ]
  },
  {
   "cell_type": "code",
   "execution_count": null,
   "metadata": {},
   "outputs": [],
   "source": []
  }
 ],
 "metadata": {
  "kernelspec": {
   "display_name": "Python 3",
   "language": "python",
   "name": "python3"
  },
  "language_info": {
   "codemirror_mode": {
    "name": "ipython",
    "version": 3
   },
   "file_extension": ".py",
   "mimetype": "text/x-python",
   "name": "python",
   "nbconvert_exporter": "python",
   "pygments_lexer": "ipython3",
   "version": "3.7.6"
  }
 },
 "nbformat": 4,
 "nbformat_minor": 4
}
