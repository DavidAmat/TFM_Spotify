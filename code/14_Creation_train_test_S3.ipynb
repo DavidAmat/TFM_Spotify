{
 "cells": [
  {
   "cell_type": "code",
   "execution_count": 43,
   "metadata": {},
   "outputs": [],
   "source": [
    "import db_utils\n",
    "from collections import defaultdict\n",
    "import itertools\n",
    "import random\n",
    "from py2neo import Graph\n",
    "import pandas as pd\n",
    "import sys\n",
    "import numpy as np\n",
    "import boto3\n",
    "import psycopg2\n",
    "import db_utils\n",
    "import tqdm\n",
    "import matplotlib\n",
    "import sys\n",
    "import os"
   ]
  },
  {
   "cell_type": "code",
   "execution_count": 17,
   "metadata": {},
   "outputs": [],
   "source": [
    "import pyspark\n",
    "from pyspark import SparkConf\n",
    "from pyspark import SparkContext\n",
    "from pyspark.sql import SQLContext\n",
    "from pyspark.sql.types import *"
   ]
  },
  {
   "cell_type": "code",
   "execution_count": 3,
   "metadata": {},
   "outputs": [],
   "source": [
    "conf = SparkConf().setAppName(\"Triplets\")\n",
    "conf = (conf.setMaster('local[*]')\n",
    "        .set('spark.executor.memory', '10G')\n",
    "        .set('spark.driver.memory', '45G')\n",
    "        .set('spark.driver.maxResultSize', '15G'))\n",
    "sc = SparkContext(conf=conf)"
   ]
  },
  {
   "cell_type": "code",
   "execution_count": 21,
   "metadata": {},
   "outputs": [],
   "source": [
    "from pyspark.sql import SparkSession\n",
    "spark = SparkSession.builder \\\n",
    "    .appName(\"triplets\") \\\n",
    "    .master(\"local\") \\\n",
    "    .getOrCreate()"
   ]
  },
  {
   "cell_type": "code",
   "execution_count": 4,
   "metadata": {},
   "outputs": [],
   "source": [
    "conn = psycopg2.connect(\"dbname=spotify\")\n",
    "cursor= conn.cursor()"
   ]
  },
  {
   "cell_type": "code",
   "execution_count": 5,
   "metadata": {},
   "outputs": [],
   "source": [
    "qq = \"\"\"\n",
    "SELECT * FROM triplets\n",
    "\"\"\"\n",
    "cols = [\"a1\", \"tr1\",\"win1\",\"ini1\",\"fin1\",\"tr2\",\"win2\",\"ini2\",\"fin2\",\"tr3\",\"win3\",\"ini3\",\"fin3\"]\n",
    "\n",
    "cursor.execute(qq)\n",
    "query_results = cursor.fetchall()\n",
    "cursor.close()"
   ]
  },
  {
   "cell_type": "code",
   "execution_count": 6,
   "metadata": {},
   "outputs": [],
   "source": [
    "data = sc.parallelize(query_results)"
   ]
  },
  {
   "cell_type": "code",
   "execution_count": 7,
   "metadata": {},
   "outputs": [],
   "source": [
    "del query_results"
   ]
  },
  {
   "cell_type": "code",
   "execution_count": 18,
   "metadata": {},
   "outputs": [],
   "source": [
    "schema = StructType(\n",
    "   [StructField('a1', StringType(), True),\n",
    "    StructField('tr1', StringType(), True),\n",
    "    StructField('win1', IntegerType(), True),\n",
    "    StructField('ini1', IntegerType(), True),\n",
    "    StructField('fin1', IntegerType(), True),\n",
    "    StructField('tr2', StringType(), True),\n",
    "    StructField('win2', IntegerType(), True),\n",
    "    StructField('ini2', IntegerType(), True),\n",
    "    StructField('fin2', IntegerType(), True),\n",
    "    StructField('tr3', StringType(), True),\n",
    "    StructField('win3', IntegerType(), True),\n",
    "    StructField('ini3', IntegerType(), True),\n",
    "    StructField('fin3', IntegerType(), True)\n",
    "   ]\n",
    "  )"
   ]
  },
  {
   "cell_type": "code",
   "execution_count": 35,
   "metadata": {},
   "outputs": [
    {
     "name": "stdout",
     "output_type": "stream",
     "text": [
      "root\n",
      " |-- a1: string (nullable = true)\n",
      " |-- tr1: string (nullable = true)\n",
      " |-- win1: integer (nullable = true)\n",
      " |-- ini1: integer (nullable = true)\n",
      " |-- fin1: integer (nullable = true)\n",
      " |-- tr2: string (nullable = true)\n",
      " |-- win2: integer (nullable = true)\n",
      " |-- ini2: integer (nullable = true)\n",
      " |-- fin2: integer (nullable = true)\n",
      " |-- tr3: string (nullable = true)\n",
      " |-- win3: integer (nullable = true)\n",
      " |-- ini3: integer (nullable = true)\n",
      " |-- fin3: integer (nullable = true)\n",
      "\n"
     ]
    }
   ],
   "source": [
    "df = spark.createDataFrame(data, schema)\n",
    "df.printSchema()"
   ]
  },
  {
   "cell_type": "code",
   "execution_count": 36,
   "metadata": {},
   "outputs": [],
   "source": [
    "import pyspark.sql.functions as F"
   ]
  },
  {
   "cell_type": "code",
   "execution_count": 37,
   "metadata": {},
   "outputs": [],
   "source": [
    "df = df.withColumn('output', F.concat(F.col(\"tr1\"),F.lit(\"__\"),\n",
    "                                      F.col(\"win1\"),F.lit(\"__\"),\n",
    "                                      F.col(\"ini1\"),F.lit(\"__\"),\n",
    "                                      F.col(\"fin1\"),F.lit(\".jpg;\"),\n",
    "                                      \n",
    "                                      F.col(\"tr2\"),F.lit(\"__\"),\n",
    "                                      F.col(\"win2\"),F.lit(\"__\"),\n",
    "                                      F.col(\"ini2\"),F.lit(\"__\"),\n",
    "                                      F.col(\"fin2\"),F.lit(\".jpg;\"),\n",
    "                                      \n",
    "                                      F.col(\"tr3\"),F.lit(\"__\"),\n",
    "                                      F.col(\"win3\"),F.lit(\"__\"),\n",
    "                                      F.col(\"ini3\"),F.lit(\"__\"),\n",
    "                                      F.col(\"fin3\"),F.lit(\".jpg;\")))"
   ]
  },
  {
   "cell_type": "code",
   "execution_count": 38,
   "metadata": {},
   "outputs": [],
   "source": [
    "#df_sample = pd.DataFrame(df.select(\"output\").limit(10).collect())\n",
    "#df_sample.loc[0][0]"
   ]
  },
  {
   "cell_type": "code",
   "execution_count": 44,
   "metadata": {},
   "outputs": [],
   "source": [
    "os.chdir(\"../data/\")"
   ]
  },
  {
   "cell_type": "code",
   "execution_count": 41,
   "metadata": {},
   "outputs": [
    {
     "data": {
      "text/plain": [
       "pyspark.sql.dataframe.DataFrame"
      ]
     },
     "execution_count": 41,
     "metadata": {},
     "output_type": "execute_result"
    }
   ],
   "source": [
    "df.write.csv()"
   ]
  },
  {
   "cell_type": "code",
   "execution_count": 42,
   "metadata": {},
   "outputs": [
    {
     "name": "stdout",
     "output_type": "stream",
     "text": [
      "/Users/david/Google Drive/16. Master BigData/5 - Modulos/Modulo 10 - TFM/2. TFM/Codigos/Spotify/code\r\n"
     ]
    }
   ],
   "source": [
    "!pwd"
   ]
  },
  {
   "cell_type": "code",
   "execution_count": null,
   "metadata": {},
   "outputs": [],
   "source": []
  }
 ],
 "metadata": {
  "kernelspec": {
   "display_name": "Python 3",
   "language": "python",
   "name": "python3"
  },
  "language_info": {
   "codemirror_mode": {
    "name": "ipython",
    "version": 3
   },
   "file_extension": ".py",
   "mimetype": "text/x-python",
   "name": "python",
   "nbconvert_exporter": "python",
   "pygments_lexer": "ipython3",
   "version": "3.7.6"
  }
 },
 "nbformat": 4,
 "nbformat_minor": 4
}
