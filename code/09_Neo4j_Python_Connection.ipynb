{
 "cells": [
  {
   "cell_type": "code",
   "execution_count": 58,
   "metadata": {},
   "outputs": [],
   "source": [
    "from py2neo import Graph\n",
    "import pandas as pd\n",
    "import "
   ]
  },
  {
   "cell_type": "code",
   "execution_count": 54,
   "metadata": {},
   "outputs": [],
   "source": [
    "graph = Graph(bolt = True, host = \"localhost\", name = \"Spotify\", user = \"neo4j\", password = \"qrks\")"
   ]
  },
  {
   "cell_type": "code",
   "execution_count": 55,
   "metadata": {},
   "outputs": [],
   "source": [
    "query = \"\"\"\n",
    "        MATCH (a:Artist)-[:ART_TR]->(t:Track)\n",
    "        WITH a, t\n",
    "        ORDER BY t.streams DESC\n",
    "        LIMIT 20\n",
    "        MATCH (g:Genre)-[:GEN_ART]->(a:Artist)\n",
    "        RETURN a.artist_name, g.genre_id, t.track_name\n",
    "\n",
    "\"\"\""
   ]
  },
  {
   "cell_type": "code",
   "execution_count": 61,
   "metadata": {},
   "outputs": [],
   "source": [
    "cursor = graph.run(query)\n",
    "df = pd.DataFrame.from_records(cursor, columns=cursor.keys())"
   ]
  },
  {
   "cell_type": "code",
   "execution_count": 62,
   "metadata": {
    "scrolled": true
   },
   "outputs": [
    {
     "data": {
      "text/html": [
       "<div>\n",
       "<style scoped>\n",
       "    .dataframe tbody tr th:only-of-type {\n",
       "        vertical-align: middle;\n",
       "    }\n",
       "\n",
       "    .dataframe tbody tr th {\n",
       "        vertical-align: top;\n",
       "    }\n",
       "\n",
       "    .dataframe thead th {\n",
       "        text-align: right;\n",
       "    }\n",
       "</style>\n",
       "<table border=\"1\" class=\"dataframe\">\n",
       "  <thead>\n",
       "    <tr style=\"text-align: right;\">\n",
       "      <th></th>\n",
       "      <th>a.artist_name</th>\n",
       "      <th>g.genre_id</th>\n",
       "      <th>t.track_name</th>\n",
       "    </tr>\n",
       "  </thead>\n",
       "  <tbody>\n",
       "    <tr>\n",
       "      <th>0</th>\n",
       "      <td>Kranium</td>\n",
       "      <td>dancehall</td>\n",
       "      <td>shape of you</td>\n",
       "    </tr>\n",
       "    <tr>\n",
       "      <th>1</th>\n",
       "      <td>Kranium</td>\n",
       "      <td>basshall</td>\n",
       "      <td>shape of you</td>\n",
       "    </tr>\n",
       "    <tr>\n",
       "      <th>2</th>\n",
       "      <td>Nyla</td>\n",
       "      <td>undefined</td>\n",
       "      <td>shape of you</td>\n",
       "    </tr>\n",
       "    <tr>\n",
       "      <th>3</th>\n",
       "      <td>Ed Sheeran</td>\n",
       "      <td>uk pop</td>\n",
       "      <td>shape of you</td>\n",
       "    </tr>\n",
       "    <tr>\n",
       "      <th>4</th>\n",
       "      <td>Ed Sheeran</td>\n",
       "      <td>pop</td>\n",
       "      <td>shape of you</td>\n",
       "    </tr>\n",
       "    <tr>\n",
       "      <th>...</th>\n",
       "      <td>...</td>\n",
       "      <td>...</td>\n",
       "      <td>...</td>\n",
       "    </tr>\n",
       "    <tr>\n",
       "      <th>58</th>\n",
       "      <td>James Arthur</td>\n",
       "      <td>talent show</td>\n",
       "      <td>say you won t let go</td>\n",
       "    </tr>\n",
       "    <tr>\n",
       "      <th>59</th>\n",
       "      <td>James Arthur</td>\n",
       "      <td>uk pop</td>\n",
       "      <td>say you won t let go</td>\n",
       "    </tr>\n",
       "    <tr>\n",
       "      <th>60</th>\n",
       "      <td>James Arthur</td>\n",
       "      <td>pop</td>\n",
       "      <td>say you won t let go</td>\n",
       "    </tr>\n",
       "    <tr>\n",
       "      <th>61</th>\n",
       "      <td>Imagine Dragons</td>\n",
       "      <td>rock</td>\n",
       "      <td>believer</td>\n",
       "    </tr>\n",
       "    <tr>\n",
       "      <th>62</th>\n",
       "      <td>Imagine Dragons</td>\n",
       "      <td>modern rock</td>\n",
       "      <td>believer</td>\n",
       "    </tr>\n",
       "  </tbody>\n",
       "</table>\n",
       "<p>63 rows × 3 columns</p>\n",
       "</div>"
      ],
      "text/plain": [
       "      a.artist_name   g.genre_id          t.track_name\n",
       "0           Kranium    dancehall          shape of you\n",
       "1           Kranium     basshall          shape of you\n",
       "2              Nyla    undefined          shape of you\n",
       "3        Ed Sheeran       uk pop          shape of you\n",
       "4        Ed Sheeran          pop          shape of you\n",
       "..              ...          ...                   ...\n",
       "58     James Arthur  talent show  say you won t let go\n",
       "59     James Arthur       uk pop  say you won t let go\n",
       "60     James Arthur          pop  say you won t let go\n",
       "61  Imagine Dragons         rock              believer\n",
       "62  Imagine Dragons  modern rock              believer\n",
       "\n",
       "[63 rows x 3 columns]"
      ]
     },
     "execution_count": 62,
     "metadata": {},
     "output_type": "execute_result"
    }
   ],
   "source": [
    "df"
   ]
  },
  {
   "cell_type": "code",
   "execution_count": 63,
   "metadata": {},
   "outputs": [],
   "source": [
    "import aux_utils\n",
    "# Instantiate the class\n",
    "spotify_utils = aux_utils.spotify_utils\n",
    "sp_ut = spotify_utils()\n"
   ]
  },
  {
   "cell_type": "code",
   "execution_count": 64,
   "metadata": {},
   "outputs": [
    {
     "data": {
      "text/plain": [
       "0.22857142857142856"
      ]
     },
     "execution_count": 64,
     "metadata": {},
     "output_type": "execute_result"
    }
   ],
   "source": [
    "sp_ut.levenshtein(\"James Arthur say you won t let go\", \"James Arthur - Say You Won't Let Go\")"
   ]
  },
  {
   "cell_type": "code",
   "execution_count": null,
   "metadata": {},
   "outputs": [],
   "source": []
  }
 ],
 "metadata": {
  "kernelspec": {
   "display_name": "Python 3",
   "language": "python",
   "name": "python3"
  },
  "language_info": {
   "codemirror_mode": {
    "name": "ipython",
    "version": 3
   },
   "file_extension": ".py",
   "mimetype": "text/x-python",
   "name": "python",
   "nbconvert_exporter": "python",
   "pygments_lexer": "ipython3",
   "version": "3.7.6"
  }
 },
 "nbformat": 4,
 "nbformat_minor": 4
}
