{
 "cells": [
  {
   "cell_type": "code",
   "execution_count": 1,
   "metadata": {
    "colab": {},
    "colab_type": "code",
    "executionInfo": {
     "elapsed": 1653,
     "status": "ok",
     "timestamp": 1597695520869,
     "user": {
      "displayName": "David Amat Olóndriz",
      "photoUrl": "https://lh3.googleusercontent.com/a-/AOh14GikqVtj9xoQNQ4ex_LkbZ6MbxBTO0rFryA4hk3-qQ=s64",
      "userId": "08030484125132384151"
     },
     "user_tz": -120
    },
    "id": "J71hjIeCz7lx"
   },
   "outputs": [],
   "source": [
    "import pandas as pd\n",
    "import numpy as np\n",
    "import os\n",
    "import sys\n",
    "from collections import Counter, defaultdict\n",
    "import matplotlib.pyplot as plt\n",
    "import tqdm"
   ]
  },
  {
   "cell_type": "code",
   "execution_count": 2,
   "metadata": {
    "colab": {},
    "colab_type": "code",
    "executionInfo": {
     "elapsed": 4302,
     "status": "ok",
     "timestamp": 1597695523718,
     "user": {
      "displayName": "David Amat Olóndriz",
      "photoUrl": "https://lh3.googleusercontent.com/a-/AOh14GikqVtj9xoQNQ4ex_LkbZ6MbxBTO0rFryA4hk3-qQ=s64",
      "userId": "08030484125132384151"
     },
     "user_tz": -120
    },
    "id": "dA_zoPyy0VU5"
   },
   "outputs": [],
   "source": [
    "from __future__ import print_function\n",
    "import keras\n",
    "from keras.datasets import mnist\n",
    "from keras.models import Sequential\n",
    "from keras.layers import Dense, Dropout, Flatten\n",
    "from keras.layers import Conv2D, MaxPooling2D\n",
    "from keras import backend as K\n",
    "import cv2\n",
    "\n",
    "import keras\n",
    "from keras.models import Model\n",
    "from keras.layers import Conv2D, MaxPooling2D, Dense, Input, Activation, Dropout, GlobalAveragePooling2D, \\\n",
    "    BatchNormalization, concatenate, AveragePooling2D\n",
    "from keras.optimizers import Adam\n",
    "from keras.callbacks import *"
   ]
  },
  {
   "cell_type": "markdown",
   "metadata": {
    "colab_type": "text",
    "id": "xmXEeZvq0gX2"
   },
   "source": [
    "# Mount data volume"
   ]
  },
  {
   "cell_type": "code",
   "execution_count": 3,
   "metadata": {
    "colab": {},
    "colab_type": "code",
    "executionInfo": {
     "elapsed": 2051,
     "status": "ok",
     "timestamp": 1597695523719,
     "user": {
      "displayName": "David Amat Olóndriz",
      "photoUrl": "https://lh3.googleusercontent.com/a-/AOh14GikqVtj9xoQNQ4ex_LkbZ6MbxBTO0rFryA4hk3-qQ=s64",
      "userId": "08030484125132384151"
     },
     "user_tz": -120
    },
    "id": "Vu5AiiIM0inJ"
   },
   "outputs": [],
   "source": [
    "from google.colab import drive"
   ]
  },
  {
   "cell_type": "code",
   "execution_count": 5,
   "metadata": {
    "colab": {
     "base_uri": "https://localhost:8080/",
     "height": 34
    },
    "colab_type": "code",
    "executionInfo": {
     "elapsed": 1142,
     "status": "ok",
     "timestamp": 1597695569018,
     "user": {
      "displayName": "David Amat Olóndriz",
      "photoUrl": "https://lh3.googleusercontent.com/a-/AOh14GikqVtj9xoQNQ4ex_LkbZ6MbxBTO0rFryA4hk3-qQ=s64",
      "userId": "08030484125132384151"
     },
     "user_tz": -120
    },
    "id": "QxSBCaUj0kPj",
    "outputId": "a9076e44-f82a-4471-bb15-fac92fa9dc12"
   },
   "outputs": [
    {
     "name": "stdout",
     "output_type": "stream",
     "text": [
      "Drive already mounted at /content/gdrive; to attempt to forcibly remount, call drive.mount(\"/content/gdrive\", force_remount=True).\n"
     ]
    }
   ],
   "source": [
    "drive.mount('/content/gdrive')"
   ]
  },
  {
   "cell_type": "code",
   "execution_count": 5,
   "metadata": {
    "colab": {},
    "colab_type": "code",
    "executionInfo": {
     "elapsed": 1584,
     "status": "ok",
     "timestamp": 1597695572798,
     "user": {
      "displayName": "David Amat Olóndriz",
      "photoUrl": "https://lh3.googleusercontent.com/a-/AOh14GikqVtj9xoQNQ4ex_LkbZ6MbxBTO0rFryA4hk3-qQ=s64",
      "userId": "08030484125132384151"
     },
     "user_tz": -120
    },
    "id": "ZW5BeTEE2JSg"
   },
   "outputs": [],
   "source": []
  },
  {
   "cell_type": "markdown",
   "metadata": {
    "colab_type": "text",
    "id": "KpT7mhVT2J2D"
   },
   "source": [
    "# Paths"
   ]
  },
  {
   "cell_type": "code",
   "execution_count": 6,
   "metadata": {
    "colab": {},
    "colab_type": "code",
    "executionInfo": {
     "elapsed": 1035,
     "status": "ok",
     "timestamp": 1597695574546,
     "user": {
      "displayName": "David Amat Olóndriz",
      "photoUrl": "https://lh3.googleusercontent.com/a-/AOh14GikqVtj9xoQNQ4ex_LkbZ6MbxBTO0rFryA4hk3-qQ=s64",
      "userId": "08030484125132384151"
     },
     "user_tz": -120
    },
    "id": "TRWqzEMt1GBb"
   },
   "outputs": [],
   "source": [
    "PATH_DRIVE = os.path.join(\"/content\", \"gdrive\")\n",
    "PATH_CODIGOS = os.path.join(PATH_DRIVE, \"My Drive\", \"16. Master BigData\", \"5 - Modulos\", \"Modulo 10 - TFM\", \"2. TFM\", \"Codigos\")\n",
    "PATH_DATA = os.path.join(PATH_CODIGOS , \"spec_data\", \"spec\")\n",
    "PATH_NN = os.path.join(PATH_CODIGOS , \"Spotify\", \"NeuralNetwork\", \"model_results\",\"colab\")"
   ]
  },
  {
   "cell_type": "code",
   "execution_count": 7,
   "metadata": {
    "colab": {
     "base_uri": "https://localhost:8080/",
     "height": 35
    },
    "colab_type": "code",
    "executionInfo": {
     "elapsed": 1283,
     "status": "ok",
     "timestamp": 1597695576420,
     "user": {
      "displayName": "David Amat Olóndriz",
      "photoUrl": "https://lh3.googleusercontent.com/a-/AOh14GikqVtj9xoQNQ4ex_LkbZ6MbxBTO0rFryA4hk3-qQ=s64",
      "userId": "08030484125132384151"
     },
     "user_tz": -120
    },
    "id": "_-jOpgt31YYG",
    "outputId": "7c2d4fec-c691-45a9-e77a-3ced79952c77"
   },
   "outputs": [
    {
     "data": {
      "application/vnd.google.colaboratory.intrinsic+json": {
       "type": "string"
      },
      "text/plain": [
       "'/content/gdrive/My Drive/16. Master BigData/5 - Modulos/Modulo 10 - TFM/2. TFM/Codigos/spec_data/spec'"
      ]
     },
     "execution_count": 7,
     "metadata": {
      "tags": []
     },
     "output_type": "execute_result"
    }
   ],
   "source": [
    "PATH_DATA"
   ]
  },
  {
   "cell_type": "code",
   "execution_count": 8,
   "metadata": {
    "colab": {},
    "colab_type": "code",
    "executionInfo": {
     "elapsed": 18005,
     "status": "ok",
     "timestamp": 1597695596148,
     "user": {
      "displayName": "David Amat Olóndriz",
      "photoUrl": "https://lh3.googleusercontent.com/a-/AOh14GikqVtj9xoQNQ4ex_LkbZ6MbxBTO0rFryA4hk3-qQ=s64",
      "userId": "08030484125132384151"
     },
     "user_tz": -120
    },
    "id": "8rAclsXF1ZYn"
   },
   "outputs": [],
   "source": [
    "files = os.listdir(PATH_DATA)"
   ]
  },
  {
   "cell_type": "code",
   "execution_count": 9,
   "metadata": {
    "colab": {
     "base_uri": "https://localhost:8080/",
     "height": 34
    },
    "colab_type": "code",
    "executionInfo": {
     "elapsed": 937,
     "status": "ok",
     "timestamp": 1597695602644,
     "user": {
      "displayName": "David Amat Olóndriz",
      "photoUrl": "https://lh3.googleusercontent.com/a-/AOh14GikqVtj9xoQNQ4ex_LkbZ6MbxBTO0rFryA4hk3-qQ=s64",
      "userId": "08030484125132384151"
     },
     "user_tz": -120
    },
    "id": "Rydh5zD21dma",
    "outputId": "c6a54124-4e94-4eea-8d7e-54e64016133a"
   },
   "outputs": [
    {
     "data": {
      "text/plain": [
       "1623"
      ]
     },
     "execution_count": 9,
     "metadata": {
      "tags": []
     },
     "output_type": "execute_result"
    }
   ],
   "source": [
    "len(files)"
   ]
  },
  {
   "cell_type": "markdown",
   "metadata": {
    "colab_type": "text",
    "id": "2iIHQazi2NUo"
   },
   "source": [
    "#  Callbacks"
   ]
  },
  {
   "cell_type": "code",
   "execution_count": 10,
   "metadata": {
    "colab": {},
    "colab_type": "code",
    "executionInfo": {
     "elapsed": 995,
     "status": "ok",
     "timestamp": 1597695823617,
     "user": {
      "displayName": "David Amat Olóndriz",
      "photoUrl": "https://lh3.googleusercontent.com/a-/AOh14GikqVtj9xoQNQ4ex_LkbZ6MbxBTO0rFryA4hk3-qQ=s64",
      "userId": "08030484125132384151"
     },
     "user_tz": -120
    },
    "id": "aH5YrIrz2O26"
   },
   "outputs": [],
   "source": [
    "filename_str = 'epochs:{epoch:03d}-val_acc:{val_acc:.3f}.hdf5'\n",
    "filepath = os.path.join(PATH_NN, \"epochs\",  filename_str)"
   ]
  },
  {
   "cell_type": "code",
   "execution_count": null,
   "metadata": {
    "colab": {},
    "colab_type": "code",
    "id": "MFMq9xqG2pcm"
   },
   "outputs": [],
   "source": []
  }
 ],
 "metadata": {
  "accelerator": "GPU",
  "colab": {
   "authorship_tag": "ABX9TyPWbQzkYtUehYjISIV9BuGC",
   "collapsed_sections": [],
   "name": "Model_Colab.ipynb",
   "provenance": []
  },
  "kernelspec": {
   "display_name": "Python 3",
   "language": "python",
   "name": "python3"
  },
  "language_info": {
   "codemirror_mode": {
    "name": "ipython",
    "version": 3
   },
   "file_extension": ".py",
   "mimetype": "text/x-python",
   "name": "python",
   "nbconvert_exporter": "python",
   "pygments_lexer": "ipython3",
   "version": "3.7.6"
  }
 },
 "nbformat": 4,
 "nbformat_minor": 4
}
