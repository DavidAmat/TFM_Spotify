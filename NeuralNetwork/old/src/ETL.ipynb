{
 "cells": [
  {
   "cell_type": "markdown",
   "metadata": {},
   "source": [
    "# (Run this notebook locally)"
   ]
  },
  {
   "cell_type": "code",
   "execution_count": 1,
   "metadata": {},
   "outputs": [],
   "source": [
    "import pandas as pd\n",
    "import numpy as np\n",
    "import os\n",
    "import sys\n",
    "from collections import Counter, defaultdict\n",
    "import matplotlib.pyplot as plt\n",
    "import tqdm"
   ]
  },
  {
   "cell_type": "code",
   "execution_count": 2,
   "metadata": {},
   "outputs": [
    {
     "name": "stderr",
     "output_type": "stream",
     "text": [
      "Using TensorFlow backend.\n"
     ]
    }
   ],
   "source": [
    "# Import keras\n",
    "import keras"
   ]
  },
  {
   "cell_type": "code",
   "execution_count": 3,
   "metadata": {},
   "outputs": [],
   "source": [
    "# Graph\n",
    "from py2neo import Graph"
   ]
  },
  {
   "cell_type": "markdown",
   "metadata": {},
   "source": [
    "# Input"
   ]
  },
  {
   "cell_type": "code",
   "execution_count": 7,
   "metadata": {},
   "outputs": [],
   "source": [
    "PATH_TFMDATA = \"/Users/david/TFM_DATA\"\n",
    "PATH_DATA = \"/Users/david/TFM_DATA/spec\"\n",
    "data_files = os.listdir(PATH_DATA)"
   ]
  },
  {
   "cell_type": "code",
   "execution_count": 8,
   "metadata": {},
   "outputs": [],
   "source": [
    "# PATH triplets\n",
    "PATH_TRIPLETS = os.path.join(PATH_TFMDATA, \"triplets.csv\")\n",
    "df = pd.read_csv(PATH_TRIPLETS, delimiter= \";\")"
   ]
  },
  {
   "cell_type": "code",
   "execution_count": 9,
   "metadata": {},
   "outputs": [],
   "source": [
    "# List\n",
    "triplets_input = list(df[\"output\"])\n",
    "size_triplets_input = len(triplets_input)\n",
    "\n",
    "# Sample\n",
    "triplets_input_v1 = triplets_input[:1000]\n",
    "size_triplets_input = len(triplets_input_v1)\n",
    "\n",
    "# Artists\n",
    "artists_labels = np.sort(df.a1.unique())\n",
    "df_artists = pd.DataFrame(data = artists_labels, columns = [\"artist\"]).reset_index()\n",
    "df_artists.columns = [\"id\",\"artist\"]\n",
    "\n",
    "# DF Artists with artists as index\n",
    "df_artists_index = df_artists.set_index(\"artist\")\n",
    "num_artists = df_artists.shape[0]"
   ]
  },
  {
   "cell_type": "code",
   "execution_count": 11,
   "metadata": {},
   "outputs": [],
   "source": [
    "graph = Graph(bolt = True, host = \"localhost\", name = \"Spotify\", user = \"neo4j\", password = \"qrks\")"
   ]
  },
  {
   "cell_type": "markdown",
   "metadata": {},
   "source": [
    "## Catalan music"
   ]
  },
  {
   "cell_type": "code",
   "execution_count": null,
   "metadata": {},
   "outputs": [],
   "source": [
    "name_file = \"dfneo_CAT.csv\""
   ]
  },
  {
   "cell_type": "code",
   "execution_count": null,
   "metadata": {},
   "outputs": [],
   "source": [
    "query = \"\"\"\n",
    "        MATCH (g:Genre)-[:GEN_ART]->(a:Artist)\n",
    "        MATCH (a:Artist)-[:REL_ART]->(a2:Artist)\n",
    "        WHERE toLower(g.genre_id) =~ '.*catala.*'\n",
    "        RETURN a.artist_id, a2.artist_id\n",
    "\n",
    "\"\"\""
   ]
  },
  {
   "cell_type": "code",
   "execution_count": null,
   "metadata": {},
   "outputs": [],
   "source": [
    "cursor = graph.run(query)\n",
    "dfneo = pd.DataFrame.from_records(cursor, columns=cursor.keys())"
   ]
  },
  {
   "cell_type": "code",
   "execution_count": null,
   "metadata": {},
   "outputs": [],
   "source": [
    "dfneo.to_csv(name_file, sep = \";\", index = False)"
   ]
  },
  {
   "cell_type": "markdown",
   "metadata": {},
   "source": [
    "## Popular music"
   ]
  },
  {
   "cell_type": "code",
   "execution_count": 41,
   "metadata": {},
   "outputs": [],
   "source": [
    "name_file = \"popular.csv\""
   ]
  },
  {
   "cell_type": "code",
   "execution_count": 19,
   "metadata": {},
   "outputs": [],
   "source": [
    "query = \"\"\"\n",
    "        MATCH (n:Artist)-[:ART_TR]-(t:Track) \n",
    "        WHERE t.yt_views > 100000000  \n",
    "        RETURN n.artist_id, n.artist_name\n",
    "        ORDER BY t.yt_views DESC  LIMIT 100\n",
    "\n",
    "\"\"\""
   ]
  },
  {
   "cell_type": "code",
   "execution_count": 20,
   "metadata": {},
   "outputs": [],
   "source": [
    "cursor = graph.run(query)\n",
    "dfneo = pd.DataFrame.from_records(cursor, columns=cursor.keys())"
   ]
  },
  {
   "cell_type": "code",
   "execution_count": 25,
   "metadata": {},
   "outputs": [],
   "source": [
    "selected_popular = [\n",
    "    'Daddy Yankee','Ed Sheeran','Bruno Mars','Justin Bieber','Maroon 5','Katy Perry','Taylor Swift',\n",
    "    'J Balvin', 'Passenger', 'Beyoncé', 'Adele', 'Maluma','Shakira', 'The Chainsmokers', 'Meghan Trainor',\n",
    "    'Clean Bandit', 'Rihanna','Sean Paul', 'Ozuna', 'Sia', 'Dua Lipa', 'Coldplay', 'Ariana Grande','Nicki Minaj'\n",
    "]\n",
    "set_selected = set(selected_popular)"
   ]
  },
  {
   "cell_type": "code",
   "execution_count": 37,
   "metadata": {},
   "outputs": [],
   "source": [
    "dfpopular = dfneo[dfneo[\"n.artist_name\"].isin(set_selected)].copy()"
   ]
  },
  {
   "cell_type": "code",
   "execution_count": 38,
   "metadata": {},
   "outputs": [],
   "source": [
    "dfpopular.reset_index(inplace=True)\n",
    "dfpopular.drop(\"index\", axis = 1, inplace = True)\n",
    "dfpopular.columns = [\"artist\",\"name\"]"
   ]
  },
  {
   "cell_type": "code",
   "execution_count": 42,
   "metadata": {},
   "outputs": [],
   "source": [
    "dfpopular.to_csv(name_file, sep = \";\", index = False)"
   ]
  },
  {
   "cell_type": "code",
   "execution_count": null,
   "metadata": {},
   "outputs": [],
   "source": []
  }
 ],
 "metadata": {
  "kernelspec": {
   "display_name": "Python 3",
   "language": "python",
   "name": "python3"
  },
  "language_info": {
   "codemirror_mode": {
    "name": "ipython",
    "version": 3
   },
   "file_extension": ".py",
   "mimetype": "text/x-python",
   "name": "python",
   "nbconvert_exporter": "python",
   "pygments_lexer": "ipython3",
   "version": "3.7.6"
  }
 },
 "nbformat": 4,
 "nbformat_minor": 4
}
