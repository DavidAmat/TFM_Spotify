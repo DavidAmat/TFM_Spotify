{
 "cells": [
  {
   "cell_type": "code",
   "execution_count": 1,
   "metadata": {},
   "outputs": [],
   "source": [
    "import pandas as pd\n",
    "import numpy as np\n",
    "import os\n",
    "import sys\n",
    "from collections import Counter, defaultdict\n",
    "import matplotlib.pyplot as plt\n",
    "import tqdm"
   ]
  },
  {
   "cell_type": "code",
   "execution_count": 2,
   "metadata": {},
   "outputs": [
    {
     "name": "stderr",
     "output_type": "stream",
     "text": [
      "Using TensorFlow backend.\n"
     ]
    }
   ],
   "source": [
    "from __future__ import print_function\n",
    "import keras\n",
    "from keras.datasets import mnist\n",
    "from keras.models import Sequential\n",
    "from keras.layers import Dense, Dropout, Flatten\n",
    "from keras.layers import Conv2D, MaxPooling2D, Conv1D\n",
    "from keras import backend as K\n",
    "import cv2\n",
    "\n",
    "import keras\n",
    "from keras.models import Model\n",
    "from keras.layers import Conv2D, MaxPooling2D, Dense, Input, Activation, Dropout, GlobalAveragePooling2D, \\\n",
    "    BatchNormalization, concatenate, AveragePooling2D\n",
    "from keras.optimizers import Adam"
   ]
  },
  {
   "cell_type": "code",
   "execution_count": 3,
   "metadata": {},
   "outputs": [],
   "source": [
    "from keras.models import Sequential\n",
    "from keras.layers import Dense, Dropout, Activation, Reshape, Permute\n",
    "from keras.layers import Conv1D, Conv2D, MaxPooling1D, MaxPooling2D\n",
    "from keras.layers.normalization import BatchNormalization\n",
    "from keras.layers.recurrent import GRU, LSTM"
   ]
  },
  {
   "cell_type": "code",
   "execution_count": 4,
   "metadata": {},
   "outputs": [],
   "source": [
    "from keras.callbacks import ModelCheckpoint, EarlyStopping"
   ]
  },
  {
   "cell_type": "code",
   "execution_count": null,
   "metadata": {},
   "outputs": [],
   "source": [
    "import seaborn as sns\n",
    "import matplotlib.pyplot as plt\n",
    "from sklearn.manifold import TSNE"
   ]
  },
  {
   "cell_type": "markdown",
   "metadata": {},
   "source": [
    "# Input data"
   ]
  },
  {
   "cell_type": "code",
   "execution_count": 5,
   "metadata": {},
   "outputs": [],
   "source": [
    "PATH_VOL = \"/home/ubuntu/data\"\n",
    "PATH_DATA = os.path.join(PATH_VOL, \"spec\")\n",
    "PATH_TRIPLETS = os.path.join(PATH_VOL, \"triplets.csv\")\n",
    "PATH_NEO = os.path.join(PATH_VOL, \"dfneo_CAT.csv\")"
   ]
  },
  {
   "cell_type": "code",
   "execution_count": 6,
   "metadata": {},
   "outputs": [],
   "source": [
    "# Spectogram files\n",
    "data_files = os.listdir(PATH_DATA)"
   ]
  },
  {
   "cell_type": "markdown",
   "metadata": {},
   "source": [
    "### Triplets"
   ]
  },
  {
   "cell_type": "code",
   "execution_count": 7,
   "metadata": {},
   "outputs": [],
   "source": [
    "# Load triplets\n",
    "df = pd.read_csv(PATH_TRIPLETS, delimiter= \";\")"
   ]
  },
  {
   "cell_type": "code",
   "execution_count": 8,
   "metadata": {},
   "outputs": [],
   "source": [
    "# List\n",
    "triplets_input = list(df[\"output\"])\n",
    "size_triplets_input = len(triplets_input)\n",
    "\n",
    "# Sample\n",
    "triplets_input_v1 = triplets_input[:1000]\n",
    "size_triplets_input = len(triplets_input_v1)\n",
    "\n",
    "# Artists\n",
    "artists_labels = np.sort(df.a1.unique())\n",
    "df_artists = pd.DataFrame(data = artists_labels, columns = [\"artist\"]).reset_index()\n",
    "df_artists.columns = [\"id\",\"artist\"]\n",
    "\n",
    "# DF Artists with artists as index\n",
    "df_artists_index = df_artists.set_index(\"artist\")\n",
    "num_artists = df_artists.shape[0]"
   ]
  },
  {
   "cell_type": "markdown",
   "metadata": {},
   "source": [
    "### Load catalan artists and songs"
   ]
  },
  {
   "cell_type": "code",
   "execution_count": 9,
   "metadata": {},
   "outputs": [],
   "source": [
    "# Load catalan artists and tracks\n",
    "dfneo = pd.read_csv(PATH_NEO, sep = \";\")"
   ]
  },
  {
   "cell_type": "code",
   "execution_count": 10,
   "metadata": {},
   "outputs": [],
   "source": [
    "set_art_cat = set()\n",
    "for ii, row in dfneo.iterrows():\n",
    "    set_art_cat.add(row[\"a.artist_id\"])\n",
    "    set_art_cat.add(row[\"a2.artist_id\"])"
   ]
  },
  {
   "cell_type": "code",
   "execution_count": 11,
   "metadata": {},
   "outputs": [],
   "source": [
    "sel_art = list(set_art_cat)"
   ]
  },
  {
   "cell_type": "code",
   "execution_count": 12,
   "metadata": {},
   "outputs": [],
   "source": [
    "df_artists_cat = df_artists[df_artists.artist.isin(set_art_cat)][\"artist\"].reset_index()\n",
    "df_artists_cat[\"id\"] = df_artists_cat.index\n",
    "df_artists_cat.drop('index', axis=1, inplace = True)"
   ]
  },
  {
   "cell_type": "markdown",
   "metadata": {},
   "source": [
    "# Labels"
   ]
  },
  {
   "cell_type": "code",
   "execution_count": 13,
   "metadata": {},
   "outputs": [],
   "source": [
    "df_artists_gen = df_artists_cat.copy()"
   ]
  },
  {
   "cell_type": "code",
   "execution_count": 14,
   "metadata": {},
   "outputs": [],
   "source": [
    "labels_mat = keras.utils.to_categorical(df_artists_gen.id)"
   ]
  },
  {
   "cell_type": "code",
   "execution_count": 15,
   "metadata": {},
   "outputs": [],
   "source": [
    "labels = dict()\n",
    "for i, row in df_artists_gen.iterrows():\n",
    "    labels[row.artist] = labels_mat[row.id,].astype(int)"
   ]
  },
  {
   "cell_type": "code",
   "execution_count": 16,
   "metadata": {},
   "outputs": [],
   "source": [
    "num_artists = len(labels.keys())"
   ]
  },
  {
   "cell_type": "markdown",
   "metadata": {},
   "source": [
    "## Songs"
   ]
  },
  {
   "cell_type": "code",
   "execution_count": 17,
   "metadata": {},
   "outputs": [],
   "source": [
    "df_gen = df[df.a1.isin(set_art_cat)]"
   ]
  },
  {
   "cell_type": "code",
   "execution_count": 18,
   "metadata": {},
   "outputs": [],
   "source": [
    "df1 = df_gen[[\"a1\",\"tr1\",\"win1\",\"ini1\",\"fin1\"]].copy()\n",
    "df2 = df_gen[[\"a1\",\"tr2\",\"win2\",\"ini2\",\"fin2\"]].copy()\n",
    "\n",
    "# Column names\n",
    "colnames = [\"art\",\"tr\",\"win\",\"ini\",\"fin\"]\n",
    "df1.columns = colnames\n",
    "df2.columns = colnames"
   ]
  },
  {
   "cell_type": "code",
   "execution_count": 19,
   "metadata": {},
   "outputs": [],
   "source": [
    "df_concat = pd.concat([df1, df2])\n",
    "df_concat.drop_duplicates(inplace = True)"
   ]
  },
  {
   "cell_type": "code",
   "execution_count": 20,
   "metadata": {},
   "outputs": [],
   "source": [
    "df_concat[\"tr\"] = df_concat.tr + \"__\" + df_concat.win.astype(str) +  \\\n",
    "    \"__\" + df_concat.ini.astype(str) + \"__\" + df_concat.fin.astype(str) + \".jpg\""
   ]
  },
  {
   "cell_type": "code",
   "execution_count": 21,
   "metadata": {},
   "outputs": [],
   "source": [
    "df_concat = df_concat.reset_index().drop(\"index\", axis = 1)"
   ]
  },
  {
   "cell_type": "markdown",
   "metadata": {},
   "source": [
    "# Data Generator"
   ]
  },
  {
   "cell_type": "code",
   "execution_count": 22,
   "metadata": {},
   "outputs": [],
   "source": [
    "class DataGenerator(keras.utils.Sequence):\n",
    "    def __init__(self, df, scaling, x_col, y_col=None, batch_size=10, num_classes=None, shuffle=True):\n",
    "        self.batch_size = batch_size\n",
    "        self.df = df\n",
    "        self.indices = self.df.index.tolist()\n",
    "        self.num_classes = num_classes\n",
    "        self.shuffle = shuffle\n",
    "        self.x_col = x_col\n",
    "        self.y_col = y_col\n",
    "        self.dim = (int(x_col / scaling), int(y_col / scaling), 1) #one input channel\n",
    "        self.on_epoch_end()\n",
    "\n",
    "    def __len__(self):\n",
    "        return len(self.indices) // self.batch_size\n",
    "\n",
    "    def __getitem__(self, index):\n",
    "        idx = self.indices[index * self.batch_size:(index + 1) * self.batch_size]\n",
    "        batch = [self.indices[k] for k in idx]\n",
    "        \n",
    "        X, y = self.__get_data(batch)\n",
    "        return X, y\n",
    "\n",
    "    def on_epoch_end(self):\n",
    "        pass\n",
    "\n",
    "    def __get_data(self, batch):\n",
    "        X = np.empty((self.batch_size, *self.dim))\n",
    "        y = np.empty((self.batch_size, self.num_classes), dtype=int)\n",
    "        \n",
    "        # Get the list of image files and corresponding artists\n",
    "        df_imgs_files = self.df.iloc[batch]\n",
    "        \n",
    "        list_imgs = list(df_imgs_files[\"tr\"])\n",
    "        list_art = list(df_imgs_files[\"art\"])\n",
    "        \n",
    "        for ii in range(len(list_imgs)):\n",
    "            \n",
    "            # Read image using cv2\n",
    "            path_img = os.path.join(PATH_DATA, list_imgs[ii])\n",
    "            img = cv2.cvtColor(cv2.imread(path_img), cv2.COLOR_BGR2GRAY)\n",
    "            img = np.round(img / 255.,5)\n",
    "            img = cv2.resize(img, (self.y_col, self.x_col))\n",
    "            img = cv2.resize(img, (self.dim[1], self.dim[0]))\n",
    "            img = np.expand_dims(img, axis = 2) # add the dimension of the channel \n",
    "            \n",
    "            # Put it into X matrix\n",
    "            X[ii,] = img\n",
    "            y[ii] = labels[list_art[ii]]\n",
    "\n",
    "        return X, y"
   ]
  },
  {
   "cell_type": "code",
   "execution_count": null,
   "metadata": {},
   "outputs": [],
   "source": [
    "class DataGenerator(keras.utils.Sequence):\n",
    "    def __init__(self, df, scaling, x_col, y_col=None, batch_size=10, num_classes=None, shuffle=True):\n",
    "        self.batch_size = batch_size\n",
    "        self.df = df\n",
    "        self.indices = self.df.index.tolist()\n",
    "        self.num_classes = num_classes\n",
    "        self.shuffle = shuffle\n",
    "        self.x_col = x_col\n",
    "        self.y_col = y_col\n",
    "        self.dim = (int(x_col / scaling), int(y_col / scaling), 1) #one input channel\n",
    "        self.on_epoch_end()\n",
    "\n",
    "    def __len__(self):\n",
    "        return len(self.indices) // self.batch_size\n",
    "\n",
    "    def __getitem__(self, index):\n",
    "        idx = self.indices[index * self.batch_size:(index + 1) * self.batch_size]\n",
    "        batch = [self.indices[k] for k in idx]\n",
    "        \n",
    "        X, y = self.__get_data(batch)\n",
    "        return X, y\n",
    "\n",
    "    def on_epoch_end(self):\n",
    "        pass\n",
    "\n",
    "    def __get_data(self, batch):\n",
    "        X = np.empty((self.batch_size, *self.dim))\n",
    "        y = np.empty((self.batch_size, self.num_classes), dtype=int)\n",
    "        \n",
    "        # Get the list of image files and corresponding artists\n",
    "        df_imgs_files = self.df.iloc[batch]\n",
    "        \n",
    "        list_imgs = list(df_imgs_files[\"tr\"])\n",
    "        list_art = list(df_imgs_files[\"art\"])\n",
    "        \n",
    "        for ii in range(len(list_imgs)):\n",
    "            \n",
    "            # Read image using cv2\n",
    "            path_img = os.path.join(PATH_DATA, list_imgs[ii])\n",
    "            img = cv2.cvtColor(cv2.imread(path_img), cv2.COLOR_BGR2GRAY)\n",
    "            img = np.round(img / 255.,5)\n",
    "            img = cv2.resize(img, (self.y_col, self.x_col))\n",
    "            img = cv2.resize(img, (self.dim[1], self.dim[0]))\n",
    "            img = np.expand_dims(img, axis = 2) # add the dimension of the channel \n",
    "            \n",
    "            # Put it into X matrix\n",
    "            X[ii,] = img\n",
    "            y[ii] = labels[list_art[ii]]\n",
    "\n",
    "        return X, y"
   ]
  },
  {
   "cell_type": "code",
   "execution_count": 104,
   "metadata": {},
   "outputs": [],
   "source": []
  },
  {
   "cell_type": "code",
   "execution_count": 64,
   "metadata": {},
   "outputs": [],
   "source": [
    "x_col, y_col = (256, 937)\n",
    "num_classes = df_artists.shape[0]\n",
    "shuffle = False\n",
    "scaling = 2\n",
    "batch_size = 10\n",
    "\n",
    "training_generator = DataGenerator(df=df_concat, \n",
    "                                   scaling = scaling,\n",
    "                                   x_col=x_col, \n",
    "                                   y_col=y_col,\n",
    "                                   batch_size=batch_size, \n",
    "                                   num_classes=num_artists,\n",
    "                                   shuffle=False)"
   ]
  },
  {
   "cell_type": "code",
   "execution_count": 113,
   "metadata": {},
   "outputs": [
    {
     "name": "stderr",
     "output_type": "stream",
     "text": [
      "1915it [01:01, 31.11it/s]\n"
     ]
    }
   ],
   "source": []
  },
  {
   "cell_type": "code",
   "execution_count": 102,
   "metadata": {},
   "outputs": [
    {
     "data": {
      "text/plain": [
       "0"
      ]
     },
     "execution_count": 102,
     "metadata": {},
     "output_type": "execute_result"
    }
   ],
   "source": []
  },
  {
   "cell_type": "markdown",
   "metadata": {},
   "source": [
    "# Model"
   ]
  },
  {
   "cell_type": "code",
   "execution_count": 35,
   "metadata": {},
   "outputs": [],
   "source": [
    "def conv_layer(conv_x, filters):\n",
    "    conv_x = BatchNormalization()(conv_x)\n",
    "    conv_x = Activation('relu')(conv_x)\n",
    "    conv_x = Conv2D(filters, (3, 3), kernel_initializer='he_uniform', padding='same', use_bias=False)(conv_x)\n",
    "    conv_x = Dropout(0.2)(conv_x)\n",
    "\n",
    "    return conv_x\n",
    "\n",
    "\n",
    "def dense_block(block_x, filters, growth_rate, layers_in_block):\n",
    "    for i in range(layers_in_block):\n",
    "        each_layer = conv_layer(block_x, growth_rate)\n",
    "        block_x = concatenate([block_x, each_layer], axis=-1)\n",
    "        filters += growth_rate\n",
    "\n",
    "    return block_x, filters\n",
    "\n",
    "def transition_block(trans_x, tran_filters):\n",
    "    trans_x = BatchNormalization()(trans_x)\n",
    "    trans_x = Activation('relu')(trans_x)\n",
    "    trans_x = Conv2D(tran_filters, (1, 1), kernel_initializer='he_uniform', padding='same', use_bias=False)(trans_x)\n",
    "    trans_x = AveragePooling2D((2, 2), strides=(2, 2))(trans_x)\n",
    "\n",
    "    return trans_x, tran_filters\n",
    "\n",
    "def dense_net(filters, growth_rate, classes, dense_block_size, layers_in_block, in_shape):\n",
    "    input_img = Input(shape=in_shape)\n",
    "    x = Conv2D(3, (3, 3), kernel_initializer='he_uniform', padding='same', use_bias=False)(input_img)\n",
    "\n",
    "    dense_x = BatchNormalization()(x)\n",
    "    dense_x = Activation('relu')(x)\n",
    "\n",
    "    dense_x = MaxPooling2D((3, 3), strides=(2, 2), padding='same')(dense_x)\n",
    "    for block in range(dense_block_size - 1):\n",
    "        dense_x, filters = dense_block(dense_x, filters, growth_rate, layers_in_block)\n",
    "        dense_x, filters = transition_block(dense_x, filters)\n",
    "\n",
    "    dense_x, filters = dense_block(dense_x, filters, growth_rate, layers_in_block)\n",
    "    dense_x = BatchNormalization()(dense_x)\n",
    "    dense_x = Activation('relu')(dense_x)\n",
    "    dense_x = GlobalAveragePooling2D()(dense_x)\n",
    "\n",
    "    output = Dense(classes, activation='softmax')(dense_x)\n",
    "\n",
    "    return Model(input_img, output)"
   ]
  },
  {
   "cell_type": "code",
   "execution_count": 36,
   "metadata": {},
   "outputs": [],
   "source": [
    "def CRNN2D(X_shape, nb_classes):\n",
    "    '''\n",
    "    Model used for evaluation in paper. Inspired by K. Choi model in:\n",
    "    https://github.com/keunwoochoi/music-auto_tagging-keras/blob/master/music_tagger_crnn.py\n",
    "    '''\n",
    "\n",
    "    nb_layers = 4  # number of convolutional layers\n",
    "    nb_filters = [64, 128, 128, 128]  # filter sizes\n",
    "    kernel_size = (3, 3)  # convolution kernel size\n",
    "    activation = 'elu'  # activation function to use after each layer\n",
    "    pool_size = [(2, 2), (4, 2), (4, 2), (4, 2),\n",
    "                 (4, 2)]  # size of pooling area\n",
    "\n",
    "    # shape of input data (frequency, time, channels)\n",
    "    input_shape = X_shape\n",
    "    frequency_axis = 1\n",
    "    time_axis = 2\n",
    "    channel_axis = 3\n",
    "\n",
    "    # Create sequential model and normalize along frequency axis\n",
    "    model = Sequential()\n",
    "    model.add(BatchNormalization(axis=frequency_axis, input_shape=input_shape, trainable = False))\n",
    "\n",
    "    # First convolution layer specifies shape\n",
    "    model.add(Conv2D(nb_filters[0], kernel_size=kernel_size, padding='same',\n",
    "                     data_format=\"channels_last\",\n",
    "                     input_shape=input_shape))\n",
    "    model.add(Activation(activation))\n",
    "    model.add(BatchNormalization(axis=channel_axis, trainable = False))\n",
    "    model.add(MaxPooling2D(pool_size=pool_size[0], strides=pool_size[0]))\n",
    "    #model.add(Dropout(0.1))\n",
    "\n",
    "    # Add more convolutional layers\n",
    "    for layer in range(nb_layers - 1):\n",
    "        # Convolutional layer\n",
    "        model.add(Conv2D(nb_filters[layer + 1], kernel_size=kernel_size,\n",
    "                         padding='same'))\n",
    "        model.add(Activation(activation))\n",
    "        model.add(BatchNormalization(\n",
    "            axis=channel_axis, trainable = False))  # Improves overfitting/underfitting\n",
    "        model.add(MaxPooling2D(pool_size=pool_size[layer + 1],\n",
    "                               strides=pool_size[layer + 1]))  # Max pooling\n",
    "        #model.add(Dropout(0.1))\n",
    "\n",
    "        # Reshaping input for recurrent layer\n",
    "    # (frequency, time, channels) --> (time, frequency, channel)\n",
    "    model.add(Permute((time_axis, frequency_axis, channel_axis)))\n",
    "    resize_shape = model.output_shape[2] * model.output_shape[3]\n",
    "    model.add(Reshape((model.output_shape[1], resize_shape)))\n",
    "\n",
    "    # recurrent layer\n",
    "    model.add(GRU(32, return_sequences=True))\n",
    "    model.add(GRU(32, return_sequences=False))\n",
    "    #model.add(Dropout(0.3))\n",
    "\n",
    "    # Output layer\n",
    "    model.add(Dense(nb_classes))\n",
    "    model.add(Activation(\"softmax\"))\n",
    "    return model\n"
   ]
  },
  {
   "cell_type": "code",
   "execution_count": 67,
   "metadata": {},
   "outputs": [],
   "source": [
    "def CRNN2DLarger(X_shape, nb_classes):\n",
    "    '''\n",
    "    Making the previous model larger and deeper\n",
    "    '''\n",
    "    nb_layers = 5  # number of convolutional layers\n",
    "    nb_filters = [64, 128, 256, 512, 512]\n",
    "    kernel_size = (3, 3)  # convolution kernel size\n",
    "    activation = 'elu'  # activation function to use after each layer\n",
    "    pool_size = [(2, 2), (2, 2), (2, 2), (4, 1),\n",
    "                 (4, 1)]  # # size of pooling area\n",
    "    # pool_size = [(4,2), (4,2), (4,1), (2,1)] this worked well\n",
    "\n",
    "    # shape of input data (frequency, time, channels)\n",
    "    input_shape = X_shape\n",
    "    frequency_axis = 1\n",
    "    time_axis = 2\n",
    "    channel_axis = 3\n",
    "\n",
    "    # Create sequential model\n",
    "    model = Sequential()\n",
    "    model.add(BatchNormalization(axis=frequency_axis, input_shape=input_shape))\n",
    "\n",
    "    # First convolution layer\n",
    "    model.add(Conv2D(nb_filters[0], kernel_size=kernel_size, padding='same',\n",
    "                     data_format=\"channels_last\",\n",
    "                     input_shape=input_shape))\n",
    "    model.add(Activation(activation))\n",
    "    model.add(BatchNormalization(\n",
    "        axis=channel_axis))  # Improves overfitting/underfitting\n",
    "    model.add(MaxPooling2D(pool_size=pool_size[0],\n",
    "                           strides=pool_size[0]))  # Max pooling\n",
    "    model.add(Dropout(0.1))  # 0.2\n",
    "\n",
    "    # Add more convolutional layers\n",
    "    for layer in range(nb_layers - 1):\n",
    "        # Convolutional layer\n",
    "        model.add(Conv2D(nb_filters[layer + 1], kernel_size=kernel_size,\n",
    "                         padding='same'))\n",
    "        model.add(Activation(activation))\n",
    "        model.add(BatchNormalization(\n",
    "            axis=channel_axis))  # Improves overfitting/underfitting\n",
    "        model.add(MaxPooling2D(pool_size=pool_size[layer + 1],\n",
    "                               strides=pool_size[layer + 1]))  # Max pooling\n",
    "        model.add(Dropout(0.1))  # 0.2\n",
    "\n",
    "    # Reshaping input for recurrent layer\n",
    "    # (frequency, time, channels) --> (time, frequency, channel)\n",
    "    model.add(Permute((time_axis, frequency_axis, channel_axis)))\n",
    "    resize_shape = model.output_shape[2] * model.output_shape[3]\n",
    "    model.add(Reshape((model.output_shape[1], resize_shape)))\n",
    "\n",
    "    # recurrent layer\n",
    "    model.add(GRU(32, return_sequences=True))\n",
    "    model.add(GRU(32, return_sequences=False))\n",
    "    model.add(Dropout(0.3))\n",
    "\n",
    "    # Output layer\n",
    "    model.add(Dense(nb_classes))\n",
    "    model.add(Activation(\"softmax\"))\n",
    "    return model\n"
   ]
  },
  {
   "cell_type": "code",
   "execution_count": 219,
   "metadata": {},
   "outputs": [],
   "source": [
    "def CRNN2DLarger_v2(X_shape, nb_classes):\n",
    "    '''\n",
    "    Making the previous model larger and deeper\n",
    "    '''\n",
    "    nb_layers = 3  # number of convolutional layers\n",
    "    nb_filters = [32, 64, 128]\n",
    "    kernel_size = (3, 16)  # convolution kernel size\n",
    "    activation = 'elu'  # activation function to use after each layer\n",
    "    pool_size = [(2, 2), (2, 2), (1, 2)]  # # size of pooling area\n",
    "    # pool_size = [(4,2), (4,2), (4,1), (2,1)] this worked well\n",
    "\n",
    "    # shape of input data (frequency, time, channels)\n",
    "    input_shape = X_shape\n",
    "    frequency_axis = 1\n",
    "    time_axis = 2\n",
    "    channel_axis = 3\n",
    "\n",
    "    # Create sequential model\n",
    "    model = Sequential()\n",
    "    model.add(BatchNormalization(axis=frequency_axis, input_shape=input_shape))\n",
    "\n",
    "    # First convolution layer\n",
    "    model.add(Conv2D(nb_filters[0], kernel_size=kernel_size, padding='same',\n",
    "                     data_format=\"channels_last\",\n",
    "                     input_shape=input_shape))\n",
    "    model.add(Activation(activation))\n",
    "    model.add(BatchNormalization(\n",
    "        axis=channel_axis))  # Improves overfitting/underfitting\n",
    "    model.add(MaxPooling2D(pool_size=pool_size[0],\n",
    "                           strides=pool_size[0]))  # Max pooling\n",
    "    model.add(Dropout(0.1))  # 0.2\n",
    "\n",
    "    # Add more convolutional layers\n",
    "    for layer in range(nb_layers - 1):\n",
    "        # Convolutional layer\n",
    "        model.add(Conv2D(nb_filters[layer + 1], kernel_size=kernel_size,\n",
    "                         padding='same'))\n",
    "        model.add(Activation(activation))\n",
    "        model.add(BatchNormalization(\n",
    "            axis=channel_axis))  # Improves overfitting/underfitting\n",
    "        model.add(MaxPooling2D(pool_size=pool_size[layer + 1],\n",
    "                               strides=pool_size[layer + 1]))  # Max pooling\n",
    "        model.add(Dropout(0.1))  # 0.2\n",
    "\n",
    "    # Reshaping input for recurrent layer\n",
    "    # (frequency, time, channels) --> (time, frequency, channel)\n",
    "    model.add(Permute((time_axis, frequency_axis, channel_axis)))\n",
    "    resize_shape = model.output_shape[2] * model.output_shape[3]\n",
    "    model.add(Reshape((model.output_shape[1], resize_shape)))\n",
    "\n",
    "    # recurrent layer\n",
    "    model.add(GRU(32, return_sequences=True))\n",
    "    model.add(GRU(32, return_sequences=False))\n",
    "    model.add(Dropout(0.3))\n",
    "\n",
    "    # Output layer\n",
    "    model.add(Dense(nb_classes))\n",
    "    model.add(Activation(\"softmax\"))\n",
    "    return model\n"
   ]
  },
  {
   "cell_type": "code",
   "execution_count": null,
   "metadata": {},
   "outputs": [],
   "source": [
    "def CRNN2DVGG(X_shape, nb_classes):\n",
    "    '''\n",
    "    Based on VGG-16 Architecture\n",
    "    '''\n",
    "    nb_layers = 5  # number of convolutional layers\n",
    "    nb_filters = [64, 128, 256, 512, 512]\n",
    "    kernel_size = (3, 3)  # convolution kernel size\n",
    "    activation = 'elu'  # activation function to use after each layer\n",
    "    pool_size = [(2, 2), (2, 2), (2, 2), (4, 1),\n",
    "                 (4, 1)]  # # size of pooling area\n",
    "    # pool_size = [(4,2), (4,2), (4,1), (2,1)] this worked well\n",
    "\n",
    "    # shape of input data (frequency, time, channels)\n",
    "    input_shape = X_shape\n",
    "    frequency_axis = 1\n",
    "    time_axis = 2\n",
    "    channel_axis = 3\n",
    "\n",
    "    # Create sequential model\n",
    "    model = Sequential()\n",
    "    model.add(BatchNormalization(axis=frequency_axis, input_shape=input_shape))\n",
    "\n",
    "    # First convolution layer\n",
    "    model.add(Conv2D(nb_filters[0], kernel_size=kernel_size, padding='same',\n",
    "                     data_format=\"channels_last\",\n",
    "                     input_shape=input_shape))\n",
    "    model.add(Activation(activation))\n",
    "    model.add(BatchNormalization(\n",
    "        axis=channel_axis))  # Improves overfitting/underfitting\n",
    "\n",
    "    model.add(Conv2D(nb_filters[0], kernel_size=kernel_size, padding='same',\n",
    "                     data_format=\"channels_last\",\n",
    "                     input_shape=input_shape))\n",
    "    model.add(Activation(activation))\n",
    "    model.add(BatchNormalization(\n",
    "        axis=channel_axis))  # Improves overfitting/underfitting\n",
    "\n",
    "    model.add(MaxPooling2D(pool_size=pool_size[0],\n",
    "                           strides=pool_size[0]))  # Max pooling\n",
    "    #model.add(Dropout(0.1))  # 0.2\n",
    "\n",
    "    # Add more convolutional layers\n",
    "    for layer in range(nb_layers - 1):\n",
    "        # Convolutional layer\n",
    "        model.add(Conv2D(nb_filters[layer + 1], kernel_size=kernel_size,\n",
    "                         padding='same'))\n",
    "        model.add(Activation(activation))\n",
    "        model.add(BatchNormalization(\n",
    "            axis=channel_axis))  # Improves overfitting/underfitting\n",
    "\n",
    "        model.add(Conv2D(nb_filters[layer + 1], kernel_size=kernel_size,\n",
    "                         padding='same'))\n",
    "        model.add(Activation(activation))\n",
    "        model.add(BatchNormalization(\n",
    "            axis=channel_axis))  # Improves overfitting/underfitting\n",
    "\n",
    "        if nb_filters[layer + 1] != 128:\n",
    "            model.add(Conv2D(nb_filters[layer + 1], kernel_size=kernel_size,\n",
    "                             padding='same'))\n",
    "            model.add(Activation(activation))\n",
    "            model.add(BatchNormalization(\n",
    "                axis=channel_axis))  # Improves overfitting/underfitting\n",
    "\n",
    "        model.add(MaxPooling2D(pool_size=pool_size[layer + 1],\n",
    "                               strides=pool_size[layer + 1]))  # Max pooling\n",
    "        #model.add(Dropout(0.1))  # 0.2\n",
    "\n",
    "    # Reshaping input for recurrent layer\n",
    "    # (frequency, time, channels) --> (time, frequency, channel)\n",
    "    model.add(Permute((time_axis, frequency_axis, channel_axis)))\n",
    "    resize_shape = model.output_shape[2] * model.output_shape[3]\n",
    "    model.add(Reshape((model.output_shape[1], resize_shape)))\n",
    "\n",
    "    # recurrent layer\n",
    "    model.add(GRU(32, return_sequences=True))\n",
    "    model.add(GRU(32, return_sequences=False))\n",
    "    #model.add(Dropout(0.2))\n",
    "\n",
    "    # Output layer\n",
    "    model.add(Dense(nb_classes))\n",
    "    model.add(Activation(\"softmax\"))\n",
    "    return model"
   ]
  },
  {
   "cell_type": "code",
   "execution_count": 220,
   "metadata": {},
   "outputs": [],
   "source": [
    "def CRNN1D(X_shape, nb_classes):\n",
    "    '''\n",
    "    Based on 1D convolution\n",
    "    '''\n",
    "\n",
    "    nb_layers = 5  # number of convolutional layers\n",
    "    kernel_size = 15  # convolution kernel size\n",
    "    activation = 'relu'  # activation function to use after each layer\n",
    "    pool_size = 2  # size of pooling area\n",
    "\n",
    "    # shape of input data (frequency, time, channels)\n",
    "    input_shape = X_shape\n",
    "    frequency_axis = 1\n",
    "    time_axis = 2\n",
    "    channel_axis = 3\n",
    "\n",
    "    # Create sequential model\n",
    "    model = Sequential()\n",
    "\n",
    "    model.add(Permute((time_axis, frequency_axis, channel_axis),\n",
    "                      input_shape=input_shape))\n",
    "    resize_shape = model.output_shape[2] * model.output_shape[3]\n",
    "    model.add(Reshape((model.output_shape[1], resize_shape)))\n",
    "\n",
    "    # First convolution layer\n",
    "    model.add(Conv1D(64, kernel_size))\n",
    "    model.add(Activation(activation))\n",
    "    model.add(\n",
    "        MaxPooling1D(pool_size=pool_size, strides=pool_size))  # Max pooling\n",
    "    # model.add(Dropout(0.2))\n",
    "\n",
    "    # Add more convolutional layers\n",
    "    for _ in range(nb_layers - 1):\n",
    "        # Convolutional layer\n",
    "        model.add(Conv1D(128, kernel_size))\n",
    "        model.add(Activation(activation))\n",
    "        model.add(MaxPooling1D(pool_size=pool_size,\n",
    "                               strides=pool_size))  # Max pooling\n",
    "\n",
    "    model.add(GRU(64, return_sequences=True))\n",
    "    model.add(GRU(64, return_sequences=False))\n",
    "\n",
    "    model.add(Dense(nb_classes))  # note sure about this\n",
    "    model.add(Activation('softmax'))\n",
    "\n",
    "    # Output layer\n",
    "    return model"
   ]
  },
  {
   "cell_type": "markdown",
   "metadata": {},
   "source": [
    "# Simple model"
   ]
  },
  {
   "cell_type": "markdown",
   "metadata": {},
   "source": [
    "https://github.com/chen0040/keras-audio/blob/master/keras_audio/library/resnet50.py"
   ]
  },
  {
   "cell_type": "code",
   "execution_count": 231,
   "metadata": {},
   "outputs": [],
   "source": [
    "from keras.layers import Input, Add, Dense, Activation, ZeroPadding2D, BatchNormalization, Flatten, Conv2D, \\\n",
    "    AveragePooling2D, MaxPooling2D"
   ]
  },
  {
   "cell_type": "code",
   "execution_count": 232,
   "metadata": {},
   "outputs": [],
   "source": [
    "def identity_block(X, f, filters, stage, block):\n",
    "    \"\"\"\n",
    "    Implementation of the identity block as defined in Figure 3\n",
    "    Arguments:\n",
    "    X -- input tensor of shape (m, n_H_prev, n_W_prev, n_C_prev)\n",
    "    f -- integer, specifying the shape of the middle CONV's window for the main path\n",
    "    filters -- python list of integers, defining the number of filters in the CONV layers of the main path\n",
    "    stage -- integer, used to name the layers, depending on their position in the network\n",
    "    block -- string/character, used to name the layers, depending on their position in the network\n",
    "    Returns:\n",
    "    X -- output of the identity block, tensor of shape (n_H, n_W, n_C)\n",
    "    \"\"\"\n",
    "\n",
    "    # defining name basis\n",
    "    conv_name_base = 'res' + str(stage) + block + '_branch'\n",
    "    bn_name_base = 'bn' + str(stage) + block + '_branch'\n",
    "\n",
    "    # Retrieve Filters\n",
    "    F1, F2, F3 = filters\n",
    "\n",
    "    # Save the input value. You'll need this later to add back to the main path.\n",
    "    X_shortcut = X\n",
    "\n",
    "    # First component of main path\n",
    "    X = Conv2D(filters=F1, kernel_size=(1, 1), strides=(1, 1), padding='valid', name=conv_name_base + '2a',\n",
    "               kernel_initializer=glorot_uniform(seed=0))(X)\n",
    "    X = BatchNormalization(axis=3, name=bn_name_base + '2a')(X)\n",
    "    X = Activation('elu')(X)\n",
    "\n",
    "    # Second component of main path (≈3 lines)\n",
    "    X = Conv2D(filters=F2, kernel_size=(f, f), strides=(1, 1), padding='same', name=conv_name_base + '2b',\n",
    "               kernel_initializer=glorot_uniform(seed=0))(X)\n",
    "    X = BatchNormalization(axis=3, name=bn_name_base + '2b')(X)\n",
    "    X = Activation('elu')(X)\n",
    "\n",
    "    # Third component of main path (≈2 lines)\n",
    "    X = Conv2D(filters=F3, kernel_size=(1, 1), strides=(1, 1), padding='valid', name=conv_name_base + '2c',\n",
    "               kernel_initializer=glorot_uniform(seed=0))(X)\n",
    "    X = BatchNormalization(axis=3, name=bn_name_base + '2c')(X)\n",
    "\n",
    "    # Final step: Add shortcut value to main path, and pass it through a RELU activation (≈2 lines)\n",
    "    X = Add()([X, X_shortcut])\n",
    "    X = Activation('elu')(X)\n",
    "\n",
    "    return X\n",
    "\n",
    "\n",
    "def identity_block_test():\n",
    "    tf.reset_default_graph()\n",
    "\n",
    "    with tf.Session() as test:\n",
    "        np.random.seed(1)\n",
    "        A_prev = tf.placeholder(\"float\", [3, 4, 4, 6])\n",
    "        X = np.random.randn(3, 4, 4, 6)\n",
    "        A = identity_block(A_prev, f=2, filters=[2, 4, 6], stage=1, block='a')\n",
    "        test.run(tf.global_variables_initializer())\n",
    "        out = test.run([A], feed_dict={A_prev: X, K.learning_phase(): 0})\n",
    "        print(\"out = \" + str(out[0][1][1][0]))\n",
    "\n",
    "\n",
    "def convolutional_block(X, f, filters, stage, block, s=2):\n",
    "    \"\"\"\n",
    "    Implementation of the convolutional block as defined in Figure 4\n",
    "    Arguments:\n",
    "    X -- input tensor of shape (m, n_H_prev, n_W_prev, n_C_prev)\n",
    "    f -- integer, specifying the shape of the middle CONV's window for the main path\n",
    "    filters -- python list of integers, defining the number of filters in the CONV layers of the main path\n",
    "    stage -- integer, used to name the layers, depending on their position in the network\n",
    "    block -- string/character, used to name the layers, depending on their position in the network\n",
    "    s -- Integer, specifying the stride to be used\n",
    "    Returns:\n",
    "    X -- output of the convolutional block, tensor of shape (n_H, n_W, n_C)\n",
    "    \"\"\"\n",
    "\n",
    "    # defining name basis\n",
    "    conv_name_base = 'res' + str(stage) + block + '_branch'\n",
    "    bn_name_base = 'bn' + str(stage) + block + '_branch'\n",
    "\n",
    "    # Retrieve Filters\n",
    "    F1, F2, F3 = filters\n",
    "\n",
    "    # Save the input value\n",
    "    X_shortcut = X\n",
    "\n",
    "    # First component of main path\n",
    "    X = Conv2D(F1, (1, 1), padding='valid', strides=(s, s), name=conv_name_base + '2a',\n",
    "               kernel_initializer=glorot_uniform(seed=0))(X)\n",
    "    X = BatchNormalization(axis=3, name=bn_name_base + '2a')(X)\n",
    "    X = Activation('elu')(X)\n",
    "\n",
    "    # Second component of main path (≈3 lines)\n",
    "    X = Conv2D(F2, (f, f), padding='same', strides=(1, 1), name=conv_name_base + '2b',\n",
    "               kernel_initializer=glorot_uniform(seed=0))(X)\n",
    "    X = BatchNormalization(axis=3, name=bn_name_base + '2b')(X)\n",
    "    X = Activation('elu')(X)\n",
    "\n",
    "    # Third component of main path (≈2 lines)\n",
    "    X = Conv2D(F3, (1, 1), padding='valid', strides=(1, 1), name=conv_name_base + '2c',\n",
    "               kernel_initializer=glorot_uniform(seed=0))(X)\n",
    "    X = BatchNormalization(axis=3, name=bn_name_base + '2c')(X)\n",
    "\n",
    "    ##### SHORTCUT PATH #### (≈2 lines)\n",
    "    X_shortcut = Conv2D(F3, (1, 1), padding='valid', strides=(s, s), name=conv_name_base + '1',\n",
    "                        kernel_initializer=glorot_uniform(seed=0))(X_shortcut)\n",
    "    X_shortcut = BatchNormalization(axis=3, name=bn_name_base + '1')(X_shortcut)\n",
    "\n",
    "    # Final step: Add shortcut value to main path, and pass it through a RELU activation (≈2 lines)\n",
    "    X = Add()([X, X_shortcut])\n",
    "    X = Activation('elu')(X)\n",
    "\n",
    "    return X\n",
    "\n",
    "\n",
    "def convolutional_block_test():\n",
    "    tf.reset_default_graph()\n",
    "\n",
    "    with tf.Session() as test:\n",
    "        np.random.seed(1)\n",
    "        A_prev = tf.placeholder(\"float\", [3, 4, 4, 6])\n",
    "        X = np.random.randn(3, 4, 4, 6)\n",
    "        A = convolutional_block(A_prev, f=2, filters=[2, 4, 6], stage=1, block='a')\n",
    "        test.run(tf.global_variables_initializer())\n",
    "        out = test.run([A], feed_dict={A_prev: X, K.learning_phase(): 0})\n",
    "        print(\"out = \" + str(out[0][1][1][0]))\n",
    "\n",
    "\n",
    "def resnet_50(input_shape, classes):\n",
    "    \"\"\"\n",
    "    Implementation of the popular ResNet50 the following architecture:\n",
    "    CONV2D -> BATCHNORM -> RELU -> MAXPOOL -> CONVBLOCK -> IDBLOCK*2 -> CONVBLOCK -> IDBLOCK*3\n",
    "    -> CONVBLOCK -> IDBLOCK*5 -> CONVBLOCK -> IDBLOCK*2 -> AVGPOOL -> TOPLAYER\n",
    "    Arguments:\n",
    "    input_shape -- shape of the images of the dataset\n",
    "    classes -- integer, number of classes\n",
    "    Returns:\n",
    "    model -- a Model() instance in Keras\n",
    "    \"\"\"\n",
    "\n",
    "    # Define the input as a tensor with shape input_shape\n",
    "    X_input = Input(input_shape)\n",
    "\n",
    "    # Zero-Padding\n",
    "    X = ZeroPadding2D((3, 3))(X_input)\n",
    "\n",
    "    # Stage 1\n",
    "    X = Conv2D(64, (7, 7), strides=(2, 2), name='conv1', kernel_initializer=glorot_uniform(seed=0))(X)\n",
    "    X = BatchNormalization(axis=3, name='bn_conv1')(X)\n",
    "    X = Activation('elu')(X)\n",
    "    X = MaxPooling2D((3, 3), strides=(2, 2))(X)\n",
    "\n",
    "    # Stage 2\n",
    "    X = convolutional_block(X, f=3, filters=[64, 64, 256], stage=2, block='a', s=1)\n",
    "    X = identity_block(X, 3, [64, 64, 256], stage=2, block='b')\n",
    "    X = identity_block(X, 3, [64, 64, 256], stage=2, block='c')\n",
    "\n",
    "    ### START CODE HERE ###\n",
    "\n",
    "    # Stage 3 (≈4 lines)\n",
    "    X = convolutional_block(X, f=3, filters=[128, 128, 512], stage=3, block='a', s=2)\n",
    "    X = identity_block(X, 3, [128, 128, 512], stage=3, block='b')\n",
    "    X = identity_block(X, 3, [128, 128, 512], stage=3, block='c')\n",
    "    X = identity_block(X, 3, [128, 128, 512], stage=3, block='d')\n",
    "\n",
    "    # Stage 4 (≈6 lines)\n",
    "    X = convolutional_block(X, f=3, filters=[256, 256, 1024], stage=4, block='a', s=2)\n",
    "    X = identity_block(X, 3, [256, 256, 1024], stage=4, block='b')\n",
    "    X = identity_block(X, 3, [256, 256, 1024], stage=4, block='c')\n",
    "    X = identity_block(X, 3, [256, 256, 1024], stage=4, block='d')\n",
    "    X = identity_block(X, 3, [256, 256, 1024], stage=4, block='e')\n",
    "    X = identity_block(X, 3, [256, 256, 1024], stage=4, block='f')\n",
    "\n",
    "    # Stage 5 (≈3 lines)\n",
    "    X = convolutional_block(X, f=3, filters=[512, 512, 2048], stage=5, block='a', s=2)\n",
    "    X = identity_block(X, 3, [512, 512, 2048], stage=5, block='b')\n",
    "    X = identity_block(X, 3, [512, 512, 2048], stage=5, block='c')\n",
    "\n",
    "    # AVGPOOL (≈1 line). Use \"X = AveragePooling2D(...)(X)\"\n",
    "    X = AveragePooling2D(pool_size=(2, 2), name='avg_pool')(X)\n",
    "\n",
    "    # X = Dropout(rate=0.25)(X)\n",
    "\n",
    "    ### END CODE HERE ###\n",
    "\n",
    "    # output layer\n",
    "    X = Flatten()(X)\n",
    "\n",
    "    # X = Dense(units=512)(X)\n",
    "    # X = Activation('elu')(X)\n",
    "\n",
    "    X = Dense(classes, activation='softmax', name='fc' + str(classes), kernel_initializer=glorot_uniform(seed=0))(X)\n",
    "\n",
    "    # Create model\n",
    "    model = Model(inputs=X_input, outputs=X, name='ResNet50')\n",
    "\n",
    "    return model"
   ]
  },
  {
   "cell_type": "code",
   "execution_count": 234,
   "metadata": {},
   "outputs": [],
   "source": [
    "from keras.initializers import glorot_uniform"
   ]
  },
  {
   "cell_type": "markdown",
   "metadata": {},
   "source": [
    "# Instantiate the model"
   ]
  },
  {
   "cell_type": "code",
   "execution_count": 242,
   "metadata": {},
   "outputs": [],
   "source": [
    "#dense_block_size = 4\n",
    "#layers_in_block = 2\n",
    "\n",
    "#growth_rate = 2\n",
    "in_shape = (int(x_col / scaling), int(y_col / scaling), 1)\n",
    "classes = num_artists\n",
    "\n",
    "#model = dense_net(growth_rate * 2, growth_rate, classes, dense_block_size, layers_in_block, in_shape)\n",
    "#model = quick_CNN2(input_shape=in_shape, num_classes = classes)\n",
    "#model = CRNN2D(in_shape, classes)\n",
    "#model = CRNN1D(in_shape, classes)\n",
    "#model = CRNN2DLarger_v2(in_shape, classes)\n",
    "#model = keras.models.load_model('models/densenet_v2.tf')\n",
    "#model = CRNN2DVGG(in_shape, classes)\n",
    "model = resnet_50(in_shape, classes)"
   ]
  },
  {
   "cell_type": "markdown",
   "metadata": {},
   "source": [
    "### Train the model"
   ]
  },
  {
   "cell_type": "code",
   "execution_count": 243,
   "metadata": {},
   "outputs": [],
   "source": [
    "save_metrics_folder='metrics'\n",
    "save_weights_folder='weights'\n",
    "load_checkpoint = False\n",
    "early_stop=10"
   ]
  },
  {
   "cell_type": "code",
   "execution_count": 244,
   "metadata": {},
   "outputs": [],
   "source": [
    "weights = os.path.join(save_weights_folder, 'ResNet50_v1_epoch_{epoch:02d}.hdf5')\n",
    "os.makedirs(save_weights_folder, exist_ok=True)\n",
    "os.makedirs(save_metrics_folder, exist_ok=True)"
   ]
  },
  {
   "cell_type": "code",
   "execution_count": 245,
   "metadata": {},
   "outputs": [],
   "source": [
    "checkpointer = ModelCheckpoint(filepath=weights,\n",
    "                                   verbose=1,\n",
    "                                   save_best_only=False,\n",
    "                                   save_weights_only=True,\n",
    "                                   period=10,\n",
    "                                   monitor = 'loss')\n",
    "earlystopper = EarlyStopping(monitor='loss', min_delta=0,\n",
    "                             patience=early_stop, verbose=0, mode='auto')"
   ]
  },
  {
   "cell_type": "code",
   "execution_count": 246,
   "metadata": {},
   "outputs": [],
   "source": [
    "# training\n",
    "epochs = 200\n",
    "lr = 0.001\n",
    "optimizer = Adam(lr=lr)\n",
    "model.compile(optimizer = optimizer, loss = 'categorical_crossentropy', metrics=['accuracy'])"
   ]
  },
  {
   "cell_type": "code",
   "execution_count": 247,
   "metadata": {
    "scrolled": false
   },
   "outputs": [
    {
     "name": "stdout",
     "output_type": "stream",
     "text": [
      "Epoch 1/200\n",
      "191/191 [==============================] - 50s 262ms/step - loss: 15.9577 - accuracy: 0.0377\n",
      "Epoch 2/200\n",
      "191/191 [==============================] - 23s 120ms/step - loss: 3.5903 - accuracy: 0.0518\n",
      "Epoch 3/200\n",
      "191/191 [==============================] - 23s 119ms/step - loss: 3.3149 - accuracy: 0.0728\n",
      "Epoch 4/200\n",
      "191/191 [==============================] - 23s 119ms/step - loss: 3.2567 - accuracy: 0.0984\n",
      "Epoch 5/200\n",
      "191/191 [==============================] - 23s 119ms/step - loss: 3.2530 - accuracy: 0.0921\n",
      "Epoch 6/200\n",
      "191/191 [==============================] - 23s 119ms/step - loss: 3.0137 - accuracy: 0.1419\n",
      "Epoch 7/200\n",
      "191/191 [==============================] - 23s 118ms/step - loss: 2.9233 - accuracy: 0.1382\n",
      "Epoch 8/200\n",
      "191/191 [==============================] - 23s 118ms/step - loss: 2.7709 - accuracy: 0.1670\n",
      "Epoch 9/200\n",
      "191/191 [==============================] - 22s 118ms/step - loss: 2.8747 - accuracy: 0.1382\n",
      "Epoch 10/200\n",
      "191/191 [==============================] - 22s 118ms/step - loss: 2.7939 - accuracy: 0.1948\n",
      "\n",
      "Epoch 00010: saving model to weights/ResNet50_v1_epoch_10.hdf5\n",
      "Epoch 11/200\n",
      "191/191 [==============================] - 22s 117ms/step - loss: 2.6156 - accuracy: 0.2272\n",
      "Epoch 12/200\n",
      "191/191 [==============================] - 22s 117ms/step - loss: 2.4533 - accuracy: 0.2581\n",
      "Epoch 13/200\n",
      "191/191 [==============================] - 22s 118ms/step - loss: 2.3591 - accuracy: 0.3199\n",
      "Epoch 14/200\n",
      "191/191 [==============================] - 23s 119ms/step - loss: 2.2420 - accuracy: 0.3293\n",
      "Epoch 15/200\n",
      "191/191 [==============================] - 23s 120ms/step - loss: 2.2762 - accuracy: 0.3340\n",
      "Epoch 16/200\n",
      "191/191 [==============================] - 24s 125ms/step - loss: 2.1377 - accuracy: 0.3707\n",
      "Epoch 17/200\n",
      "191/191 [==============================] - 23s 119ms/step - loss: 1.9723 - accuracy: 0.3911\n",
      "Epoch 18/200\n",
      "191/191 [==============================] - 23s 119ms/step - loss: 1.9502 - accuracy: 0.4241\n",
      "Epoch 19/200\n",
      "191/191 [==============================] - 23s 119ms/step - loss: 1.9983 - accuracy: 0.4157\n",
      "Epoch 20/200\n",
      "191/191 [==============================] - 23s 119ms/step - loss: 1.7451 - accuracy: 0.4738\n",
      "\n",
      "Epoch 00020: saving model to weights/ResNet50_v1_epoch_20.hdf5\n",
      "Epoch 21/200\n",
      "191/191 [==============================] - 23s 119ms/step - loss: 1.5768 - accuracy: 0.5141\n",
      "Epoch 22/200\n",
      "191/191 [==============================] - 23s 118ms/step - loss: 1.3923 - accuracy: 0.5984\n",
      "Epoch 23/200\n",
      "191/191 [==============================] - 23s 118ms/step - loss: 1.4130 - accuracy: 0.5738\n",
      "Epoch 24/200\n",
      "191/191 [==============================] - 23s 118ms/step - loss: 1.1873 - accuracy: 0.6445\n",
      "Epoch 25/200\n",
      "191/191 [==============================] - 22s 117ms/step - loss: 1.3160 - accuracy: 0.6204\n",
      "Epoch 26/200\n",
      "191/191 [==============================] - 23s 120ms/step - loss: 0.9296 - accuracy: 0.7068\n",
      "Epoch 27/200\n",
      "191/191 [==============================] - 23s 119ms/step - loss: 0.8244 - accuracy: 0.7670\n",
      "Epoch 28/200\n",
      "191/191 [==============================] - 23s 119ms/step - loss: 0.7649 - accuracy: 0.7649\n",
      "Epoch 29/200\n",
      "191/191 [==============================] - 23s 120ms/step - loss: 0.8319 - accuracy: 0.7634\n",
      "Epoch 30/200\n",
      "191/191 [==============================] - 23s 119ms/step - loss: 0.8813 - accuracy: 0.7419\n",
      "\n",
      "Epoch 00030: saving model to weights/ResNet50_v1_epoch_30.hdf5\n",
      "Epoch 31/200\n",
      "191/191 [==============================] - 23s 119ms/step - loss: 0.7553 - accuracy: 0.7890\n",
      "Epoch 32/200\n",
      "191/191 [==============================] - 23s 118ms/step - loss: 0.6517 - accuracy: 0.8120\n",
      "Epoch 33/200\n",
      "191/191 [==============================] - 23s 119ms/step - loss: 0.9506 - accuracy: 0.7403\n",
      "Epoch 34/200\n",
      "191/191 [==============================] - 24s 124ms/step - loss: 0.7244 - accuracy: 0.8042\n",
      "Epoch 35/200\n",
      "191/191 [==============================] - 22s 118ms/step - loss: 0.4567 - accuracy: 0.8764\n",
      "Epoch 36/200\n",
      "191/191 [==============================] - 23s 118ms/step - loss: 0.3452 - accuracy: 0.9084\n",
      "Epoch 37/200\n",
      "191/191 [==============================] - 22s 117ms/step - loss: 0.4048 - accuracy: 0.8812\n",
      "Epoch 38/200\n",
      "191/191 [==============================] - 22s 117ms/step - loss: 0.9943 - accuracy: 0.7592\n",
      "Epoch 39/200\n",
      "191/191 [==============================] - 23s 118ms/step - loss: 0.6089 - accuracy: 0.8340\n",
      "Epoch 40/200\n",
      "191/191 [==============================] - 22s 117ms/step - loss: 0.6622 - accuracy: 0.8319\n",
      "\n",
      "Epoch 00040: saving model to weights/ResNet50_v1_epoch_40.hdf5\n",
      "Epoch 41/200\n",
      "191/191 [==============================] - 22s 117ms/step - loss: 0.2798 - accuracy: 0.9366\n",
      "Epoch 42/200\n",
      "191/191 [==============================] - 22s 116ms/step - loss: 0.2751 - accuracy: 0.9335\n",
      "Epoch 43/200\n",
      "191/191 [==============================] - 22s 117ms/step - loss: 0.4034 - accuracy: 0.9115\n",
      "Epoch 44/200\n",
      "191/191 [==============================] - 22s 117ms/step - loss: 0.3093 - accuracy: 0.9309\n",
      "Epoch 45/200\n",
      "191/191 [==============================] - 22s 117ms/step - loss: 0.3893 - accuracy: 0.8927\n",
      "Epoch 46/200\n",
      "191/191 [==============================] - 22s 117ms/step - loss: 0.8291 - accuracy: 0.8131\n",
      "Epoch 47/200\n",
      "191/191 [==============================] - 22s 118ms/step - loss: 1.3507 - accuracy: 0.7230\n",
      "Epoch 48/200\n",
      "191/191 [==============================] - 22s 117ms/step - loss: 0.7914 - accuracy: 0.8188\n",
      "Epoch 49/200\n",
      "191/191 [==============================] - 23s 118ms/step - loss: 0.2490 - accuracy: 0.9408\n",
      "Epoch 50/200\n",
      "191/191 [==============================] - 22s 118ms/step - loss: 0.2702 - accuracy: 0.9393\n",
      "\n",
      "Epoch 00050: saving model to weights/ResNet50_v1_epoch_50.hdf5\n",
      "Epoch 51/200\n",
      "191/191 [==============================] - 22s 117ms/step - loss: 0.2161 - accuracy: 0.9545\n",
      "Epoch 52/200\n",
      "191/191 [==============================] - 22s 118ms/step - loss: 0.1878 - accuracy: 0.9602\n",
      "Epoch 53/200\n",
      "191/191 [==============================] - 22s 117ms/step - loss: 0.1760 - accuracy: 0.9534\n",
      "Epoch 54/200\n",
      "191/191 [==============================] - 22s 117ms/step - loss: 0.1855 - accuracy: 0.9592\n",
      "Epoch 55/200\n",
      "191/191 [==============================] - 22s 117ms/step - loss: 0.1956 - accuracy: 0.9576\n",
      "Epoch 56/200\n",
      "191/191 [==============================] - 22s 117ms/step - loss: 0.1518 - accuracy: 0.9681\n",
      "Epoch 57/200\n",
      "191/191 [==============================] - 22s 117ms/step - loss: 0.2079 - accuracy: 0.9513\n",
      "Epoch 58/200\n",
      "191/191 [==============================] - 22s 117ms/step - loss: 1.1715 - accuracy: 0.7754\n",
      "Epoch 59/200\n",
      "191/191 [==============================] - 22s 117ms/step - loss: 1.9438 - accuracy: 0.6859\n",
      "Epoch 60/200\n",
      "191/191 [==============================] - 22s 117ms/step - loss: 0.3731 - accuracy: 0.9089\n",
      "\n",
      "Epoch 00060: saving model to weights/ResNet50_v1_epoch_60.hdf5\n",
      "Epoch 61/200\n",
      "191/191 [==============================] - 22s 117ms/step - loss: 0.3630 - accuracy: 0.9272\n",
      "Epoch 62/200\n",
      "191/191 [==============================] - 22s 116ms/step - loss: 0.1865 - accuracy: 0.9628\n",
      "Epoch 63/200\n",
      "191/191 [==============================] - 24s 125ms/step - loss: 0.1600 - accuracy: 0.9639\n",
      "Epoch 64/200\n",
      "191/191 [==============================] - 24s 124ms/step - loss: 0.1458 - accuracy: 0.9723\n",
      "Epoch 65/200\n",
      "191/191 [==============================] - 22s 117ms/step - loss: 0.1705 - accuracy: 0.9696\n",
      "Epoch 66/200\n",
      "191/191 [==============================] - 22s 117ms/step - loss: 0.1121 - accuracy: 0.9717\n",
      "Epoch 67/200\n",
      "191/191 [==============================] - 22s 117ms/step - loss: 0.1162 - accuracy: 0.9723\n",
      "Epoch 68/200\n",
      "191/191 [==============================] - 22s 117ms/step - loss: 0.1623 - accuracy: 0.9539\n",
      "Epoch 69/200\n",
      "191/191 [==============================] - 22s 117ms/step - loss: 0.6711 - accuracy: 0.8660\n",
      "Epoch 70/200\n",
      "191/191 [==============================] - 22s 116ms/step - loss: 0.7741 - accuracy: 0.8466\n",
      "\n",
      "Epoch 00070: saving model to weights/ResNet50_v1_epoch_70.hdf5\n",
      "Epoch 71/200\n",
      "191/191 [==============================] - 24s 123ms/step - loss: 0.2386 - accuracy: 0.9414\n",
      "Epoch 72/200\n",
      "191/191 [==============================] - 22s 117ms/step - loss: 0.2738 - accuracy: 0.9419\n",
      "Epoch 73/200\n",
      "191/191 [==============================] - 22s 118ms/step - loss: 0.1450 - accuracy: 0.9649\n",
      "Epoch 74/200\n"
     ]
    },
    {
     "name": "stdout",
     "output_type": "stream",
     "text": [
      "191/191 [==============================] - 22s 117ms/step - loss: 0.1943 - accuracy: 0.9665\n",
      "Epoch 75/200\n",
      "191/191 [==============================] - 22s 117ms/step - loss: 0.1466 - accuracy: 0.9738\n",
      "Epoch 76/200\n",
      "191/191 [==============================] - 22s 117ms/step - loss: 0.0855 - accuracy: 0.9843\n",
      "Epoch 77/200\n",
      "191/191 [==============================] - 23s 118ms/step - loss: 0.0758 - accuracy: 0.9801\n",
      "Epoch 78/200\n",
      "191/191 [==============================] - 23s 118ms/step - loss: 0.1601 - accuracy: 0.9691\n",
      "Epoch 79/200\n",
      "191/191 [==============================] - 23s 119ms/step - loss: 0.1583 - accuracy: 0.9576\n",
      "Epoch 80/200\n",
      "191/191 [==============================] - 23s 118ms/step - loss: 0.4062 - accuracy: 0.9209\n",
      "\n",
      "Epoch 00080: saving model to weights/ResNet50_v1_epoch_80.hdf5\n",
      "Epoch 81/200\n",
      "191/191 [==============================] - 23s 118ms/step - loss: 1.7656 - accuracy: 0.7529\n",
      "Epoch 82/200\n",
      "191/191 [==============================] - 23s 118ms/step - loss: 0.6540 - accuracy: 0.8723\n",
      "Epoch 83/200\n",
      "191/191 [==============================] - 22s 117ms/step - loss: 0.2231 - accuracy: 0.9482\n",
      "Epoch 84/200\n",
      "191/191 [==============================] - 22s 117ms/step - loss: 0.1264 - accuracy: 0.9733\n",
      "Epoch 85/200\n",
      "191/191 [==============================] - 22s 116ms/step - loss: 0.1220 - accuracy: 0.9712\n",
      "Epoch 86/200\n",
      "191/191 [==============================] - 22s 117ms/step - loss: 0.1506 - accuracy: 0.9696\n",
      "Epoch 87/200\n",
      "191/191 [==============================] - 22s 117ms/step - loss: 0.1080 - accuracy: 0.9770\n"
     ]
    },
    {
     "data": {
      "text/plain": [
       "<keras.callbacks.callbacks.History at 0x7f77a6966f60>"
      ]
     },
     "execution_count": 247,
     "metadata": {},
     "output_type": "execute_result"
    }
   ],
   "source": [
    "model.fit_generator(generator = training_generator, \n",
    "          epochs=epochs, \n",
    "          callbacks=[checkpointer, earlystopper],\n",
    "          shuffle=True)"
   ]
  },
  {
   "cell_type": "code",
   "execution_count": 43,
   "metadata": {},
   "outputs": [],
   "source": [
    "#model.load_weights(\"weights/crnn_v5_epoch_50.hdf5\")"
   ]
  },
  {
   "cell_type": "code",
   "execution_count": 248,
   "metadata": {},
   "outputs": [],
   "source": [
    "model.save(\"models/resnet50.tf\")"
   ]
  },
  {
   "cell_type": "code",
   "execution_count": 249,
   "metadata": {},
   "outputs": [
    {
     "name": "stdout",
     "output_type": "stream",
     "text": [
      "191/191 [==============================] - 14s 72ms/step\n"
     ]
    },
    {
     "data": {
      "text/plain": [
       "[0.3601853549480438, 0.7099476456642151]"
      ]
     },
     "execution_count": 249,
     "metadata": {},
     "output_type": "execute_result"
    }
   ],
   "source": [
    "model.evaluate(training_generator)"
   ]
  },
  {
   "cell_type": "markdown",
   "metadata": {},
   "source": [
    "## Quick prediction"
   ]
  },
  {
   "cell_type": "code",
   "execution_count": 250,
   "metadata": {},
   "outputs": [],
   "source": [
    "sample, lab = training_generator[1]\n",
    "\n",
    "pred = model.predict(sample)\n",
    "\n",
    "class_prediction = np.argmax(pred, axis=1)"
   ]
  },
  {
   "cell_type": "code",
   "execution_count": 251,
   "metadata": {},
   "outputs": [
    {
     "data": {
      "text/plain": [
       "[0, 0, 2, 0, 0, 0, 0, 0, 0, 0]"
      ]
     },
     "execution_count": 251,
     "metadata": {},
     "output_type": "execute_result"
    }
   ],
   "source": [
    "list(class_prediction)"
   ]
  },
  {
   "cell_type": "code",
   "execution_count": 252,
   "metadata": {},
   "outputs": [
    {
     "data": {
      "text/plain": [
       "array([[1, 0, 0, 0, 0, 0, 0, 0, 0, 0, 0, 0, 0, 0, 0, 0, 0, 0],\n",
       "       [1, 0, 0, 0, 0, 0, 0, 0, 0, 0, 0, 0, 0, 0, 0, 0, 0, 0],\n",
       "       [1, 0, 0, 0, 0, 0, 0, 0, 0, 0, 0, 0, 0, 0, 0, 0, 0, 0],\n",
       "       [1, 0, 0, 0, 0, 0, 0, 0, 0, 0, 0, 0, 0, 0, 0, 0, 0, 0],\n",
       "       [1, 0, 0, 0, 0, 0, 0, 0, 0, 0, 0, 0, 0, 0, 0, 0, 0, 0],\n",
       "       [1, 0, 0, 0, 0, 0, 0, 0, 0, 0, 0, 0, 0, 0, 0, 0, 0, 0],\n",
       "       [1, 0, 0, 0, 0, 0, 0, 0, 0, 0, 0, 0, 0, 0, 0, 0, 0, 0],\n",
       "       [1, 0, 0, 0, 0, 0, 0, 0, 0, 0, 0, 0, 0, 0, 0, 0, 0, 0],\n",
       "       [1, 0, 0, 0, 0, 0, 0, 0, 0, 0, 0, 0, 0, 0, 0, 0, 0, 0],\n",
       "       [1, 0, 0, 0, 0, 0, 0, 0, 0, 0, 0, 0, 0, 0, 0, 0, 0, 0]])"
      ]
     },
     "execution_count": 252,
     "metadata": {},
     "output_type": "execute_result"
    }
   ],
   "source": [
    "lab"
   ]
  },
  {
   "cell_type": "markdown",
   "metadata": {},
   "source": [
    "## Predict all songs labels"
   ]
  },
  {
   "cell_type": "code",
   "execution_count": 253,
   "metadata": {},
   "outputs": [],
   "source": [
    "def get_img_predict(img, art, x_col, y_col, scaling):\n",
    "    path_img = os.path.join(PATH_DATA, img)\n",
    "    img = cv2.cvtColor(cv2.imread(path_img), cv2.COLOR_BGR2GRAY)\n",
    "    img = np.round(img / 255.,5)\n",
    "    dim = (int(x_col / scaling), int(y_col / scaling), 1) #one input channel\n",
    "    img = cv2.resize(img, (y_col, x_col))\n",
    "    img = cv2.resize(img, (dim[1], dim[0]))\n",
    "    img = np.expand_dims(img, axis = 2) # add the dimension of the channel \n",
    "    img = np.expand_dims(img, axis = 0)\n",
    "    return img, labels[art]"
   ]
  },
  {
   "cell_type": "code",
   "execution_count": 254,
   "metadata": {},
   "outputs": [
    {
     "name": "stderr",
     "output_type": "stream",
     "text": [
      "1915it [00:43, 44.10it/s]\n"
     ]
    }
   ],
   "source": [
    "dict_pred = defaultdict(dict)\n",
    "\n",
    "for _, row in tqdm.tqdm(df_concat.iterrows()):\n",
    "    art, img, win, ini, fin = row\n",
    "    \n",
    "    # Get the image and the artist id\n",
    "    img_matrix, label_real = get_img_predict(img, art, x_col, y_col, scaling)\n",
    "    \n",
    "    # Get the predictions\n",
    "    predictions = model.predict(img_matrix)\n",
    "    \n",
    "    # Get the position of the label\n",
    "    position_label_pred = np.argmax(predictions)\n",
    "    position_label_real = np.argmax(label_real)\n",
    "    \n",
    "    # True prediction\n",
    "    true_pred = 1 if position_label_pred == position_label_real else 0\n",
    "    \n",
    "    # Store in dictionary\n",
    "    dict_pred[art][win] = dict()\n",
    "    dict_pred[art][win][\"true_pred\"] = true_pred\n",
    "    dict_pred[art][win][\"position_label_real\"] = position_label_real\n",
    "    dict_pred[art][win][\"position_label_pred\"] = position_label_pred\n",
    "    dict_pred[art][win][\"predictions\"] = predictions\n",
    "    dict_pred[art][win][\"label_real\"] = label_real    "
   ]
  },
  {
   "cell_type": "code",
   "execution_count": 255,
   "metadata": {},
   "outputs": [
    {
     "data": {
      "text/html": [
       "<div>\n",
       "<style scoped>\n",
       "    .dataframe tbody tr th:only-of-type {\n",
       "        vertical-align: middle;\n",
       "    }\n",
       "\n",
       "    .dataframe tbody tr th {\n",
       "        vertical-align: top;\n",
       "    }\n",
       "\n",
       "    .dataframe thead th {\n",
       "        text-align: right;\n",
       "    }\n",
       "</style>\n",
       "<table border=\"1\" class=\"dataframe\">\n",
       "  <thead>\n",
       "    <tr style=\"text-align: right;\">\n",
       "      <th></th>\n",
       "      <th>art</th>\n",
       "      <th>tr</th>\n",
       "      <th>win</th>\n",
       "      <th>ini</th>\n",
       "      <th>fin</th>\n",
       "    </tr>\n",
       "  </thead>\n",
       "  <tbody>\n",
       "    <tr>\n",
       "      <th>0</th>\n",
       "      <td>0InCPtI0kadS7s3cZrcbbY</td>\n",
       "      <td>3mUonXr6ECjJs2XPDYxWhG__10__192__222.jpg</td>\n",
       "      <td>10</td>\n",
       "      <td>192</td>\n",
       "      <td>222</td>\n",
       "    </tr>\n",
       "    <tr>\n",
       "      <th>1</th>\n",
       "      <td>0InCPtI0kadS7s3cZrcbbY</td>\n",
       "      <td>3mUonXr6ECjJs2XPDYxWhG__2__40__70.jpg</td>\n",
       "      <td>2</td>\n",
       "      <td>40</td>\n",
       "      <td>70</td>\n",
       "    </tr>\n",
       "    <tr>\n",
       "      <th>2</th>\n",
       "      <td>0InCPtI0kadS7s3cZrcbbY</td>\n",
       "      <td>3mUonXr6ECjJs2XPDYxWhG__9__180__210.jpg</td>\n",
       "      <td>9</td>\n",
       "      <td>180</td>\n",
       "      <td>210</td>\n",
       "    </tr>\n",
       "    <tr>\n",
       "      <th>3</th>\n",
       "      <td>0InCPtI0kadS7s3cZrcbbY</td>\n",
       "      <td>3mUonXr6ECjJs2XPDYxWhG__3__60__90.jpg</td>\n",
       "      <td>3</td>\n",
       "      <td>60</td>\n",
       "      <td>90</td>\n",
       "    </tr>\n",
       "    <tr>\n",
       "      <th>4</th>\n",
       "      <td>0InCPtI0kadS7s3cZrcbbY</td>\n",
       "      <td>3mUonXr6ECjJs2XPDYxWhG__4__80__110.jpg</td>\n",
       "      <td>4</td>\n",
       "      <td>80</td>\n",
       "      <td>110</td>\n",
       "    </tr>\n",
       "  </tbody>\n",
       "</table>\n",
       "</div>"
      ],
      "text/plain": [
       "                      art                                        tr  win  ini  \\\n",
       "0  0InCPtI0kadS7s3cZrcbbY  3mUonXr6ECjJs2XPDYxWhG__10__192__222.jpg   10  192   \n",
       "1  0InCPtI0kadS7s3cZrcbbY     3mUonXr6ECjJs2XPDYxWhG__2__40__70.jpg    2   40   \n",
       "2  0InCPtI0kadS7s3cZrcbbY   3mUonXr6ECjJs2XPDYxWhG__9__180__210.jpg    9  180   \n",
       "3  0InCPtI0kadS7s3cZrcbbY     3mUonXr6ECjJs2XPDYxWhG__3__60__90.jpg    3   60   \n",
       "4  0InCPtI0kadS7s3cZrcbbY    3mUonXr6ECjJs2XPDYxWhG__4__80__110.jpg    4   80   \n",
       "\n",
       "   fin  \n",
       "0  222  \n",
       "1   70  \n",
       "2  210  \n",
       "3   90  \n",
       "4  110  "
      ]
     },
     "execution_count": 255,
     "metadata": {},
     "output_type": "execute_result"
    }
   ],
   "source": [
    "df_concat.head()"
   ]
  },
  {
   "cell_type": "code",
   "execution_count": 256,
   "metadata": {},
   "outputs": [],
   "source": [
    "list_true_pred = list()\n",
    "art = \"0InCPtI0kadS7s3cZrcbbY\"\n",
    "for ww in dict_pred[art]:\n",
    "    list_true_pred.append(dict_pred[art][ww][\"true_pred\"])"
   ]
  },
  {
   "cell_type": "code",
   "execution_count": 257,
   "metadata": {},
   "outputs": [
    {
     "data": {
      "text/plain": [
       "0.5833333333333334"
      ]
     },
     "execution_count": 257,
     "metadata": {},
     "output_type": "execute_result"
    }
   ],
   "source": [
    "sum(list_true_pred) / len(list_true_pred)"
   ]
  },
  {
   "cell_type": "markdown",
   "metadata": {},
   "source": [
    "# Representation"
   ]
  },
  {
   "cell_type": "code",
   "execution_count": 258,
   "metadata": {},
   "outputs": [],
   "source": [
    "import copy"
   ]
  },
  {
   "cell_type": "code",
   "execution_count": 259,
   "metadata": {},
   "outputs": [],
   "source": [
    "embed_model = copy.copy(model)"
   ]
  },
  {
   "cell_type": "code",
   "execution_count": 262,
   "metadata": {},
   "outputs": [
    {
     "data": {
      "text/plain": [
       "<keras.layers.core.Dense at 0x7f7851ebab00>"
      ]
     },
     "execution_count": 262,
     "metadata": {},
     "output_type": "execute_result"
    }
   ],
   "source": [
    "embed_model.layers.pop()"
   ]
  },
  {
   "cell_type": "code",
   "execution_count": 264,
   "metadata": {},
   "outputs": [
    {
     "ename": "AttributeError",
     "evalue": "'Model' object has no attribute 'pop'",
     "output_type": "error",
     "traceback": [
      "\u001b[0;31m---------------------------------------------------------------------------\u001b[0m",
      "\u001b[0;31mAttributeError\u001b[0m                            Traceback (most recent call last)",
      "\u001b[0;32m<ipython-input-264-934e4787dd31>\u001b[0m in \u001b[0;36m<module>\u001b[0;34m\u001b[0m\n\u001b[0;32m----> 1\u001b[0;31m \u001b[0membed_model\u001b[0m\u001b[0;34m.\u001b[0m\u001b[0mpop\u001b[0m\u001b[0;34m(\u001b[0m\u001b[0;34m)\u001b[0m\u001b[0;34m\u001b[0m\u001b[0;34m\u001b[0m\u001b[0m\n\u001b[0m\u001b[1;32m      2\u001b[0m \u001b[0;31m#embed_model.pop()\u001b[0m\u001b[0;34m\u001b[0m\u001b[0;34m\u001b[0m\u001b[0;34m\u001b[0m\u001b[0m\n",
      "\u001b[0;31mAttributeError\u001b[0m: 'Model' object has no attribute 'pop'"
     ]
    }
   ],
   "source": [
    "#embed_model.pop()\n",
    "#embed_model.pop()"
   ]
  },
  {
   "cell_type": "code",
   "execution_count": 265,
   "metadata": {},
   "outputs": [
    {
     "name": "stderr",
     "output_type": "stream",
     "text": [
      "1915it [01:15, 25.41it/s]\n"
     ]
    }
   ],
   "source": [
    "dict_pred = defaultdict(dict)\n",
    "\n",
    "for _, row in tqdm.tqdm(df_concat.iterrows()):\n",
    "    art, img, win, ini, fin = row\n",
    "    \n",
    "    # Get the image and the artist id\n",
    "    img_matrix, label_real = get_img_predict(img, art, x_col, y_col, scaling)\n",
    "    \n",
    "    # Get the predictions\n",
    "    predictions = model.predict(img_matrix)\n",
    "    \n",
    "    # Get the position of the label\n",
    "    position_label_pred = np.argmax(predictions)\n",
    "    position_label_real = np.argmax(label_real)\n",
    "    \n",
    "    # True prediction\n",
    "    true_pred = 1 if position_label_pred == position_label_real else 0\n",
    "    \n",
    "    # Compute the embedding\n",
    "    embedding = embed_model.predict(img_matrix)\n",
    "    \n",
    "    # Store in dictionary\n",
    "    dict_pred[art][img] = dict()\n",
    "    dict_pred[art][img][\"true_pred\"] = true_pred\n",
    "    dict_pred[art][img][\"position_label_real\"] = position_label_real\n",
    "    dict_pred[art][img][\"position_label_pred\"] = position_label_pred\n",
    "    dict_pred[art][img][\"predictions\"] = predictions\n",
    "    dict_pred[art][img][\"label_real\"] = label_real\n",
    "    dict_pred[art][img][\"embedding\"] = embedding"
   ]
  },
  {
   "cell_type": "markdown",
   "metadata": {},
   "source": [
    "## Data frame for the embeddings"
   ]
  },
  {
   "cell_type": "code",
   "execution_count": 266,
   "metadata": {},
   "outputs": [
    {
     "name": "stderr",
     "output_type": "stream",
     "text": [
      "100%|██████████| 18/18 [00:00<00:00, 3433.42it/s]\n"
     ]
    }
   ],
   "source": [
    "values = []\n",
    "\n",
    "for art in tqdm.tqdm(dict_pred):\n",
    "    for tr in dict_pred[art]:\n",
    "        l = [art, tr]\n",
    "        for embed_val in dict_pred[art][tr][\"embedding\"]:\n",
    "            l.append(embed_val)\n",
    "        values.append(l)"
   ]
  },
  {
   "cell_type": "code",
   "execution_count": 267,
   "metadata": {},
   "outputs": [],
   "source": [
    "df_tsne = pd.DataFrame(values, columns = [\"art\",\"img\", \"embed\"])"
   ]
  },
  {
   "cell_type": "code",
   "execution_count": 268,
   "metadata": {},
   "outputs": [],
   "source": [
    "vals = []\n",
    "for ll in df_tsne.embed:\n",
    "    vals.append(list(ll))\n",
    "vals_arr = np.array(vals)"
   ]
  },
  {
   "cell_type": "markdown",
   "metadata": {},
   "source": [
    "### TSNE"
   ]
  },
  {
   "cell_type": "code",
   "execution_count": null,
   "metadata": {},
   "outputs": [],
   "source": []
  },
  {
   "cell_type": "code",
   "execution_count": 269,
   "metadata": {},
   "outputs": [],
   "source": [
    "tsne_model = TSNE()"
   ]
  },
  {
   "cell_type": "code",
   "execution_count": 270,
   "metadata": {},
   "outputs": [],
   "source": [
    "X_2d = tsne_model.fit_transform(vals_arr)"
   ]
  },
  {
   "cell_type": "code",
   "execution_count": 271,
   "metadata": {},
   "outputs": [],
   "source": [
    "original_artist = list(df_tsne.art)"
   ]
  },
  {
   "cell_type": "code",
   "execution_count": 272,
   "metadata": {},
   "outputs": [
    {
     "data": {
      "text/plain": [
       "18"
      ]
     },
     "execution_count": 272,
     "metadata": {},
     "output_type": "execute_result"
    }
   ],
   "source": [
    "num_artists"
   ]
  },
  {
   "cell_type": "code",
   "execution_count": 274,
   "metadata": {},
   "outputs": [
    {
     "data": {
      "text/plain": [
       "<matplotlib.axes._subplots.AxesSubplot at 0x7f779f9fda90>"
      ]
     },
     "execution_count": 274,
     "metadata": {},
     "output_type": "execute_result"
    },
    {
     "data": {
      "image/png": "[encoded data removed]",
      "text/plain": [
       "<Figure size 720x720 with 1 Axes>"
      ]
     },
     "metadata": {
      "needs_background": "light"
     },
     "output_type": "display_data"
    }
   ],
   "source": [
    "sns.set_palette(\"Paired\", n_colors=20)\n",
    "plt.figure(figsize=(10,10))\n",
    "sns.scatterplot(x=X_2d[:, 0], y=X_2d[:, 1], hue=original_artist, s= 183, alpha = .4,\n",
    "                palette=sns.color_palette(n_colors=num_artists))"
   ]
  },
  {
   "cell_type": "code",
   "execution_count": null,
   "metadata": {},
   "outputs": [],
   "source": []
  },
  {
   "cell_type": "code",
   "execution_count": 181,
   "metadata": {},
   "outputs": [],
   "source": [
    "# Free GPU memory\n",
    "from numba import cuda\n",
    "cuda.select_device(0)\n",
    "cuda.close()"
   ]
  },
  {
   "cell_type": "code",
   "execution_count": null,
   "metadata": {},
   "outputs": [],
   "source": []
  }
 ],
 "metadata": {
  "kernelspec": {
   "display_name": "Python 3",
   "language": "python",
   "name": "python3"
  },
  "language_info": {
   "codemirror_mode": {
    "name": "ipython",
    "version": 3
   },
   "file_extension": ".py",
   "mimetype": "text/x-python",
   "name": "python",
   "nbconvert_exporter": "python",
   "pygments_lexer": "ipython3",
   "version": "3.6.10"
  }
 },
 "nbformat": 4,
 "nbformat_minor": 4
}
