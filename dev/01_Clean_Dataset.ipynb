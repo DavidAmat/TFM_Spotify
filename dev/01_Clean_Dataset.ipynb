{
 "cells": [
  {
   "cell_type": "code",
   "execution_count": 159,
   "metadata": {},
   "outputs": [],
   "source": [
    "import pandas as pd\n",
    "import sys\n",
    "import numpy as np\n",
    "import spotipy\n",
    "from spotipy.oauth2 import SpotifyClientCredentials #To access authorised Spotify data\n",
    "import requests\n",
    "import datetime\n",
    "import base64\n",
    "import re\n",
    "from collections import Counter\n",
    "import psycopg2\n",
    "import tqdm\n",
    "from bs4 import BeautifulSoup"
   ]
  },
  {
   "cell_type": "code",
   "execution_count": null,
   "metadata": {},
   "outputs": [],
   "source": []
  },
  {
   "cell_type": "markdown",
   "metadata": {},
   "source": [
    "# 1. Dataset of Global Artists\n",
    "\n",
    "Dataset downloaded from the html page: https://kworb.net/spotify/artists.html"
   ]
  },
  {
   "cell_type": "code",
   "execution_count": 160,
   "metadata": {},
   "outputs": [],
   "source": [
    "def get_html(url):\n",
    "    \"\"\"\n",
    "    Searches a url and retrieves an html and returns the object soup from bs4\n",
    "    \"\"\"\n",
    "    # Requests the html of this page\n",
    "    r = requests.get(url)\n",
    "    r.encoding = 'utf-8'\n",
    "    \n",
    "    # Read the html text with Beautiful soup\n",
    "    soup = BeautifulSoup(r.text, 'html.parser')\n",
    "    \n",
    "    return soup"
   ]
  },
  {
   "cell_type": "code",
   "execution_count": 161,
   "metadata": {},
   "outputs": [],
   "source": [
    "def get_dataset():\n",
    "    \"\"\"\n",
    "    Download the dataset from https://kworb.net/spotify/artists.html of global artists in Spotify\n",
    "    \"\"\"\n",
    "    \n",
    "    # Get the rows\n",
    "    soup = get_html(\"https://kworb.net/spotify/artists.html\")\n",
    "    \n",
    "    # Find the table where there are the artists sorted by streams\n",
    "    table = soup.find('table')\n",
    "    \n",
    "    # Get the rows\n",
    "    table_rows = table.find_all(\"tr\")\n",
    "    \n",
    "    # For each row, append to a list the three columns of that table in a sublist\n",
    "    l = []\n",
    "    for tr in tqdm.tqdm(table_rows):\n",
    "        td = tr.find_all('td')\n",
    "        row = [tr.text for tr in td]\n",
    "        if len(row)==3:\n",
    "            l.append(row)\n",
    "    \n",
    "    # Convert the list of list into a dataframe\n",
    "    df_art = pd.DataFrame(l, columns=[\"position\", \"artist\", \"streams\"])\n",
    "    return df_art"
   ]
  },
  {
   "cell_type": "code",
   "execution_count": 162,
   "metadata": {},
   "outputs": [
    {
     "name": "stderr",
     "output_type": "stream",
     "text": [
      "100%|██████████| 10001/10001 [00:00<00:00, 74583.20it/s]\n"
     ]
    }
   ],
   "source": [
    "df = get_dataset()"
   ]
  },
  {
   "cell_type": "code",
   "execution_count": 163,
   "metadata": {},
   "outputs": [
    {
     "data": {
      "text/html": [
       "<div>\n",
       "<style scoped>\n",
       "    .dataframe tbody tr th:only-of-type {\n",
       "        vertical-align: middle;\n",
       "    }\n",
       "\n",
       "    .dataframe tbody tr th {\n",
       "        vertical-align: top;\n",
       "    }\n",
       "\n",
       "    .dataframe thead th {\n",
       "        text-align: right;\n",
       "    }\n",
       "</style>\n",
       "<table border=\"1\" class=\"dataframe\">\n",
       "  <thead>\n",
       "    <tr style=\"text-align: right;\">\n",
       "      <th></th>\n",
       "      <th>position</th>\n",
       "      <th>artist</th>\n",
       "      <th>streams</th>\n",
       "    </tr>\n",
       "  </thead>\n",
       "  <tbody>\n",
       "    <tr>\n",
       "      <th>0</th>\n",
       "      <td>1</td>\n",
       "      <td>Drake</td>\n",
       "      <td>19,730,111,322</td>\n",
       "    </tr>\n",
       "    <tr>\n",
       "      <th>1</th>\n",
       "      <td>2</td>\n",
       "      <td>Post Malone</td>\n",
       "      <td>14,381,513,844</td>\n",
       "    </tr>\n",
       "    <tr>\n",
       "      <th>2</th>\n",
       "      <td>3</td>\n",
       "      <td>Ed Sheeran</td>\n",
       "      <td>14,038,325,763</td>\n",
       "    </tr>\n",
       "    <tr>\n",
       "      <th>3</th>\n",
       "      <td>4</td>\n",
       "      <td>J Balvin</td>\n",
       "      <td>13,123,142,801</td>\n",
       "    </tr>\n",
       "    <tr>\n",
       "      <th>4</th>\n",
       "      <td>5</td>\n",
       "      <td>Justin Bieber</td>\n",
       "      <td>11,891,559,063</td>\n",
       "    </tr>\n",
       "  </tbody>\n",
       "</table>\n",
       "</div>"
      ],
      "text/plain": [
       "  position         artist         streams\n",
       "0        1          Drake  19,730,111,322\n",
       "1        2    Post Malone  14,381,513,844\n",
       "2        3     Ed Sheeran  14,038,325,763\n",
       "3        4       J Balvin  13,123,142,801\n",
       "4        5  Justin Bieber  11,891,559,063"
      ]
     },
     "execution_count": 163,
     "metadata": {},
     "output_type": "execute_result"
    }
   ],
   "source": [
    "df.head(5)"
   ]
  },
  {
   "cell_type": "code",
   "execution_count": 170,
   "metadata": {},
   "outputs": [],
   "source": [
    "# Final list of artists\n",
    "final_list_artists = df.artist.str.lower().tolist()"
   ]
  },
  {
   "cell_type": "code",
   "execution_count": 181,
   "metadata": {},
   "outputs": [],
   "source": [
    "# Otras: otras canciones que no aparecen en la pagina kworb:\n",
    "other_list_artists = []"
   ]
  },
  {
   "cell_type": "markdown",
   "metadata": {},
   "source": [
    "# 2. Top Artists in Spain\n",
    "\n",
    "Artists that have a famous song among the top 3000 songs of Spain"
   ]
  },
  {
   "cell_type": "code",
   "execution_count": 172,
   "metadata": {},
   "outputs": [],
   "source": [
    "def get_dataset_spain():\n",
    "    \"\"\"\n",
    "    Download the dataset from https://kworb.net/spotify/artists.html of global artists in Spotify\n",
    "    \"\"\"\n",
    "    \n",
    "    soup = get_html(\"https://kworb.net/spotify/country/es_weekly_totals.html\")\n",
    "\n",
    "    # Find the table where there are the artists sorted by streams\n",
    "    table_d1 = soup.find_all('tr', {\"class\": \"d1\"})\n",
    "    table_d0 = soup.find_all('tr', {\"class\": \"d0\"})\n",
    "\n",
    "    # Append all the results into a single table\n",
    "    table = []\n",
    "    for ss in table_d1:\n",
    "        table.append(ss)\n",
    "    for ss in table_d0:\n",
    "        table.append(ss)\n",
    "\n",
    "    # The first <a href=...> that appears is the name of the artist\n",
    "    l = []\n",
    "    for tr in tqdm.tqdm(table):\n",
    "        txt = tr.find(\"a\").text\n",
    "        l.append(txt)\n",
    "\n",
    "    df_art = pd.DataFrame(l, columns=[\"artist\"])\n",
    "    return df_art\n",
    "    "
   ]
  },
  {
   "cell_type": "code",
   "execution_count": 173,
   "metadata": {},
   "outputs": [
    {
     "name": "stderr",
     "output_type": "stream",
     "text": [
      "100%|██████████| 3615/3615 [00:00<00:00, 47101.10it/s]\n"
     ]
    }
   ],
   "source": [
    "df_spain = get_dataset_spain()"
   ]
  },
  {
   "cell_type": "markdown",
   "metadata": {},
   "source": [
    "We will make the intersection of artists from the Global charts and the Top Spanish charts in order to avoid replicating the same artist twice. We will add those artists that are in Spanish list but are not in Global to the list of artists."
   ]
  },
  {
   "cell_type": "code",
   "execution_count": 174,
   "metadata": {},
   "outputs": [],
   "source": [
    "# Avoid adding repeated artists\n",
    "set_global = set(df.artist.str.lower())\n",
    "set_spain = set(df_spain.artist.str.lower())\n",
    "inters = set_global & set_spain\n",
    "except_art = list(set_spain - set_global)"
   ]
  },
  {
   "cell_type": "code",
   "execution_count": 175,
   "metadata": {},
   "outputs": [],
   "source": [
    "# Final list of artists\n",
    "for art in except_art:\n",
    "    final_list_artists.append(art)"
   ]
  },
  {
   "cell_type": "markdown",
   "metadata": {},
   "source": [
    "Songs that we not in the kworb.net, will be investigated with the Spotify API. So we will store them separately:"
   ]
  },
  {
   "cell_type": "code",
   "execution_count": 182,
   "metadata": {},
   "outputs": [],
   "source": [
    "# Otras Españolas\n",
    "lista_otras_esp = [\"Mägo de Oz\", \"La Casa Azul\", \"Amaral\", \"M-Clan\"]\n",
    "lista_otras_esp = [xx.lower() for xx in lista_otras_esp]\n",
    "\n",
    "# Final list of artists\n",
    "for art in lista_otras_esp:\n",
    "    other_list_artists.append(art)"
   ]
  },
  {
   "cell_type": "markdown",
   "metadata": {},
   "source": [
    "# 3. Top Artists in Catalonia"
   ]
  },
  {
   "cell_type": "markdown",
   "metadata": {},
   "source": [
    "These artists do not appear in the kworb.net so we will get them via Spotify API:"
   ]
  },
  {
   "cell_type": "code",
   "execution_count": 177,
   "metadata": {},
   "outputs": [],
   "source": [
    "lista_cat = [\n",
    "    \"Txarango\",\n",
    "    \"Oques Grasses\",\n",
    "    \"La Pegatina\",\n",
    "    \"Buhos\",\n",
    "    \"Doctor Prats\",\n",
    "    \"Els Catarres\",\n",
    "    \"Els Amics De Les Arts\",\n",
    "    \"Gertrudis\",\n",
    "    \"Gossos\",\n",
    "    \"Sopa de Cabra\",\n",
    "    \"Lax'n'Busto\",\n",
    "    \"Vuit\",\n",
    "    \"Suu\",\n",
    "    \"Teràpia de Shock\",\n",
    "    \"Els Pets\",\n",
    "    \"Manel\",\n",
    "    \"Blaumut\",\n",
    "    \"Lluis Llach\",\n",
    "    \"Sau\",\n",
    "    \"Obrint Pas\",\n",
    "    \"Clara Olóndriz\",\n",
    "    \"Stay Homas\",\n",
    "    \"Joan Dausà\",\n",
    "    \"Joan Manuel Serrat\",\n",
    "    \"Cesk Freixas\",\n",
    "    \"Roba Estesa\"\n",
    "    \n",
    "]\n",
    "\n",
    "lista_cat = [xx.lower() for xx in lista_cat]"
   ]
  },
  {
   "cell_type": "code",
   "execution_count": 183,
   "metadata": {},
   "outputs": [],
   "source": [
    "# Final list of artists\n",
    "for art in lista_cat:\n",
    "    other_list_artists.append(art)"
   ]
  },
  {
   "cell_type": "markdown",
   "metadata": {},
   "source": [
    "# 4. Spotify API\n",
    "\n",
    "We will search for the artist_id and the tracks of the *other_list_artists* which were artists popular but not found in the dataset that we will exploit:"
   ]
  },
  {
   "cell_type": "code",
   "execution_count": 184,
   "metadata": {},
   "outputs": [
    {
     "data": {
      "text/plain": [
       "['mägo de oz',\n",
       " 'la casa azul',\n",
       " 'amaral',\n",
       " 'm-clan',\n",
       " 'txarango',\n",
       " 'oques grasses',\n",
       " 'la pegatina',\n",
       " 'buhos',\n",
       " 'doctor prats',\n",
       " 'els catarres',\n",
       " 'els amics de les arts',\n",
       " 'gertrudis',\n",
       " 'gossos',\n",
       " 'sopa de cabra',\n",
       " \"lax'n'busto\",\n",
       " 'vuit',\n",
       " 'suu',\n",
       " 'teràpia de shock',\n",
       " 'els pets',\n",
       " 'manel',\n",
       " 'blaumut',\n",
       " 'lluis llach',\n",
       " 'sau',\n",
       " 'obrint pas',\n",
       " 'clara olóndriz',\n",
       " 'stay homas',\n",
       " 'joan dausà',\n",
       " 'joan manuel serrat',\n",
       " 'cesk freixas',\n",
       " 'roba estesa']"
      ]
     },
     "execution_count": 184,
     "metadata": {},
     "output_type": "execute_result"
    }
   ],
   "source": [
    "other_list_artists"
   ]
  },
  {
   "cell_type": "code",
   "execution_count": 180,
   "metadata": {},
   "outputs": [
    {
     "data": {
      "text/plain": [
       "8"
      ]
     },
     "execution_count": 180,
     "metadata": {},
     "output_type": "execute_result"
    }
   ],
   "source": [
    "len(other_list_artists)"
   ]
  },
  {
   "cell_type": "code",
   "execution_count": null,
   "metadata": {},
   "outputs": [],
   "source": []
  }
 ],
 "metadata": {
  "kernelspec": {
   "display_name": "Python 3",
   "language": "python",
   "name": "python3"
  },
  "language_info": {
   "codemirror_mode": {
    "name": "ipython",
    "version": 3
   },
   "file_extension": ".py",
   "mimetype": "text/x-python",
   "name": "python",
   "nbconvert_exporter": "python",
   "pygments_lexer": "ipython3",
   "version": "3.7.6"
  }
 },
 "nbformat": 4,
 "nbformat_minor": 4
}
