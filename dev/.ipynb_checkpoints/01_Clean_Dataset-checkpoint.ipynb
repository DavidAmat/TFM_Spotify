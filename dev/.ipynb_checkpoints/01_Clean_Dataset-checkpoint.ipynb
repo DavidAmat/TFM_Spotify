{
 "cells": [
  {
   "cell_type": "code",
   "execution_count": 15,
   "metadata": {},
   "outputs": [],
   "source": [
    "import pandas as pd\n",
    "import sys\n",
    "import numpy as np\n",
    "import spotipy\n",
    "from spotipy.oauth2 import SpotifyClientCredentials #To access authorised Spotify data\n",
    "import requests\n",
    "import datetime\n",
    "import base64\n",
    "import re\n",
    "from collections import Counter\n",
    "import psycopg2\n",
    "import tqdm\n",
    "from bs4 import BeautifulSoup"
   ]
  },
  {
   "cell_type": "markdown",
   "metadata": {},
   "source": [
    "# 1. Dataset of Global Artists\n",
    "\n",
    "Dataset downloaded from the html page: https://kworb.net/spotify/artists.html"
   ]
  },
  {
   "cell_type": "code",
   "execution_count": 110,
   "metadata": {},
   "outputs": [],
   "source": [
    "def get_html(url):\n",
    "    \"\"\"\n",
    "    Searches a url and retrieves an html and returns the object soup from bs4\n",
    "    \"\"\"\n",
    "    # Requests the html of this page\n",
    "    r = requests.get(url)\n",
    "    r.encoding = 'utf-8'\n",
    "    \n",
    "    # Read the html text with Beautiful soup\n",
    "    soup = BeautifulSoup(r.text, 'html.parser')\n",
    "    \n",
    "    return soup"
   ]
  },
  {
   "cell_type": "code",
   "execution_count": 111,
   "metadata": {},
   "outputs": [],
   "source": [
    "def get_dataset():\n",
    "    \"\"\"\n",
    "    Download the dataset from https://kworb.net/spotify/artists.html of global artists in Spotify\n",
    "    \"\"\"\n",
    "    \n",
    "    # Get the rows\n",
    "    soup = get_html(\"https://kworb.net/spotify/artists.html\")\n",
    "    \n",
    "    # Find the table where there are the artists sorted by streams\n",
    "    table = soup.find('table')\n",
    "    \n",
    "    # Get the rows\n",
    "    table_rows = table.find_all(\"tr\")\n",
    "    \n",
    "    # For each row, append to a list the three columns of that table in a sublist\n",
    "    l = []\n",
    "    for tr in tqdm.tqdm(table_rows):\n",
    "        td = tr.find_all('td')\n",
    "        row = [tr.text for tr in td]\n",
    "        if len(row)==3:\n",
    "            l.append(row)\n",
    "    \n",
    "    # Convert the list of list into a dataframe\n",
    "    df_art = pd.DataFrame(l, columns=[\"position\", \"artist\", \"streams\"])\n",
    "    return df_art"
   ]
  },
  {
   "cell_type": "code",
   "execution_count": 112,
   "metadata": {},
   "outputs": [
    {
     "name": "stderr",
     "output_type": "stream",
     "text": [
      "100%|██████████| 10001/10001 [00:00<00:00, 73784.13it/s]\n"
     ]
    }
   ],
   "source": [
    "df = get_dataset()"
   ]
  },
  {
   "cell_type": "code",
   "execution_count": 113,
   "metadata": {},
   "outputs": [
    {
     "data": {
      "text/html": [
       "<div>\n",
       "<style scoped>\n",
       "    .dataframe tbody tr th:only-of-type {\n",
       "        vertical-align: middle;\n",
       "    }\n",
       "\n",
       "    .dataframe tbody tr th {\n",
       "        vertical-align: top;\n",
       "    }\n",
       "\n",
       "    .dataframe thead th {\n",
       "        text-align: right;\n",
       "    }\n",
       "</style>\n",
       "<table border=\"1\" class=\"dataframe\">\n",
       "  <thead>\n",
       "    <tr style=\"text-align: right;\">\n",
       "      <th></th>\n",
       "      <th>position</th>\n",
       "      <th>artist</th>\n",
       "      <th>streams</th>\n",
       "    </tr>\n",
       "  </thead>\n",
       "  <tbody>\n",
       "    <tr>\n",
       "      <th>0</th>\n",
       "      <td>1</td>\n",
       "      <td>Drake</td>\n",
       "      <td>19,730,111,322</td>\n",
       "    </tr>\n",
       "    <tr>\n",
       "      <th>1</th>\n",
       "      <td>2</td>\n",
       "      <td>Post Malone</td>\n",
       "      <td>14,381,513,844</td>\n",
       "    </tr>\n",
       "    <tr>\n",
       "      <th>2</th>\n",
       "      <td>3</td>\n",
       "      <td>Ed Sheeran</td>\n",
       "      <td>14,038,325,763</td>\n",
       "    </tr>\n",
       "    <tr>\n",
       "      <th>3</th>\n",
       "      <td>4</td>\n",
       "      <td>J Balvin</td>\n",
       "      <td>13,123,142,801</td>\n",
       "    </tr>\n",
       "    <tr>\n",
       "      <th>4</th>\n",
       "      <td>5</td>\n",
       "      <td>Justin Bieber</td>\n",
       "      <td>11,891,559,063</td>\n",
       "    </tr>\n",
       "  </tbody>\n",
       "</table>\n",
       "</div>"
      ],
      "text/plain": [
       "  position         artist         streams\n",
       "0        1          Drake  19,730,111,322\n",
       "1        2    Post Malone  14,381,513,844\n",
       "2        3     Ed Sheeran  14,038,325,763\n",
       "3        4       J Balvin  13,123,142,801\n",
       "4        5  Justin Bieber  11,891,559,063"
      ]
     },
     "execution_count": 113,
     "metadata": {},
     "output_type": "execute_result"
    }
   ],
   "source": [
    "df.head(5)"
   ]
  },
  {
   "cell_type": "markdown",
   "metadata": {},
   "source": [
    "# 2. Top Artists in Spain\n",
    "\n",
    "Artists that have a famous song among the top 3000 songs of Spain"
   ]
  },
  {
   "cell_type": "code",
   "execution_count": 115,
   "metadata": {},
   "outputs": [
    {
     "name": "stderr",
     "output_type": "stream",
     "text": [
      "100%|██████████| 3615/3615 [00:00<00:00, 45658.22it/s]\n"
     ]
    }
   ],
   "source": [
    "def get_dataset():\n",
    "    \"\"\"\n",
    "    Download the dataset from https://kworb.net/spotify/artists.html of global artists in Spotify\n",
    "    \"\"\"\n",
    "    \n",
    "    soup = get_html(\"https://kworb.net/spotify/country/es_weekly_totals.html\")\n",
    "\n",
    "    # Find the table where there are the artists sorted by streams\n",
    "    table_d1 = soup.find_all('tr', {\"class\": \"d1\"})\n",
    "    table_d0 = soup.find_all('tr', {\"class\": \"d0\"})\n",
    "\n",
    "    # Append all the results into a single table\n",
    "    table = []\n",
    "    for ss in table_d1:\n",
    "        table.append(ss)\n",
    "    for ss in table_d0:\n",
    "        table.append(ss)\n",
    "\n",
    "    # The first <a href=...> that appears is the name of the artist\n",
    "    l = []\n",
    "    for tr in tqdm.tqdm(table):\n",
    "        txt = tr.find(\"a\").text\n",
    "        l.append(txt)\n",
    "\n",
    "    df_art = pd.DataFrame(l, columns=[\"artist\"])"
   ]
  },
  {
   "cell_type": "code",
   "execution_count": null,
   "metadata": {},
   "outputs": [],
   "source": []
  }
 ],
 "metadata": {
  "kernelspec": {
   "display_name": "Python 3",
   "language": "python",
   "name": "python3"
  },
  "language_info": {
   "codemirror_mode": {
    "name": "ipython",
    "version": 3
   },
   "file_extension": ".py",
   "mimetype": "text/x-python",
   "name": "python",
   "nbconvert_exporter": "python",
   "pygments_lexer": "ipython3",
   "version": "3.7.6"
  }
 },
 "nbformat": 4,
 "nbformat_minor": 4
}
