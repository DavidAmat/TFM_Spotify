{
 "cells": [
  {
   "cell_type": "markdown",
   "metadata": {},
   "source": [
    "# Dev 3: Pipeline calling API Spotify\n",
    "\n",
    "In this notebook there are several things implemented:\n",
    "\n",
    "- Spotipy credentials to connect to API Spotify\n",
    "- API call to retrieve an artist\n",
    "- Check the string similarity with the query\n"
   ]
  },
  {
   "cell_type": "code",
   "execution_count": null,
   "metadata": {},
   "outputs": [],
   "source": []
  },
  {
   "cell_type": "code",
   "execution_count": 256,
   "metadata": {},
   "outputs": [],
   "source": [
    "import pandas as pd\n",
    "import sys\n",
    "import numpy as np\n",
    "import spotipy\n",
    "from spotipy.oauth2 import SpotifyClientCredentials #To access authorised Spotify data\n",
    "import requests\n",
    "import datetime\n",
    "import base64\n",
    "import re\n",
    "import psycopg2"
   ]
  },
  {
   "cell_type": "code",
   "execution_count": 269,
   "metadata": {},
   "outputs": [],
   "source": [
    "# connect to PostGreSQL\n",
    "conn = psycopg2.connect(\"dbname=spotify user=postgres password=pg\")\n",
    "cursor= conn.cursor()"
   ]
  },
  {
   "cell_type": "code",
   "execution_count": 281,
   "metadata": {},
   "outputs": [],
   "source": [
    "# Check current tables\n",
    "s = \"SELECT table_schema, table_name FROM information_schema.tables where table_schema = 'public'\"\n",
    "cursor.execute(s)\n",
    "list_tables = cursor.fetchall()"
   ]
  },
  {
   "cell_type": "code",
   "execution_count": 282,
   "metadata": {},
   "outputs": [
    {
     "data": {
      "text/plain": [
       "[('public', 'master_artist'), ('public', 'artist_song')]"
      ]
     },
     "execution_count": 282,
     "metadata": {},
     "output_type": "execute_result"
    }
   ],
   "source": [
    "list_tables"
   ]
  },
  {
   "cell_type": "code",
   "execution_count": 278,
   "metadata": {},
   "outputs": [],
   "source": [
    "if len(list_tables) == 0:\n",
    "    \n",
    "    # Create Artist Tables\n",
    "    name_Table= \"master_artist\"\n",
    "    sqlCreateTable_MasterArtist = \"create table \"+name_Table+\" (artist_id varchar(25), artist_name varchar(50));\"\n",
    "    cursor.execute(sqlCreateTable_MasterArtist)\n",
    "    \n",
    "    # Create Table Artist - Song\n",
    "    name_Table= \"artist_song\"\n",
    "    cols = \" (artist_id varchar(25), song_name varchar(100), song_id varchar(25), popularity SMALLINT, duration INT);\"\n",
    "    sqlCreateTable_ArtistSong \"create table \" + name_Table + cols\n",
    "    cursor.execute(sqlCreateTable_ArtistSong)"
   ]
  },
  {
   "cell_type": "code",
   "execution_count": 280,
   "metadata": {},
   "outputs": [],
   "source": [
    "name_Table= \"artist_song\"\n",
    "cols = \" (artist_id varchar(25), song_name varchar(100), song_id varchar(25), popularity SMALLINT, duration INT);\"\n",
    "sqlCreateTable_ArtistSong = \"create table \" + name_Table + cols\n",
    "cursor.execute(sqlCreateTable_ArtistSong)"
   ]
  },
  {
   "cell_type": "code",
   "execution_count": 169,
   "metadata": {},
   "outputs": [],
   "source": [
    "def levenshtein(s1, s2):\n",
    "    \"\"\"\n",
    "    Function that implements roughly an approximation of the Levenshtein algorithm\n",
    "    for string similarity. Is a distance metric, hence, the closer to 0, the most similar\n",
    "    the strings will be\n",
    "    \"\"\"\n",
    "    if len(s1) < len(s2):\n",
    "        s1, s2 = s2, s1\n",
    "\n",
    "    if len(s2) == 0:\n",
    "        return len(s1)\n",
    "\n",
    "    previous_row = range(len(s2) + 1)\n",
    "    for i, c1 in enumerate(s1):\n",
    "        current_row = [i + 1]\n",
    "        for j, c2 in enumerate(s2):\n",
    "            insertions = previous_row[j + 1] + 1\n",
    "            deletions = current_row[j] + 1\n",
    "            substitutions = previous_row[j] + (c1 != c2)\n",
    "            current_row.append(min(insertions, deletions, substitutions))\n",
    "        previous_row = current_row\n",
    "\n",
    "    return previous_row[-1]/float(len(s1))"
   ]
  },
  {
   "cell_type": "code",
   "execution_count": 2,
   "metadata": {},
   "outputs": [],
   "source": [
    "client_id = \"348f94d3a73241188b2a89c91e1cfaee\"\n",
    "client_secret = \"b5b29b040ab843cf842cf4eb875caff1\""
   ]
  },
  {
   "cell_type": "code",
   "execution_count": 142,
   "metadata": {},
   "outputs": [],
   "source": [
    "dict_artists = {}\n",
    "master_artist = {}"
   ]
  },
  {
   "cell_type": "code",
   "execution_count": 3,
   "metadata": {},
   "outputs": [],
   "source": [
    "client_credentials_manager = SpotifyClientCredentials(client_id=client_id, client_secret=client_secret)\n",
    "sp = spotipy.Spotify(client_credentials_manager=client_credentials_manager) #spotify object to access API"
   ]
  },
  {
   "cell_type": "code",
   "execution_count": 253,
   "metadata": {},
   "outputs": [],
   "source": [
    "name_artist_query = \"Karol G\"\n",
    "name = '{' + name_artist_query + '}'\n",
    "result = sp.search(name) #search query\n",
    "uri = result[\"tracks\"][\"items\"][0][\"artists\"][0][\"uri\"]\n",
    "artist_id = result[\"tracks\"][\"items\"][0][\"artists\"][0][\"id\"]\n",
    "name_artist = result[\"tracks\"][\"items\"][0][\"artists\"][0][\"name\"]"
   ]
  },
  {
   "cell_type": "code",
   "execution_count": null,
   "metadata": {},
   "outputs": [],
   "source": [
    "# If len(name_artis)\n",
    "if len(name_artist) >= 50:\n",
    "    print(\"CONTINUE!\") #CAMBIAR!"
   ]
  },
  {
   "cell_type": "code",
   "execution_count": 254,
   "metadata": {},
   "outputs": [],
   "source": [
    "# Sanity Check: if the levenshtein distance is not less than 0.3\n",
    "distance_levensh = levenshtein(name_artist_query.lower(),name_artist.lower())\n",
    "if distance_levensh > 0.3:\n",
    "    print(\"ERROR! Artist name not found\") #CAMBIAR!"
   ]
  },
  {
   "cell_type": "markdown",
   "metadata": {},
   "source": [
    "### Master Table - Artist"
   ]
  },
  {
   "cell_type": "code",
   "execution_count": 247,
   "metadata": {},
   "outputs": [],
   "source": [
    "master_artist[artist_id] = name_artist"
   ]
  },
  {
   "cell_type": "code",
   "execution_count": 248,
   "metadata": {},
   "outputs": [
    {
     "data": {
      "text/plain": [
       "{'2WX2uTcsvV5OnS0inACecP': 'Birdy',\n",
       " '1Cs0zKBU1kc0i8ypK3B9ai': 'David Guetta',\n",
       " '07FfkbljNIdl45Ijlh1aXS': 'RHODES',\n",
       " '20gsENnposVs2I4rQ5kvrf': 'Sam Feldt',\n",
       " '1l2ekx5skC4gJH8djERwh1': 'Don Diablo',\n",
       " '73jBynjsVtofjRpdpRAJGk': 'Dimitri Vegas & Like Mike',\n",
       " '4VMYDCV2IEDYJArk749S6m': 'Daddy Yankee',\n",
       " '3wtMPMvPtiFylbnNXF6CAj': 'Afro Bros',\n",
       " '1GDbiv3spRmZ1XdM1jQbT7': 'Natti Natasha',\n",
       " '2HkAI0YrEcgoR8QdaURqhO': 'Dimitri Vegas',\n",
       " '4pwXiI7Z5ZStkgKowZyoKi': 'Like Mike',\n",
       " '64M6ah0SkkRsnPGtGiRAbb': 'Bebe Rexha',\n",
       " '1vyhD5VmyZ7KMfW5gqLgo5': 'J Balvin',\n",
       " '4mHAu7NX2UNsnGXjviBD9e': 'Brooks',\n",
       " '00TKPo9MxwZ0j4ooveIxWZ': 'Loote',\n",
       " '5y2Xq6xcjJb2jVM54GHK3t': 'John Legend',\n",
       " '5WUlDfRSoLAfcVSX1WnrxN': 'Sia',\n",
       " '0z4gvV4rjIZ9wHck67ucSV': 'Akon',\n",
       " '4D75GcNG95ebPtNvoNVXhz': 'Afrojack',\n",
       " '0hCNtLu0JehylgoiP8L4Gh': 'Nicki Minaj',\n",
       " '60d24wfXkVzDSfLS6hyCjZ': 'Martin Garrix',\n",
       " '5KKpBU5eC2tJDzf0wmlRp2': 'RAYE',\n",
       " '1HY2Jd0NmPuamShAr6KMms': 'Lady Gaga'}"
      ]
     },
     "execution_count": 248,
     "metadata": {},
     "output_type": "execute_result"
    }
   ],
   "source": [
    "master_artist"
   ]
  },
  {
   "cell_type": "markdown",
   "metadata": {},
   "source": [
    "# Top Tracks"
   ]
  },
  {
   "cell_type": "code",
   "execution_count": 249,
   "metadata": {},
   "outputs": [],
   "source": [
    "top_tracks = sp.artist_top_tracks(uri)"
   ]
  },
  {
   "cell_type": "markdown",
   "metadata": {},
   "source": [
    "### Top 10 Songs for Artist Table"
   ]
  },
  {
   "cell_type": "code",
   "execution_count": 250,
   "metadata": {},
   "outputs": [],
   "source": [
    "#Dictionary for each artist\n",
    "dict_artists[artist_id] = []\n",
    "\n",
    "# For each track\n",
    "if \"tracks\" in top_tracks:\n",
    "    if len(top_tracks[\"tracks\"]):\n",
    "        for track in top_tracks[\"tracks\"]:\n",
    "            \n",
    "            dict_track = dict()\n",
    "            # SONG - Properties - Initializer\n",
    "            dict_track[\"name\"] = \"\"\n",
    "            dict_track[\"duration\"]  = 0\n",
    "            dict_track[\"popularity\"] = 0\n",
    "            dict_track[\"song_id\"] = \"\"\n",
    "            \n",
    "            # Check the number of artists featuring the song\n",
    "            # Add to their dictionary the features of the song\n",
    "            # for them too\n",
    "            \n",
    "            # Create a set for the feat. artists\n",
    "            set_featuring_artists = set()\n",
    "            \n",
    "            if \"artists\" in track:\n",
    "                \n",
    "                # Loop through all artists of a song\n",
    "                for art_dict in track[\"artists\"]:\n",
    "                    \n",
    "                    if \"name\" in art_dict and \"id\" in art_dict:\n",
    "                        \n",
    "                        # Get the id of that artist \n",
    "                        id_feat_artist = art_dict[\"id\"]\n",
    "                        name_feat_artist = art_dict[\"name\"]\n",
    "                        \n",
    "                        #If the artist is different from the query one add it\n",
    "                        # to both the dict_artist and the master_artist\n",
    "                        if id_feat_artist != artist_id:\n",
    "                            \n",
    "                            # Add that feat. artist to the set\n",
    "                            set_featuring_artists.add(id_feat_artist)\n",
    "                            \n",
    "                            # Add that feat. artist to the master of artists\n",
    "                            master_artist[id_feat_artist] = name_feat_artist\n",
    "                    \n",
    "            # SONG - Properties - Track\n",
    "            # Song name\n",
    "            if \"name\" in track:\n",
    "                dict_track[\"name\"] = track[\"name\"]\n",
    "            \n",
    "            # Duration\n",
    "            if \"duration_ms\" in track:\n",
    "                dict_track[\"duration\"]  = track[\"duration_ms\"]\n",
    "            \n",
    "            #Popularity\n",
    "            if \"popularity\" in track:\n",
    "                dict_track[\"popularity\"] = track[\"popularity\"]\n",
    "                \n",
    "            # Song ID\n",
    "            if \"id\" in track:\n",
    "                dict_track[\"song_id\"] = track[\"id\"]\n",
    "                \n",
    "            # Write the dictionary of song properties for the main artist\n",
    "            dict_artists[artist_id].append(dict_track)\n",
    "            \n",
    "            # Write the dictionary of song properties for each of the feat. artists\n",
    "            list_featuring_artists = list(set_featuring_artists)\n",
    "            for i_id_feat_artist in list_featuring_artists:\n",
    "                \n",
    "                # If that artist is not yet in the dictionary of artists, add it:\n",
    "                if i_id_feat_artist not in dict_artists:\n",
    "                    dict_artists[i_id_feat_artist] = []\n",
    "                dict_artists[i_id_feat_artist].append(dict_track)"
   ]
  },
  {
   "cell_type": "code",
   "execution_count": 251,
   "metadata": {
    "scrolled": false
   },
   "outputs": [
    {
     "data": {
      "text/plain": [
       "{'1Cs0zKBU1kc0i8ypK3B9ai': [{'name': 'Titanium (feat. Sia)',\n",
       "   'duration': 245040,\n",
       "   'popularity': 66,\n",
       "   'song_id': '0lHAMNU8RGiIObScrsRgmP'},\n",
       "  {'name': 'Instagram',\n",
       "   'duration': 184558,\n",
       "   'popularity': 78,\n",
       "   'song_id': '0U6bQIAh6MCGo1xjbIIx2S'},\n",
       "  {'name': 'Say My Name',\n",
       "   'duration': 198946,\n",
       "   'popularity': 66,\n",
       "   'song_id': '3MoV1UsAJmz64LHqyiRMp0'},\n",
       "  {'name': \"Better When You're Gone\",\n",
       "   'duration': 192402,\n",
       "   'popularity': 74,\n",
       "   'song_id': '4Tvw0lweq9l2JPQKFbpbBQ'},\n",
       "  {'name': 'Conversations in the Dark - John Legend vs. David Guetta',\n",
       "   'duration': 210236,\n",
       "   'popularity': 73,\n",
       "   'song_id': '20d27F17AZOxTJOEHAVK2Y'},\n",
       "  {'name': 'Flames',\n",
       "   'duration': 195000,\n",
       "   'popularity': 54,\n",
       "   'song_id': '3tTYxjYYcXFqFXA0AZ1Fav'},\n",
       "  {'name': 'Sexy Bitch (feat. Akon)',\n",
       "   'duration': 195853,\n",
       "   'popularity': 61,\n",
       "   'song_id': '0uXO2GrNiIb1xHT9LUdxZE'},\n",
       "  {'name': 'Hey Mama (feat. Nicki Minaj, Bebe Rexha & Afrojack)',\n",
       "   'duration': 192560,\n",
       "   'popularity': 61,\n",
       "   'song_id': '5b2bu6yyATC1zMXDGScJ2d'},\n",
       "  {'name': 'Like I Do',\n",
       "   'duration': 201560,\n",
       "   'popularity': 54,\n",
       "   'song_id': '03IBnHJvOQBr4dy3RguAph'},\n",
       "  {'name': \"Stay (Don't Go Away) [feat. Raye]\",\n",
       "   'duration': 185942,\n",
       "   'popularity': 71,\n",
       "   'song_id': '4YhN72dRYL2Z3MsaKyT7rS'}],\n",
       " '2WX2uTcsvV5OnS0inACecP': [{'name': 'Skinny Love',\n",
       "   'duration': 201080,\n",
       "   'popularity': 75,\n",
       "   'song_id': '4RL77hMWUq35NYnPLXBpih'},\n",
       "  {'name': 'Not About Angels',\n",
       "   'duration': 189475,\n",
       "   'popularity': 74,\n",
       "   'song_id': '5sF7hdYvhrcgNq8NZjfK8L'},\n",
       "  {'name': 'Let It All Go',\n",
       "   'duration': 280757,\n",
       "   'popularity': 53,\n",
       "   'song_id': '5MzXUNfn8AAcz4Z6j2KgTK'},\n",
       "  {'name': 'Deep End',\n",
       "   'duration': 208840,\n",
       "   'popularity': 59,\n",
       "   'song_id': '4c9UU12Z3KZiC0K7696rup'},\n",
       "  {'name': 'People Help the People',\n",
       "   'duration': 256236,\n",
       "   'popularity': 65,\n",
       "   'song_id': '0YywjDvFudcaHG74NuWISy'},\n",
       "  {'name': 'Wings',\n",
       "   'duration': 252106,\n",
       "   'popularity': 51,\n",
       "   'song_id': '1D4XFKolp63mNqqMXJJL1V'},\n",
       "  {'name': 'Tee Shirt - Soundtrack Version',\n",
       "   'duration': 159506,\n",
       "   'popularity': 61,\n",
       "   'song_id': '3C5in0EVdoGepp5bA6lhlE'},\n",
       "  {'name': 'Keeping Your Head Up',\n",
       "   'duration': 208395,\n",
       "   'popularity': 47,\n",
       "   'song_id': '6lyjWvSUgYtX26zfrQ6gn8'},\n",
       "  {'name': 'Wild Horses - Sam Feldt Remix',\n",
       "   'duration': 177023,\n",
       "   'popularity': 55,\n",
       "   'song_id': '4tVybkClyH0hjL8jzMq3sH'},\n",
       "  {'name': 'Keeping Your Head Up - Don Diablo Remix; Radio Edit',\n",
       "   'duration': 207145,\n",
       "   'popularity': 53,\n",
       "   'song_id': '7KCXA4Y1gIGDSm388m9bW1'}],\n",
       " '07FfkbljNIdl45Ijlh1aXS': [{'name': 'Let It All Go',\n",
       "   'duration': 280757,\n",
       "   'popularity': 53,\n",
       "   'song_id': '5MzXUNfn8AAcz4Z6j2KgTK'}],\n",
       " '20gsENnposVs2I4rQ5kvrf': [{'name': 'Wild Horses - Sam Feldt Remix',\n",
       "   'duration': 177023,\n",
       "   'popularity': 55,\n",
       "   'song_id': '4tVybkClyH0hjL8jzMq3sH'}],\n",
       " '1l2ekx5skC4gJH8djERwh1': [{'name': 'Keeping Your Head Up - Don Diablo Remix; Radio Edit',\n",
       "   'duration': 207145,\n",
       "   'popularity': 53,\n",
       "   'song_id': '7KCXA4Y1gIGDSm388m9bW1'}],\n",
       " '3wtMPMvPtiFylbnNXF6CAj': [{'name': 'Instagram',\n",
       "   'duration': 184558,\n",
       "   'popularity': 78,\n",
       "   'song_id': '0U6bQIAh6MCGo1xjbIIx2S'}],\n",
       " '4pwXiI7Z5ZStkgKowZyoKi': [{'name': 'Instagram',\n",
       "   'duration': 184558,\n",
       "   'popularity': 78,\n",
       "   'song_id': '0U6bQIAh6MCGo1xjbIIx2S'}],\n",
       " '73jBynjsVtofjRpdpRAJGk': [{'name': 'Instagram',\n",
       "   'duration': 184558,\n",
       "   'popularity': 78,\n",
       "   'song_id': '0U6bQIAh6MCGo1xjbIIx2S'}],\n",
       " '4VMYDCV2IEDYJArk749S6m': [{'name': 'Instagram',\n",
       "   'duration': 184558,\n",
       "   'popularity': 78,\n",
       "   'song_id': '0U6bQIAh6MCGo1xjbIIx2S'}],\n",
       " '2HkAI0YrEcgoR8QdaURqhO': [{'name': 'Instagram',\n",
       "   'duration': 184558,\n",
       "   'popularity': 78,\n",
       "   'song_id': '0U6bQIAh6MCGo1xjbIIx2S'}],\n",
       " '1GDbiv3spRmZ1XdM1jQbT7': [{'name': 'Instagram',\n",
       "   'duration': 184558,\n",
       "   'popularity': 78,\n",
       "   'song_id': '0U6bQIAh6MCGo1xjbIIx2S'}],\n",
       " '1vyhD5VmyZ7KMfW5gqLgo5': [{'name': 'Say My Name',\n",
       "   'duration': 198946,\n",
       "   'popularity': 66,\n",
       "   'song_id': '3MoV1UsAJmz64LHqyiRMp0'}],\n",
       " '64M6ah0SkkRsnPGtGiRAbb': [{'name': 'Say My Name',\n",
       "   'duration': 198946,\n",
       "   'popularity': 66,\n",
       "   'song_id': '3MoV1UsAJmz64LHqyiRMp0'},\n",
       "  {'name': 'Hey Mama (feat. Nicki Minaj, Bebe Rexha & Afrojack)',\n",
       "   'duration': 192560,\n",
       "   'popularity': 61,\n",
       "   'song_id': '5b2bu6yyATC1zMXDGScJ2d'}],\n",
       " '4mHAu7NX2UNsnGXjviBD9e': [{'name': \"Better When You're Gone\",\n",
       "   'duration': 192402,\n",
       "   'popularity': 74,\n",
       "   'song_id': '4Tvw0lweq9l2JPQKFbpbBQ'},\n",
       "  {'name': 'Like I Do',\n",
       "   'duration': 201560,\n",
       "   'popularity': 54,\n",
       "   'song_id': '03IBnHJvOQBr4dy3RguAph'}],\n",
       " '00TKPo9MxwZ0j4ooveIxWZ': [{'name': \"Better When You're Gone\",\n",
       "   'duration': 192402,\n",
       "   'popularity': 74,\n",
       "   'song_id': '4Tvw0lweq9l2JPQKFbpbBQ'}],\n",
       " '5y2Xq6xcjJb2jVM54GHK3t': [{'name': 'Conversations in the Dark - John Legend vs. David Guetta',\n",
       "   'duration': 210236,\n",
       "   'popularity': 73,\n",
       "   'song_id': '20d27F17AZOxTJOEHAVK2Y'}],\n",
       " '5WUlDfRSoLAfcVSX1WnrxN': [{'name': 'Flames',\n",
       "   'duration': 195000,\n",
       "   'popularity': 54,\n",
       "   'song_id': '3tTYxjYYcXFqFXA0AZ1Fav'}],\n",
       " '0z4gvV4rjIZ9wHck67ucSV': [{'name': 'Sexy Bitch (feat. Akon)',\n",
       "   'duration': 195853,\n",
       "   'popularity': 61,\n",
       "   'song_id': '0uXO2GrNiIb1xHT9LUdxZE'}],\n",
       " '0hCNtLu0JehylgoiP8L4Gh': [{'name': 'Hey Mama (feat. Nicki Minaj, Bebe Rexha & Afrojack)',\n",
       "   'duration': 192560,\n",
       "   'popularity': 61,\n",
       "   'song_id': '5b2bu6yyATC1zMXDGScJ2d'}],\n",
       " '4D75GcNG95ebPtNvoNVXhz': [{'name': 'Hey Mama (feat. Nicki Minaj, Bebe Rexha & Afrojack)',\n",
       "   'duration': 192560,\n",
       "   'popularity': 61,\n",
       "   'song_id': '5b2bu6yyATC1zMXDGScJ2d'}],\n",
       " '60d24wfXkVzDSfLS6hyCjZ': [{'name': 'Like I Do',\n",
       "   'duration': 201560,\n",
       "   'popularity': 54,\n",
       "   'song_id': '03IBnHJvOQBr4dy3RguAph'}],\n",
       " '5KKpBU5eC2tJDzf0wmlRp2': [{'name': \"Stay (Don't Go Away) [feat. Raye]\",\n",
       "   'duration': 185942,\n",
       "   'popularity': 71,\n",
       "   'song_id': '4YhN72dRYL2Z3MsaKyT7rS'}],\n",
       " '1HY2Jd0NmPuamShAr6KMms': [{'name': 'Rain On Me (with Ariana Grande)',\n",
       "   'duration': 182200,\n",
       "   'popularity': 84,\n",
       "   'song_id': '7ju97lgwC2rKQ6wwsf9no9'},\n",
       "  {'name': 'Sour Candy (with BLACKPINK)',\n",
       "   'duration': 157706,\n",
       "   'popularity': 84,\n",
       "   'song_id': '1IWNylpZ477gIVUDpJL66u'},\n",
       "  {'name': 'Shallow',\n",
       "   'duration': 215733,\n",
       "   'popularity': 86,\n",
       "   'song_id': '2VxeLyX666F8uXCJ0dZF8B'},\n",
       "  {'name': 'Stupid Love',\n",
       "   'duration': 193533,\n",
       "   'popularity': 81,\n",
       "   'song_id': '7yBbV2k2S2uhaQc24NF2xt'},\n",
       "  {'name': '911',\n",
       "   'duration': 172133,\n",
       "   'popularity': 82,\n",
       "   'song_id': '6qI0MU175Dk2DeoUjlrOpy'},\n",
       "  {'name': 'Alice',\n",
       "   'duration': 177600,\n",
       "   'popularity': 82,\n",
       "   'song_id': '41A89rj3GoMG6ktN37L7PG'},\n",
       "  {'name': 'Free Woman',\n",
       "   'duration': 191466,\n",
       "   'popularity': 81,\n",
       "   'song_id': '4L6ihclQPu1hqP9r3WNJjQ'},\n",
       "  {'name': 'Fun Tonight',\n",
       "   'duration': 173426,\n",
       "   'popularity': 80,\n",
       "   'song_id': '6hyQVqfHFvsJDjcmj4qrHf'},\n",
       "  {'name': 'Bad Romance',\n",
       "   'duration': 294573,\n",
       "   'popularity': 80,\n",
       "   'song_id': '0SiywuOBRcynK0uKGWdCnn'},\n",
       "  {'name': 'Sine From Above (with Elton John)',\n",
       "   'duration': 244880,\n",
       "   'popularity': 80,\n",
       "   'song_id': '0zzsyWc45eUcSjw4FNHxeN'}],\n",
       " '66CXWjxzNUsdJxJ2JdwvnR': [{'name': 'Rain On Me (with Ariana Grande)',\n",
       "   'duration': 182200,\n",
       "   'popularity': 84,\n",
       "   'song_id': '7ju97lgwC2rKQ6wwsf9no9'}],\n",
       " '41MozSoPIsD1dJM0CLPjZF': [{'name': 'Sour Candy (with BLACKPINK)',\n",
       "   'duration': 157706,\n",
       "   'popularity': 84,\n",
       "   'song_id': '1IWNylpZ477gIVUDpJL66u'}],\n",
       " '4VIvfOurcf0vuLRxLkGnIG': [{'name': 'Shallow',\n",
       "   'duration': 215733,\n",
       "   'popularity': 86,\n",
       "   'song_id': '2VxeLyX666F8uXCJ0dZF8B'}],\n",
       " '3PhoLpVuITZKcymswpck5b': [{'name': 'Sine From Above (with Elton John)',\n",
       "   'duration': 244880,\n",
       "   'popularity': 80,\n",
       "   'song_id': '0zzsyWc45eUcSjw4FNHxeN'}]}"
      ]
     },
     "execution_count": 251,
     "metadata": {},
     "output_type": "execute_result"
    }
   ],
   "source": [
    "dict_artists"
   ]
  },
  {
   "cell_type": "code",
   "execution_count": 252,
   "metadata": {},
   "outputs": [
    {
     "data": {
      "text/plain": [
       "{'2WX2uTcsvV5OnS0inACecP': 'Birdy',\n",
       " '1Cs0zKBU1kc0i8ypK3B9ai': 'David Guetta',\n",
       " '07FfkbljNIdl45Ijlh1aXS': 'RHODES',\n",
       " '20gsENnposVs2I4rQ5kvrf': 'Sam Feldt',\n",
       " '1l2ekx5skC4gJH8djERwh1': 'Don Diablo',\n",
       " '73jBynjsVtofjRpdpRAJGk': 'Dimitri Vegas & Like Mike',\n",
       " '4VMYDCV2IEDYJArk749S6m': 'Daddy Yankee',\n",
       " '3wtMPMvPtiFylbnNXF6CAj': 'Afro Bros',\n",
       " '1GDbiv3spRmZ1XdM1jQbT7': 'Natti Natasha',\n",
       " '2HkAI0YrEcgoR8QdaURqhO': 'Dimitri Vegas',\n",
       " '4pwXiI7Z5ZStkgKowZyoKi': 'Like Mike',\n",
       " '64M6ah0SkkRsnPGtGiRAbb': 'Bebe Rexha',\n",
       " '1vyhD5VmyZ7KMfW5gqLgo5': 'J Balvin',\n",
       " '4mHAu7NX2UNsnGXjviBD9e': 'Brooks',\n",
       " '00TKPo9MxwZ0j4ooveIxWZ': 'Loote',\n",
       " '5y2Xq6xcjJb2jVM54GHK3t': 'John Legend',\n",
       " '5WUlDfRSoLAfcVSX1WnrxN': 'Sia',\n",
       " '0z4gvV4rjIZ9wHck67ucSV': 'Akon',\n",
       " '4D75GcNG95ebPtNvoNVXhz': 'Afrojack',\n",
       " '0hCNtLu0JehylgoiP8L4Gh': 'Nicki Minaj',\n",
       " '60d24wfXkVzDSfLS6hyCjZ': 'Martin Garrix',\n",
       " '5KKpBU5eC2tJDzf0wmlRp2': 'RAYE',\n",
       " '1HY2Jd0NmPuamShAr6KMms': 'Lady Gaga',\n",
       " '66CXWjxzNUsdJxJ2JdwvnR': 'Ariana Grande',\n",
       " '41MozSoPIsD1dJM0CLPjZF': 'BLACKPINK',\n",
       " '4VIvfOurcf0vuLRxLkGnIG': 'Bradley Cooper',\n",
       " '3PhoLpVuITZKcymswpck5b': 'Elton John'}"
      ]
     },
     "execution_count": 252,
     "metadata": {},
     "output_type": "execute_result"
    }
   ],
   "source": [
    "master_artist"
   ]
  },
  {
   "cell_type": "code",
   "execution_count": null,
   "metadata": {},
   "outputs": [],
   "source": [
    "# Keeping Your Head Up - Don Diablo Remix; Radio Edit'"
   ]
  }
 ],
 "metadata": {
  "kernelspec": {
   "display_name": "Python 3",
   "language": "python",
   "name": "python3"
  },
  "language_info": {
   "codemirror_mode": {
    "name": "ipython",
    "version": 3
   },
   "file_extension": ".py",
   "mimetype": "text/x-python",
   "name": "python",
   "nbconvert_exporter": "python",
   "pygments_lexer": "ipython3",
   "version": "3.7.4"
  }
 },
 "nbformat": 4,
 "nbformat_minor": 4
}
